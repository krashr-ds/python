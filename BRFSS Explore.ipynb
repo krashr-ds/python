{
 "cells": [
  {
   "cell_type": "code",
   "execution_count": 3,
   "metadata": {},
   "outputs": [],
   "source": [
    "import random\n",
    "import numpy as np\n",
    "import pandas as pd\n",
    "import seaborn as sb\n",
    "import matplotlib.pyplot as plt\n",
    "import matplotlib.rcsetup as mrc"
   ]
  },
  {
   "cell_type": "code",
   "execution_count": 4,
   "metadata": {},
   "outputs": [],
   "source": [
    "brfss = pd.read_csv(\"BRFSS_Clean_Combo.csv\")"
   ]
  },
  {
   "cell_type": "code",
   "execution_count": 5,
   "metadata": {},
   "outputs": [
    {
     "data": {
      "text/html": [
       "<div>\n",
       "<style scoped>\n",
       "    .dataframe tbody tr th:only-of-type {\n",
       "        vertical-align: middle;\n",
       "    }\n",
       "\n",
       "    .dataframe tbody tr th {\n",
       "        vertical-align: top;\n",
       "    }\n",
       "\n",
       "    .dataframe thead th {\n",
       "        text-align: right;\n",
       "    }\n",
       "</style>\n",
       "<table border=\"1\" class=\"dataframe\">\n",
       "  <thead>\n",
       "    <tr style=\"text-align: right;\">\n",
       "      <th></th>\n",
       "      <th>Unnamed: 0</th>\n",
       "      <th>Unnamed: 1</th>\n",
       "      <th>ID</th>\n",
       "      <th>YEAR</th>\n",
       "      <th>_LLCPWT2</th>\n",
       "      <th>IMONTH</th>\n",
       "      <th>B_ASTHMA</th>\n",
       "      <th>B_CANCER</th>\n",
       "      <th>B_CHCCOPD</th>\n",
       "      <th>B_ADDEPEV</th>\n",
       "      <th>...</th>\n",
       "      <th>L_AGEG5YR</th>\n",
       "      <th>L_SEX</th>\n",
       "      <th>L_IMPRACE</th>\n",
       "      <th>L_RACE</th>\n",
       "      <th>L_EMPLOY1</th>\n",
       "      <th>L_MARITAL</th>\n",
       "      <th>L_INCOMG</th>\n",
       "      <th>L_EDUCAG</th>\n",
       "      <th>L_BMI5CAT</th>\n",
       "      <th>L_IMONTH</th>\n",
       "    </tr>\n",
       "  </thead>\n",
       "  <tbody>\n",
       "    <tr>\n",
       "      <th>0</th>\n",
       "      <td>LLCP2017.csv</td>\n",
       "      <td>0</td>\n",
       "      <td>20170</td>\n",
       "      <td>2017</td>\n",
       "      <td>185.477444</td>\n",
       "      <td>1</td>\n",
       "      <td>0</td>\n",
       "      <td>0</td>\n",
       "      <td>0</td>\n",
       "      <td>0</td>\n",
       "      <td>...</td>\n",
       "      <td>70-74</td>\n",
       "      <td>Female</td>\n",
       "      <td>White</td>\n",
       "      <td>White</td>\n",
       "      <td>Retired</td>\n",
       "      <td>Widowed</td>\n",
       "      <td>$35K - $50K</td>\n",
       "      <td>College Grad</td>\n",
       "      <td>25 - 30</td>\n",
       "      <td>January</td>\n",
       "    </tr>\n",
       "    <tr>\n",
       "      <th>1</th>\n",
       "      <td>LLCP2017.csv</td>\n",
       "      <td>1</td>\n",
       "      <td>20171</td>\n",
       "      <td>2017</td>\n",
       "      <td>185.477444</td>\n",
       "      <td>1</td>\n",
       "      <td>0</td>\n",
       "      <td>0</td>\n",
       "      <td>0</td>\n",
       "      <td>0</td>\n",
       "      <td>...</td>\n",
       "      <td>65-69</td>\n",
       "      <td>Male</td>\n",
       "      <td>White</td>\n",
       "      <td>White</td>\n",
       "      <td>Retired</td>\n",
       "      <td>Married</td>\n",
       "      <td>$50K+</td>\n",
       "      <td>College Grad</td>\n",
       "      <td>25 - 30</td>\n",
       "      <td>January</td>\n",
       "    </tr>\n",
       "    <tr>\n",
       "      <th>2</th>\n",
       "      <td>LLCP2017.csv</td>\n",
       "      <td>2</td>\n",
       "      <td>20172</td>\n",
       "      <td>2017</td>\n",
       "      <td>370.954888</td>\n",
       "      <td>1</td>\n",
       "      <td>0</td>\n",
       "      <td>0</td>\n",
       "      <td>0</td>\n",
       "      <td>0</td>\n",
       "      <td>...</td>\n",
       "      <td>70-74</td>\n",
       "      <td>Male</td>\n",
       "      <td>White</td>\n",
       "      <td>White</td>\n",
       "      <td>Retired</td>\n",
       "      <td>Married</td>\n",
       "      <td></td>\n",
       "      <td>&lt; HS</td>\n",
       "      <td>25 - 30</td>\n",
       "      <td>January</td>\n",
       "    </tr>\n",
       "    <tr>\n",
       "      <th>3</th>\n",
       "      <td>LLCP2017.csv</td>\n",
       "      <td>3</td>\n",
       "      <td>20173</td>\n",
       "      <td>2017</td>\n",
       "      <td>185.477444</td>\n",
       "      <td>2</td>\n",
       "      <td>0</td>\n",
       "      <td>0</td>\n",
       "      <td>1</td>\n",
       "      <td>1</td>\n",
       "      <td>...</td>\n",
       "      <td>70-74</td>\n",
       "      <td>Female</td>\n",
       "      <td>White</td>\n",
       "      <td>White</td>\n",
       "      <td>Retired</td>\n",
       "      <td>Widowed</td>\n",
       "      <td>&lt;$15K</td>\n",
       "      <td>&lt; HS</td>\n",
       "      <td>25 - 30</td>\n",
       "      <td>February</td>\n",
       "    </tr>\n",
       "    <tr>\n",
       "      <th>4</th>\n",
       "      <td>LLCP2017.csv</td>\n",
       "      <td>4</td>\n",
       "      <td>20174</td>\n",
       "      <td>2017</td>\n",
       "      <td>252.493865</td>\n",
       "      <td>1</td>\n",
       "      <td>1</td>\n",
       "      <td>0</td>\n",
       "      <td>1</td>\n",
       "      <td>0</td>\n",
       "      <td>...</td>\n",
       "      <td>65-69</td>\n",
       "      <td>Female</td>\n",
       "      <td>White</td>\n",
       "      <td>White</td>\n",
       "      <td>Unable</td>\n",
       "      <td>Widowed</td>\n",
       "      <td>&lt;$15K</td>\n",
       "      <td>&lt; HS</td>\n",
       "      <td>18.5 - 25</td>\n",
       "      <td>January</td>\n",
       "    </tr>\n",
       "  </tbody>\n",
       "</table>\n",
       "<p>5 rows × 52 columns</p>\n",
       "</div>"
      ],
      "text/plain": [
       "     Unnamed: 0  Unnamed: 1     ID  YEAR    _LLCPWT2  IMONTH  B_ASTHMA  \\\n",
       "0  LLCP2017.csv           0  20170  2017  185.477444       1         0   \n",
       "1  LLCP2017.csv           1  20171  2017  185.477444       1         0   \n",
       "2  LLCP2017.csv           2  20172  2017  370.954888       1         0   \n",
       "3  LLCP2017.csv           3  20173  2017  185.477444       2         0   \n",
       "4  LLCP2017.csv           4  20174  2017  252.493865       1         1   \n",
       "\n",
       "   B_CANCER  B_CHCCOPD  B_ADDEPEV  ...  L_AGEG5YR   L_SEX  L_IMPRACE  L_RACE  \\\n",
       "0         0          0          0  ...      70-74  Female      White   White   \n",
       "1         0          0          0  ...      65-69    Male      White   White   \n",
       "2         0          0          0  ...      70-74    Male      White   White   \n",
       "3         0          1          1  ...      70-74  Female      White   White   \n",
       "4         0          1          0  ...      65-69  Female      White   White   \n",
       "\n",
       "   L_EMPLOY1  L_MARITAL     L_INCOMG      L_EDUCAG  L_BMI5CAT  L_IMONTH  \n",
       "0    Retired    Widowed  $35K - $50K  College Grad    25 - 30   January  \n",
       "1    Retired    Married        $50K+  College Grad    25 - 30   January  \n",
       "2    Retired    Married                       < HS    25 - 30   January  \n",
       "3    Retired    Widowed        <$15K          < HS    25 - 30  February  \n",
       "4     Unable    Widowed        <$15K          < HS  18.5 - 25   January  \n",
       "\n",
       "[5 rows x 52 columns]"
      ]
     },
     "execution_count": 5,
     "metadata": {},
     "output_type": "execute_result"
    }
   ],
   "source": [
    "brfss.head()"
   ]
  },
  {
   "cell_type": "code",
   "execution_count": 6,
   "metadata": {},
   "outputs": [
    {
     "name": "stdout",
     "output_type": "stream",
     "text": [
      "<class 'pandas.core.frame.DataFrame'>\n",
      "RangeIndex: 1305720 entries, 0 to 1305719\n",
      "Data columns (total 52 columns):\n",
      " #   Column      Non-Null Count    Dtype  \n",
      "---  ------      --------------    -----  \n",
      " 0   Unnamed: 0  1305720 non-null  object \n",
      " 1   Unnamed: 1  1305720 non-null  int64  \n",
      " 2   ID          1305720 non-null  int64  \n",
      " 3   YEAR        1305720 non-null  int64  \n",
      " 4   _LLCPWT2    1305720 non-null  float64\n",
      " 5   IMONTH      1305720 non-null  int64  \n",
      " 6   B_ASTHMA    1305720 non-null  int64  \n",
      " 7   B_CANCER    1305720 non-null  int64  \n",
      " 8   B_CHCCOPD   1305720 non-null  int64  \n",
      " 9   B_ADDEPEV   1305720 non-null  int64  \n",
      " 10  B_DIABETE   1305720 non-null  int64  \n",
      " 11  B_HEART     1305720 non-null  int64  \n",
      " 12  COMORB_1    1305720 non-null  int64  \n",
      " 13  TOTCHRONIC  1305720 non-null  int64  \n",
      " 14  CHRONICGRP  1305720 non-null  int64  \n",
      " 15  _STATE      1305720 non-null  int64  \n",
      " 16  _AGEG5YR    1305720 non-null  int64  \n",
      " 17  SEX         1304323 non-null  float64\n",
      " 18  _IMPRACE    1305720 non-null  int64  \n",
      " 19  B_RACE      1305720 non-null  int64  \n",
      " 20  _INCOMG     1305720 non-null  int64  \n",
      " 21  _EDUCAG     1305720 non-null  int64  \n",
      " 22  MARITAL     1305629 non-null  float64\n",
      " 23  B_COUPLED   1305720 non-null  int64  \n",
      " 24  HLTHPLN1    1305687 non-null  float64\n",
      " 25  EMPLOY1     1301619 non-null  float64\n",
      " 26  _BMI5CAT    1197809 non-null  float64\n",
      " 27  _SMOKER3    1305720 non-null  int64  \n",
      " 28  B_SMOKER    1305720 non-null  int64  \n",
      " 29  B_HLTHPLN   1305720 non-null  int64  \n",
      " 30  L_STATENM   1305720 non-null  object \n",
      " 31  L_STATEAB   1305720 non-null  object \n",
      " 32  L_ASTHMA    1305720 non-null  object \n",
      " 33  L_CANCER    1305720 non-null  object \n",
      " 34  L_CHCCOPD   1305720 non-null  object \n",
      " 35  L_ADDEPEV   1305720 non-null  object \n",
      " 36  L_DIABETE   1305720 non-null  object \n",
      " 37  L_HEART     1305720 non-null  object \n",
      " 38  L_SMOKER    1305720 non-null  object \n",
      " 39  L_HLTHPLN   1305720 non-null  object \n",
      " 40  L_COUPLED   1305720 non-null  object \n",
      " 41  L_COMORB    1305720 non-null  object \n",
      " 42  L_AGEG5YR   1305720 non-null  object \n",
      " 43  L_SEX       1304323 non-null  object \n",
      " 44  L_IMPRACE   1305720 non-null  object \n",
      " 45  L_RACE      1305720 non-null  object \n",
      " 46  L_EMPLOY1   1301619 non-null  object \n",
      " 47  L_MARITAL   1305629 non-null  object \n",
      " 48  L_INCOMG    1305720 non-null  object \n",
      " 49  L_EDUCAG    1305720 non-null  object \n",
      " 50  L_BMI5CAT   1197809 non-null  object \n",
      " 51  L_IMONTH    1305720 non-null  object \n",
      "dtypes: float64(6), int64(23), object(23)\n",
      "memory usage: 518.0+ MB\n"
     ]
    }
   ],
   "source": [
    "brfss.info()"
   ]
  },
  {
   "cell_type": "code",
   "execution_count": 7,
   "metadata": {},
   "outputs": [
    {
     "data": {
      "text/html": [
       "<div>\n",
       "<style scoped>\n",
       "    .dataframe tbody tr th:only-of-type {\n",
       "        vertical-align: middle;\n",
       "    }\n",
       "\n",
       "    .dataframe tbody tr th {\n",
       "        vertical-align: top;\n",
       "    }\n",
       "\n",
       "    .dataframe thead th {\n",
       "        text-align: right;\n",
       "    }\n",
       "</style>\n",
       "<table border=\"1\" class=\"dataframe\">\n",
       "  <thead>\n",
       "    <tr style=\"text-align: right;\">\n",
       "      <th>TOTCHRONIC</th>\n",
       "      <th>0</th>\n",
       "      <th>1</th>\n",
       "      <th>2</th>\n",
       "      <th>3</th>\n",
       "      <th>4</th>\n",
       "      <th>5</th>\n",
       "      <th>6</th>\n",
       "    </tr>\n",
       "    <tr>\n",
       "      <th>CHRONICGRP</th>\n",
       "      <th></th>\n",
       "      <th></th>\n",
       "      <th></th>\n",
       "      <th></th>\n",
       "      <th></th>\n",
       "      <th></th>\n",
       "      <th></th>\n",
       "    </tr>\n",
       "  </thead>\n",
       "  <tbody>\n",
       "    <tr>\n",
       "      <th>0</th>\n",
       "      <td>734870</td>\n",
       "      <td>0</td>\n",
       "      <td>0</td>\n",
       "      <td>0</td>\n",
       "      <td>0</td>\n",
       "      <td>0</td>\n",
       "      <td>0</td>\n",
       "    </tr>\n",
       "    <tr>\n",
       "      <th>1</th>\n",
       "      <td>0</td>\n",
       "      <td>374149</td>\n",
       "      <td>0</td>\n",
       "      <td>0</td>\n",
       "      <td>0</td>\n",
       "      <td>0</td>\n",
       "      <td>0</td>\n",
       "    </tr>\n",
       "    <tr>\n",
       "      <th>2</th>\n",
       "      <td>0</td>\n",
       "      <td>0</td>\n",
       "      <td>135267</td>\n",
       "      <td>0</td>\n",
       "      <td>0</td>\n",
       "      <td>0</td>\n",
       "      <td>0</td>\n",
       "    </tr>\n",
       "    <tr>\n",
       "      <th>3</th>\n",
       "      <td>0</td>\n",
       "      <td>0</td>\n",
       "      <td>0</td>\n",
       "      <td>45099</td>\n",
       "      <td>13236</td>\n",
       "      <td>2742</td>\n",
       "      <td>357</td>\n",
       "    </tr>\n",
       "  </tbody>\n",
       "</table>\n",
       "</div>"
      ],
      "text/plain": [
       "TOTCHRONIC       0       1       2      3      4     5    6\n",
       "CHRONICGRP                                                 \n",
       "0           734870       0       0      0      0     0    0\n",
       "1                0  374149       0      0      0     0    0\n",
       "2                0       0  135267      0      0     0    0\n",
       "3                0       0       0  45099  13236  2742  357"
      ]
     },
     "execution_count": 7,
     "metadata": {},
     "output_type": "execute_result"
    }
   ],
   "source": [
    "pd.crosstab(brfss[\"CHRONICGRP\"], brfss[\"TOTCHRONIC\"])"
   ]
  },
  {
   "cell_type": "code",
   "execution_count": 13,
   "metadata": {},
   "outputs": [
    {
     "data": {
      "text/plain": [
       "<seaborn.axisgrid.FacetGrid at 0x7ff5b7c9f5d0>"
      ]
     },
     "execution_count": 13,
     "metadata": {},
     "output_type": "execute_result"
    },
    {
     "data": {
      "image/png": "[encoded data removed]",
      "text/plain": [
       "<Figure size 360x360 with 1 Axes>"
      ]
     },
     "metadata": {
      "needs_background": "light"
     },
     "output_type": "display_data"
    }
   ],
   "source": [
    "sb.catplot(x=\"COMORB_1\", kind=\"count\", palette=\"ch:.25\", data=brfss)"
   ]
  },
  {
   "cell_type": "code",
   "execution_count": 14,
   "metadata": {
    "scrolled": true
   },
   "outputs": [
    {
     "data": {
      "text/plain": [
       "<seaborn.axisgrid.FacetGrid at 0x7ff5b8b5ed50>"
      ]
     },
     "execution_count": 14,
     "metadata": {},
     "output_type": "execute_result"
    },
    {
     "data": {
      "image/png": "[encoded data removed]",
      "text/plain": [
       "<Figure size 360x360 with 1 Axes>"
      ]
     },
     "metadata": {
      "needs_background": "light"
     },
     "output_type": "display_data"
    }
   ],
   "source": [
    "sb.catplot(x=\"CHRONICGRP\", kind=\"count\", palette=\"ch:.25\", data=brfss)"
   ]
  },
  {
   "cell_type": "code",
   "execution_count": 21,
   "metadata": {
    "scrolled": false
   },
   "outputs": [
    {
     "data": {
      "text/plain": [
       "<seaborn.axisgrid.FacetGrid at 0x7ff5c6dfd050>"
      ]
     },
     "execution_count": 21,
     "metadata": {},
     "output_type": "execute_result"
    },
    {
     "data": {
      "image/png": "[encoded data removed]",
      "text/plain": [
       "<Figure size 432.125x360 with 1 Axes>"
      ]
     },
     "metadata": {
      "needs_background": "light"
     },
     "output_type": "display_data"
    }
   ],
   "source": [
    "sb.catplot(x=\"_AGEG5YR\", y=\"CHRONICGRP\", hue=\"L_SEX\", kind=\"bar\", palette=\"ch:.25\", data=brfss)"
   ]
  },
  {
   "cell_type": "code",
   "execution_count": 22,
   "metadata": {},
   "outputs": [
    {
     "data": {
      "text/plain": [
       "<seaborn.axisgrid.FacetGrid at 0x7ff5c6d64850>"
      ]
     },
     "execution_count": 22,
     "metadata": {},
     "output_type": "execute_result"
    },
    {
     "data": {
      "image/png": "[encoded data removed]",
      "text/plain": [
       "<Figure size 420.75x360 with 1 Axes>"
      ]
     },
     "metadata": {
      "needs_background": "light"
     },
     "output_type": "display_data"
    }
   ],
   "source": [
    "sb.catplot(x=\"_AGEG5YR\", y=\"CHRONICGRP\", hue=\"L_SMOKER\", kind=\"bar\", palette=\"ch:.25\", data=brfss)"
   ]
  },
  {
   "cell_type": "code",
   "execution_count": 30,
   "metadata": {},
   "outputs": [
    {
     "data": {
      "text/plain": [
       "<AxesSubplot:xlabel='CHRONICGRP', ylabel='Proportion'>"
      ]
     },
     "execution_count": 30,
     "metadata": {},
     "output_type": "execute_result"
    },
    {
     "data": {
      "image/png": "[encoded data removed]",
      "text/plain": [
       "<Figure size 432x288 with 1 Axes>"
      ]
     },
     "metadata": {
      "needs_background": "light"
     },
     "output_type": "display_data"
    }
   ],
   "source": [
    "# Note this looks good / elegant, but takes an impossibly long time:\n",
    "# sb.barplot(x='_IMPRACE', y='CHRONICGRP', data=brfss, estimator=lambda x: sum(x==0)*100.0/len(x))\n",
    "\n",
    "# This doesn't look as good, but it only takes 1 second to run. :)\n",
    "x, y, hue = \"CHRONICGRP\", \"Proportion\", \"L_RACE\"\n",
    "hue_order = [\"White\", \"BIPOC\"]\n",
    "(brfss[x]\n",
    " .groupby(brfss[hue])\n",
    " .value_counts(normalize=True)\n",
    " .rename(y)\n",
    " .reset_index()\n",
    " .pipe((sb.barplot, \"data\"), x=x, y=y, palette=\"ch:.25\", hue=hue, hue_order=hue_order))"
   ]
  },
  {
   "cell_type": "code",
   "execution_count": 137,
   "metadata": {},
   "outputs": [
    {
     "data": {
      "text/plain": [
       "<AxesSubplot:xlabel='_INCOMG', ylabel='Proportion'>"
      ]
     },
     "execution_count": 137,
     "metadata": {},
     "output_type": "execute_result"
    },
    {
     "data": {
      "image/png": "[encoded data removed]",
      "text/plain": [
       "<Figure size 432x288 with 1 Axes>"
      ]
     },
     "metadata": {
      "needs_background": "light"
     },
     "output_type": "display_data"
    }
   ],
   "source": [
    "# INCOME GROUPS: 1 <$15K, 2 $15K-$25K, 3 $25K-$35K, 4 $35K-$50K, 5 $50K 9 REFUSED / BLANK\n",
    "x, y, hue = \"_INCOMG\", \"Proportion\", \"L_IMPRACE\"\n",
    "hue_order = [\"White\", \"Asian Am\", \"Black / African Am\", \"Hispanic\", \"Native Am/PI/AK Native\", \"Other\"]\n",
    "(brfss[x]\n",
    " .groupby(brfss[hue])\n",
    " .value_counts(normalize=True)\n",
    " .rename(y)\n",
    " .reset_index()\n",
    " .pipe((sb.barplot, \"data\"), x=x, y=y, hue=hue, hue_order=hue_order))"
   ]
  },
  {
   "cell_type": "code",
   "execution_count": 135,
   "metadata": {},
   "outputs": [
    {
     "data": {
      "text/plain": [
       "<seaborn.axisgrid.FacetGrid at 0x7ff439d73ed0>"
      ]
     },
     "execution_count": 135,
     "metadata": {},
     "output_type": "execute_result"
    },
    {
     "data": {
      "image/png": "[encoded data removed]",
      "text/plain": [
       "<Figure size 512.5x360 with 1 Axes>"
      ]
     },
     "metadata": {
      "needs_background": "light"
     },
     "output_type": "display_data"
    }
   ],
   "source": [
    "# _Educag 1 < HS, 2 HS GRAD, 3 SOME COLLEGE, 4 COLLEGE GRAD, 9 REFUSED / BLANK\n",
    "x, y, hue = \"_EDUCAG\", \"Proportion\", \"L_IMPRACE\"\n",
    "hue_order = [\"White\", \"Asian Am\", \"Black / African Am\", \"Hispanic\", \"Native Am/PI/AK Native\", \"Other\"]\n",
    "sd = brfss[\"_EDUCAG\"].groupby(brfss[\"L_IMPRACE\"]).value_counts(normalize=True).rename(y).reset_index()\n",
    "sb.catplot(x=\"_EDUCAG\", y=\"Proportion\", hue=\"L_IMPRACE\", hue_order=hue_order, kind=\"bar\", data=sd)"
   ]
  },
  {
   "cell_type": "code",
   "execution_count": 39,
   "metadata": {
    "scrolled": true
   },
   "outputs": [
    {
     "data": {
      "text/plain": [
       "<seaborn.axisgrid.FacetGrid at 0x7ff5c639c550>"
      ]
     },
     "execution_count": 39,
     "metadata": {},
     "output_type": "execute_result"
    },
    {
     "data": {
      "image/png": "[encoded data removed]",
      "text/plain": [
       "<Figure size 449.032x360 with 1 Axes>"
      ]
     },
     "metadata": {
      "needs_background": "light"
     },
     "output_type": "display_data"
    }
   ],
   "source": [
    "# Employ1: 1 Employed, 2 Self-Employed, 3 OOW 1+ yrs, 4 OOW <1 yr, 5 Homemaker, 6 Student, \n",
    "# 7 Retired, 8 Unable, _ Refused or Blank\n",
    "hue_order = [\"<$15K\", \"$15K - $25K\", \"$25K - $35K\", \"$35K - $50K\", \"$50K+\", \"\"]\n",
    "sb.catplot(x=\"EMPLOY1\", y=\"CHRONICGRP\", hue=\"L_INCOMG\", hue_order=hue_order, \n",
    "           kind=\"point\", palette=\"ch:.25\", data=brfss)"
   ]
  },
  {
   "cell_type": "code",
   "execution_count": 41,
   "metadata": {},
   "outputs": [
    {
     "data": {
      "text/plain": [
       "<seaborn.axisgrid.FacetGrid at 0x7ff5c6405e90>"
      ]
     },
     "execution_count": 41,
     "metadata": {},
     "output_type": "execute_result"
    },
    {
     "data": {
      "image/png": "[encoded data removed]",
      "text/plain": [
       "<Figure size 449.032x360 with 1 Axes>"
      ]
     },
     "metadata": {
      "needs_background": "light"
     },
     "output_type": "display_data"
    }
   ],
   "source": [
    "# People in technical jobs have more stress? \n",
    "# _Educag 1 < HS, 2 HS GRAD, 3 SOME COLLEGE, 4 COLLEGE GRAD, 9 REFUSED / BLANK\n",
    "hue_order = [\"<$15K\", \"$15K - $25K\", \"$25K - $35K\", \"$35K - $50K\", \"$50K+\", \"\"]\n",
    "sb.catplot(x=\"_EDUCAG\", y=\"CHRONICGRP\", hue=\"L_INCOMG\", hue_order=hue_order, \n",
    "           kind=\"point\", palette=\"ch:.25\", data=brfss)"
   ]
  },
  {
   "cell_type": "code",
   "execution_count": 42,
   "metadata": {},
   "outputs": [
    {
     "data": {
      "text/plain": [
       "<seaborn.axisgrid.FacetGrid at 0x7ff5c60fb6d0>"
      ]
     },
     "execution_count": 42,
     "metadata": {},
     "output_type": "execute_result"
    },
    {
     "data": {
      "image/png": "[encoded data removed]",
      "text/plain": [
       "<Figure size 449.032x360 with 1 Axes>"
      ]
     },
     "metadata": {
      "needs_background": "light"
     },
     "output_type": "display_data"
    }
   ],
   "source": [
    "# MARITAL 1 Married 2 Divorced 3 Widowed 4 Separated 5 Never Married 6 Unmarried Couple 9 Refused / Blank\n",
    "hue_order = [\"<$15K\", \"$15K - $25K\", \"$25K - $35K\", \"$35K - $50K\", \"$50K+\", \"\"]\n",
    "sb.catplot(x=\"MARITAL\", y=\"CHRONICGRP\", hue=\"L_INCOMG\", hue_order=hue_order, \n",
    "           kind=\"point\", palette=\"ch:.25\", data=brfss)"
   ]
  },
  {
   "cell_type": "code",
   "execution_count": 44,
   "metadata": {},
   "outputs": [
    {
     "data": {
      "text/plain": [
       "<seaborn.axisgrid.FacetGrid at 0x7ff5c61f5e50>"
      ]
     },
     "execution_count": 44,
     "metadata": {},
     "output_type": "execute_result"
    },
    {
     "data": {
      "image/png": "[encoded data removed]",
      "text/plain": [
       "<Figure size 426x360 with 1 Axes>"
      ]
     },
     "metadata": {
      "needs_background": "light"
     },
     "output_type": "display_data"
    }
   ],
   "source": [
    "# Coupled is a computed variable where yes = Married or Unmarried couple, and no = everything else\n",
    "# _IMPRACE - 1 White 2 Black 3 Asian 4 Native / PI 5 Hispanic 6 Other\n",
    "hue_order = [\"Yes\", \"No\"]\n",
    "sb.catplot(x=\"_IMPRACE\", y=\"CHRONICGRP\", hue=\"L_COUPLED\", hue_order=hue_order,\n",
    "           kind=\"point\", palette=\"ch:.25\", data=brfss)"
   ]
  },
  {
   "cell_type": "code",
   "execution_count": 79,
   "metadata": {},
   "outputs": [
    {
     "data": {
      "text/plain": [
       "<seaborn.axisgrid.FacetGrid at 0x7ff5c412cc10>"
      ]
     },
     "execution_count": 79,
     "metadata": {},
     "output_type": "execute_result"
    },
    {
     "data": {
      "image/png": "[encoded data removed]",
      "text/plain": [
       "<Figure size 512.5x360 with 1 Axes>"
      ]
     },
     "metadata": {
      "needs_background": "light"
     },
     "output_type": "display_data"
    }
   ],
   "source": [
    "# BMI Groups 1: < 18.5 (Underweight), 2: 18.5 - 25 (Normal), 3: 25 - 30 (Overweight), 4: 30+ (Obese)\n",
    "hue_order = [\"White\", \"Asian Am\", \"Black / African Am\", \"Hispanic\", \"Native Am/PI/AK Native\", \"Other\"]\n",
    "sb.catplot(x=\"_BMI5CAT\", y=\"CHRONICGRP\", hue=\"L_IMPRACE\", hue_order=hue_order,\n",
    "           kind=\"point\", data=brfss)"
   ]
  },
  {
   "cell_type": "code",
   "execution_count": 141,
   "metadata": {},
   "outputs": [
    {
     "data": {
      "text/plain": [
       "<seaborn.axisgrid.FacetGrid at 0x7ff439678090>"
      ]
     },
     "execution_count": 141,
     "metadata": {},
     "output_type": "execute_result"
    },
    {
     "data": {
      "image/png": "[encoded data removed]",
      "text/plain": [
       "<Figure size 449.032x360 with 1 Axes>"
      ]
     },
     "metadata": {
      "needs_background": "light"
     },
     "output_type": "display_data"
    }
   ],
   "source": [
    "# No differences - BMI is a VERY STRONG predictor of chronic conditions\n",
    "# BMI Groups 1: < 18.5 (Underweight), 2: 18.5 - 25 (Normal), 3: 25 - 30 (Overweight), 4: 30+ (Obese)\n",
    "hue_order = [\"<$15K\", \"$15K - $25K\", \"$25K - $35K\", \"$35K - $50K\", \"$50K+\", \"\"]\n",
    "sb.catplot(x=\"CHRONICGRP\", y=\"_BMI5CAT\", hue=\"L_INCOMG\", hue_order=hue_order, \n",
    "           kind=\"point\", data=brfss)"
   ]
  },
  {
   "cell_type": "code",
   "execution_count": 138,
   "metadata": {},
   "outputs": [
    {
     "data": {
      "text/plain": [
       "<seaborn.axisgrid.FacetGrid at 0x7ff4397bf290>"
      ]
     },
     "execution_count": 138,
     "metadata": {},
     "output_type": "execute_result"
    },
    {
     "data": {
      "image/png": "[encoded data removed]",
      "text/plain": [
       "<Figure size 468.625x360 with 1 Axes>"
      ]
     },
     "metadata": {
      "needs_background": "light"
     },
     "output_type": "display_data"
    }
   ],
   "source": [
    "# Basically no difference \n",
    "# BMI Groups 1: < 18.5 (Underweight), 2: 18.5 - 25 (Normal), 3: 25 - 30 (Overweight), 4: 30+ (Obese)\n",
    "hue_order = [\"< HS\", \"HS Grad / GED\", \"Some College\", \"College Grad\", \"\"]\n",
    "sb.catplot(x=\"CHRONICGRP\", y=\"_BMI5CAT\", hue=\"L_EDUCAG\", hue_order=hue_order, \n",
    "           kind=\"point\", data=brfss)"
   ]
  },
  {
   "cell_type": "code",
   "execution_count": 139,
   "metadata": {},
   "outputs": [
    {
     "data": {
      "text/plain": [
       "<seaborn.axisgrid.FacetGrid at 0x7ff3e1649850>"
      ]
     },
     "execution_count": 139,
     "metadata": {},
     "output_type": "execute_result"
    },
    {
     "data": {
      "image/png": "[encoded data removed]",
      "text/plain": [
       "<Figure size 486x360 with 1 Axes>"
      ]
     },
     "metadata": {
      "needs_background": "light"
     },
     "output_type": "display_data"
    }
   ],
   "source": [
    "# BMI Groups 1: < 18.5 (Underweight), 2: 18.5 - 25 (Normal), 3: 25 - 30 (Overweight), 4: 30+ (Obese)\n",
    "sb.catplot(x=\"CHRONICGRP\", y=\"_BMI5CAT\", hue=\"L_EMPLOY1\", \n",
    "           kind=\"point\", data=brfss)"
   ]
  },
  {
   "cell_type": "code",
   "execution_count": 140,
   "metadata": {},
   "outputs": [
    {
     "data": {
      "text/plain": [
       "<seaborn.axisgrid.FacetGrid at 0x7ff418704450>"
      ]
     },
     "execution_count": 140,
     "metadata": {},
     "output_type": "execute_result"
    },
    {
     "data": {
      "image/png": "[encoded data removed]",
      "text/plain": [
       "<Figure size 486.625x360 with 1 Axes>"
      ]
     },
     "metadata": {
      "needs_background": "light"
     },
     "output_type": "display_data"
    }
   ],
   "source": [
    "# BMI Groups 1: < 18.5 (Underweight), 2: 18.5 - 25 (Normal), 3: 25 - 30 (Overweight), 4: 30+ (Obese)\n",
    "sb.catplot(x=\"CHRONICGRP\", y=\"_BMI5CAT\", hue=\"L_MARITAL\", \n",
    "           kind=\"point\", data=brfss)"
   ]
  },
  {
   "cell_type": "code",
   "execution_count": 61,
   "metadata": {},
   "outputs": [
    {
     "data": {
      "text/html": [
       "<div>\n",
       "<style scoped>\n",
       "    .dataframe tbody tr th:only-of-type {\n",
       "        vertical-align: middle;\n",
       "    }\n",
       "\n",
       "    .dataframe tbody tr th {\n",
       "        vertical-align: top;\n",
       "    }\n",
       "\n",
       "    .dataframe thead th {\n",
       "        text-align: right;\n",
       "    }\n",
       "</style>\n",
       "<table border=\"1\" class=\"dataframe\">\n",
       "  <thead>\n",
       "    <tr style=\"text-align: right;\">\n",
       "      <th></th>\n",
       "      <th>StateName</th>\n",
       "      <th>StateAbbr</th>\n",
       "      <th>Year</th>\n",
       "      <th>TotalComorb</th>\n",
       "    </tr>\n",
       "  </thead>\n",
       "  <tbody>\n",
       "    <tr>\n",
       "      <th>0</th>\n",
       "      <td>Alabama</td>\n",
       "      <td>AL</td>\n",
       "      <td>2017</td>\n",
       "      <td>0.809890</td>\n",
       "    </tr>\n",
       "    <tr>\n",
       "      <th>1</th>\n",
       "      <td>Alabama</td>\n",
       "      <td>AL</td>\n",
       "      <td>2018</td>\n",
       "      <td>0.817287</td>\n",
       "    </tr>\n",
       "    <tr>\n",
       "      <th>2</th>\n",
       "      <td>Alabama</td>\n",
       "      <td>AL</td>\n",
       "      <td>2019</td>\n",
       "      <td>0.787720</td>\n",
       "    </tr>\n",
       "    <tr>\n",
       "      <th>3</th>\n",
       "      <td>Alaska</td>\n",
       "      <td>AK</td>\n",
       "      <td>2017</td>\n",
       "      <td>0.528567</td>\n",
       "    </tr>\n",
       "    <tr>\n",
       "      <th>4</th>\n",
       "      <td>Alaska</td>\n",
       "      <td>AK</td>\n",
       "      <td>2018</td>\n",
       "      <td>0.582306</td>\n",
       "    </tr>\n",
       "    <tr>\n",
       "      <th>...</th>\n",
       "      <td>...</td>\n",
       "      <td>...</td>\n",
       "      <td>...</td>\n",
       "      <td>...</td>\n",
       "    </tr>\n",
       "    <tr>\n",
       "      <th>153</th>\n",
       "      <td>Wisconsin</td>\n",
       "      <td>WI</td>\n",
       "      <td>2018</td>\n",
       "      <td>0.584067</td>\n",
       "    </tr>\n",
       "    <tr>\n",
       "      <th>154</th>\n",
       "      <td>Wisconsin</td>\n",
       "      <td>WI</td>\n",
       "      <td>2019</td>\n",
       "      <td>0.596647</td>\n",
       "    </tr>\n",
       "    <tr>\n",
       "      <th>155</th>\n",
       "      <td>Wyoming</td>\n",
       "      <td>WY</td>\n",
       "      <td>2017</td>\n",
       "      <td>0.627829</td>\n",
       "    </tr>\n",
       "    <tr>\n",
       "      <th>156</th>\n",
       "      <td>Wyoming</td>\n",
       "      <td>WY</td>\n",
       "      <td>2018</td>\n",
       "      <td>0.597266</td>\n",
       "    </tr>\n",
       "    <tr>\n",
       "      <th>157</th>\n",
       "      <td>Wyoming</td>\n",
       "      <td>WY</td>\n",
       "      <td>2019</td>\n",
       "      <td>0.607991</td>\n",
       "    </tr>\n",
       "  </tbody>\n",
       "</table>\n",
       "<p>158 rows × 4 columns</p>\n",
       "</div>"
      ],
      "text/plain": [
       "     StateName StateAbbr  Year  TotalComorb\n",
       "0      Alabama        AL  2017     0.809890\n",
       "1      Alabama        AL  2018     0.817287\n",
       "2      Alabama        AL  2019     0.787720\n",
       "3       Alaska        AK  2017     0.528567\n",
       "4       Alaska        AK  2018     0.582306\n",
       "..         ...       ...   ...          ...\n",
       "153  Wisconsin        WI  2018     0.584067\n",
       "154  Wisconsin        WI  2019     0.596647\n",
       "155    Wyoming        WY  2017     0.627829\n",
       "156    Wyoming        WY  2018     0.597266\n",
       "157    Wyoming        WY  2019     0.607991\n",
       "\n",
       "[158 rows x 4 columns]"
      ]
     },
     "execution_count": 61,
     "metadata": {},
     "output_type": "execute_result"
    }
   ],
   "source": [
    "# Removed weighting\n",
    "map_df_dup = brfss.copy()\n",
    "map_df_dup['_LLCPWT2'] = 1\n",
    "mapme = map_df_dup.groupby(['L_STATENM','L_STATEAB','YEAR']).apply(lambda dfx: (dfx[\"TOTCHRONIC\"] * dfx[\"_LLCPWT2\"]).sum() / dfx[\"_LLCPWT2\"].sum()).reset_index()\n",
    "mapme = mapme.rename(columns = {'L_STATENM':'StateName', 'L_STATEAB':'StateAbbr', 'YEAR':'Year', 0:'TotalComorb'})\n",
    "mapme"
   ]
  },
  {
   "cell_type": "code",
   "execution_count": 63,
   "metadata": {},
   "outputs": [
    {
     "data": {
      "application/vnd.plotly.v1+json": {
       "config": {
        "plotlyServerURL": "https://plot.ly"
       },
       "data": [
        {
         "coloraxis": "coloraxis",
         "geo": "geo",
         "hovertemplate": "<b>%{hovertext}</b><br><br>StateAbbr=%{location}<br>TotalComorb=%{z}<extra></extra>",
         "hovertext": [
          "Alabama",
          "Alabama",
          "Alabama",
          "Alaska",
          "Alaska",
          "Alaska",
          "Arizona",
          "Arizona",
          "Arizona",
          "Arkansas",
          "Arkansas",
          "Arkansas",
          "California",
          "California",
          "California",
          "Colorado",
          "Colorado",
          "Colorado",
          "Connecticut",
          "Connecticut",
          "Connecticut",
          "Delaware",
          "Delaware",
          "Delaware",
          "District of Columbia",
          "District of Columbia",
          "District of Columbia",
          "Florida",
          "Florida",
          "Florida",
          "Georgia",
          "Georgia",
          "Georgia",
          "Guam",
          "Guam",
          "Guam",
          "Hawaii",
          "Hawaii",
          "Hawaii",
          "Idaho",
          "Idaho",
          "Idaho",
          "Illinois",
          "Illinois",
          "Illinois",
          "Indiana",
          "Indiana",
          "Indiana",
          "Iowa",
          "Iowa",
          "Iowa",
          "Kansas",
          "Kansas",
          "Kansas",
          "Kentucky",
          "Kentucky",
          "Kentucky",
          "Louisiana",
          "Louisiana",
          "Louisiana",
          "Maine",
          "Maine",
          "Maine",
          "Maryland",
          "Maryland",
          "Maryland",
          "Massachusetts",
          "Massachusetts",
          "Massachusetts",
          "Michigan",
          "Michigan",
          "Michigan",
          "Minnesota",
          "Minnesota",
          "Minnesota",
          "Mississippi",
          "Mississippi",
          "Mississippi",
          "Missouri",
          "Missouri",
          "Missouri",
          "Montana",
          "Montana",
          "Montana",
          "Nebraska",
          "Nebraska",
          "Nebraska",
          "Nevada",
          "Nevada",
          "Nevada",
          "New Hampshire",
          "New Hampshire",
          "New Hampshire",
          "New Jersey",
          "New Jersey",
          "New Mexico",
          "New Mexico",
          "New Mexico",
          "New York",
          "New York",
          "New York",
          "North Carolina",
          "North Carolina",
          "North Carolina",
          "North Dakota",
          "North Dakota",
          "North Dakota",
          "Ohio",
          "Ohio",
          "Ohio",
          "Oklahoma",
          "Oklahoma",
          "Oklahoma",
          "Oregon",
          "Oregon",
          "Oregon",
          "Pennsylvania",
          "Pennsylvania",
          "Pennsylvania",
          "Puerto Rico",
          "Puerto Rico",
          "Puerto Rico",
          "Rhode Island",
          "Rhode Island",
          "Rhode Island",
          "South Carolina",
          "South Carolina",
          "South Carolina",
          "South Dakota",
          "South Dakota",
          "South Dakota",
          "Tennessee",
          "Tennessee",
          "Tennessee",
          "Texas",
          "Texas",
          "Texas",
          "Utah",
          "Utah",
          "Utah",
          "Vermont",
          "Vermont",
          "Vermont",
          "Virginia",
          "Virginia",
          "Virginia",
          "Washington",
          "Washington",
          "Washington",
          "West Virginia",
          "West Virginia",
          "West Virginia",
          "Wisconsin",
          "Wisconsin",
          "Wisconsin",
          "Wyoming",
          "Wyoming",
          "Wyoming"
         ],
         "locationmode": "USA-states",
         "locations": [
          "AL",
          "AL",
          "AL",
          "AK",
          "AK",
          "AK",
          "AZ",
          "AZ",
          "AZ",
          "AR",
          "AR",
          "AR",
          "CA",
          "CA",
          "CA",
          "CO",
          "CO",
          "CO",
          "CT",
          "CT",
          "CT",
          "DE",
          "DE",
          "DE",
          "DC",
          "DC",
          "DC",
          "FL",
          "FL",
          "FL",
          "GA",
          "GA",
          "GA",
          "GU",
          "GU",
          "GU",
          "HI",
          "HI",
          "HI",
          "ID",
          "ID",
          "ID",
          "IL",
          "IL",
          "IL",
          "IN",
          "IN",
          "IN",
          "IA",
          "IA",
          "IA",
          "KS",
          "KS",
          "KS",
          "KY",
          "KY",
          "KY",
          "LA",
          "LA",
          "LA",
          "ME",
          "ME",
          "ME",
          "MD",
          "MD",
          "MD",
          "MA",
          "MA",
          "MA",
          "MI",
          "MI",
          "MI",
          "MN",
          "MN",
          "MN",
          "MS",
          "MS",
          "MS",
          "MO",
          "MO",
          "MO",
          "MT",
          "MT",
          "MT",
          "NE",
          "NE",
          "NE",
          "NV",
          "NV",
          "NV",
          "NH",
          "NH",
          "NH",
          "NJ",
          "NJ",
          "NM",
          "NM",
          "NM",
          "NY",
          "NY",
          "NY",
          "NC",
          "NC",
          "NC",
          "ND",
          "ND",
          "ND",
          "OH",
          "OH",
          "OH",
          "OK",
          "OK",
          "OK",
          "OR",
          "OR",
          "OR",
          "PA",
          "PA",
          "PA",
          "PR",
          "PR",
          "PR",
          "RI",
          "RI",
          "RI",
          "SC",
          "SC",
          "SC",
          "SD",
          "SD",
          "SD",
          "TN",
          "TN",
          "TN",
          "TX",
          "TX",
          "TX",
          "UT",
          "UT",
          "UT",
          "VT",
          "VT",
          "VT",
          "VA",
          "VA",
          "VA",
          "WA",
          "WA",
          "WA",
          "WV",
          "WV",
          "WV",
          "WI",
          "WI",
          "WI",
          "WY",
          "WY",
          "WY"
         ],
         "name": "",
         "type": "choropleth",
         "z": [
          0.8098904352976014,
          0.8172873145625189,
          0.7877197958026092,
          0.5285669684670621,
          0.5823060188542422,
          0.5448438024857238,
          0.6433963481514936,
          0.6508839164297193,
          0.6629012414718711,
          0.8087185268695979,
          0.8029850746268656,
          0.826833364433663,
          0.5396452233383201,
          0.5223592583270409,
          0.5139068285542064,
          0.5162211793511529,
          0.506461400157321,
          0.5307502414940432,
          0.6034189648658859,
          0.5904379493883649,
          0.5706646294881589,
          0.6709350084561488,
          0.6560290464360787,
          0.6738516807800873,
          0.5356773526370218,
          0.6274732772344781,
          0.6238567073170732,
          0.6960424316605467,
          0.6914446922975988,
          0.7197947992216522,
          0.6312747688243064,
          0.6280494357872112,
          0.6849333695947784,
          0.4403183023872679,
          0.46897810218978103,
          0.4546578730420445,
          0.5126386381222595,
          0.5251234021009998,
          0.5225143154606976,
          0.6270944013077238,
          0.6228354978354979,
          0.6423090975520643,
          0.6032461677186655,
          0.5893665158371041,
          0.5727503628447025,
          0.7359895870995734,
          0.7494742376445847,
          0.7171126602203732,
          0.6041044291466424,
          0.5423468828749863,
          0.552483933489748,
          0.6222588472279449,
          0.6529292182591019,
          0.6159394792399718,
          0.8046748437861606,
          0.8341132428638278,
          0.8199147228492601,
          0.7217716781035558,
          0.7190243902439024,
          0.7072912250953794,
          0.724411886091622,
          0.7196244644973111,
          0.7518684603886397,
          0.6499116867824551,
          0.6445913598540978,
          0.6426890177392502,
          0.6142939814814815,
          0.5582546108861899,
          0.5761221058077868,
          0.7123702819358986,
          0.6917264096105405,
          0.7037459593078532,
          0.5360631763673589,
          0.5193643319599764,
          0.5607825471394555,
          0.7462568951930654,
          0.7769981174054424,
          0.7545844713226687,
          0.7355611103802131,
          0.7575028085379554,
          0.7382256297918949,
          0.6224852071005917,
          0.6689788053949903,
          0.6468052347959969,
          0.5910749185667753,
          0.5772857728577285,
          0.5670804713592539,
          0.6365568544102019,
          0.5915580384854128,
          0.5926592299388269,
          0.7014432272648236,
          0.6770088896635872,
          0.6502732240437158,
          0.6133629149244816,
          0.5268608414239482,
          0.6596818598959927,
          0.6179055563831372,
          0.6133891213389121,
          0.5774348926442975,
          0.6397796851846674,
          0.6172006745362564,
          0.646053702196908,
          0.672869528441531,
          0.6699323536272451,
          0.5788043478260869,
          0.6090359302739239,
          0.577340079508493,
          0.7438359508503539,
          0.7275718874872679,
          0.7754137115839244,
          0.76785176257909,
          0.7553778793070627,
          0.7419100236779794,
          0.6476722532588455,
          0.7098890010090817,
          0.6531413612565445,
          0.6335982879853256,
          0.6470304200869146,
          0.6289736603088102,
          0.6519509476031216,
          0.652488127193888,
          0.6213527851458885,
          0.7137784090909091,
          0.7023363652577136,
          0.6970540098199672,
          0.7315887189461586,
          0.7290417781056903,
          0.7120067170445005,
          0.6078151739874501,
          0.585814606741573,
          0.5748114630467571,
          0.7793941468423755,
          0.8156976744186046,
          0.8091957705863505,
          0.6408812729498164,
          0.6451814210573237,
          0.6634138407741725,
          0.5418983513803531,
          0.5775821262898798,
          0.5743724559023067,
          0.6511663597298957,
          0.6480745721271394,
          0.636053894997677,
          0.6533748701973001,
          0.6167038077705649,
          0.6438906752411575,
          0.6544920551246329,
          0.6671493902439024,
          0.6673593473408759,
          0.8894371345029239,
          0.8891157851745967,
          0.8954914167138276,
          0.5648881239242685,
          0.5840672538030425,
          0.5966471419915169,
          0.6278288146986332,
          0.5972658000896459,
          0.6079913606911447
         ]
        }
       ],
       "layout": {
        "coloraxis": {
         "colorbar": {
          "title": {
           "text": "TotalComorb"
          }
         },
         "colorscale": [
          [
           0,
           "#30123b"
          ],
          [
           0.07142857142857142,
           "#4145ab"
          ],
          [
           0.14285714285714285,
           "#4675ed"
          ],
          [
           0.21428571428571427,
           "#39a2fc"
          ],
          [
           0.2857142857142857,
           "#1bcfd4"
          ],
          [
           0.35714285714285715,
           "#24eca6"
          ],
          [
           0.42857142857142855,
           "#61fc6c"
          ],
          [
           0.5,
           "#a4fc3b"
          ],
          [
           0.5714285714285714,
           "#d1e834"
          ],
          [
           0.6428571428571429,
           "#f3c63a"
          ],
          [
           0.7142857142857143,
           "#fe9b2d"
          ],
          [
           0.7857142857142857,
           "#f36315"
          ],
          [
           0.8571428571428571,
           "#d93806"
          ],
          [
           0.9285714285714286,
           "#b11901"
          ],
          [
           1,
           "#7a0402"
          ]
         ]
        },
        "geo": {
         "center": {},
         "domain": {
          "x": [
           0,
           1
          ],
          "y": [
           0,
           1
          ]
         },
         "scope": "usa"
        },
        "legend": {
         "tracegroupgap": 0
        },
        "margin": {
         "t": 60
        },
        "template": {
         "data": {
          "bar": [
           {
            "error_x": {
             "color": "#2a3f5f"
            },
            "error_y": {
             "color": "#2a3f5f"
            },
            "marker": {
             "line": {
              "color": "#E5ECF6",
              "width": 0.5
             }
            },
            "type": "bar"
           }
          ],
          "barpolar": [
           {
            "marker": {
             "line": {
              "color": "#E5ECF6",
              "width": 0.5
             }
            },
            "type": "barpolar"
           }
          ],
          "carpet": [
           {
            "aaxis": {
             "endlinecolor": "#2a3f5f",
             "gridcolor": "white",
             "linecolor": "white",
             "minorgridcolor": "white",
             "startlinecolor": "#2a3f5f"
            },
            "baxis": {
             "endlinecolor": "#2a3f5f",
             "gridcolor": "white",
             "linecolor": "white",
             "minorgridcolor": "white",
             "startlinecolor": "#2a3f5f"
            },
            "type": "carpet"
           }
          ],
          "choropleth": [
           {
            "colorbar": {
             "outlinewidth": 0,
             "ticks": ""
            },
            "type": "choropleth"
           }
          ],
          "contour": [
           {
            "colorbar": {
             "outlinewidth": 0,
             "ticks": ""
            },
            "colorscale": [
             [
              0,
              "#0d0887"
             ],
             [
              0.1111111111111111,
              "#46039f"
             ],
             [
              0.2222222222222222,
              "#7201a8"
             ],
             [
              0.3333333333333333,
              "#9c179e"
             ],
             [
              0.4444444444444444,
              "#bd3786"
             ],
             [
              0.5555555555555556,
              "#d8576b"
             ],
             [
              0.6666666666666666,
              "#ed7953"
             ],
             [
              0.7777777777777778,
              "#fb9f3a"
             ],
             [
              0.8888888888888888,
              "#fdca26"
             ],
             [
              1,
              "#f0f921"
             ]
            ],
            "type": "contour"
           }
          ],
          "contourcarpet": [
           {
            "colorbar": {
             "outlinewidth": 0,
             "ticks": ""
            },
            "type": "contourcarpet"
           }
          ],
          "heatmap": [
           {
            "colorbar": {
             "outlinewidth": 0,
             "ticks": ""
            },
            "colorscale": [
             [
              0,
              "#0d0887"
             ],
             [
              0.1111111111111111,
              "#46039f"
             ],
             [
              0.2222222222222222,
              "#7201a8"
             ],
             [
              0.3333333333333333,
              "#9c179e"
             ],
             [
              0.4444444444444444,
              "#bd3786"
             ],
             [
              0.5555555555555556,
              "#d8576b"
             ],
             [
              0.6666666666666666,
              "#ed7953"
             ],
             [
              0.7777777777777778,
              "#fb9f3a"
             ],
             [
              0.8888888888888888,
              "#fdca26"
             ],
             [
              1,
              "#f0f921"
             ]
            ],
            "type": "heatmap"
           }
          ],
          "heatmapgl": [
           {
            "colorbar": {
             "outlinewidth": 0,
             "ticks": ""
            },
            "colorscale": [
             [
              0,
              "#0d0887"
             ],
             [
              0.1111111111111111,
              "#46039f"
             ],
             [
              0.2222222222222222,
              "#7201a8"
             ],
             [
              0.3333333333333333,
              "#9c179e"
             ],
             [
              0.4444444444444444,
              "#bd3786"
             ],
             [
              0.5555555555555556,
              "#d8576b"
             ],
             [
              0.6666666666666666,
              "#ed7953"
             ],
             [
              0.7777777777777778,
              "#fb9f3a"
             ],
             [
              0.8888888888888888,
              "#fdca26"
             ],
             [
              1,
              "#f0f921"
             ]
            ],
            "type": "heatmapgl"
           }
          ],
          "histogram": [
           {
            "marker": {
             "colorbar": {
              "outlinewidth": 0,
              "ticks": ""
             }
            },
            "type": "histogram"
           }
          ],
          "histogram2d": [
           {
            "colorbar": {
             "outlinewidth": 0,
             "ticks": ""
            },
            "colorscale": [
             [
              0,
              "#0d0887"
             ],
             [
              0.1111111111111111,
              "#46039f"
             ],
             [
              0.2222222222222222,
              "#7201a8"
             ],
             [
              0.3333333333333333,
              "#9c179e"
             ],
             [
              0.4444444444444444,
              "#bd3786"
             ],
             [
              0.5555555555555556,
              "#d8576b"
             ],
             [
              0.6666666666666666,
              "#ed7953"
             ],
             [
              0.7777777777777778,
              "#fb9f3a"
             ],
             [
              0.8888888888888888,
              "#fdca26"
             ],
             [
              1,
              "#f0f921"
             ]
            ],
            "type": "histogram2d"
           }
          ],
          "histogram2dcontour": [
           {
            "colorbar": {
             "outlinewidth": 0,
             "ticks": ""
            },
            "colorscale": [
             [
              0,
              "#0d0887"
             ],
             [
              0.1111111111111111,
              "#46039f"
             ],
             [
              0.2222222222222222,
              "#7201a8"
             ],
             [
              0.3333333333333333,
              "#9c179e"
             ],
             [
              0.4444444444444444,
              "#bd3786"
             ],
             [
              0.5555555555555556,
              "#d8576b"
             ],
             [
              0.6666666666666666,
              "#ed7953"
             ],
             [
              0.7777777777777778,
              "#fb9f3a"
             ],
             [
              0.8888888888888888,
              "#fdca26"
             ],
             [
              1,
              "#f0f921"
             ]
            ],
            "type": "histogram2dcontour"
           }
          ],
          "mesh3d": [
           {
            "colorbar": {
             "outlinewidth": 0,
             "ticks": ""
            },
            "type": "mesh3d"
           }
          ],
          "parcoords": [
           {
            "line": {
             "colorbar": {
              "outlinewidth": 0,
              "ticks": ""
             }
            },
            "type": "parcoords"
           }
          ],
          "pie": [
           {
            "automargin": true,
            "type": "pie"
           }
          ],
          "scatter": [
           {
            "marker": {
             "colorbar": {
              "outlinewidth": 0,
              "ticks": ""
             }
            },
            "type": "scatter"
           }
          ],
          "scatter3d": [
           {
            "line": {
             "colorbar": {
              "outlinewidth": 0,
              "ticks": ""
             }
            },
            "marker": {
             "colorbar": {
              "outlinewidth": 0,
              "ticks": ""
             }
            },
            "type": "scatter3d"
           }
          ],
          "scattercarpet": [
           {
            "marker": {
             "colorbar": {
              "outlinewidth": 0,
              "ticks": ""
             }
            },
            "type": "scattercarpet"
           }
          ],
          "scattergeo": [
           {
            "marker": {
             "colorbar": {
              "outlinewidth": 0,
              "ticks": ""
             }
            },
            "type": "scattergeo"
           }
          ],
          "scattergl": [
           {
            "marker": {
             "colorbar": {
              "outlinewidth": 0,
              "ticks": ""
             }
            },
            "type": "scattergl"
           }
          ],
          "scattermapbox": [
           {
            "marker": {
             "colorbar": {
              "outlinewidth": 0,
              "ticks": ""
             }
            },
            "type": "scattermapbox"
           }
          ],
          "scatterpolar": [
           {
            "marker": {
             "colorbar": {
              "outlinewidth": 0,
              "ticks": ""
             }
            },
            "type": "scatterpolar"
           }
          ],
          "scatterpolargl": [
           {
            "marker": {
             "colorbar": {
              "outlinewidth": 0,
              "ticks": ""
             }
            },
            "type": "scatterpolargl"
           }
          ],
          "scatterternary": [
           {
            "marker": {
             "colorbar": {
              "outlinewidth": 0,
              "ticks": ""
             }
            },
            "type": "scatterternary"
           }
          ],
          "surface": [
           {
            "colorbar": {
             "outlinewidth": 0,
             "ticks": ""
            },
            "colorscale": [
             [
              0,
              "#0d0887"
             ],
             [
              0.1111111111111111,
              "#46039f"
             ],
             [
              0.2222222222222222,
              "#7201a8"
             ],
             [
              0.3333333333333333,
              "#9c179e"
             ],
             [
              0.4444444444444444,
              "#bd3786"
             ],
             [
              0.5555555555555556,
              "#d8576b"
             ],
             [
              0.6666666666666666,
              "#ed7953"
             ],
             [
              0.7777777777777778,
              "#fb9f3a"
             ],
             [
              0.8888888888888888,
              "#fdca26"
             ],
             [
              1,
              "#f0f921"
             ]
            ],
            "type": "surface"
           }
          ],
          "table": [
           {
            "cells": {
             "fill": {
              "color": "#EBF0F8"
             },
             "line": {
              "color": "white"
             }
            },
            "header": {
             "fill": {
              "color": "#C8D4E3"
             },
             "line": {
              "color": "white"
             }
            },
            "type": "table"
           }
          ]
         },
         "layout": {
          "annotationdefaults": {
           "arrowcolor": "#2a3f5f",
           "arrowhead": 0,
           "arrowwidth": 1
          },
          "autotypenumbers": "strict",
          "coloraxis": {
           "colorbar": {
            "outlinewidth": 0,
            "ticks": ""
           }
          },
          "colorscale": {
           "diverging": [
            [
             0,
             "#8e0152"
            ],
            [
             0.1,
             "#c51b7d"
            ],
            [
             0.2,
             "#de77ae"
            ],
            [
             0.3,
             "#f1b6da"
            ],
            [
             0.4,
             "#fde0ef"
            ],
            [
             0.5,
             "#f7f7f7"
            ],
            [
             0.6,
             "#e6f5d0"
            ],
            [
             0.7,
             "#b8e186"
            ],
            [
             0.8,
             "#7fbc41"
            ],
            [
             0.9,
             "#4d9221"
            ],
            [
             1,
             "#276419"
            ]
           ],
           "sequential": [
            [
             0,
             "#0d0887"
            ],
            [
             0.1111111111111111,
             "#46039f"
            ],
            [
             0.2222222222222222,
             "#7201a8"
            ],
            [
             0.3333333333333333,
             "#9c179e"
            ],
            [
             0.4444444444444444,
             "#bd3786"
            ],
            [
             0.5555555555555556,
             "#d8576b"
            ],
            [
             0.6666666666666666,
             "#ed7953"
            ],
            [
             0.7777777777777778,
             "#fb9f3a"
            ],
            [
             0.8888888888888888,
             "#fdca26"
            ],
            [
             1,
             "#f0f921"
            ]
           ],
           "sequentialminus": [
            [
             0,
             "#0d0887"
            ],
            [
             0.1111111111111111,
             "#46039f"
            ],
            [
             0.2222222222222222,
             "#7201a8"
            ],
            [
             0.3333333333333333,
             "#9c179e"
            ],
            [
             0.4444444444444444,
             "#bd3786"
            ],
            [
             0.5555555555555556,
             "#d8576b"
            ],
            [
             0.6666666666666666,
             "#ed7953"
            ],
            [
             0.7777777777777778,
             "#fb9f3a"
            ],
            [
             0.8888888888888888,
             "#fdca26"
            ],
            [
             1,
             "#f0f921"
            ]
           ]
          },
          "colorway": [
           "#636efa",
           "#EF553B",
           "#00cc96",
           "#ab63fa",
           "#FFA15A",
           "#19d3f3",
           "#FF6692",
           "#B6E880",
           "#FF97FF",
           "#FECB52"
          ],
          "font": {
           "color": "#2a3f5f"
          },
          "geo": {
           "bgcolor": "white",
           "lakecolor": "white",
           "landcolor": "#E5ECF6",
           "showlakes": true,
           "showland": true,
           "subunitcolor": "white"
          },
          "hoverlabel": {
           "align": "left"
          },
          "hovermode": "closest",
          "mapbox": {
           "style": "light"
          },
          "paper_bgcolor": "white",
          "plot_bgcolor": "#E5ECF6",
          "polar": {
           "angularaxis": {
            "gridcolor": "white",
            "linecolor": "white",
            "ticks": ""
           },
           "bgcolor": "#E5ECF6",
           "radialaxis": {
            "gridcolor": "white",
            "linecolor": "white",
            "ticks": ""
           }
          },
          "scene": {
           "xaxis": {
            "backgroundcolor": "#E5ECF6",
            "gridcolor": "white",
            "gridwidth": 2,
            "linecolor": "white",
            "showbackground": true,
            "ticks": "",
            "zerolinecolor": "white"
           },
           "yaxis": {
            "backgroundcolor": "#E5ECF6",
            "gridcolor": "white",
            "gridwidth": 2,
            "linecolor": "white",
            "showbackground": true,
            "ticks": "",
            "zerolinecolor": "white"
           },
           "zaxis": {
            "backgroundcolor": "#E5ECF6",
            "gridcolor": "white",
            "gridwidth": 2,
            "linecolor": "white",
            "showbackground": true,
            "ticks": "",
            "zerolinecolor": "white"
           }
          },
          "shapedefaults": {
           "line": {
            "color": "#2a3f5f"
           }
          },
          "ternary": {
           "aaxis": {
            "gridcolor": "white",
            "linecolor": "white",
            "ticks": ""
           },
           "baxis": {
            "gridcolor": "white",
            "linecolor": "white",
            "ticks": ""
           },
           "bgcolor": "#E5ECF6",
           "caxis": {
            "gridcolor": "white",
            "linecolor": "white",
            "ticks": ""
           }
          },
          "title": {
           "x": 0.05
          },
          "xaxis": {
           "automargin": true,
           "gridcolor": "white",
           "linecolor": "white",
           "ticks": "",
           "title": {
            "standoff": 15
           },
           "zerolinecolor": "white",
           "zerolinewidth": 2
          },
          "yaxis": {
           "automargin": true,
           "gridcolor": "white",
           "linecolor": "white",
           "ticks": "",
           "title": {
            "standoff": 15
           },
           "zerolinecolor": "white",
           "zerolinewidth": 2
          }
         }
        },
        "title": {
         "text": "Average Proportion of Comorbidities in the US by State"
        }
       }
      },
      "text/html": [
       "<div>                            <div id=\"d1b85a2a-dbb3-4c1d-a76d-6a0a70de84b6\" class=\"plotly-graph-div\" style=\"height:525px; width:100%;\"></div>            <script type=\"text/javascript\">                require([\"plotly\"], function(Plotly) {                    window.PLOTLYENV=window.PLOTLYENV || {};                                    if (document.getElementById(\"d1b85a2a-dbb3-4c1d-a76d-6a0a70de84b6\")) {                    Plotly.newPlot(                        \"d1b85a2a-dbb3-4c1d-a76d-6a0a70de84b6\",                        [{\"coloraxis\": \"coloraxis\", \"geo\": \"geo\", \"hovertemplate\": \"<b>%{hovertext}</b><br><br>StateAbbr=%{location}<br>TotalComorb=%{z}<extra></extra>\", \"hovertext\": [\"Alabama\", \"Alabama\", \"Alabama\", \"Alaska\", \"Alaska\", \"Alaska\", \"Arizona\", \"Arizona\", \"Arizona\", \"Arkansas\", \"Arkansas\", \"Arkansas\", \"California\", \"California\", \"California\", \"Colorado\", \"Colorado\", \"Colorado\", \"Connecticut\", \"Connecticut\", \"Connecticut\", \"Delaware\", \"Delaware\", \"Delaware\", \"District of Columbia\", \"District of Columbia\", \"District of Columbia\", \"Florida\", \"Florida\", \"Florida\", \"Georgia\", \"Georgia\", \"Georgia\", \"Guam\", \"Guam\", \"Guam\", \"Hawaii\", \"Hawaii\", \"Hawaii\", \"Idaho\", \"Idaho\", \"Idaho\", \"Illinois\", \"Illinois\", \"Illinois\", \"Indiana\", \"Indiana\", \"Indiana\", \"Iowa\", \"Iowa\", \"Iowa\", \"Kansas\", \"Kansas\", \"Kansas\", \"Kentucky\", \"Kentucky\", \"Kentucky\", \"Louisiana\", \"Louisiana\", \"Louisiana\", \"Maine\", \"Maine\", \"Maine\", \"Maryland\", \"Maryland\", \"Maryland\", \"Massachusetts\", \"Massachusetts\", \"Massachusetts\", \"Michigan\", \"Michigan\", \"Michigan\", \"Minnesota\", \"Minnesota\", \"Minnesota\", \"Mississippi\", \"Mississippi\", \"Mississippi\", \"Missouri\", \"Missouri\", \"Missouri\", \"Montana\", \"Montana\", \"Montana\", \"Nebraska\", \"Nebraska\", \"Nebraska\", \"Nevada\", \"Nevada\", \"Nevada\", \"New Hampshire\", \"New Hampshire\", \"New Hampshire\", \"New Jersey\", \"New Jersey\", \"New Mexico\", \"New Mexico\", \"New Mexico\", \"New York\", \"New York\", \"New York\", \"North Carolina\", \"North Carolina\", \"North Carolina\", \"North Dakota\", \"North Dakota\", \"North Dakota\", \"Ohio\", \"Ohio\", \"Ohio\", \"Oklahoma\", \"Oklahoma\", \"Oklahoma\", \"Oregon\", \"Oregon\", \"Oregon\", \"Pennsylvania\", \"Pennsylvania\", \"Pennsylvania\", \"Puerto Rico\", \"Puerto Rico\", \"Puerto Rico\", \"Rhode Island\", \"Rhode Island\", \"Rhode Island\", \"South Carolina\", \"South Carolina\", \"South Carolina\", \"South Dakota\", \"South Dakota\", \"South Dakota\", \"Tennessee\", \"Tennessee\", \"Tennessee\", \"Texas\", \"Texas\", \"Texas\", \"Utah\", \"Utah\", \"Utah\", \"Vermont\", \"Vermont\", \"Vermont\", \"Virginia\", \"Virginia\", \"Virginia\", \"Washington\", \"Washington\", \"Washington\", \"West Virginia\", \"West Virginia\", \"West Virginia\", \"Wisconsin\", \"Wisconsin\", \"Wisconsin\", \"Wyoming\", \"Wyoming\", \"Wyoming\"], \"locationmode\": \"USA-states\", \"locations\": [\"AL\", \"AL\", \"AL\", \"AK\", \"AK\", \"AK\", \"AZ\", \"AZ\", \"AZ\", \"AR\", \"AR\", \"AR\", \"CA\", \"CA\", \"CA\", \"CO\", \"CO\", \"CO\", \"CT\", \"CT\", \"CT\", \"DE\", \"DE\", \"DE\", \"DC\", \"DC\", \"DC\", \"FL\", \"FL\", \"FL\", \"GA\", \"GA\", \"GA\", \"GU\", \"GU\", \"GU\", \"HI\", \"HI\", \"HI\", \"ID\", \"ID\", \"ID\", \"IL\", \"IL\", \"IL\", \"IN\", \"IN\", \"IN\", \"IA\", \"IA\", \"IA\", \"KS\", \"KS\", \"KS\", \"KY\", \"KY\", \"KY\", \"LA\", \"LA\", \"LA\", \"ME\", \"ME\", \"ME\", \"MD\", \"MD\", \"MD\", \"MA\", \"MA\", \"MA\", \"MI\", \"MI\", \"MI\", \"MN\", \"MN\", \"MN\", \"MS\", \"MS\", \"MS\", \"MO\", \"MO\", \"MO\", \"MT\", \"MT\", \"MT\", \"NE\", \"NE\", \"NE\", \"NV\", \"NV\", \"NV\", \"NH\", \"NH\", \"NH\", \"NJ\", \"NJ\", \"NM\", \"NM\", \"NM\", \"NY\", \"NY\", \"NY\", \"NC\", \"NC\", \"NC\", \"ND\", \"ND\", \"ND\", \"OH\", \"OH\", \"OH\", \"OK\", \"OK\", \"OK\", \"OR\", \"OR\", \"OR\", \"PA\", \"PA\", \"PA\", \"PR\", \"PR\", \"PR\", \"RI\", \"RI\", \"RI\", \"SC\", \"SC\", \"SC\", \"SD\", \"SD\", \"SD\", \"TN\", \"TN\", \"TN\", \"TX\", \"TX\", \"TX\", \"UT\", \"UT\", \"UT\", \"VT\", \"VT\", \"VT\", \"VA\", \"VA\", \"VA\", \"WA\", \"WA\", \"WA\", \"WV\", \"WV\", \"WV\", \"WI\", \"WI\", \"WI\", \"WY\", \"WY\", \"WY\"], \"name\": \"\", \"type\": \"choropleth\", \"z\": [0.8098904352976014, 0.8172873145625189, 0.7877197958026092, 0.5285669684670621, 0.5823060188542422, 0.5448438024857238, 0.6433963481514936, 0.6508839164297193, 0.6629012414718711, 0.8087185268695979, 0.8029850746268656, 0.826833364433663, 0.5396452233383201, 0.5223592583270409, 0.5139068285542064, 0.5162211793511529, 0.506461400157321, 0.5307502414940432, 0.6034189648658859, 0.5904379493883649, 0.5706646294881589, 0.6709350084561488, 0.6560290464360787, 0.6738516807800873, 0.5356773526370218, 0.6274732772344781, 0.6238567073170732, 0.6960424316605467, 0.6914446922975988, 0.7197947992216522, 0.6312747688243064, 0.6280494357872112, 0.6849333695947784, 0.4403183023872679, 0.46897810218978103, 0.4546578730420445, 0.5126386381222595, 0.5251234021009998, 0.5225143154606976, 0.6270944013077238, 0.6228354978354979, 0.6423090975520643, 0.6032461677186655, 0.5893665158371041, 0.5727503628447025, 0.7359895870995734, 0.7494742376445847, 0.7171126602203732, 0.6041044291466424, 0.5423468828749863, 0.552483933489748, 0.6222588472279449, 0.6529292182591019, 0.6159394792399718, 0.8046748437861606, 0.8341132428638278, 0.8199147228492601, 0.7217716781035558, 0.7190243902439024, 0.7072912250953794, 0.724411886091622, 0.7196244644973111, 0.7518684603886397, 0.6499116867824551, 0.6445913598540978, 0.6426890177392502, 0.6142939814814815, 0.5582546108861899, 0.5761221058077868, 0.7123702819358986, 0.6917264096105405, 0.7037459593078532, 0.5360631763673589, 0.5193643319599764, 0.5607825471394555, 0.7462568951930654, 0.7769981174054424, 0.7545844713226687, 0.7355611103802131, 0.7575028085379554, 0.7382256297918949, 0.6224852071005917, 0.6689788053949903, 0.6468052347959969, 0.5910749185667753, 0.5772857728577285, 0.5670804713592539, 0.6365568544102019, 0.5915580384854128, 0.5926592299388269, 0.7014432272648236, 0.6770088896635872, 0.6502732240437158, 0.6133629149244816, 0.5268608414239482, 0.6596818598959927, 0.6179055563831372, 0.6133891213389121, 0.5774348926442975, 0.6397796851846674, 0.6172006745362564, 0.646053702196908, 0.672869528441531, 0.6699323536272451, 0.5788043478260869, 0.6090359302739239, 0.577340079508493, 0.7438359508503539, 0.7275718874872679, 0.7754137115839244, 0.76785176257909, 0.7553778793070627, 0.7419100236779794, 0.6476722532588455, 0.7098890010090817, 0.6531413612565445, 0.6335982879853256, 0.6470304200869146, 0.6289736603088102, 0.6519509476031216, 0.652488127193888, 0.6213527851458885, 0.7137784090909091, 0.7023363652577136, 0.6970540098199672, 0.7315887189461586, 0.7290417781056903, 0.7120067170445005, 0.6078151739874501, 0.585814606741573, 0.5748114630467571, 0.7793941468423755, 0.8156976744186046, 0.8091957705863505, 0.6408812729498164, 0.6451814210573237, 0.6634138407741725, 0.5418983513803531, 0.5775821262898798, 0.5743724559023067, 0.6511663597298957, 0.6480745721271394, 0.636053894997677, 0.6533748701973001, 0.6167038077705649, 0.6438906752411575, 0.6544920551246329, 0.6671493902439024, 0.6673593473408759, 0.8894371345029239, 0.8891157851745967, 0.8954914167138276, 0.5648881239242685, 0.5840672538030425, 0.5966471419915169, 0.6278288146986332, 0.5972658000896459, 0.6079913606911447]}],                        {\"coloraxis\": {\"colorbar\": {\"title\": {\"text\": \"TotalComorb\"}}, \"colorscale\": [[0.0, \"#30123b\"], [0.07142857142857142, \"#4145ab\"], [0.14285714285714285, \"#4675ed\"], [0.21428571428571427, \"#39a2fc\"], [0.2857142857142857, \"#1bcfd4\"], [0.35714285714285715, \"#24eca6\"], [0.42857142857142855, \"#61fc6c\"], [0.5, \"#a4fc3b\"], [0.5714285714285714, \"#d1e834\"], [0.6428571428571429, \"#f3c63a\"], [0.7142857142857143, \"#fe9b2d\"], [0.7857142857142857, \"#f36315\"], [0.8571428571428571, \"#d93806\"], [0.9285714285714286, \"#b11901\"], [1.0, \"#7a0402\"]]}, \"geo\": {\"center\": {}, \"domain\": {\"x\": [0.0, 1.0], \"y\": [0.0, 1.0]}, \"scope\": \"usa\"}, \"legend\": {\"tracegroupgap\": 0}, \"margin\": {\"t\": 60}, \"template\": {\"data\": {\"bar\": [{\"error_x\": {\"color\": \"#2a3f5f\"}, \"error_y\": {\"color\": \"#2a3f5f\"}, \"marker\": {\"line\": {\"color\": \"#E5ECF6\", \"width\": 0.5}}, \"type\": \"bar\"}], \"barpolar\": [{\"marker\": {\"line\": {\"color\": \"#E5ECF6\", \"width\": 0.5}}, \"type\": \"barpolar\"}], \"carpet\": [{\"aaxis\": {\"endlinecolor\": \"#2a3f5f\", \"gridcolor\": \"white\", \"linecolor\": \"white\", \"minorgridcolor\": \"white\", \"startlinecolor\": \"#2a3f5f\"}, \"baxis\": {\"endlinecolor\": \"#2a3f5f\", \"gridcolor\": \"white\", \"linecolor\": \"white\", \"minorgridcolor\": \"white\", \"startlinecolor\": \"#2a3f5f\"}, \"type\": \"carpet\"}], \"choropleth\": [{\"colorbar\": {\"outlinewidth\": 0, \"ticks\": \"\"}, \"type\": \"choropleth\"}], \"contour\": [{\"colorbar\": {\"outlinewidth\": 0, \"ticks\": \"\"}, \"colorscale\": [[0.0, \"#0d0887\"], [0.1111111111111111, \"#46039f\"], [0.2222222222222222, \"#7201a8\"], [0.3333333333333333, \"#9c179e\"], [0.4444444444444444, \"#bd3786\"], [0.5555555555555556, \"#d8576b\"], [0.6666666666666666, \"#ed7953\"], [0.7777777777777778, \"#fb9f3a\"], [0.8888888888888888, \"#fdca26\"], [1.0, \"#f0f921\"]], \"type\": \"contour\"}], \"contourcarpet\": [{\"colorbar\": {\"outlinewidth\": 0, \"ticks\": \"\"}, \"type\": \"contourcarpet\"}], \"heatmap\": [{\"colorbar\": {\"outlinewidth\": 0, \"ticks\": \"\"}, \"colorscale\": [[0.0, \"#0d0887\"], [0.1111111111111111, \"#46039f\"], [0.2222222222222222, \"#7201a8\"], [0.3333333333333333, \"#9c179e\"], [0.4444444444444444, \"#bd3786\"], [0.5555555555555556, \"#d8576b\"], [0.6666666666666666, \"#ed7953\"], [0.7777777777777778, \"#fb9f3a\"], [0.8888888888888888, \"#fdca26\"], [1.0, \"#f0f921\"]], \"type\": \"heatmap\"}], \"heatmapgl\": [{\"colorbar\": {\"outlinewidth\": 0, \"ticks\": \"\"}, \"colorscale\": [[0.0, \"#0d0887\"], [0.1111111111111111, \"#46039f\"], [0.2222222222222222, \"#7201a8\"], [0.3333333333333333, \"#9c179e\"], [0.4444444444444444, \"#bd3786\"], [0.5555555555555556, \"#d8576b\"], [0.6666666666666666, \"#ed7953\"], [0.7777777777777778, \"#fb9f3a\"], [0.8888888888888888, \"#fdca26\"], [1.0, \"#f0f921\"]], \"type\": \"heatmapgl\"}], \"histogram\": [{\"marker\": {\"colorbar\": {\"outlinewidth\": 0, \"ticks\": \"\"}}, \"type\": \"histogram\"}], \"histogram2d\": [{\"colorbar\": {\"outlinewidth\": 0, \"ticks\": \"\"}, \"colorscale\": [[0.0, \"#0d0887\"], [0.1111111111111111, \"#46039f\"], [0.2222222222222222, \"#7201a8\"], [0.3333333333333333, \"#9c179e\"], [0.4444444444444444, \"#bd3786\"], [0.5555555555555556, \"#d8576b\"], [0.6666666666666666, \"#ed7953\"], [0.7777777777777778, \"#fb9f3a\"], [0.8888888888888888, \"#fdca26\"], [1.0, \"#f0f921\"]], \"type\": \"histogram2d\"}], \"histogram2dcontour\": [{\"colorbar\": {\"outlinewidth\": 0, \"ticks\": \"\"}, \"colorscale\": [[0.0, \"#0d0887\"], [0.1111111111111111, \"#46039f\"], [0.2222222222222222, \"#7201a8\"], [0.3333333333333333, \"#9c179e\"], [0.4444444444444444, \"#bd3786\"], [0.5555555555555556, \"#d8576b\"], [0.6666666666666666, \"#ed7953\"], [0.7777777777777778, \"#fb9f3a\"], [0.8888888888888888, \"#fdca26\"], [1.0, \"#f0f921\"]], \"type\": \"histogram2dcontour\"}], \"mesh3d\": [{\"colorbar\": {\"outlinewidth\": 0, \"ticks\": \"\"}, \"type\": \"mesh3d\"}], \"parcoords\": [{\"line\": {\"colorbar\": {\"outlinewidth\": 0, \"ticks\": \"\"}}, \"type\": \"parcoords\"}], \"pie\": [{\"automargin\": true, \"type\": \"pie\"}], \"scatter\": [{\"marker\": {\"colorbar\": {\"outlinewidth\": 0, \"ticks\": \"\"}}, \"type\": \"scatter\"}], \"scatter3d\": [{\"line\": {\"colorbar\": {\"outlinewidth\": 0, \"ticks\": \"\"}}, \"marker\": {\"colorbar\": {\"outlinewidth\": 0, \"ticks\": \"\"}}, \"type\": \"scatter3d\"}], \"scattercarpet\": [{\"marker\": {\"colorbar\": {\"outlinewidth\": 0, \"ticks\": \"\"}}, \"type\": \"scattercarpet\"}], \"scattergeo\": [{\"marker\": {\"colorbar\": {\"outlinewidth\": 0, \"ticks\": \"\"}}, \"type\": \"scattergeo\"}], \"scattergl\": [{\"marker\": {\"colorbar\": {\"outlinewidth\": 0, \"ticks\": \"\"}}, \"type\": \"scattergl\"}], \"scattermapbox\": [{\"marker\": {\"colorbar\": {\"outlinewidth\": 0, \"ticks\": \"\"}}, \"type\": \"scattermapbox\"}], \"scatterpolar\": [{\"marker\": {\"colorbar\": {\"outlinewidth\": 0, \"ticks\": \"\"}}, \"type\": \"scatterpolar\"}], \"scatterpolargl\": [{\"marker\": {\"colorbar\": {\"outlinewidth\": 0, \"ticks\": \"\"}}, \"type\": \"scatterpolargl\"}], \"scatterternary\": [{\"marker\": {\"colorbar\": {\"outlinewidth\": 0, \"ticks\": \"\"}}, \"type\": \"scatterternary\"}], \"surface\": [{\"colorbar\": {\"outlinewidth\": 0, \"ticks\": \"\"}, \"colorscale\": [[0.0, \"#0d0887\"], [0.1111111111111111, \"#46039f\"], [0.2222222222222222, \"#7201a8\"], [0.3333333333333333, \"#9c179e\"], [0.4444444444444444, \"#bd3786\"], [0.5555555555555556, \"#d8576b\"], [0.6666666666666666, \"#ed7953\"], [0.7777777777777778, \"#fb9f3a\"], [0.8888888888888888, \"#fdca26\"], [1.0, \"#f0f921\"]], \"type\": \"surface\"}], \"table\": [{\"cells\": {\"fill\": {\"color\": \"#EBF0F8\"}, \"line\": {\"color\": \"white\"}}, \"header\": {\"fill\": {\"color\": \"#C8D4E3\"}, \"line\": {\"color\": \"white\"}}, \"type\": \"table\"}]}, \"layout\": {\"annotationdefaults\": {\"arrowcolor\": \"#2a3f5f\", \"arrowhead\": 0, \"arrowwidth\": 1}, \"autotypenumbers\": \"strict\", \"coloraxis\": {\"colorbar\": {\"outlinewidth\": 0, \"ticks\": \"\"}}, \"colorscale\": {\"diverging\": [[0, \"#8e0152\"], [0.1, \"#c51b7d\"], [0.2, \"#de77ae\"], [0.3, \"#f1b6da\"], [0.4, \"#fde0ef\"], [0.5, \"#f7f7f7\"], [0.6, \"#e6f5d0\"], [0.7, \"#b8e186\"], [0.8, \"#7fbc41\"], [0.9, \"#4d9221\"], [1, \"#276419\"]], \"sequential\": [[0.0, \"#0d0887\"], [0.1111111111111111, \"#46039f\"], [0.2222222222222222, \"#7201a8\"], [0.3333333333333333, \"#9c179e\"], [0.4444444444444444, \"#bd3786\"], [0.5555555555555556, \"#d8576b\"], [0.6666666666666666, \"#ed7953\"], [0.7777777777777778, \"#fb9f3a\"], [0.8888888888888888, \"#fdca26\"], [1.0, \"#f0f921\"]], \"sequentialminus\": [[0.0, \"#0d0887\"], [0.1111111111111111, \"#46039f\"], [0.2222222222222222, \"#7201a8\"], [0.3333333333333333, \"#9c179e\"], [0.4444444444444444, \"#bd3786\"], [0.5555555555555556, \"#d8576b\"], [0.6666666666666666, \"#ed7953\"], [0.7777777777777778, \"#fb9f3a\"], [0.8888888888888888, \"#fdca26\"], [1.0, \"#f0f921\"]]}, \"colorway\": [\"#636efa\", \"#EF553B\", \"#00cc96\", \"#ab63fa\", \"#FFA15A\", \"#19d3f3\", \"#FF6692\", \"#B6E880\", \"#FF97FF\", \"#FECB52\"], \"font\": {\"color\": \"#2a3f5f\"}, \"geo\": {\"bgcolor\": \"white\", \"lakecolor\": \"white\", \"landcolor\": \"#E5ECF6\", \"showlakes\": true, \"showland\": true, \"subunitcolor\": \"white\"}, \"hoverlabel\": {\"align\": \"left\"}, \"hovermode\": \"closest\", \"mapbox\": {\"style\": \"light\"}, \"paper_bgcolor\": \"white\", \"plot_bgcolor\": \"#E5ECF6\", \"polar\": {\"angularaxis\": {\"gridcolor\": \"white\", \"linecolor\": \"white\", \"ticks\": \"\"}, \"bgcolor\": \"#E5ECF6\", \"radialaxis\": {\"gridcolor\": \"white\", \"linecolor\": \"white\", \"ticks\": \"\"}}, \"scene\": {\"xaxis\": {\"backgroundcolor\": \"#E5ECF6\", \"gridcolor\": \"white\", \"gridwidth\": 2, \"linecolor\": \"white\", \"showbackground\": true, \"ticks\": \"\", \"zerolinecolor\": \"white\"}, \"yaxis\": {\"backgroundcolor\": \"#E5ECF6\", \"gridcolor\": \"white\", \"gridwidth\": 2, \"linecolor\": \"white\", \"showbackground\": true, \"ticks\": \"\", \"zerolinecolor\": \"white\"}, \"zaxis\": {\"backgroundcolor\": \"#E5ECF6\", \"gridcolor\": \"white\", \"gridwidth\": 2, \"linecolor\": \"white\", \"showbackground\": true, \"ticks\": \"\", \"zerolinecolor\": \"white\"}}, \"shapedefaults\": {\"line\": {\"color\": \"#2a3f5f\"}}, \"ternary\": {\"aaxis\": {\"gridcolor\": \"white\", \"linecolor\": \"white\", \"ticks\": \"\"}, \"baxis\": {\"gridcolor\": \"white\", \"linecolor\": \"white\", \"ticks\": \"\"}, \"bgcolor\": \"#E5ECF6\", \"caxis\": {\"gridcolor\": \"white\", \"linecolor\": \"white\", \"ticks\": \"\"}}, \"title\": {\"x\": 0.05}, \"xaxis\": {\"automargin\": true, \"gridcolor\": \"white\", \"linecolor\": \"white\", \"ticks\": \"\", \"title\": {\"standoff\": 15}, \"zerolinecolor\": \"white\", \"zerolinewidth\": 2}, \"yaxis\": {\"automargin\": true, \"gridcolor\": \"white\", \"linecolor\": \"white\", \"ticks\": \"\", \"title\": {\"standoff\": 15}, \"zerolinecolor\": \"white\", \"zerolinewidth\": 2}}}, \"title\": {\"text\": \"Average Proportion of Comorbidities in the US by State\"}},                        {\"responsive\": true}                    ).then(function(){\n",
       "                            \n",
       "var gd = document.getElementById('d1b85a2a-dbb3-4c1d-a76d-6a0a70de84b6');\n",
       "var x = new MutationObserver(function (mutations, observer) {{\n",
       "        var display = window.getComputedStyle(gd).display;\n",
       "        if (!display || display === 'none') {{\n",
       "            console.log([gd, 'removed!']);\n",
       "            Plotly.purge(gd);\n",
       "            observer.disconnect();\n",
       "        }}\n",
       "}});\n",
       "\n",
       "// Listen for the removal of the full notebook cells\n",
       "var notebookContainer = gd.closest('#notebook-container');\n",
       "if (notebookContainer) {{\n",
       "    x.observe(notebookContainer, {childList: true});\n",
       "}}\n",
       "\n",
       "// Listen for the clearing of the current output cell\n",
       "var outputEl = gd.closest('.output');\n",
       "if (outputEl) {{\n",
       "    x.observe(outputEl, {childList: true});\n",
       "}}\n",
       "\n",
       "                        })                };                });            </script>        </div>"
      ]
     },
     "metadata": {},
     "output_type": "display_data"
    }
   ],
   "source": [
    "# Thank you to Rachel for this code. :)\n",
    "# NOTE: New Jersey only has data for 2 out of the 3 years - 2017 & 2018\n",
    "import plotly.express as px\n",
    "from textwrap import wrap\n",
    "\n",
    "named_colorscales = px.colors.named_colorscales()\n",
    "#print(\"\\n\".join(wrap(\"\".join('{:<12}'.format(c) for c in named_colorscales), 96)))\n",
    "\n",
    "fig = px.choropleth(mapme,  # Input Pandas DataFrame\n",
    "                    locations = \"StateAbbr\",  # DataFrame column with locations\n",
    "                    color = \"TotalComorb\",  # DataFrame column with color values\n",
    "                    color_continuous_scale = 'turbo',\n",
    "                    hover_name = \"StateName\", # DataFrame column hover info\n",
    "                    locationmode = 'USA-states') # Set to plot as US States\n",
    "fig.update_layout(\n",
    "    title_text = 'Average Proportion of Comorbidities in the US by State', # Create a Title\n",
    "    geo_scope ='usa',  # Plot only the USA instead of globe\n",
    ")\n",
    "fig.show()  "
   ]
  },
  {
   "cell_type": "code",
   "execution_count": 144,
   "metadata": {},
   "outputs": [],
   "source": [
    "# Removed weighting - Let's look at BMI, how similar are they?\n",
    "map_df_dup = brfss.copy()\n",
    "map_df_dup['_LLCPWT2'] = 1\n",
    "mapme = map_df_dup.groupby(['L_STATENM','L_STATEAB','YEAR']).apply(lambda dfx: (dfx[\"_BMI5CAT\"] * dfx[\"_LLCPWT2\"]).sum() / dfx[\"_LLCPWT2\"].sum()).reset_index()\n",
    "mapme = mapme.rename(columns = {'L_STATENM':'StateName', 'L_STATEAB':'StateAbbr', 'YEAR':'Year', 0:'BMI_Prop'})\n",
    "#mapme"
   ]
  },
  {
   "cell_type": "code",
   "execution_count": 143,
   "metadata": {},
   "outputs": [
    {
     "data": {
      "application/vnd.plotly.v1+json": {
       "config": {
        "plotlyServerURL": "https://plot.ly"
       },
       "data": [
        {
         "coloraxis": "coloraxis",
         "geo": "geo",
         "hovertemplate": "<b>%{hovertext}</b><br><br>StateAbbr=%{location}<br>BMI_Prop=%{z}<extra></extra>",
         "hovertext": [
          "Alabama",
          "Alabama",
          "Alabama",
          "Alaska",
          "Alaska",
          "Alaska",
          "Arizona",
          "Arizona",
          "Arizona",
          "Arkansas",
          "Arkansas",
          "Arkansas",
          "California",
          "California",
          "California",
          "Colorado",
          "Colorado",
          "Colorado",
          "Connecticut",
          "Connecticut",
          "Connecticut",
          "Delaware",
          "Delaware",
          "Delaware",
          "District of Columbia",
          "District of Columbia",
          "District of Columbia",
          "Florida",
          "Florida",
          "Florida",
          "Georgia",
          "Georgia",
          "Georgia",
          "Guam",
          "Guam",
          "Guam",
          "Hawaii",
          "Hawaii",
          "Hawaii",
          "Idaho",
          "Idaho",
          "Idaho",
          "Illinois",
          "Illinois",
          "Illinois",
          "Indiana",
          "Indiana",
          "Indiana",
          "Iowa",
          "Iowa",
          "Iowa",
          "Kansas",
          "Kansas",
          "Kansas",
          "Kentucky",
          "Kentucky",
          "Kentucky",
          "Louisiana",
          "Louisiana",
          "Louisiana",
          "Maine",
          "Maine",
          "Maine",
          "Maryland",
          "Maryland",
          "Maryland",
          "Massachusetts",
          "Massachusetts",
          "Massachusetts",
          "Michigan",
          "Michigan",
          "Michigan",
          "Minnesota",
          "Minnesota",
          "Minnesota",
          "Mississippi",
          "Mississippi",
          "Mississippi",
          "Missouri",
          "Missouri",
          "Missouri",
          "Montana",
          "Montana",
          "Montana",
          "Nebraska",
          "Nebraska",
          "Nebraska",
          "Nevada",
          "Nevada",
          "Nevada",
          "New Hampshire",
          "New Hampshire",
          "New Hampshire",
          "New Jersey",
          "New Jersey",
          "New Mexico",
          "New Mexico",
          "New Mexico",
          "New York",
          "New York",
          "New York",
          "North Carolina",
          "North Carolina",
          "North Carolina",
          "North Dakota",
          "North Dakota",
          "North Dakota",
          "Ohio",
          "Ohio",
          "Ohio",
          "Oklahoma",
          "Oklahoma",
          "Oklahoma",
          "Oregon",
          "Oregon",
          "Oregon",
          "Pennsylvania",
          "Pennsylvania",
          "Pennsylvania",
          "Puerto Rico",
          "Puerto Rico",
          "Puerto Rico",
          "Rhode Island",
          "Rhode Island",
          "Rhode Island",
          "South Carolina",
          "South Carolina",
          "South Carolina",
          "South Dakota",
          "South Dakota",
          "South Dakota",
          "Tennessee",
          "Tennessee",
          "Tennessee",
          "Texas",
          "Texas",
          "Texas",
          "Utah",
          "Utah",
          "Utah",
          "Vermont",
          "Vermont",
          "Vermont",
          "Virginia",
          "Virginia",
          "Virginia",
          "Washington",
          "Washington",
          "Washington",
          "West Virginia",
          "West Virginia",
          "West Virginia",
          "Wisconsin",
          "Wisconsin",
          "Wisconsin",
          "Wyoming",
          "Wyoming",
          "Wyoming"
         ],
         "locationmode": "USA-states",
         "locations": [
          "AL",
          "AL",
          "AL",
          "AK",
          "AK",
          "AK",
          "AZ",
          "AZ",
          "AZ",
          "AR",
          "AR",
          "AR",
          "CA",
          "CA",
          "CA",
          "CO",
          "CO",
          "CO",
          "CT",
          "CT",
          "CT",
          "DE",
          "DE",
          "DE",
          "DC",
          "DC",
          "DC",
          "FL",
          "FL",
          "FL",
          "GA",
          "GA",
          "GA",
          "GU",
          "GU",
          "GU",
          "HI",
          "HI",
          "HI",
          "ID",
          "ID",
          "ID",
          "IL",
          "IL",
          "IL",
          "IN",
          "IN",
          "IN",
          "IA",
          "IA",
          "IA",
          "KS",
          "KS",
          "KS",
          "KY",
          "KY",
          "KY",
          "LA",
          "LA",
          "LA",
          "ME",
          "ME",
          "ME",
          "MD",
          "MD",
          "MD",
          "MA",
          "MA",
          "MA",
          "MI",
          "MI",
          "MI",
          "MN",
          "MN",
          "MN",
          "MS",
          "MS",
          "MS",
          "MO",
          "MO",
          "MO",
          "MT",
          "MT",
          "MT",
          "NE",
          "NE",
          "NE",
          "NV",
          "NV",
          "NV",
          "NH",
          "NH",
          "NH",
          "NJ",
          "NJ",
          "NM",
          "NM",
          "NM",
          "NY",
          "NY",
          "NY",
          "NC",
          "NC",
          "NC",
          "ND",
          "ND",
          "ND",
          "OH",
          "OH",
          "OH",
          "OK",
          "OK",
          "OK",
          "OR",
          "OR",
          "OR",
          "PA",
          "PA",
          "PA",
          "PR",
          "PR",
          "PR",
          "RI",
          "RI",
          "RI",
          "SC",
          "SC",
          "SC",
          "SD",
          "SD",
          "SD",
          "TN",
          "TN",
          "TN",
          "TX",
          "TX",
          "TX",
          "UT",
          "UT",
          "UT",
          "VT",
          "VT",
          "VT",
          "VA",
          "VA",
          "VA",
          "WA",
          "WA",
          "WA",
          "WV",
          "WV",
          "WV",
          "WI",
          "WI",
          "WI",
          "WY",
          "WY",
          "WY"
         ],
         "name": "",
         "type": "choropleth",
         "z": [
          2.8245484157536276,
          2.85028761731759,
          2.8194838343732274,
          2.85576022478926,
          2.777012327773749,
          2.713805844810212,
          2.664365442931802,
          2.698108542465076,
          2.6889609663348617,
          2.755730928222473,
          2.7990671641791045,
          2.783168501586117,
          2.5740542851036547,
          2.625304136253041,
          2.627830879187118,
          2.5945725362170986,
          2.6000674233059895,
          2.621659332403134,
          2.6007744616547033,
          2.640862825660659,
          2.6337444068536504,
          2.661754046871225,
          2.6802981081597554,
          2.65537593020272,
          2.605222337125129,
          2.619513304525813,
          2.591082317073171,
          2.660864046420962,
          2.6851463062590213,
          2.6278082434105783,
          2.6319352708058124,
          2.6343901128425578,
          2.635164536306772,
          2.8249336870026527,
          2.67639902676399,
          2.7712283594394065,
          2.637348465308228,
          2.663966586508037,
          2.6710046850598648,
          2.7827952595014303,
          2.7286255411255413,
          2.6497990500548045,
          2.8106402164111812,
          2.7822398190045248,
          2.7884615384615383,
          2.8380215489189387,
          2.715956887486856,
          2.730380031481898,
          2.839849331081959,
          2.815382929768818,
          2.770580434560849,
          2.722977612965252,
          2.7765662539271854,
          2.7516713581984518,
          2.839041888451747,
          2.8978708469817502,
          2.9043140205668423,
          2.8217924724474943,
          2.8245853658536584,
          2.7963119966087326,
          2.8198514238547254,
          2.748792270531401,
          2.7188956300008793,
          2.720488666470415,
          2.7365211444203807,
          2.7317297204202307,
          2.5911458333333335,
          2.6093867146498724,
          2.5023929633941275,
          2.7820736523096703,
          2.780662662274753,
          2.854535082715345,
          2.670546943550746,
          2.731606827545615,
          2.7042280713044597,
          2.854609929078014,
          2.9412972787951395,
          2.8991416309012874,
          2.766214971714248,
          2.7921681913015566,
          2.779435925520263,
          2.7315300084530856,
          2.7452793834296725,
          2.749345650500385,
          2.8455374592833875,
          2.86606532731994,
          2.8415149032705274,
          2.6726886291179595,
          2.729360645561763,
          2.7333573227779775,
          2.6409320118240305,
          2.6810179536343037,
          2.6374658469945356,
          2.6067923884290467,
          2.620711974110032,
          2.7153563780972774,
          2.75331446447192,
          2.739581589958159,
          2.6324597926361335,
          2.6496491179019768,
          2.596894322653176,
          2.72213181448332,
          2.719813914146754,
          2.7312806158152556,
          2.8498283752860414,
          2.8475631447883316,
          2.866100469822913,
          2.8184555293351776,
          2.85097547598527,
          2.8030437352245863,
          2.7902982826152454,
          2.806015610127546,
          2.783425414364641,
          2.6519553072625697,
          2.701984527413387,
          2.661976439790576,
          2.7885967594007948,
          2.763721229679704,
          2.782016348773842,
          2.825418060200669,
          2.8781746851125334,
          2.8703580901856762,
          2.690340909090909,
          2.6814695915819513,
          2.619148936170213,
          2.7980726726195737,
          2.8318730978511484,
          2.8019871256647075,
          2.8416999429549343,
          2.8262640449438203,
          2.819004524886878,
          2.7580010268697586,
          2.792441860465116,
          2.7766741429029156,
          2.755120359037128,
          2.725862530088259,
          2.723509799138001,
          2.623353819139596,
          2.6913755561866894,
          2.7113297150610585,
          2.651473296500921,
          2.6543398533007334,
          2.606008982499613,
          2.718068535825545,
          2.753996705745567,
          2.7145297427652735,
          2.6414639656600647,
          2.6525914634146344,
          2.6360347879627493,
          2.906980994152047,
          2.927710843373494,
          2.9364270892284474,
          2.7559380378657488,
          2.7788230584467573,
          2.8065037366188648,
          2.7333632086040778,
          2.742716270730614,
          2.7136069114470844
         ]
        }
       ],
       "layout": {
        "coloraxis": {
         "colorbar": {
          "title": {
           "text": "BMI_Prop"
          }
         },
         "colorscale": [
          [
           0,
           "#30123b"
          ],
          [
           0.07142857142857142,
           "#4145ab"
          ],
          [
           0.14285714285714285,
           "#4675ed"
          ],
          [
           0.21428571428571427,
           "#39a2fc"
          ],
          [
           0.2857142857142857,
           "#1bcfd4"
          ],
          [
           0.35714285714285715,
           "#24eca6"
          ],
          [
           0.42857142857142855,
           "#61fc6c"
          ],
          [
           0.5,
           "#a4fc3b"
          ],
          [
           0.5714285714285714,
           "#d1e834"
          ],
          [
           0.6428571428571429,
           "#f3c63a"
          ],
          [
           0.7142857142857143,
           "#fe9b2d"
          ],
          [
           0.7857142857142857,
           "#f36315"
          ],
          [
           0.8571428571428571,
           "#d93806"
          ],
          [
           0.9285714285714286,
           "#b11901"
          ],
          [
           1,
           "#7a0402"
          ]
         ]
        },
        "geo": {
         "center": {},
         "domain": {
          "x": [
           0,
           1
          ],
          "y": [
           0,
           1
          ]
         },
         "scope": "usa"
        },
        "legend": {
         "tracegroupgap": 0
        },
        "margin": {
         "t": 60
        },
        "template": {
         "data": {
          "bar": [
           {
            "error_x": {
             "color": "#2a3f5f"
            },
            "error_y": {
             "color": "#2a3f5f"
            },
            "marker": {
             "line": {
              "color": "#E5ECF6",
              "width": 0.5
             }
            },
            "type": "bar"
           }
          ],
          "barpolar": [
           {
            "marker": {
             "line": {
              "color": "#E5ECF6",
              "width": 0.5
             }
            },
            "type": "barpolar"
           }
          ],
          "carpet": [
           {
            "aaxis": {
             "endlinecolor": "#2a3f5f",
             "gridcolor": "white",
             "linecolor": "white",
             "minorgridcolor": "white",
             "startlinecolor": "#2a3f5f"
            },
            "baxis": {
             "endlinecolor": "#2a3f5f",
             "gridcolor": "white",
             "linecolor": "white",
             "minorgridcolor": "white",
             "startlinecolor": "#2a3f5f"
            },
            "type": "carpet"
           }
          ],
          "choropleth": [
           {
            "colorbar": {
             "outlinewidth": 0,
             "ticks": ""
            },
            "type": "choropleth"
           }
          ],
          "contour": [
           {
            "colorbar": {
             "outlinewidth": 0,
             "ticks": ""
            },
            "colorscale": [
             [
              0,
              "#0d0887"
             ],
             [
              0.1111111111111111,
              "#46039f"
             ],
             [
              0.2222222222222222,
              "#7201a8"
             ],
             [
              0.3333333333333333,
              "#9c179e"
             ],
             [
              0.4444444444444444,
              "#bd3786"
             ],
             [
              0.5555555555555556,
              "#d8576b"
             ],
             [
              0.6666666666666666,
              "#ed7953"
             ],
             [
              0.7777777777777778,
              "#fb9f3a"
             ],
             [
              0.8888888888888888,
              "#fdca26"
             ],
             [
              1,
              "#f0f921"
             ]
            ],
            "type": "contour"
           }
          ],
          "contourcarpet": [
           {
            "colorbar": {
             "outlinewidth": 0,
             "ticks": ""
            },
            "type": "contourcarpet"
           }
          ],
          "heatmap": [
           {
            "colorbar": {
             "outlinewidth": 0,
             "ticks": ""
            },
            "colorscale": [
             [
              0,
              "#0d0887"
             ],
             [
              0.1111111111111111,
              "#46039f"
             ],
             [
              0.2222222222222222,
              "#7201a8"
             ],
             [
              0.3333333333333333,
              "#9c179e"
             ],
             [
              0.4444444444444444,
              "#bd3786"
             ],
             [
              0.5555555555555556,
              "#d8576b"
             ],
             [
              0.6666666666666666,
              "#ed7953"
             ],
             [
              0.7777777777777778,
              "#fb9f3a"
             ],
             [
              0.8888888888888888,
              "#fdca26"
             ],
             [
              1,
              "#f0f921"
             ]
            ],
            "type": "heatmap"
           }
          ],
          "heatmapgl": [
           {
            "colorbar": {
             "outlinewidth": 0,
             "ticks": ""
            },
            "colorscale": [
             [
              0,
              "#0d0887"
             ],
             [
              0.1111111111111111,
              "#46039f"
             ],
             [
              0.2222222222222222,
              "#7201a8"
             ],
             [
              0.3333333333333333,
              "#9c179e"
             ],
             [
              0.4444444444444444,
              "#bd3786"
             ],
             [
              0.5555555555555556,
              "#d8576b"
             ],
             [
              0.6666666666666666,
              "#ed7953"
             ],
             [
              0.7777777777777778,
              "#fb9f3a"
             ],
             [
              0.8888888888888888,
              "#fdca26"
             ],
             [
              1,
              "#f0f921"
             ]
            ],
            "type": "heatmapgl"
           }
          ],
          "histogram": [
           {
            "marker": {
             "colorbar": {
              "outlinewidth": 0,
              "ticks": ""
             }
            },
            "type": "histogram"
           }
          ],
          "histogram2d": [
           {
            "colorbar": {
             "outlinewidth": 0,
             "ticks": ""
            },
            "colorscale": [
             [
              0,
              "#0d0887"
             ],
             [
              0.1111111111111111,
              "#46039f"
             ],
             [
              0.2222222222222222,
              "#7201a8"
             ],
             [
              0.3333333333333333,
              "#9c179e"
             ],
             [
              0.4444444444444444,
              "#bd3786"
             ],
             [
              0.5555555555555556,
              "#d8576b"
             ],
             [
              0.6666666666666666,
              "#ed7953"
             ],
             [
              0.7777777777777778,
              "#fb9f3a"
             ],
             [
              0.8888888888888888,
              "#fdca26"
             ],
             [
              1,
              "#f0f921"
             ]
            ],
            "type": "histogram2d"
           }
          ],
          "histogram2dcontour": [
           {
            "colorbar": {
             "outlinewidth": 0,
             "ticks": ""
            },
            "colorscale": [
             [
              0,
              "#0d0887"
             ],
             [
              0.1111111111111111,
              "#46039f"
             ],
             [
              0.2222222222222222,
              "#7201a8"
             ],
             [
              0.3333333333333333,
              "#9c179e"
             ],
             [
              0.4444444444444444,
              "#bd3786"
             ],
             [
              0.5555555555555556,
              "#d8576b"
             ],
             [
              0.6666666666666666,
              "#ed7953"
             ],
             [
              0.7777777777777778,
              "#fb9f3a"
             ],
             [
              0.8888888888888888,
              "#fdca26"
             ],
             [
              1,
              "#f0f921"
             ]
            ],
            "type": "histogram2dcontour"
           }
          ],
          "mesh3d": [
           {
            "colorbar": {
             "outlinewidth": 0,
             "ticks": ""
            },
            "type": "mesh3d"
           }
          ],
          "parcoords": [
           {
            "line": {
             "colorbar": {
              "outlinewidth": 0,
              "ticks": ""
             }
            },
            "type": "parcoords"
           }
          ],
          "pie": [
           {
            "automargin": true,
            "type": "pie"
           }
          ],
          "scatter": [
           {
            "marker": {
             "colorbar": {
              "outlinewidth": 0,
              "ticks": ""
             }
            },
            "type": "scatter"
           }
          ],
          "scatter3d": [
           {
            "line": {
             "colorbar": {
              "outlinewidth": 0,
              "ticks": ""
             }
            },
            "marker": {
             "colorbar": {
              "outlinewidth": 0,
              "ticks": ""
             }
            },
            "type": "scatter3d"
           }
          ],
          "scattercarpet": [
           {
            "marker": {
             "colorbar": {
              "outlinewidth": 0,
              "ticks": ""
             }
            },
            "type": "scattercarpet"
           }
          ],
          "scattergeo": [
           {
            "marker": {
             "colorbar": {
              "outlinewidth": 0,
              "ticks": ""
             }
            },
            "type": "scattergeo"
           }
          ],
          "scattergl": [
           {
            "marker": {
             "colorbar": {
              "outlinewidth": 0,
              "ticks": ""
             }
            },
            "type": "scattergl"
           }
          ],
          "scattermapbox": [
           {
            "marker": {
             "colorbar": {
              "outlinewidth": 0,
              "ticks": ""
             }
            },
            "type": "scattermapbox"
           }
          ],
          "scatterpolar": [
           {
            "marker": {
             "colorbar": {
              "outlinewidth": 0,
              "ticks": ""
             }
            },
            "type": "scatterpolar"
           }
          ],
          "scatterpolargl": [
           {
            "marker": {
             "colorbar": {
              "outlinewidth": 0,
              "ticks": ""
             }
            },
            "type": "scatterpolargl"
           }
          ],
          "scatterternary": [
           {
            "marker": {
             "colorbar": {
              "outlinewidth": 0,
              "ticks": ""
             }
            },
            "type": "scatterternary"
           }
          ],
          "surface": [
           {
            "colorbar": {
             "outlinewidth": 0,
             "ticks": ""
            },
            "colorscale": [
             [
              0,
              "#0d0887"
             ],
             [
              0.1111111111111111,
              "#46039f"
             ],
             [
              0.2222222222222222,
              "#7201a8"
             ],
             [
              0.3333333333333333,
              "#9c179e"
             ],
             [
              0.4444444444444444,
              "#bd3786"
             ],
             [
              0.5555555555555556,
              "#d8576b"
             ],
             [
              0.6666666666666666,
              "#ed7953"
             ],
             [
              0.7777777777777778,
              "#fb9f3a"
             ],
             [
              0.8888888888888888,
              "#fdca26"
             ],
             [
              1,
              "#f0f921"
             ]
            ],
            "type": "surface"
           }
          ],
          "table": [
           {
            "cells": {
             "fill": {
              "color": "#EBF0F8"
             },
             "line": {
              "color": "white"
             }
            },
            "header": {
             "fill": {
              "color": "#C8D4E3"
             },
             "line": {
              "color": "white"
             }
            },
            "type": "table"
           }
          ]
         },
         "layout": {
          "annotationdefaults": {
           "arrowcolor": "#2a3f5f",
           "arrowhead": 0,
           "arrowwidth": 1
          },
          "autotypenumbers": "strict",
          "coloraxis": {
           "colorbar": {
            "outlinewidth": 0,
            "ticks": ""
           }
          },
          "colorscale": {
           "diverging": [
            [
             0,
             "#8e0152"
            ],
            [
             0.1,
             "#c51b7d"
            ],
            [
             0.2,
             "#de77ae"
            ],
            [
             0.3,
             "#f1b6da"
            ],
            [
             0.4,
             "#fde0ef"
            ],
            [
             0.5,
             "#f7f7f7"
            ],
            [
             0.6,
             "#e6f5d0"
            ],
            [
             0.7,
             "#b8e186"
            ],
            [
             0.8,
             "#7fbc41"
            ],
            [
             0.9,
             "#4d9221"
            ],
            [
             1,
             "#276419"
            ]
           ],
           "sequential": [
            [
             0,
             "#0d0887"
            ],
            [
             0.1111111111111111,
             "#46039f"
            ],
            [
             0.2222222222222222,
             "#7201a8"
            ],
            [
             0.3333333333333333,
             "#9c179e"
            ],
            [
             0.4444444444444444,
             "#bd3786"
            ],
            [
             0.5555555555555556,
             "#d8576b"
            ],
            [
             0.6666666666666666,
             "#ed7953"
            ],
            [
             0.7777777777777778,
             "#fb9f3a"
            ],
            [
             0.8888888888888888,
             "#fdca26"
            ],
            [
             1,
             "#f0f921"
            ]
           ],
           "sequentialminus": [
            [
             0,
             "#0d0887"
            ],
            [
             0.1111111111111111,
             "#46039f"
            ],
            [
             0.2222222222222222,
             "#7201a8"
            ],
            [
             0.3333333333333333,
             "#9c179e"
            ],
            [
             0.4444444444444444,
             "#bd3786"
            ],
            [
             0.5555555555555556,
             "#d8576b"
            ],
            [
             0.6666666666666666,
             "#ed7953"
            ],
            [
             0.7777777777777778,
             "#fb9f3a"
            ],
            [
             0.8888888888888888,
             "#fdca26"
            ],
            [
             1,
             "#f0f921"
            ]
           ]
          },
          "colorway": [
           "#636efa",
           "#EF553B",
           "#00cc96",
           "#ab63fa",
           "#FFA15A",
           "#19d3f3",
           "#FF6692",
           "#B6E880",
           "#FF97FF",
           "#FECB52"
          ],
          "font": {
           "color": "#2a3f5f"
          },
          "geo": {
           "bgcolor": "white",
           "lakecolor": "white",
           "landcolor": "#E5ECF6",
           "showlakes": true,
           "showland": true,
           "subunitcolor": "white"
          },
          "hoverlabel": {
           "align": "left"
          },
          "hovermode": "closest",
          "mapbox": {
           "style": "light"
          },
          "paper_bgcolor": "white",
          "plot_bgcolor": "#E5ECF6",
          "polar": {
           "angularaxis": {
            "gridcolor": "white",
            "linecolor": "white",
            "ticks": ""
           },
           "bgcolor": "#E5ECF6",
           "radialaxis": {
            "gridcolor": "white",
            "linecolor": "white",
            "ticks": ""
           }
          },
          "scene": {
           "xaxis": {
            "backgroundcolor": "#E5ECF6",
            "gridcolor": "white",
            "gridwidth": 2,
            "linecolor": "white",
            "showbackground": true,
            "ticks": "",
            "zerolinecolor": "white"
           },
           "yaxis": {
            "backgroundcolor": "#E5ECF6",
            "gridcolor": "white",
            "gridwidth": 2,
            "linecolor": "white",
            "showbackground": true,
            "ticks": "",
            "zerolinecolor": "white"
           },
           "zaxis": {
            "backgroundcolor": "#E5ECF6",
            "gridcolor": "white",
            "gridwidth": 2,
            "linecolor": "white",
            "showbackground": true,
            "ticks": "",
            "zerolinecolor": "white"
           }
          },
          "shapedefaults": {
           "line": {
            "color": "#2a3f5f"
           }
          },
          "ternary": {
           "aaxis": {
            "gridcolor": "white",
            "linecolor": "white",
            "ticks": ""
           },
           "baxis": {
            "gridcolor": "white",
            "linecolor": "white",
            "ticks": ""
           },
           "bgcolor": "#E5ECF6",
           "caxis": {
            "gridcolor": "white",
            "linecolor": "white",
            "ticks": ""
           }
          },
          "title": {
           "x": 0.05
          },
          "xaxis": {
           "automargin": true,
           "gridcolor": "white",
           "linecolor": "white",
           "ticks": "",
           "title": {
            "standoff": 15
           },
           "zerolinecolor": "white",
           "zerolinewidth": 2
          },
          "yaxis": {
           "automargin": true,
           "gridcolor": "white",
           "linecolor": "white",
           "ticks": "",
           "title": {
            "standoff": 15
           },
           "zerolinecolor": "white",
           "zerolinewidth": 2
          }
         }
        },
        "title": {
         "text": "Average Proportion of BMI in the US by State"
        }
       }
      },
      "text/html": [
       "<div>                            <div id=\"070f34b2-1d0b-4f78-ad6d-696d1e9c1a7c\" class=\"plotly-graph-div\" style=\"height:525px; width:100%;\"></div>            <script type=\"text/javascript\">                require([\"plotly\"], function(Plotly) {                    window.PLOTLYENV=window.PLOTLYENV || {};                                    if (document.getElementById(\"070f34b2-1d0b-4f78-ad6d-696d1e9c1a7c\")) {                    Plotly.newPlot(                        \"070f34b2-1d0b-4f78-ad6d-696d1e9c1a7c\",                        [{\"coloraxis\": \"coloraxis\", \"geo\": \"geo\", \"hovertemplate\": \"<b>%{hovertext}</b><br><br>StateAbbr=%{location}<br>BMI_Prop=%{z}<extra></extra>\", \"hovertext\": [\"Alabama\", \"Alabama\", \"Alabama\", \"Alaska\", \"Alaska\", \"Alaska\", \"Arizona\", \"Arizona\", \"Arizona\", \"Arkansas\", \"Arkansas\", \"Arkansas\", \"California\", \"California\", \"California\", \"Colorado\", \"Colorado\", \"Colorado\", \"Connecticut\", \"Connecticut\", \"Connecticut\", \"Delaware\", \"Delaware\", \"Delaware\", \"District of Columbia\", \"District of Columbia\", \"District of Columbia\", \"Florida\", \"Florida\", \"Florida\", \"Georgia\", \"Georgia\", \"Georgia\", \"Guam\", \"Guam\", \"Guam\", \"Hawaii\", \"Hawaii\", \"Hawaii\", \"Idaho\", \"Idaho\", \"Idaho\", \"Illinois\", \"Illinois\", \"Illinois\", \"Indiana\", \"Indiana\", \"Indiana\", \"Iowa\", \"Iowa\", \"Iowa\", \"Kansas\", \"Kansas\", \"Kansas\", \"Kentucky\", \"Kentucky\", \"Kentucky\", \"Louisiana\", \"Louisiana\", \"Louisiana\", \"Maine\", \"Maine\", \"Maine\", \"Maryland\", \"Maryland\", \"Maryland\", \"Massachusetts\", \"Massachusetts\", \"Massachusetts\", \"Michigan\", \"Michigan\", \"Michigan\", \"Minnesota\", \"Minnesota\", \"Minnesota\", \"Mississippi\", \"Mississippi\", \"Mississippi\", \"Missouri\", \"Missouri\", \"Missouri\", \"Montana\", \"Montana\", \"Montana\", \"Nebraska\", \"Nebraska\", \"Nebraska\", \"Nevada\", \"Nevada\", \"Nevada\", \"New Hampshire\", \"New Hampshire\", \"New Hampshire\", \"New Jersey\", \"New Jersey\", \"New Mexico\", \"New Mexico\", \"New Mexico\", \"New York\", \"New York\", \"New York\", \"North Carolina\", \"North Carolina\", \"North Carolina\", \"North Dakota\", \"North Dakota\", \"North Dakota\", \"Ohio\", \"Ohio\", \"Ohio\", \"Oklahoma\", \"Oklahoma\", \"Oklahoma\", \"Oregon\", \"Oregon\", \"Oregon\", \"Pennsylvania\", \"Pennsylvania\", \"Pennsylvania\", \"Puerto Rico\", \"Puerto Rico\", \"Puerto Rico\", \"Rhode Island\", \"Rhode Island\", \"Rhode Island\", \"South Carolina\", \"South Carolina\", \"South Carolina\", \"South Dakota\", \"South Dakota\", \"South Dakota\", \"Tennessee\", \"Tennessee\", \"Tennessee\", \"Texas\", \"Texas\", \"Texas\", \"Utah\", \"Utah\", \"Utah\", \"Vermont\", \"Vermont\", \"Vermont\", \"Virginia\", \"Virginia\", \"Virginia\", \"Washington\", \"Washington\", \"Washington\", \"West Virginia\", \"West Virginia\", \"West Virginia\", \"Wisconsin\", \"Wisconsin\", \"Wisconsin\", \"Wyoming\", \"Wyoming\", \"Wyoming\"], \"locationmode\": \"USA-states\", \"locations\": [\"AL\", \"AL\", \"AL\", \"AK\", \"AK\", \"AK\", \"AZ\", \"AZ\", \"AZ\", \"AR\", \"AR\", \"AR\", \"CA\", \"CA\", \"CA\", \"CO\", \"CO\", \"CO\", \"CT\", \"CT\", \"CT\", \"DE\", \"DE\", \"DE\", \"DC\", \"DC\", \"DC\", \"FL\", \"FL\", \"FL\", \"GA\", \"GA\", \"GA\", \"GU\", \"GU\", \"GU\", \"HI\", \"HI\", \"HI\", \"ID\", \"ID\", \"ID\", \"IL\", \"IL\", \"IL\", \"IN\", \"IN\", \"IN\", \"IA\", \"IA\", \"IA\", \"KS\", \"KS\", \"KS\", \"KY\", \"KY\", \"KY\", \"LA\", \"LA\", \"LA\", \"ME\", \"ME\", \"ME\", \"MD\", \"MD\", \"MD\", \"MA\", \"MA\", \"MA\", \"MI\", \"MI\", \"MI\", \"MN\", \"MN\", \"MN\", \"MS\", \"MS\", \"MS\", \"MO\", \"MO\", \"MO\", \"MT\", \"MT\", \"MT\", \"NE\", \"NE\", \"NE\", \"NV\", \"NV\", \"NV\", \"NH\", \"NH\", \"NH\", \"NJ\", \"NJ\", \"NM\", \"NM\", \"NM\", \"NY\", \"NY\", \"NY\", \"NC\", \"NC\", \"NC\", \"ND\", \"ND\", \"ND\", \"OH\", \"OH\", \"OH\", \"OK\", \"OK\", \"OK\", \"OR\", \"OR\", \"OR\", \"PA\", \"PA\", \"PA\", \"PR\", \"PR\", \"PR\", \"RI\", \"RI\", \"RI\", \"SC\", \"SC\", \"SC\", \"SD\", \"SD\", \"SD\", \"TN\", \"TN\", \"TN\", \"TX\", \"TX\", \"TX\", \"UT\", \"UT\", \"UT\", \"VT\", \"VT\", \"VT\", \"VA\", \"VA\", \"VA\", \"WA\", \"WA\", \"WA\", \"WV\", \"WV\", \"WV\", \"WI\", \"WI\", \"WI\", \"WY\", \"WY\", \"WY\"], \"name\": \"\", \"type\": \"choropleth\", \"z\": [2.8245484157536276, 2.85028761731759, 2.8194838343732274, 2.85576022478926, 2.777012327773749, 2.713805844810212, 2.664365442931802, 2.698108542465076, 2.6889609663348617, 2.755730928222473, 2.7990671641791045, 2.783168501586117, 2.5740542851036547, 2.625304136253041, 2.627830879187118, 2.5945725362170986, 2.6000674233059895, 2.621659332403134, 2.6007744616547033, 2.640862825660659, 2.6337444068536504, 2.661754046871225, 2.6802981081597554, 2.65537593020272, 2.605222337125129, 2.619513304525813, 2.591082317073171, 2.660864046420962, 2.6851463062590213, 2.6278082434105783, 2.6319352708058124, 2.6343901128425578, 2.635164536306772, 2.8249336870026527, 2.67639902676399, 2.7712283594394065, 2.637348465308228, 2.663966586508037, 2.6710046850598648, 2.7827952595014303, 2.7286255411255413, 2.6497990500548045, 2.8106402164111812, 2.7822398190045248, 2.7884615384615383, 2.8380215489189387, 2.715956887486856, 2.730380031481898, 2.839849331081959, 2.815382929768818, 2.770580434560849, 2.722977612965252, 2.7765662539271854, 2.7516713581984518, 2.839041888451747, 2.8978708469817502, 2.9043140205668423, 2.8217924724474943, 2.8245853658536584, 2.7963119966087326, 2.8198514238547254, 2.748792270531401, 2.7188956300008793, 2.720488666470415, 2.7365211444203807, 2.7317297204202307, 2.5911458333333335, 2.6093867146498724, 2.5023929633941275, 2.7820736523096703, 2.780662662274753, 2.854535082715345, 2.670546943550746, 2.731606827545615, 2.7042280713044597, 2.854609929078014, 2.9412972787951395, 2.8991416309012874, 2.766214971714248, 2.7921681913015566, 2.779435925520263, 2.7315300084530856, 2.7452793834296725, 2.749345650500385, 2.8455374592833875, 2.86606532731994, 2.8415149032705274, 2.6726886291179595, 2.729360645561763, 2.7333573227779775, 2.6409320118240305, 2.6810179536343037, 2.6374658469945356, 2.6067923884290467, 2.620711974110032, 2.7153563780972774, 2.75331446447192, 2.739581589958159, 2.6324597926361335, 2.6496491179019768, 2.596894322653176, 2.72213181448332, 2.719813914146754, 2.7312806158152556, 2.8498283752860414, 2.8475631447883316, 2.866100469822913, 2.8184555293351776, 2.85097547598527, 2.8030437352245863, 2.7902982826152454, 2.806015610127546, 2.783425414364641, 2.6519553072625697, 2.701984527413387, 2.661976439790576, 2.7885967594007948, 2.763721229679704, 2.782016348773842, 2.825418060200669, 2.8781746851125334, 2.8703580901856762, 2.690340909090909, 2.6814695915819513, 2.619148936170213, 2.7980726726195737, 2.8318730978511484, 2.8019871256647075, 2.8416999429549343, 2.8262640449438203, 2.819004524886878, 2.7580010268697586, 2.792441860465116, 2.7766741429029156, 2.755120359037128, 2.725862530088259, 2.723509799138001, 2.623353819139596, 2.6913755561866894, 2.7113297150610585, 2.651473296500921, 2.6543398533007334, 2.606008982499613, 2.718068535825545, 2.753996705745567, 2.7145297427652735, 2.6414639656600647, 2.6525914634146344, 2.6360347879627493, 2.906980994152047, 2.927710843373494, 2.9364270892284474, 2.7559380378657488, 2.7788230584467573, 2.8065037366188648, 2.7333632086040778, 2.742716270730614, 2.7136069114470844]}],                        {\"coloraxis\": {\"colorbar\": {\"title\": {\"text\": \"BMI_Prop\"}}, \"colorscale\": [[0.0, \"#30123b\"], [0.07142857142857142, \"#4145ab\"], [0.14285714285714285, \"#4675ed\"], [0.21428571428571427, \"#39a2fc\"], [0.2857142857142857, \"#1bcfd4\"], [0.35714285714285715, \"#24eca6\"], [0.42857142857142855, \"#61fc6c\"], [0.5, \"#a4fc3b\"], [0.5714285714285714, \"#d1e834\"], [0.6428571428571429, \"#f3c63a\"], [0.7142857142857143, \"#fe9b2d\"], [0.7857142857142857, \"#f36315\"], [0.8571428571428571, \"#d93806\"], [0.9285714285714286, \"#b11901\"], [1.0, \"#7a0402\"]]}, \"geo\": {\"center\": {}, \"domain\": {\"x\": [0.0, 1.0], \"y\": [0.0, 1.0]}, \"scope\": \"usa\"}, \"legend\": {\"tracegroupgap\": 0}, \"margin\": {\"t\": 60}, \"template\": {\"data\": {\"bar\": [{\"error_x\": {\"color\": \"#2a3f5f\"}, \"error_y\": {\"color\": \"#2a3f5f\"}, \"marker\": {\"line\": {\"color\": \"#E5ECF6\", \"width\": 0.5}}, \"type\": \"bar\"}], \"barpolar\": [{\"marker\": {\"line\": {\"color\": \"#E5ECF6\", \"width\": 0.5}}, \"type\": \"barpolar\"}], \"carpet\": [{\"aaxis\": {\"endlinecolor\": \"#2a3f5f\", \"gridcolor\": \"white\", \"linecolor\": \"white\", \"minorgridcolor\": \"white\", \"startlinecolor\": \"#2a3f5f\"}, \"baxis\": {\"endlinecolor\": \"#2a3f5f\", \"gridcolor\": \"white\", \"linecolor\": \"white\", \"minorgridcolor\": \"white\", \"startlinecolor\": \"#2a3f5f\"}, \"type\": \"carpet\"}], \"choropleth\": [{\"colorbar\": {\"outlinewidth\": 0, \"ticks\": \"\"}, \"type\": \"choropleth\"}], \"contour\": [{\"colorbar\": {\"outlinewidth\": 0, \"ticks\": \"\"}, \"colorscale\": [[0.0, \"#0d0887\"], [0.1111111111111111, \"#46039f\"], [0.2222222222222222, \"#7201a8\"], [0.3333333333333333, \"#9c179e\"], [0.4444444444444444, \"#bd3786\"], [0.5555555555555556, \"#d8576b\"], [0.6666666666666666, \"#ed7953\"], [0.7777777777777778, \"#fb9f3a\"], [0.8888888888888888, \"#fdca26\"], [1.0, \"#f0f921\"]], \"type\": \"contour\"}], \"contourcarpet\": [{\"colorbar\": {\"outlinewidth\": 0, \"ticks\": \"\"}, \"type\": \"contourcarpet\"}], \"heatmap\": [{\"colorbar\": {\"outlinewidth\": 0, \"ticks\": \"\"}, \"colorscale\": [[0.0, \"#0d0887\"], [0.1111111111111111, \"#46039f\"], [0.2222222222222222, \"#7201a8\"], [0.3333333333333333, \"#9c179e\"], [0.4444444444444444, \"#bd3786\"], [0.5555555555555556, \"#d8576b\"], [0.6666666666666666, \"#ed7953\"], [0.7777777777777778, \"#fb9f3a\"], [0.8888888888888888, \"#fdca26\"], [1.0, \"#f0f921\"]], \"type\": \"heatmap\"}], \"heatmapgl\": [{\"colorbar\": {\"outlinewidth\": 0, \"ticks\": \"\"}, \"colorscale\": [[0.0, \"#0d0887\"], [0.1111111111111111, \"#46039f\"], [0.2222222222222222, \"#7201a8\"], [0.3333333333333333, \"#9c179e\"], [0.4444444444444444, \"#bd3786\"], [0.5555555555555556, \"#d8576b\"], [0.6666666666666666, \"#ed7953\"], [0.7777777777777778, \"#fb9f3a\"], [0.8888888888888888, \"#fdca26\"], [1.0, \"#f0f921\"]], \"type\": \"heatmapgl\"}], \"histogram\": [{\"marker\": {\"colorbar\": {\"outlinewidth\": 0, \"ticks\": \"\"}}, \"type\": \"histogram\"}], \"histogram2d\": [{\"colorbar\": {\"outlinewidth\": 0, \"ticks\": \"\"}, \"colorscale\": [[0.0, \"#0d0887\"], [0.1111111111111111, \"#46039f\"], [0.2222222222222222, \"#7201a8\"], [0.3333333333333333, \"#9c179e\"], [0.4444444444444444, \"#bd3786\"], [0.5555555555555556, \"#d8576b\"], [0.6666666666666666, \"#ed7953\"], [0.7777777777777778, \"#fb9f3a\"], [0.8888888888888888, \"#fdca26\"], [1.0, \"#f0f921\"]], \"type\": \"histogram2d\"}], \"histogram2dcontour\": [{\"colorbar\": {\"outlinewidth\": 0, \"ticks\": \"\"}, \"colorscale\": [[0.0, \"#0d0887\"], [0.1111111111111111, \"#46039f\"], [0.2222222222222222, \"#7201a8\"], [0.3333333333333333, \"#9c179e\"], [0.4444444444444444, \"#bd3786\"], [0.5555555555555556, \"#d8576b\"], [0.6666666666666666, \"#ed7953\"], [0.7777777777777778, \"#fb9f3a\"], [0.8888888888888888, \"#fdca26\"], [1.0, \"#f0f921\"]], \"type\": \"histogram2dcontour\"}], \"mesh3d\": [{\"colorbar\": {\"outlinewidth\": 0, \"ticks\": \"\"}, \"type\": \"mesh3d\"}], \"parcoords\": [{\"line\": {\"colorbar\": {\"outlinewidth\": 0, \"ticks\": \"\"}}, \"type\": \"parcoords\"}], \"pie\": [{\"automargin\": true, \"type\": \"pie\"}], \"scatter\": [{\"marker\": {\"colorbar\": {\"outlinewidth\": 0, \"ticks\": \"\"}}, \"type\": \"scatter\"}], \"scatter3d\": [{\"line\": {\"colorbar\": {\"outlinewidth\": 0, \"ticks\": \"\"}}, \"marker\": {\"colorbar\": {\"outlinewidth\": 0, \"ticks\": \"\"}}, \"type\": \"scatter3d\"}], \"scattercarpet\": [{\"marker\": {\"colorbar\": {\"outlinewidth\": 0, \"ticks\": \"\"}}, \"type\": \"scattercarpet\"}], \"scattergeo\": [{\"marker\": {\"colorbar\": {\"outlinewidth\": 0, \"ticks\": \"\"}}, \"type\": \"scattergeo\"}], \"scattergl\": [{\"marker\": {\"colorbar\": {\"outlinewidth\": 0, \"ticks\": \"\"}}, \"type\": \"scattergl\"}], \"scattermapbox\": [{\"marker\": {\"colorbar\": {\"outlinewidth\": 0, \"ticks\": \"\"}}, \"type\": \"scattermapbox\"}], \"scatterpolar\": [{\"marker\": {\"colorbar\": {\"outlinewidth\": 0, \"ticks\": \"\"}}, \"type\": \"scatterpolar\"}], \"scatterpolargl\": [{\"marker\": {\"colorbar\": {\"outlinewidth\": 0, \"ticks\": \"\"}}, \"type\": \"scatterpolargl\"}], \"scatterternary\": [{\"marker\": {\"colorbar\": {\"outlinewidth\": 0, \"ticks\": \"\"}}, \"type\": \"scatterternary\"}], \"surface\": [{\"colorbar\": {\"outlinewidth\": 0, \"ticks\": \"\"}, \"colorscale\": [[0.0, \"#0d0887\"], [0.1111111111111111, \"#46039f\"], [0.2222222222222222, \"#7201a8\"], [0.3333333333333333, \"#9c179e\"], [0.4444444444444444, \"#bd3786\"], [0.5555555555555556, \"#d8576b\"], [0.6666666666666666, \"#ed7953\"], [0.7777777777777778, \"#fb9f3a\"], [0.8888888888888888, \"#fdca26\"], [1.0, \"#f0f921\"]], \"type\": \"surface\"}], \"table\": [{\"cells\": {\"fill\": {\"color\": \"#EBF0F8\"}, \"line\": {\"color\": \"white\"}}, \"header\": {\"fill\": {\"color\": \"#C8D4E3\"}, \"line\": {\"color\": \"white\"}}, \"type\": \"table\"}]}, \"layout\": {\"annotationdefaults\": {\"arrowcolor\": \"#2a3f5f\", \"arrowhead\": 0, \"arrowwidth\": 1}, \"autotypenumbers\": \"strict\", \"coloraxis\": {\"colorbar\": {\"outlinewidth\": 0, \"ticks\": \"\"}}, \"colorscale\": {\"diverging\": [[0, \"#8e0152\"], [0.1, \"#c51b7d\"], [0.2, \"#de77ae\"], [0.3, \"#f1b6da\"], [0.4, \"#fde0ef\"], [0.5, \"#f7f7f7\"], [0.6, \"#e6f5d0\"], [0.7, \"#b8e186\"], [0.8, \"#7fbc41\"], [0.9, \"#4d9221\"], [1, \"#276419\"]], \"sequential\": [[0.0, \"#0d0887\"], [0.1111111111111111, \"#46039f\"], [0.2222222222222222, \"#7201a8\"], [0.3333333333333333, \"#9c179e\"], [0.4444444444444444, \"#bd3786\"], [0.5555555555555556, \"#d8576b\"], [0.6666666666666666, \"#ed7953\"], [0.7777777777777778, \"#fb9f3a\"], [0.8888888888888888, \"#fdca26\"], [1.0, \"#f0f921\"]], \"sequentialminus\": [[0.0, \"#0d0887\"], [0.1111111111111111, \"#46039f\"], [0.2222222222222222, \"#7201a8\"], [0.3333333333333333, \"#9c179e\"], [0.4444444444444444, \"#bd3786\"], [0.5555555555555556, \"#d8576b\"], [0.6666666666666666, \"#ed7953\"], [0.7777777777777778, \"#fb9f3a\"], [0.8888888888888888, \"#fdca26\"], [1.0, \"#f0f921\"]]}, \"colorway\": [\"#636efa\", \"#EF553B\", \"#00cc96\", \"#ab63fa\", \"#FFA15A\", \"#19d3f3\", \"#FF6692\", \"#B6E880\", \"#FF97FF\", \"#FECB52\"], \"font\": {\"color\": \"#2a3f5f\"}, \"geo\": {\"bgcolor\": \"white\", \"lakecolor\": \"white\", \"landcolor\": \"#E5ECF6\", \"showlakes\": true, \"showland\": true, \"subunitcolor\": \"white\"}, \"hoverlabel\": {\"align\": \"left\"}, \"hovermode\": \"closest\", \"mapbox\": {\"style\": \"light\"}, \"paper_bgcolor\": \"white\", \"plot_bgcolor\": \"#E5ECF6\", \"polar\": {\"angularaxis\": {\"gridcolor\": \"white\", \"linecolor\": \"white\", \"ticks\": \"\"}, \"bgcolor\": \"#E5ECF6\", \"radialaxis\": {\"gridcolor\": \"white\", \"linecolor\": \"white\", \"ticks\": \"\"}}, \"scene\": {\"xaxis\": {\"backgroundcolor\": \"#E5ECF6\", \"gridcolor\": \"white\", \"gridwidth\": 2, \"linecolor\": \"white\", \"showbackground\": true, \"ticks\": \"\", \"zerolinecolor\": \"white\"}, \"yaxis\": {\"backgroundcolor\": \"#E5ECF6\", \"gridcolor\": \"white\", \"gridwidth\": 2, \"linecolor\": \"white\", \"showbackground\": true, \"ticks\": \"\", \"zerolinecolor\": \"white\"}, \"zaxis\": {\"backgroundcolor\": \"#E5ECF6\", \"gridcolor\": \"white\", \"gridwidth\": 2, \"linecolor\": \"white\", \"showbackground\": true, \"ticks\": \"\", \"zerolinecolor\": \"white\"}}, \"shapedefaults\": {\"line\": {\"color\": \"#2a3f5f\"}}, \"ternary\": {\"aaxis\": {\"gridcolor\": \"white\", \"linecolor\": \"white\", \"ticks\": \"\"}, \"baxis\": {\"gridcolor\": \"white\", \"linecolor\": \"white\", \"ticks\": \"\"}, \"bgcolor\": \"#E5ECF6\", \"caxis\": {\"gridcolor\": \"white\", \"linecolor\": \"white\", \"ticks\": \"\"}}, \"title\": {\"x\": 0.05}, \"xaxis\": {\"automargin\": true, \"gridcolor\": \"white\", \"linecolor\": \"white\", \"ticks\": \"\", \"title\": {\"standoff\": 15}, \"zerolinecolor\": \"white\", \"zerolinewidth\": 2}, \"yaxis\": {\"automargin\": true, \"gridcolor\": \"white\", \"linecolor\": \"white\", \"ticks\": \"\", \"title\": {\"standoff\": 15}, \"zerolinecolor\": \"white\", \"zerolinewidth\": 2}}}, \"title\": {\"text\": \"Average Proportion of BMI in the US by State\"}},                        {\"responsive\": true}                    ).then(function(){\n",
       "                            \n",
       "var gd = document.getElementById('070f34b2-1d0b-4f78-ad6d-696d1e9c1a7c');\n",
       "var x = new MutationObserver(function (mutations, observer) {{\n",
       "        var display = window.getComputedStyle(gd).display;\n",
       "        if (!display || display === 'none') {{\n",
       "            console.log([gd, 'removed!']);\n",
       "            Plotly.purge(gd);\n",
       "            observer.disconnect();\n",
       "        }}\n",
       "}});\n",
       "\n",
       "// Listen for the removal of the full notebook cells\n",
       "var notebookContainer = gd.closest('#notebook-container');\n",
       "if (notebookContainer) {{\n",
       "    x.observe(notebookContainer, {childList: true});\n",
       "}}\n",
       "\n",
       "// Listen for the clearing of the current output cell\n",
       "var outputEl = gd.closest('.output');\n",
       "if (outputEl) {{\n",
       "    x.observe(outputEl, {childList: true});\n",
       "}}\n",
       "\n",
       "                        })                };                });            </script>        </div>"
      ]
     },
     "metadata": {},
     "output_type": "display_data"
    }
   ],
   "source": [
    "# For Comparison - BMI Map\n",
    "# NOTE: New Jersey only has data for 2 out of the 3 years - 2017 & 2018\n",
    "import plotly.express as px\n",
    "from textwrap import wrap\n",
    "\n",
    "named_colorscales = px.colors.named_colorscales()\n",
    "#print(\"\\n\".join(wrap(\"\".join('{:<12}'.format(c) for c in named_colorscales), 96)))\n",
    "\n",
    "fig = px.choropleth(mapme,  # Input Pandas DataFrame\n",
    "                    locations = \"StateAbbr\",  # DataFrame column with locations\n",
    "                    color = \"BMI_Prop\",  # DataFrame column with color values\n",
    "                    color_continuous_scale = 'turbo',\n",
    "                    hover_name = \"StateName\", # DataFrame column hover info\n",
    "                    locationmode = 'USA-states') # Set to plot as US States\n",
    "fig.update_layout(\n",
    "    title_text = 'Average Proportion of BMI in the US by State', # Create a Title\n",
    "    geo_scope ='usa',  # Plot only the USA instead of globe\n",
    ")\n",
    "fig.show()  "
   ]
  },
  {
   "cell_type": "code",
   "execution_count": 145,
   "metadata": {},
   "outputs": [],
   "source": [
    "# INCOMEG\n",
    "map_df_dup = brfss.copy()\n",
    "map_df_dup['_LLCPWT2'] = 1\n",
    "mapme = map_df_dup.groupby(['L_STATENM','L_STATEAB','YEAR']).apply(lambda dfx: (dfx[\"_INCOMG\"] * dfx[\"_LLCPWT2\"]).sum() / dfx[\"_LLCPWT2\"].sum()).reset_index()\n",
    "mapme = mapme.rename(columns = {'L_STATENM':'StateName', 'L_STATEAB':'StateAbbr', 'YEAR':'Year', 0:'INCOME_Prop'})\n",
    "#mapme"
   ]
  },
  {
   "cell_type": "code",
   "execution_count": 146,
   "metadata": {},
   "outputs": [
    {
     "data": {
      "application/vnd.plotly.v1+json": {
       "config": {
        "plotlyServerURL": "https://plot.ly"
       },
       "data": [
        {
         "coloraxis": "coloraxis",
         "geo": "geo",
         "hovertemplate": "<b>%{hovertext}</b><br><br>StateAbbr=%{location}<br>INCOME_Prop=%{z}<extra></extra>",
         "hovertext": [
          "Alabama",
          "Alabama",
          "Alabama",
          "Alaska",
          "Alaska",
          "Alaska",
          "Arizona",
          "Arizona",
          "Arizona",
          "Arkansas",
          "Arkansas",
          "Arkansas",
          "California",
          "California",
          "California",
          "Colorado",
          "Colorado",
          "Colorado",
          "Connecticut",
          "Connecticut",
          "Connecticut",
          "Delaware",
          "Delaware",
          "Delaware",
          "District of Columbia",
          "District of Columbia",
          "District of Columbia",
          "Florida",
          "Florida",
          "Florida",
          "Georgia",
          "Georgia",
          "Georgia",
          "Guam",
          "Guam",
          "Guam",
          "Hawaii",
          "Hawaii",
          "Hawaii",
          "Idaho",
          "Idaho",
          "Idaho",
          "Illinois",
          "Illinois",
          "Illinois",
          "Indiana",
          "Indiana",
          "Indiana",
          "Iowa",
          "Iowa",
          "Iowa",
          "Kansas",
          "Kansas",
          "Kansas",
          "Kentucky",
          "Kentucky",
          "Kentucky",
          "Louisiana",
          "Louisiana",
          "Louisiana",
          "Maine",
          "Maine",
          "Maine",
          "Maryland",
          "Maryland",
          "Maryland",
          "Massachusetts",
          "Massachusetts",
          "Massachusetts",
          "Michigan",
          "Michigan",
          "Michigan",
          "Minnesota",
          "Minnesota",
          "Minnesota",
          "Mississippi",
          "Mississippi",
          "Mississippi",
          "Missouri",
          "Missouri",
          "Missouri",
          "Montana",
          "Montana",
          "Montana",
          "Nebraska",
          "Nebraska",
          "Nebraska",
          "Nevada",
          "Nevada",
          "Nevada",
          "New Hampshire",
          "New Hampshire",
          "New Hampshire",
          "New Jersey",
          "New Jersey",
          "New Mexico",
          "New Mexico",
          "New Mexico",
          "New York",
          "New York",
          "New York",
          "North Carolina",
          "North Carolina",
          "North Carolina",
          "North Dakota",
          "North Dakota",
          "North Dakota",
          "Ohio",
          "Ohio",
          "Ohio",
          "Oklahoma",
          "Oklahoma",
          "Oklahoma",
          "Oregon",
          "Oregon",
          "Oregon",
          "Pennsylvania",
          "Pennsylvania",
          "Pennsylvania",
          "Puerto Rico",
          "Puerto Rico",
          "Puerto Rico",
          "Rhode Island",
          "Rhode Island",
          "Rhode Island",
          "South Carolina",
          "South Carolina",
          "South Carolina",
          "South Dakota",
          "South Dakota",
          "South Dakota",
          "Tennessee",
          "Tennessee",
          "Tennessee",
          "Texas",
          "Texas",
          "Texas",
          "Utah",
          "Utah",
          "Utah",
          "Vermont",
          "Vermont",
          "Vermont",
          "Virginia",
          "Virginia",
          "Virginia",
          "Washington",
          "Washington",
          "Washington",
          "West Virginia",
          "West Virginia",
          "West Virginia",
          "Wisconsin",
          "Wisconsin",
          "Wisconsin",
          "Wyoming",
          "Wyoming",
          "Wyoming"
         ],
         "locationmode": "USA-states",
         "locations": [
          "AL",
          "AL",
          "AL",
          "AK",
          "AK",
          "AK",
          "AZ",
          "AZ",
          "AZ",
          "AR",
          "AR",
          "AR",
          "CA",
          "CA",
          "CA",
          "CO",
          "CO",
          "CO",
          "CT",
          "CT",
          "CT",
          "DE",
          "DE",
          "DE",
          "DC",
          "DC",
          "DC",
          "FL",
          "FL",
          "FL",
          "GA",
          "GA",
          "GA",
          "GU",
          "GU",
          "GU",
          "HI",
          "HI",
          "HI",
          "ID",
          "ID",
          "ID",
          "IL",
          "IL",
          "IL",
          "IN",
          "IN",
          "IN",
          "IA",
          "IA",
          "IA",
          "KS",
          "KS",
          "KS",
          "KY",
          "KY",
          "KY",
          "LA",
          "LA",
          "LA",
          "ME",
          "ME",
          "ME",
          "MD",
          "MD",
          "MD",
          "MA",
          "MA",
          "MA",
          "MI",
          "MI",
          "MI",
          "MN",
          "MN",
          "MN",
          "MS",
          "MS",
          "MS",
          "MO",
          "MO",
          "MO",
          "MT",
          "MT",
          "MT",
          "NE",
          "NE",
          "NE",
          "NV",
          "NV",
          "NV",
          "NH",
          "NH",
          "NH",
          "NJ",
          "NJ",
          "NM",
          "NM",
          "NM",
          "NY",
          "NY",
          "NY",
          "NC",
          "NC",
          "NC",
          "ND",
          "ND",
          "ND",
          "OH",
          "OH",
          "OH",
          "OK",
          "OK",
          "OK",
          "OR",
          "OR",
          "OR",
          "PA",
          "PA",
          "PA",
          "PR",
          "PR",
          "PR",
          "RI",
          "RI",
          "RI",
          "SC",
          "SC",
          "SC",
          "SD",
          "SD",
          "SD",
          "TN",
          "TN",
          "TN",
          "TX",
          "TX",
          "TX",
          "UT",
          "UT",
          "UT",
          "VT",
          "VT",
          "VT",
          "VA",
          "VA",
          "VA",
          "WA",
          "WA",
          "WA",
          "WV",
          "WV",
          "WV",
          "WI",
          "WI",
          "WI",
          "WY",
          "WY",
          "WY"
         ],
         "name": "",
         "type": "choropleth",
         "z": [
          4.6677524429967425,
          4.782470481380563,
          4.677396483267159,
          4.453949422416485,
          4.836475707034083,
          5.005038629492778,
          4.768630234208659,
          4.602423043639511,
          4.715468068448719,
          4.530063885757234,
          4.48115671641791,
          4.726068296323941,
          4.545629407993161,
          4.446094471012668,
          4.470851631791957,
          4.879514384819425,
          4.854365659062816,
          4.929054416657722,
          5.09435209671326,
          5.095807264917359,
          5.18214558550693,
          4.719014254650882,
          4.724823237148863,
          4.907621247113164,
          4.938210961737332,
          4.786672731407778,
          4.831173780487805,
          4.4508817262795235,
          4.543038971263614,
          4.732944159443363,
          4.651750330250991,
          4.690703922622246,
          4.733478379113408,
          3.9383289124668437,
          4.265815085158151,
          4.354080791426216,
          4.341759092081507,
          4.577142133907101,
          4.543206663196252,
          4.212096444626073,
          4.426406926406926,
          4.804347826086956,
          4.3045987376014425,
          4.379713423831071,
          4.4916545718432515,
          4.3177380866295465,
          4.876051524710831,
          4.916235664492916,
          4.665021431354721,
          4.692341404623644,
          4.816280730388656,
          4.767431213661127,
          4.7298096470153395,
          4.889074595355384,
          5.382087479750058,
          4.625292466073936,
          5.629546024579884,
          4.392181326679143,
          4.445658536585366,
          4.582874099194574,
          4.122368964094099,
          4.692370795734209,
          4.9298338169348455,
          5.069325875772741,
          5.074717884418101,
          5.059934554222401,
          5.429832175925926,
          5.143049932523617,
          5.299961195188203,
          4.689411332537423,
          4.765549312148808,
          4.779235596120936,
          4.7644925416788535,
          4.765097115950559,
          4.909324924383808,
          4.080378250591017,
          4.315591305836043,
          4.4537651190011704,
          4.625312458886989,
          4.7854277002086345,
          4.804216867469879,
          4.453761622992392,
          4.662235067437379,
          4.576443418013857,
          4.394267100977198,
          4.444102774361077,
          4.463356229125969,
          4.689160467587673,
          4.842023587833643,
          4.857502698812523,
          4.968527212658668,
          4.890709430015687,
          5.095969945355192,
          4.805444150524789,
          4.966019417475728,
          4.20923829917406,
          4.185312081036794,
          4.356652719665272,
          4.481590333904808,
          4.802303799591803,
          4.970418774592468,
          4.624694873881205,
          4.754070628039755,
          4.980405878236529,
          4.548913043478261,
          4.733191035218783,
          4.775569208529093,
          4.4871022865977706,
          4.460236621483977,
          4.660830378250591,
          4.750677915034649,
          4.588044926708547,
          4.686661404893449,
          4.724022346368715,
          4.705348133198789,
          5.046793193717278,
          4.525680220116173,
          4.760341220022533,
          4.693460490463215,
          3.2887402452619843,
          3.3960355151765436,
          3.3144893899204244,
          4.841264204545454,
          4.839129659354379,
          5.015384615384615,
          4.571832729201662,
          4.627593839343355,
          4.700251889168766,
          4.5580433542498575,
          4.775421348314607,
          4.932277526395174,
          4.482457641622454,
          4.468410852713179,
          4.617910925985261,
          4.391595267237862,
          4.7832753855754655,
          4.77913312189965,
          4.889961954931226,
          4.951434251633059,
          5.011109226594301,
          4.675874769797422,
          4.757640586797066,
          4.932786123586805,
          4.824922118380062,
          4.749055324096502,
          4.889067524115756,
          4.794939377965208,
          4.905259146341463,
          4.958670053105519,
          4.341374269005848,
          4.227282009393506,
          4.303527636295039,
          4.53184165232358,
          4.564851881505204,
          4.6917794384972735,
          4.568003585032489,
          4.635813536530704,
          4.8254859611231105
         ]
        }
       ],
       "layout": {
        "coloraxis": {
         "colorbar": {
          "title": {
           "text": "INCOME_Prop"
          }
         },
         "colorscale": [
          [
           0,
           "#30123b"
          ],
          [
           0.07142857142857142,
           "#4145ab"
          ],
          [
           0.14285714285714285,
           "#4675ed"
          ],
          [
           0.21428571428571427,
           "#39a2fc"
          ],
          [
           0.2857142857142857,
           "#1bcfd4"
          ],
          [
           0.35714285714285715,
           "#24eca6"
          ],
          [
           0.42857142857142855,
           "#61fc6c"
          ],
          [
           0.5,
           "#a4fc3b"
          ],
          [
           0.5714285714285714,
           "#d1e834"
          ],
          [
           0.6428571428571429,
           "#f3c63a"
          ],
          [
           0.7142857142857143,
           "#fe9b2d"
          ],
          [
           0.7857142857142857,
           "#f36315"
          ],
          [
           0.8571428571428571,
           "#d93806"
          ],
          [
           0.9285714285714286,
           "#b11901"
          ],
          [
           1,
           "#7a0402"
          ]
         ]
        },
        "geo": {
         "center": {},
         "domain": {
          "x": [
           0,
           1
          ],
          "y": [
           0,
           1
          ]
         },
         "scope": "usa"
        },
        "legend": {
         "tracegroupgap": 0
        },
        "margin": {
         "t": 60
        },
        "template": {
         "data": {
          "bar": [
           {
            "error_x": {
             "color": "#2a3f5f"
            },
            "error_y": {
             "color": "#2a3f5f"
            },
            "marker": {
             "line": {
              "color": "#E5ECF6",
              "width": 0.5
             }
            },
            "type": "bar"
           }
          ],
          "barpolar": [
           {
            "marker": {
             "line": {
              "color": "#E5ECF6",
              "width": 0.5
             }
            },
            "type": "barpolar"
           }
          ],
          "carpet": [
           {
            "aaxis": {
             "endlinecolor": "#2a3f5f",
             "gridcolor": "white",
             "linecolor": "white",
             "minorgridcolor": "white",
             "startlinecolor": "#2a3f5f"
            },
            "baxis": {
             "endlinecolor": "#2a3f5f",
             "gridcolor": "white",
             "linecolor": "white",
             "minorgridcolor": "white",
             "startlinecolor": "#2a3f5f"
            },
            "type": "carpet"
           }
          ],
          "choropleth": [
           {
            "colorbar": {
             "outlinewidth": 0,
             "ticks": ""
            },
            "type": "choropleth"
           }
          ],
          "contour": [
           {
            "colorbar": {
             "outlinewidth": 0,
             "ticks": ""
            },
            "colorscale": [
             [
              0,
              "#0d0887"
             ],
             [
              0.1111111111111111,
              "#46039f"
             ],
             [
              0.2222222222222222,
              "#7201a8"
             ],
             [
              0.3333333333333333,
              "#9c179e"
             ],
             [
              0.4444444444444444,
              "#bd3786"
             ],
             [
              0.5555555555555556,
              "#d8576b"
             ],
             [
              0.6666666666666666,
              "#ed7953"
             ],
             [
              0.7777777777777778,
              "#fb9f3a"
             ],
             [
              0.8888888888888888,
              "#fdca26"
             ],
             [
              1,
              "#f0f921"
             ]
            ],
            "type": "contour"
           }
          ],
          "contourcarpet": [
           {
            "colorbar": {
             "outlinewidth": 0,
             "ticks": ""
            },
            "type": "contourcarpet"
           }
          ],
          "heatmap": [
           {
            "colorbar": {
             "outlinewidth": 0,
             "ticks": ""
            },
            "colorscale": [
             [
              0,
              "#0d0887"
             ],
             [
              0.1111111111111111,
              "#46039f"
             ],
             [
              0.2222222222222222,
              "#7201a8"
             ],
             [
              0.3333333333333333,
              "#9c179e"
             ],
             [
              0.4444444444444444,
              "#bd3786"
             ],
             [
              0.5555555555555556,
              "#d8576b"
             ],
             [
              0.6666666666666666,
              "#ed7953"
             ],
             [
              0.7777777777777778,
              "#fb9f3a"
             ],
             [
              0.8888888888888888,
              "#fdca26"
             ],
             [
              1,
              "#f0f921"
             ]
            ],
            "type": "heatmap"
           }
          ],
          "heatmapgl": [
           {
            "colorbar": {
             "outlinewidth": 0,
             "ticks": ""
            },
            "colorscale": [
             [
              0,
              "#0d0887"
             ],
             [
              0.1111111111111111,
              "#46039f"
             ],
             [
              0.2222222222222222,
              "#7201a8"
             ],
             [
              0.3333333333333333,
              "#9c179e"
             ],
             [
              0.4444444444444444,
              "#bd3786"
             ],
             [
              0.5555555555555556,
              "#d8576b"
             ],
             [
              0.6666666666666666,
              "#ed7953"
             ],
             [
              0.7777777777777778,
              "#fb9f3a"
             ],
             [
              0.8888888888888888,
              "#fdca26"
             ],
             [
              1,
              "#f0f921"
             ]
            ],
            "type": "heatmapgl"
           }
          ],
          "histogram": [
           {
            "marker": {
             "colorbar": {
              "outlinewidth": 0,
              "ticks": ""
             }
            },
            "type": "histogram"
           }
          ],
          "histogram2d": [
           {
            "colorbar": {
             "outlinewidth": 0,
             "ticks": ""
            },
            "colorscale": [
             [
              0,
              "#0d0887"
             ],
             [
              0.1111111111111111,
              "#46039f"
             ],
             [
              0.2222222222222222,
              "#7201a8"
             ],
             [
              0.3333333333333333,
              "#9c179e"
             ],
             [
              0.4444444444444444,
              "#bd3786"
             ],
             [
              0.5555555555555556,
              "#d8576b"
             ],
             [
              0.6666666666666666,
              "#ed7953"
             ],
             [
              0.7777777777777778,
              "#fb9f3a"
             ],
             [
              0.8888888888888888,
              "#fdca26"
             ],
             [
              1,
              "#f0f921"
             ]
            ],
            "type": "histogram2d"
           }
          ],
          "histogram2dcontour": [
           {
            "colorbar": {
             "outlinewidth": 0,
             "ticks": ""
            },
            "colorscale": [
             [
              0,
              "#0d0887"
             ],
             [
              0.1111111111111111,
              "#46039f"
             ],
             [
              0.2222222222222222,
              "#7201a8"
             ],
             [
              0.3333333333333333,
              "#9c179e"
             ],
             [
              0.4444444444444444,
              "#bd3786"
             ],
             [
              0.5555555555555556,
              "#d8576b"
             ],
             [
              0.6666666666666666,
              "#ed7953"
             ],
             [
              0.7777777777777778,
              "#fb9f3a"
             ],
             [
              0.8888888888888888,
              "#fdca26"
             ],
             [
              1,
              "#f0f921"
             ]
            ],
            "type": "histogram2dcontour"
           }
          ],
          "mesh3d": [
           {
            "colorbar": {
             "outlinewidth": 0,
             "ticks": ""
            },
            "type": "mesh3d"
           }
          ],
          "parcoords": [
           {
            "line": {
             "colorbar": {
              "outlinewidth": 0,
              "ticks": ""
             }
            },
            "type": "parcoords"
           }
          ],
          "pie": [
           {
            "automargin": true,
            "type": "pie"
           }
          ],
          "scatter": [
           {
            "marker": {
             "colorbar": {
              "outlinewidth": 0,
              "ticks": ""
             }
            },
            "type": "scatter"
           }
          ],
          "scatter3d": [
           {
            "line": {
             "colorbar": {
              "outlinewidth": 0,
              "ticks": ""
             }
            },
            "marker": {
             "colorbar": {
              "outlinewidth": 0,
              "ticks": ""
             }
            },
            "type": "scatter3d"
           }
          ],
          "scattercarpet": [
           {
            "marker": {
             "colorbar": {
              "outlinewidth": 0,
              "ticks": ""
             }
            },
            "type": "scattercarpet"
           }
          ],
          "scattergeo": [
           {
            "marker": {
             "colorbar": {
              "outlinewidth": 0,
              "ticks": ""
             }
            },
            "type": "scattergeo"
           }
          ],
          "scattergl": [
           {
            "marker": {
             "colorbar": {
              "outlinewidth": 0,
              "ticks": ""
             }
            },
            "type": "scattergl"
           }
          ],
          "scattermapbox": [
           {
            "marker": {
             "colorbar": {
              "outlinewidth": 0,
              "ticks": ""
             }
            },
            "type": "scattermapbox"
           }
          ],
          "scatterpolar": [
           {
            "marker": {
             "colorbar": {
              "outlinewidth": 0,
              "ticks": ""
             }
            },
            "type": "scatterpolar"
           }
          ],
          "scatterpolargl": [
           {
            "marker": {
             "colorbar": {
              "outlinewidth": 0,
              "ticks": ""
             }
            },
            "type": "scatterpolargl"
           }
          ],
          "scatterternary": [
           {
            "marker": {
             "colorbar": {
              "outlinewidth": 0,
              "ticks": ""
             }
            },
            "type": "scatterternary"
           }
          ],
          "surface": [
           {
            "colorbar": {
             "outlinewidth": 0,
             "ticks": ""
            },
            "colorscale": [
             [
              0,
              "#0d0887"
             ],
             [
              0.1111111111111111,
              "#46039f"
             ],
             [
              0.2222222222222222,
              "#7201a8"
             ],
             [
              0.3333333333333333,
              "#9c179e"
             ],
             [
              0.4444444444444444,
              "#bd3786"
             ],
             [
              0.5555555555555556,
              "#d8576b"
             ],
             [
              0.6666666666666666,
              "#ed7953"
             ],
             [
              0.7777777777777778,
              "#fb9f3a"
             ],
             [
              0.8888888888888888,
              "#fdca26"
             ],
             [
              1,
              "#f0f921"
             ]
            ],
            "type": "surface"
           }
          ],
          "table": [
           {
            "cells": {
             "fill": {
              "color": "#EBF0F8"
             },
             "line": {
              "color": "white"
             }
            },
            "header": {
             "fill": {
              "color": "#C8D4E3"
             },
             "line": {
              "color": "white"
             }
            },
            "type": "table"
           }
          ]
         },
         "layout": {
          "annotationdefaults": {
           "arrowcolor": "#2a3f5f",
           "arrowhead": 0,
           "arrowwidth": 1
          },
          "autotypenumbers": "strict",
          "coloraxis": {
           "colorbar": {
            "outlinewidth": 0,
            "ticks": ""
           }
          },
          "colorscale": {
           "diverging": [
            [
             0,
             "#8e0152"
            ],
            [
             0.1,
             "#c51b7d"
            ],
            [
             0.2,
             "#de77ae"
            ],
            [
             0.3,
             "#f1b6da"
            ],
            [
             0.4,
             "#fde0ef"
            ],
            [
             0.5,
             "#f7f7f7"
            ],
            [
             0.6,
             "#e6f5d0"
            ],
            [
             0.7,
             "#b8e186"
            ],
            [
             0.8,
             "#7fbc41"
            ],
            [
             0.9,
             "#4d9221"
            ],
            [
             1,
             "#276419"
            ]
           ],
           "sequential": [
            [
             0,
             "#0d0887"
            ],
            [
             0.1111111111111111,
             "#46039f"
            ],
            [
             0.2222222222222222,
             "#7201a8"
            ],
            [
             0.3333333333333333,
             "#9c179e"
            ],
            [
             0.4444444444444444,
             "#bd3786"
            ],
            [
             0.5555555555555556,
             "#d8576b"
            ],
            [
             0.6666666666666666,
             "#ed7953"
            ],
            [
             0.7777777777777778,
             "#fb9f3a"
            ],
            [
             0.8888888888888888,
             "#fdca26"
            ],
            [
             1,
             "#f0f921"
            ]
           ],
           "sequentialminus": [
            [
             0,
             "#0d0887"
            ],
            [
             0.1111111111111111,
             "#46039f"
            ],
            [
             0.2222222222222222,
             "#7201a8"
            ],
            [
             0.3333333333333333,
             "#9c179e"
            ],
            [
             0.4444444444444444,
             "#bd3786"
            ],
            [
             0.5555555555555556,
             "#d8576b"
            ],
            [
             0.6666666666666666,
             "#ed7953"
            ],
            [
             0.7777777777777778,
             "#fb9f3a"
            ],
            [
             0.8888888888888888,
             "#fdca26"
            ],
            [
             1,
             "#f0f921"
            ]
           ]
          },
          "colorway": [
           "#636efa",
           "#EF553B",
           "#00cc96",
           "#ab63fa",
           "#FFA15A",
           "#19d3f3",
           "#FF6692",
           "#B6E880",
           "#FF97FF",
           "#FECB52"
          ],
          "font": {
           "color": "#2a3f5f"
          },
          "geo": {
           "bgcolor": "white",
           "lakecolor": "white",
           "landcolor": "#E5ECF6",
           "showlakes": true,
           "showland": true,
           "subunitcolor": "white"
          },
          "hoverlabel": {
           "align": "left"
          },
          "hovermode": "closest",
          "mapbox": {
           "style": "light"
          },
          "paper_bgcolor": "white",
          "plot_bgcolor": "#E5ECF6",
          "polar": {
           "angularaxis": {
            "gridcolor": "white",
            "linecolor": "white",
            "ticks": ""
           },
           "bgcolor": "#E5ECF6",
           "radialaxis": {
            "gridcolor": "white",
            "linecolor": "white",
            "ticks": ""
           }
          },
          "scene": {
           "xaxis": {
            "backgroundcolor": "#E5ECF6",
            "gridcolor": "white",
            "gridwidth": 2,
            "linecolor": "white",
            "showbackground": true,
            "ticks": "",
            "zerolinecolor": "white"
           },
           "yaxis": {
            "backgroundcolor": "#E5ECF6",
            "gridcolor": "white",
            "gridwidth": 2,
            "linecolor": "white",
            "showbackground": true,
            "ticks": "",
            "zerolinecolor": "white"
           },
           "zaxis": {
            "backgroundcolor": "#E5ECF6",
            "gridcolor": "white",
            "gridwidth": 2,
            "linecolor": "white",
            "showbackground": true,
            "ticks": "",
            "zerolinecolor": "white"
           }
          },
          "shapedefaults": {
           "line": {
            "color": "#2a3f5f"
           }
          },
          "ternary": {
           "aaxis": {
            "gridcolor": "white",
            "linecolor": "white",
            "ticks": ""
           },
           "baxis": {
            "gridcolor": "white",
            "linecolor": "white",
            "ticks": ""
           },
           "bgcolor": "#E5ECF6",
           "caxis": {
            "gridcolor": "white",
            "linecolor": "white",
            "ticks": ""
           }
          },
          "title": {
           "x": 0.05
          },
          "xaxis": {
           "automargin": true,
           "gridcolor": "white",
           "linecolor": "white",
           "ticks": "",
           "title": {
            "standoff": 15
           },
           "zerolinecolor": "white",
           "zerolinewidth": 2
          },
          "yaxis": {
           "automargin": true,
           "gridcolor": "white",
           "linecolor": "white",
           "ticks": "",
           "title": {
            "standoff": 15
           },
           "zerolinecolor": "white",
           "zerolinewidth": 2
          }
         }
        },
        "title": {
         "text": "Average Proportion of INCOME in the US by State"
        }
       }
      },
      "text/html": [
       "<div>                            <div id=\"b6031746-b8c1-4b69-8cd5-98da80b091d6\" class=\"plotly-graph-div\" style=\"height:525px; width:100%;\"></div>            <script type=\"text/javascript\">                require([\"plotly\"], function(Plotly) {                    window.PLOTLYENV=window.PLOTLYENV || {};                                    if (document.getElementById(\"b6031746-b8c1-4b69-8cd5-98da80b091d6\")) {                    Plotly.newPlot(                        \"b6031746-b8c1-4b69-8cd5-98da80b091d6\",                        [{\"coloraxis\": \"coloraxis\", \"geo\": \"geo\", \"hovertemplate\": \"<b>%{hovertext}</b><br><br>StateAbbr=%{location}<br>INCOME_Prop=%{z}<extra></extra>\", \"hovertext\": [\"Alabama\", \"Alabama\", \"Alabama\", \"Alaska\", \"Alaska\", \"Alaska\", \"Arizona\", \"Arizona\", \"Arizona\", \"Arkansas\", \"Arkansas\", \"Arkansas\", \"California\", \"California\", \"California\", \"Colorado\", \"Colorado\", \"Colorado\", \"Connecticut\", \"Connecticut\", \"Connecticut\", \"Delaware\", \"Delaware\", \"Delaware\", \"District of Columbia\", \"District of Columbia\", \"District of Columbia\", \"Florida\", \"Florida\", \"Florida\", \"Georgia\", \"Georgia\", \"Georgia\", \"Guam\", \"Guam\", \"Guam\", \"Hawaii\", \"Hawaii\", \"Hawaii\", \"Idaho\", \"Idaho\", \"Idaho\", \"Illinois\", \"Illinois\", \"Illinois\", \"Indiana\", \"Indiana\", \"Indiana\", \"Iowa\", \"Iowa\", \"Iowa\", \"Kansas\", \"Kansas\", \"Kansas\", \"Kentucky\", \"Kentucky\", \"Kentucky\", \"Louisiana\", \"Louisiana\", \"Louisiana\", \"Maine\", \"Maine\", \"Maine\", \"Maryland\", \"Maryland\", \"Maryland\", \"Massachusetts\", \"Massachusetts\", \"Massachusetts\", \"Michigan\", \"Michigan\", \"Michigan\", \"Minnesota\", \"Minnesota\", \"Minnesota\", \"Mississippi\", \"Mississippi\", \"Mississippi\", \"Missouri\", \"Missouri\", \"Missouri\", \"Montana\", \"Montana\", \"Montana\", \"Nebraska\", \"Nebraska\", \"Nebraska\", \"Nevada\", \"Nevada\", \"Nevada\", \"New Hampshire\", \"New Hampshire\", \"New Hampshire\", \"New Jersey\", \"New Jersey\", \"New Mexico\", \"New Mexico\", \"New Mexico\", \"New York\", \"New York\", \"New York\", \"North Carolina\", \"North Carolina\", \"North Carolina\", \"North Dakota\", \"North Dakota\", \"North Dakota\", \"Ohio\", \"Ohio\", \"Ohio\", \"Oklahoma\", \"Oklahoma\", \"Oklahoma\", \"Oregon\", \"Oregon\", \"Oregon\", \"Pennsylvania\", \"Pennsylvania\", \"Pennsylvania\", \"Puerto Rico\", \"Puerto Rico\", \"Puerto Rico\", \"Rhode Island\", \"Rhode Island\", \"Rhode Island\", \"South Carolina\", \"South Carolina\", \"South Carolina\", \"South Dakota\", \"South Dakota\", \"South Dakota\", \"Tennessee\", \"Tennessee\", \"Tennessee\", \"Texas\", \"Texas\", \"Texas\", \"Utah\", \"Utah\", \"Utah\", \"Vermont\", \"Vermont\", \"Vermont\", \"Virginia\", \"Virginia\", \"Virginia\", \"Washington\", \"Washington\", \"Washington\", \"West Virginia\", \"West Virginia\", \"West Virginia\", \"Wisconsin\", \"Wisconsin\", \"Wisconsin\", \"Wyoming\", \"Wyoming\", \"Wyoming\"], \"locationmode\": \"USA-states\", \"locations\": [\"AL\", \"AL\", \"AL\", \"AK\", \"AK\", \"AK\", \"AZ\", \"AZ\", \"AZ\", \"AR\", \"AR\", \"AR\", \"CA\", \"CA\", \"CA\", \"CO\", \"CO\", \"CO\", \"CT\", \"CT\", \"CT\", \"DE\", \"DE\", \"DE\", \"DC\", \"DC\", \"DC\", \"FL\", \"FL\", \"FL\", \"GA\", \"GA\", \"GA\", \"GU\", \"GU\", \"GU\", \"HI\", \"HI\", \"HI\", \"ID\", \"ID\", \"ID\", \"IL\", \"IL\", \"IL\", \"IN\", \"IN\", \"IN\", \"IA\", \"IA\", \"IA\", \"KS\", \"KS\", \"KS\", \"KY\", \"KY\", \"KY\", \"LA\", \"LA\", \"LA\", \"ME\", \"ME\", \"ME\", \"MD\", \"MD\", \"MD\", \"MA\", \"MA\", \"MA\", \"MI\", \"MI\", \"MI\", \"MN\", \"MN\", \"MN\", \"MS\", \"MS\", \"MS\", \"MO\", \"MO\", \"MO\", \"MT\", \"MT\", \"MT\", \"NE\", \"NE\", \"NE\", \"NV\", \"NV\", \"NV\", \"NH\", \"NH\", \"NH\", \"NJ\", \"NJ\", \"NM\", \"NM\", \"NM\", \"NY\", \"NY\", \"NY\", \"NC\", \"NC\", \"NC\", \"ND\", \"ND\", \"ND\", \"OH\", \"OH\", \"OH\", \"OK\", \"OK\", \"OK\", \"OR\", \"OR\", \"OR\", \"PA\", \"PA\", \"PA\", \"PR\", \"PR\", \"PR\", \"RI\", \"RI\", \"RI\", \"SC\", \"SC\", \"SC\", \"SD\", \"SD\", \"SD\", \"TN\", \"TN\", \"TN\", \"TX\", \"TX\", \"TX\", \"UT\", \"UT\", \"UT\", \"VT\", \"VT\", \"VT\", \"VA\", \"VA\", \"VA\", \"WA\", \"WA\", \"WA\", \"WV\", \"WV\", \"WV\", \"WI\", \"WI\", \"WI\", \"WY\", \"WY\", \"WY\"], \"name\": \"\", \"type\": \"choropleth\", \"z\": [4.6677524429967425, 4.782470481380563, 4.677396483267159, 4.453949422416485, 4.836475707034083, 5.005038629492778, 4.768630234208659, 4.602423043639511, 4.715468068448719, 4.530063885757234, 4.48115671641791, 4.726068296323941, 4.545629407993161, 4.446094471012668, 4.470851631791957, 4.879514384819425, 4.854365659062816, 4.929054416657722, 5.09435209671326, 5.095807264917359, 5.18214558550693, 4.719014254650882, 4.724823237148863, 4.907621247113164, 4.938210961737332, 4.786672731407778, 4.831173780487805, 4.4508817262795235, 4.543038971263614, 4.732944159443363, 4.651750330250991, 4.690703922622246, 4.733478379113408, 3.9383289124668437, 4.265815085158151, 4.354080791426216, 4.341759092081507, 4.577142133907101, 4.543206663196252, 4.212096444626073, 4.426406926406926, 4.804347826086956, 4.3045987376014425, 4.379713423831071, 4.4916545718432515, 4.3177380866295465, 4.876051524710831, 4.916235664492916, 4.665021431354721, 4.692341404623644, 4.816280730388656, 4.767431213661127, 4.7298096470153395, 4.889074595355384, 5.382087479750058, 4.625292466073936, 5.629546024579884, 4.392181326679143, 4.445658536585366, 4.582874099194574, 4.122368964094099, 4.692370795734209, 4.9298338169348455, 5.069325875772741, 5.074717884418101, 5.059934554222401, 5.429832175925926, 5.143049932523617, 5.299961195188203, 4.689411332537423, 4.765549312148808, 4.779235596120936, 4.7644925416788535, 4.765097115950559, 4.909324924383808, 4.080378250591017, 4.315591305836043, 4.4537651190011704, 4.625312458886989, 4.7854277002086345, 4.804216867469879, 4.453761622992392, 4.662235067437379, 4.576443418013857, 4.394267100977198, 4.444102774361077, 4.463356229125969, 4.689160467587673, 4.842023587833643, 4.857502698812523, 4.968527212658668, 4.890709430015687, 5.095969945355192, 4.805444150524789, 4.966019417475728, 4.20923829917406, 4.185312081036794, 4.356652719665272, 4.481590333904808, 4.802303799591803, 4.970418774592468, 4.624694873881205, 4.754070628039755, 4.980405878236529, 4.548913043478261, 4.733191035218783, 4.775569208529093, 4.4871022865977706, 4.460236621483977, 4.660830378250591, 4.750677915034649, 4.588044926708547, 4.686661404893449, 4.724022346368715, 4.705348133198789, 5.046793193717278, 4.525680220116173, 4.760341220022533, 4.693460490463215, 3.2887402452619843, 3.3960355151765436, 3.3144893899204244, 4.841264204545454, 4.839129659354379, 5.015384615384615, 4.571832729201662, 4.627593839343355, 4.700251889168766, 4.5580433542498575, 4.775421348314607, 4.932277526395174, 4.482457641622454, 4.468410852713179, 4.617910925985261, 4.391595267237862, 4.7832753855754655, 4.77913312189965, 4.889961954931226, 4.951434251633059, 5.011109226594301, 4.675874769797422, 4.757640586797066, 4.932786123586805, 4.824922118380062, 4.749055324096502, 4.889067524115756, 4.794939377965208, 4.905259146341463, 4.958670053105519, 4.341374269005848, 4.227282009393506, 4.303527636295039, 4.53184165232358, 4.564851881505204, 4.6917794384972735, 4.568003585032489, 4.635813536530704, 4.8254859611231105]}],                        {\"coloraxis\": {\"colorbar\": {\"title\": {\"text\": \"INCOME_Prop\"}}, \"colorscale\": [[0.0, \"#30123b\"], [0.07142857142857142, \"#4145ab\"], [0.14285714285714285, \"#4675ed\"], [0.21428571428571427, \"#39a2fc\"], [0.2857142857142857, \"#1bcfd4\"], [0.35714285714285715, \"#24eca6\"], [0.42857142857142855, \"#61fc6c\"], [0.5, \"#a4fc3b\"], [0.5714285714285714, \"#d1e834\"], [0.6428571428571429, \"#f3c63a\"], [0.7142857142857143, \"#fe9b2d\"], [0.7857142857142857, \"#f36315\"], [0.8571428571428571, \"#d93806\"], [0.9285714285714286, \"#b11901\"], [1.0, \"#7a0402\"]]}, \"geo\": {\"center\": {}, \"domain\": {\"x\": [0.0, 1.0], \"y\": [0.0, 1.0]}, \"scope\": \"usa\"}, \"legend\": {\"tracegroupgap\": 0}, \"margin\": {\"t\": 60}, \"template\": {\"data\": {\"bar\": [{\"error_x\": {\"color\": \"#2a3f5f\"}, \"error_y\": {\"color\": \"#2a3f5f\"}, \"marker\": {\"line\": {\"color\": \"#E5ECF6\", \"width\": 0.5}}, \"type\": \"bar\"}], \"barpolar\": [{\"marker\": {\"line\": {\"color\": \"#E5ECF6\", \"width\": 0.5}}, \"type\": \"barpolar\"}], \"carpet\": [{\"aaxis\": {\"endlinecolor\": \"#2a3f5f\", \"gridcolor\": \"white\", \"linecolor\": \"white\", \"minorgridcolor\": \"white\", \"startlinecolor\": \"#2a3f5f\"}, \"baxis\": {\"endlinecolor\": \"#2a3f5f\", \"gridcolor\": \"white\", \"linecolor\": \"white\", \"minorgridcolor\": \"white\", \"startlinecolor\": \"#2a3f5f\"}, \"type\": \"carpet\"}], \"choropleth\": [{\"colorbar\": {\"outlinewidth\": 0, \"ticks\": \"\"}, \"type\": \"choropleth\"}], \"contour\": [{\"colorbar\": {\"outlinewidth\": 0, \"ticks\": \"\"}, \"colorscale\": [[0.0, \"#0d0887\"], [0.1111111111111111, \"#46039f\"], [0.2222222222222222, \"#7201a8\"], [0.3333333333333333, \"#9c179e\"], [0.4444444444444444, \"#bd3786\"], [0.5555555555555556, \"#d8576b\"], [0.6666666666666666, \"#ed7953\"], [0.7777777777777778, \"#fb9f3a\"], [0.8888888888888888, \"#fdca26\"], [1.0, \"#f0f921\"]], \"type\": \"contour\"}], \"contourcarpet\": [{\"colorbar\": {\"outlinewidth\": 0, \"ticks\": \"\"}, \"type\": \"contourcarpet\"}], \"heatmap\": [{\"colorbar\": {\"outlinewidth\": 0, \"ticks\": \"\"}, \"colorscale\": [[0.0, \"#0d0887\"], [0.1111111111111111, \"#46039f\"], [0.2222222222222222, \"#7201a8\"], [0.3333333333333333, \"#9c179e\"], [0.4444444444444444, \"#bd3786\"], [0.5555555555555556, \"#d8576b\"], [0.6666666666666666, \"#ed7953\"], [0.7777777777777778, \"#fb9f3a\"], [0.8888888888888888, \"#fdca26\"], [1.0, \"#f0f921\"]], \"type\": \"heatmap\"}], \"heatmapgl\": [{\"colorbar\": {\"outlinewidth\": 0, \"ticks\": \"\"}, \"colorscale\": [[0.0, \"#0d0887\"], [0.1111111111111111, \"#46039f\"], [0.2222222222222222, \"#7201a8\"], [0.3333333333333333, \"#9c179e\"], [0.4444444444444444, \"#bd3786\"], [0.5555555555555556, \"#d8576b\"], [0.6666666666666666, \"#ed7953\"], [0.7777777777777778, \"#fb9f3a\"], [0.8888888888888888, \"#fdca26\"], [1.0, \"#f0f921\"]], \"type\": \"heatmapgl\"}], \"histogram\": [{\"marker\": {\"colorbar\": {\"outlinewidth\": 0, \"ticks\": \"\"}}, \"type\": \"histogram\"}], \"histogram2d\": [{\"colorbar\": {\"outlinewidth\": 0, \"ticks\": \"\"}, \"colorscale\": [[0.0, \"#0d0887\"], [0.1111111111111111, \"#46039f\"], [0.2222222222222222, \"#7201a8\"], [0.3333333333333333, \"#9c179e\"], [0.4444444444444444, \"#bd3786\"], [0.5555555555555556, \"#d8576b\"], [0.6666666666666666, \"#ed7953\"], [0.7777777777777778, \"#fb9f3a\"], [0.8888888888888888, \"#fdca26\"], [1.0, \"#f0f921\"]], \"type\": \"histogram2d\"}], \"histogram2dcontour\": [{\"colorbar\": {\"outlinewidth\": 0, \"ticks\": \"\"}, \"colorscale\": [[0.0, \"#0d0887\"], [0.1111111111111111, \"#46039f\"], [0.2222222222222222, \"#7201a8\"], [0.3333333333333333, \"#9c179e\"], [0.4444444444444444, \"#bd3786\"], [0.5555555555555556, \"#d8576b\"], [0.6666666666666666, \"#ed7953\"], [0.7777777777777778, \"#fb9f3a\"], [0.8888888888888888, \"#fdca26\"], [1.0, \"#f0f921\"]], \"type\": \"histogram2dcontour\"}], \"mesh3d\": [{\"colorbar\": {\"outlinewidth\": 0, \"ticks\": \"\"}, \"type\": \"mesh3d\"}], \"parcoords\": [{\"line\": {\"colorbar\": {\"outlinewidth\": 0, \"ticks\": \"\"}}, \"type\": \"parcoords\"}], \"pie\": [{\"automargin\": true, \"type\": \"pie\"}], \"scatter\": [{\"marker\": {\"colorbar\": {\"outlinewidth\": 0, \"ticks\": \"\"}}, \"type\": \"scatter\"}], \"scatter3d\": [{\"line\": {\"colorbar\": {\"outlinewidth\": 0, \"ticks\": \"\"}}, \"marker\": {\"colorbar\": {\"outlinewidth\": 0, \"ticks\": \"\"}}, \"type\": \"scatter3d\"}], \"scattercarpet\": [{\"marker\": {\"colorbar\": {\"outlinewidth\": 0, \"ticks\": \"\"}}, \"type\": \"scattercarpet\"}], \"scattergeo\": [{\"marker\": {\"colorbar\": {\"outlinewidth\": 0, \"ticks\": \"\"}}, \"type\": \"scattergeo\"}], \"scattergl\": [{\"marker\": {\"colorbar\": {\"outlinewidth\": 0, \"ticks\": \"\"}}, \"type\": \"scattergl\"}], \"scattermapbox\": [{\"marker\": {\"colorbar\": {\"outlinewidth\": 0, \"ticks\": \"\"}}, \"type\": \"scattermapbox\"}], \"scatterpolar\": [{\"marker\": {\"colorbar\": {\"outlinewidth\": 0, \"ticks\": \"\"}}, \"type\": \"scatterpolar\"}], \"scatterpolargl\": [{\"marker\": {\"colorbar\": {\"outlinewidth\": 0, \"ticks\": \"\"}}, \"type\": \"scatterpolargl\"}], \"scatterternary\": [{\"marker\": {\"colorbar\": {\"outlinewidth\": 0, \"ticks\": \"\"}}, \"type\": \"scatterternary\"}], \"surface\": [{\"colorbar\": {\"outlinewidth\": 0, \"ticks\": \"\"}, \"colorscale\": [[0.0, \"#0d0887\"], [0.1111111111111111, \"#46039f\"], [0.2222222222222222, \"#7201a8\"], [0.3333333333333333, \"#9c179e\"], [0.4444444444444444, \"#bd3786\"], [0.5555555555555556, \"#d8576b\"], [0.6666666666666666, \"#ed7953\"], [0.7777777777777778, \"#fb9f3a\"], [0.8888888888888888, \"#fdca26\"], [1.0, \"#f0f921\"]], \"type\": \"surface\"}], \"table\": [{\"cells\": {\"fill\": {\"color\": \"#EBF0F8\"}, \"line\": {\"color\": \"white\"}}, \"header\": {\"fill\": {\"color\": \"#C8D4E3\"}, \"line\": {\"color\": \"white\"}}, \"type\": \"table\"}]}, \"layout\": {\"annotationdefaults\": {\"arrowcolor\": \"#2a3f5f\", \"arrowhead\": 0, \"arrowwidth\": 1}, \"autotypenumbers\": \"strict\", \"coloraxis\": {\"colorbar\": {\"outlinewidth\": 0, \"ticks\": \"\"}}, \"colorscale\": {\"diverging\": [[0, \"#8e0152\"], [0.1, \"#c51b7d\"], [0.2, \"#de77ae\"], [0.3, \"#f1b6da\"], [0.4, \"#fde0ef\"], [0.5, \"#f7f7f7\"], [0.6, \"#e6f5d0\"], [0.7, \"#b8e186\"], [0.8, \"#7fbc41\"], [0.9, \"#4d9221\"], [1, \"#276419\"]], \"sequential\": [[0.0, \"#0d0887\"], [0.1111111111111111, \"#46039f\"], [0.2222222222222222, \"#7201a8\"], [0.3333333333333333, \"#9c179e\"], [0.4444444444444444, \"#bd3786\"], [0.5555555555555556, \"#d8576b\"], [0.6666666666666666, \"#ed7953\"], [0.7777777777777778, \"#fb9f3a\"], [0.8888888888888888, \"#fdca26\"], [1.0, \"#f0f921\"]], \"sequentialminus\": [[0.0, \"#0d0887\"], [0.1111111111111111, \"#46039f\"], [0.2222222222222222, \"#7201a8\"], [0.3333333333333333, \"#9c179e\"], [0.4444444444444444, \"#bd3786\"], [0.5555555555555556, \"#d8576b\"], [0.6666666666666666, \"#ed7953\"], [0.7777777777777778, \"#fb9f3a\"], [0.8888888888888888, \"#fdca26\"], [1.0, \"#f0f921\"]]}, \"colorway\": [\"#636efa\", \"#EF553B\", \"#00cc96\", \"#ab63fa\", \"#FFA15A\", \"#19d3f3\", \"#FF6692\", \"#B6E880\", \"#FF97FF\", \"#FECB52\"], \"font\": {\"color\": \"#2a3f5f\"}, \"geo\": {\"bgcolor\": \"white\", \"lakecolor\": \"white\", \"landcolor\": \"#E5ECF6\", \"showlakes\": true, \"showland\": true, \"subunitcolor\": \"white\"}, \"hoverlabel\": {\"align\": \"left\"}, \"hovermode\": \"closest\", \"mapbox\": {\"style\": \"light\"}, \"paper_bgcolor\": \"white\", \"plot_bgcolor\": \"#E5ECF6\", \"polar\": {\"angularaxis\": {\"gridcolor\": \"white\", \"linecolor\": \"white\", \"ticks\": \"\"}, \"bgcolor\": \"#E5ECF6\", \"radialaxis\": {\"gridcolor\": \"white\", \"linecolor\": \"white\", \"ticks\": \"\"}}, \"scene\": {\"xaxis\": {\"backgroundcolor\": \"#E5ECF6\", \"gridcolor\": \"white\", \"gridwidth\": 2, \"linecolor\": \"white\", \"showbackground\": true, \"ticks\": \"\", \"zerolinecolor\": \"white\"}, \"yaxis\": {\"backgroundcolor\": \"#E5ECF6\", \"gridcolor\": \"white\", \"gridwidth\": 2, \"linecolor\": \"white\", \"showbackground\": true, \"ticks\": \"\", \"zerolinecolor\": \"white\"}, \"zaxis\": {\"backgroundcolor\": \"#E5ECF6\", \"gridcolor\": \"white\", \"gridwidth\": 2, \"linecolor\": \"white\", \"showbackground\": true, \"ticks\": \"\", \"zerolinecolor\": \"white\"}}, \"shapedefaults\": {\"line\": {\"color\": \"#2a3f5f\"}}, \"ternary\": {\"aaxis\": {\"gridcolor\": \"white\", \"linecolor\": \"white\", \"ticks\": \"\"}, \"baxis\": {\"gridcolor\": \"white\", \"linecolor\": \"white\", \"ticks\": \"\"}, \"bgcolor\": \"#E5ECF6\", \"caxis\": {\"gridcolor\": \"white\", \"linecolor\": \"white\", \"ticks\": \"\"}}, \"title\": {\"x\": 0.05}, \"xaxis\": {\"automargin\": true, \"gridcolor\": \"white\", \"linecolor\": \"white\", \"ticks\": \"\", \"title\": {\"standoff\": 15}, \"zerolinecolor\": \"white\", \"zerolinewidth\": 2}, \"yaxis\": {\"automargin\": true, \"gridcolor\": \"white\", \"linecolor\": \"white\", \"ticks\": \"\", \"title\": {\"standoff\": 15}, \"zerolinecolor\": \"white\", \"zerolinewidth\": 2}}}, \"title\": {\"text\": \"Average Proportion of INCOME in the US by State\"}},                        {\"responsive\": true}                    ).then(function(){\n",
       "                            \n",
       "var gd = document.getElementById('b6031746-b8c1-4b69-8cd5-98da80b091d6');\n",
       "var x = new MutationObserver(function (mutations, observer) {{\n",
       "        var display = window.getComputedStyle(gd).display;\n",
       "        if (!display || display === 'none') {{\n",
       "            console.log([gd, 'removed!']);\n",
       "            Plotly.purge(gd);\n",
       "            observer.disconnect();\n",
       "        }}\n",
       "}});\n",
       "\n",
       "// Listen for the removal of the full notebook cells\n",
       "var notebookContainer = gd.closest('#notebook-container');\n",
       "if (notebookContainer) {{\n",
       "    x.observe(notebookContainer, {childList: true});\n",
       "}}\n",
       "\n",
       "// Listen for the clearing of the current output cell\n",
       "var outputEl = gd.closest('.output');\n",
       "if (outputEl) {{\n",
       "    x.observe(outputEl, {childList: true});\n",
       "}}\n",
       "\n",
       "                        })                };                });            </script>        </div>"
      ]
     },
     "metadata": {},
     "output_type": "display_data"
    }
   ],
   "source": [
    "# For Comparison - INCOME Map\n",
    "# NOTE: New Jersey only has data for 2 out of the 3 years - 2017 & 2018\n",
    "import plotly.express as px\n",
    "from textwrap import wrap\n",
    "\n",
    "named_colorscales = px.colors.named_colorscales()\n",
    "#print(\"\\n\".join(wrap(\"\".join('{:<12}'.format(c) for c in named_colorscales), 96)))\n",
    "\n",
    "fig = px.choropleth(mapme,  # Input Pandas DataFrame\n",
    "                    locations = \"StateAbbr\",  # DataFrame column with locations\n",
    "                    color = \"INCOME_Prop\",  # DataFrame column with color values\n",
    "                    color_continuous_scale = 'turbo',\n",
    "                    hover_name = \"StateName\", # DataFrame column hover info\n",
    "                    locationmode = 'USA-states') # Set to plot as US States\n",
    "fig.update_layout(\n",
    "    title_text = 'Average Proportion of INCOME in the US by State', # Create a Title\n",
    "    geo_scope ='usa',  # Plot only the USA instead of globe\n",
    ")\n",
    "fig.show() "
   ]
  },
  {
   "cell_type": "code",
   "execution_count": 147,
   "metadata": {},
   "outputs": [],
   "source": [
    "# EDUCAG\n",
    "map_df_dup = brfss.copy()\n",
    "map_df_dup['_LLCPWT2'] = 1\n",
    "mapme = map_df_dup.groupby(['L_STATENM','L_STATEAB','YEAR']).apply(lambda dfx: (dfx[\"_EDUCAG\"] * dfx[\"_LLCPWT2\"]).sum() / dfx[\"_LLCPWT2\"].sum()).reset_index()\n",
    "mapme = mapme.rename(columns = {'L_STATENM':'StateName', 'L_STATEAB':'StateAbbr', 'YEAR':'Year', 0:'EDUC_Prop'})\n",
    "#mapme"
   ]
  },
  {
   "cell_type": "code",
   "execution_count": 148,
   "metadata": {},
   "outputs": [
    {
     "data": {
      "application/vnd.plotly.v1+json": {
       "config": {
        "plotlyServerURL": "https://plot.ly"
       },
       "data": [
        {
         "coloraxis": "coloraxis",
         "geo": "geo",
         "hovertemplate": "<b>%{hovertext}</b><br><br>StateAbbr=%{location}<br>EDUC_Prop=%{z}<extra></extra>",
         "hovertext": [
          "Alabama",
          "Alabama",
          "Alabama",
          "Alaska",
          "Alaska",
          "Alaska",
          "Arizona",
          "Arizona",
          "Arizona",
          "Arkansas",
          "Arkansas",
          "Arkansas",
          "California",
          "California",
          "California",
          "Colorado",
          "Colorado",
          "Colorado",
          "Connecticut",
          "Connecticut",
          "Connecticut",
          "Delaware",
          "Delaware",
          "Delaware",
          "District of Columbia",
          "District of Columbia",
          "District of Columbia",
          "Florida",
          "Florida",
          "Florida",
          "Georgia",
          "Georgia",
          "Georgia",
          "Guam",
          "Guam",
          "Guam",
          "Hawaii",
          "Hawaii",
          "Hawaii",
          "Idaho",
          "Idaho",
          "Idaho",
          "Illinois",
          "Illinois",
          "Illinois",
          "Indiana",
          "Indiana",
          "Indiana",
          "Iowa",
          "Iowa",
          "Iowa",
          "Kansas",
          "Kansas",
          "Kansas",
          "Kentucky",
          "Kentucky",
          "Kentucky",
          "Louisiana",
          "Louisiana",
          "Louisiana",
          "Maine",
          "Maine",
          "Maine",
          "Maryland",
          "Maryland",
          "Maryland",
          "Massachusetts",
          "Massachusetts",
          "Massachusetts",
          "Michigan",
          "Michigan",
          "Michigan",
          "Minnesota",
          "Minnesota",
          "Minnesota",
          "Mississippi",
          "Mississippi",
          "Mississippi",
          "Missouri",
          "Missouri",
          "Missouri",
          "Montana",
          "Montana",
          "Montana",
          "Nebraska",
          "Nebraska",
          "Nebraska",
          "Nevada",
          "Nevada",
          "Nevada",
          "New Hampshire",
          "New Hampshire",
          "New Hampshire",
          "New Jersey",
          "New Jersey",
          "New Mexico",
          "New Mexico",
          "New Mexico",
          "New York",
          "New York",
          "New York",
          "North Carolina",
          "North Carolina",
          "North Carolina",
          "North Dakota",
          "North Dakota",
          "North Dakota",
          "Ohio",
          "Ohio",
          "Ohio",
          "Oklahoma",
          "Oklahoma",
          "Oklahoma",
          "Oregon",
          "Oregon",
          "Oregon",
          "Pennsylvania",
          "Pennsylvania",
          "Pennsylvania",
          "Puerto Rico",
          "Puerto Rico",
          "Puerto Rico",
          "Rhode Island",
          "Rhode Island",
          "Rhode Island",
          "South Carolina",
          "South Carolina",
          "South Carolina",
          "South Dakota",
          "South Dakota",
          "South Dakota",
          "Tennessee",
          "Tennessee",
          "Tennessee",
          "Texas",
          "Texas",
          "Texas",
          "Utah",
          "Utah",
          "Utah",
          "Vermont",
          "Vermont",
          "Vermont",
          "Virginia",
          "Virginia",
          "Virginia",
          "Washington",
          "Washington",
          "Washington",
          "West Virginia",
          "West Virginia",
          "West Virginia",
          "Wisconsin",
          "Wisconsin",
          "Wisconsin",
          "Wyoming",
          "Wyoming",
          "Wyoming"
         ],
         "locationmode": "USA-states",
         "locations": [
          "AL",
          "AL",
          "AL",
          "AK",
          "AK",
          "AK",
          "AZ",
          "AZ",
          "AZ",
          "AR",
          "AR",
          "AR",
          "CA",
          "CA",
          "CA",
          "CO",
          "CO",
          "CO",
          "CT",
          "CT",
          "CT",
          "DE",
          "DE",
          "DE",
          "DC",
          "DC",
          "DC",
          "FL",
          "FL",
          "FL",
          "GA",
          "GA",
          "GA",
          "GU",
          "GU",
          "GU",
          "HI",
          "HI",
          "HI",
          "ID",
          "ID",
          "ID",
          "IL",
          "IL",
          "IL",
          "IN",
          "IN",
          "IN",
          "IA",
          "IA",
          "IA",
          "KS",
          "KS",
          "KS",
          "KY",
          "KY",
          "KY",
          "LA",
          "LA",
          "LA",
          "ME",
          "ME",
          "ME",
          "MD",
          "MD",
          "MD",
          "MA",
          "MA",
          "MA",
          "MI",
          "MI",
          "MI",
          "MN",
          "MN",
          "MN",
          "MS",
          "MS",
          "MS",
          "MO",
          "MO",
          "MO",
          "MT",
          "MT",
          "MT",
          "NE",
          "NE",
          "NE",
          "NV",
          "NV",
          "NV",
          "NH",
          "NH",
          "NH",
          "NJ",
          "NJ",
          "NM",
          "NM",
          "NM",
          "NY",
          "NY",
          "NY",
          "NC",
          "NC",
          "NC",
          "ND",
          "ND",
          "ND",
          "OH",
          "OH",
          "OH",
          "OK",
          "OK",
          "OK",
          "OR",
          "OR",
          "OR",
          "PA",
          "PA",
          "PA",
          "PR",
          "PR",
          "PR",
          "RI",
          "RI",
          "RI",
          "SC",
          "SC",
          "SC",
          "SD",
          "SD",
          "SD",
          "TN",
          "TN",
          "TN",
          "TX",
          "TX",
          "TX",
          "UT",
          "UT",
          "UT",
          "VT",
          "VT",
          "VT",
          "VA",
          "VA",
          "VA",
          "WA",
          "WA",
          "WA",
          "WV",
          "WV",
          "WV",
          "WI",
          "WI",
          "WI",
          "WY",
          "WY",
          "WY"
         ],
         "name": "",
         "type": "choropleth",
         "z": [
          2.771542789458099,
          2.8268240993036633,
          2.863868406125922,
          3.0124882922260383,
          2.962291515591008,
          3.0621430970775947,
          3.0545841667204336,
          2.984670540239832,
          2.9993289341237,
          2.7914317925591883,
          2.765858208955224,
          2.8085463705915283,
          3.033126736482154,
          2.9583857706183405,
          2.9541031602514423,
          3.1698632932054682,
          3.1164175750084278,
          3.146721047547494,
          3.180204004533434,
          3.1635073302829397,
          3.186838371712321,
          2.893210920512201,
          2.893942289317791,
          2.934821657685399,
          3.1923474663908995,
          3.380259267682511,
          3.392911585365854,
          2.8075162065370143,
          2.826072693872195,
          2.8453328616074063,
          2.9002642007926025,
          2.9351961311123054,
          2.8619798748980148,
          2.7858090185676394,
          2.800486618004866,
          2.8573784006595218,
          3.1118132576734587,
          3.089229211492216,
          3.0974752732951587,
          2.988557417245607,
          2.933712121212121,
          2.955608330288637,
          3.073579801623084,
          3.035633484162896,
          3.0852685050798256,
          2.855448694771856,
          2.8500262881177707,
          2.9184843714863953,
          2.94427847772438,
          2.911909718417881,
          2.91502601244517,
          3.044453600695875,
          3.0376085751247457,
          3.077058409570725,
          2.811964822957649,
          2.8344642021525503,
          2.8541509907198397,
          2.8188812642961114,
          2.850731707317073,
          2.8192030521407374,
          3.0544779199339662,
          3.0175918330143103,
          3.020399191066561,
          3.1312923167500735,
          3.1293172232987576,
          3.122969171594236,
          3.2511574074074074,
          3.283400809716599,
          3.239296339412754,
          3.0401322435485354,
          3.051249757798876,
          3.069880205362236,
          3.104825972506581,
          3.106180105944673,
          3.1263916596949612,
          2.8353033884948777,
          2.7247989046722574,
          2.7469761997658995,
          2.8537034600710434,
          2.8663135933237043,
          2.866785323110624,
          2.9242603550295856,
          2.9477842003853563,
          3.0070823710546573,
          2.8550488599348536,
          2.8609402760694276,
          2.8841766967042664,
          2.9351753453772584,
          2.9003724394785846,
          2.920115149334293,
          3.111111111111111,
          3.0967404566846786,
          3.108948087431694,
          3.0873794692379897,
          3.103883495145631,
          2.832823493423065,
          2.8531208103679426,
          2.887866108786611,
          3.044901624622418,
          2.9906338244750748,
          3.071177627880832,
          2.9184296175752644,
          2.897018397124128,
          2.9559132260321905,
          2.9575228832951943,
          2.9886161508360014,
          3.0204192265992047,
          2.845715680690048,
          2.8146987385410953,
          2.8450059101654848,
          2.8731545646279,
          2.8966304968589376,
          2.8910812943962116,
          3.106145251396648,
          3.046585940127817,
          3.044666230366492,
          3.0183430143686945,
          3.0112666988572347,
          3.0554041780199817,
          2.672686733556299,
          2.77988849886434,
          2.760941644562334,
          3.0873579545454546,
          3.0741929730693776,
          3.074468085106383,
          2.84484130492441,
          2.850410403024993,
          2.937167646235656,
          2.909583571021107,
          2.9487359550561796,
          2.984766214177979,
          2.8161903131952766,
          2.852131782945736,
          2.843960269144505,
          2.917421460628315,
          2.951947936168316,
          2.9151825648532164,
          3.038337723148961,
          3.0488497585913095,
          3.0987957937584802,
          3.116022099447514,
          3.1051344743276283,
          3.157968096639306,
          3.0795430944963655,
          3.0463133417304524,
          3.083902733118971,
          3.123879810226674,
          3.1080030487804877,
          3.1172169629800663,
          2.713267543859649,
          2.7514804982642436,
          2.7379739671760044,
          2.9977624784853703,
          2.963170536429143,
          3.013936578468996,
          2.9679587721263725,
          2.9623487225459435,
          3.000647948164147
         ]
        }
       ],
       "layout": {
        "coloraxis": {
         "colorbar": {
          "title": {
           "text": "EDUC_Prop"
          }
         },
         "colorscale": [
          [
           0,
           "#30123b"
          ],
          [
           0.07142857142857142,
           "#4145ab"
          ],
          [
           0.14285714285714285,
           "#4675ed"
          ],
          [
           0.21428571428571427,
           "#39a2fc"
          ],
          [
           0.2857142857142857,
           "#1bcfd4"
          ],
          [
           0.35714285714285715,
           "#24eca6"
          ],
          [
           0.42857142857142855,
           "#61fc6c"
          ],
          [
           0.5,
           "#a4fc3b"
          ],
          [
           0.5714285714285714,
           "#d1e834"
          ],
          [
           0.6428571428571429,
           "#f3c63a"
          ],
          [
           0.7142857142857143,
           "#fe9b2d"
          ],
          [
           0.7857142857142857,
           "#f36315"
          ],
          [
           0.8571428571428571,
           "#d93806"
          ],
          [
           0.9285714285714286,
           "#b11901"
          ],
          [
           1,
           "#7a0402"
          ]
         ]
        },
        "geo": {
         "center": {},
         "domain": {
          "x": [
           0,
           1
          ],
          "y": [
           0,
           1
          ]
         },
         "scope": "usa"
        },
        "legend": {
         "tracegroupgap": 0
        },
        "margin": {
         "t": 60
        },
        "template": {
         "data": {
          "bar": [
           {
            "error_x": {
             "color": "#2a3f5f"
            },
            "error_y": {
             "color": "#2a3f5f"
            },
            "marker": {
             "line": {
              "color": "#E5ECF6",
              "width": 0.5
             }
            },
            "type": "bar"
           }
          ],
          "barpolar": [
           {
            "marker": {
             "line": {
              "color": "#E5ECF6",
              "width": 0.5
             }
            },
            "type": "barpolar"
           }
          ],
          "carpet": [
           {
            "aaxis": {
             "endlinecolor": "#2a3f5f",
             "gridcolor": "white",
             "linecolor": "white",
             "minorgridcolor": "white",
             "startlinecolor": "#2a3f5f"
            },
            "baxis": {
             "endlinecolor": "#2a3f5f",
             "gridcolor": "white",
             "linecolor": "white",
             "minorgridcolor": "white",
             "startlinecolor": "#2a3f5f"
            },
            "type": "carpet"
           }
          ],
          "choropleth": [
           {
            "colorbar": {
             "outlinewidth": 0,
             "ticks": ""
            },
            "type": "choropleth"
           }
          ],
          "contour": [
           {
            "colorbar": {
             "outlinewidth": 0,
             "ticks": ""
            },
            "colorscale": [
             [
              0,
              "#0d0887"
             ],
             [
              0.1111111111111111,
              "#46039f"
             ],
             [
              0.2222222222222222,
              "#7201a8"
             ],
             [
              0.3333333333333333,
              "#9c179e"
             ],
             [
              0.4444444444444444,
              "#bd3786"
             ],
             [
              0.5555555555555556,
              "#d8576b"
             ],
             [
              0.6666666666666666,
              "#ed7953"
             ],
             [
              0.7777777777777778,
              "#fb9f3a"
             ],
             [
              0.8888888888888888,
              "#fdca26"
             ],
             [
              1,
              "#f0f921"
             ]
            ],
            "type": "contour"
           }
          ],
          "contourcarpet": [
           {
            "colorbar": {
             "outlinewidth": 0,
             "ticks": ""
            },
            "type": "contourcarpet"
           }
          ],
          "heatmap": [
           {
            "colorbar": {
             "outlinewidth": 0,
             "ticks": ""
            },
            "colorscale": [
             [
              0,
              "#0d0887"
             ],
             [
              0.1111111111111111,
              "#46039f"
             ],
             [
              0.2222222222222222,
              "#7201a8"
             ],
             [
              0.3333333333333333,
              "#9c179e"
             ],
             [
              0.4444444444444444,
              "#bd3786"
             ],
             [
              0.5555555555555556,
              "#d8576b"
             ],
             [
              0.6666666666666666,
              "#ed7953"
             ],
             [
              0.7777777777777778,
              "#fb9f3a"
             ],
             [
              0.8888888888888888,
              "#fdca26"
             ],
             [
              1,
              "#f0f921"
             ]
            ],
            "type": "heatmap"
           }
          ],
          "heatmapgl": [
           {
            "colorbar": {
             "outlinewidth": 0,
             "ticks": ""
            },
            "colorscale": [
             [
              0,
              "#0d0887"
             ],
             [
              0.1111111111111111,
              "#46039f"
             ],
             [
              0.2222222222222222,
              "#7201a8"
             ],
             [
              0.3333333333333333,
              "#9c179e"
             ],
             [
              0.4444444444444444,
              "#bd3786"
             ],
             [
              0.5555555555555556,
              "#d8576b"
             ],
             [
              0.6666666666666666,
              "#ed7953"
             ],
             [
              0.7777777777777778,
              "#fb9f3a"
             ],
             [
              0.8888888888888888,
              "#fdca26"
             ],
             [
              1,
              "#f0f921"
             ]
            ],
            "type": "heatmapgl"
           }
          ],
          "histogram": [
           {
            "marker": {
             "colorbar": {
              "outlinewidth": 0,
              "ticks": ""
             }
            },
            "type": "histogram"
           }
          ],
          "histogram2d": [
           {
            "colorbar": {
             "outlinewidth": 0,
             "ticks": ""
            },
            "colorscale": [
             [
              0,
              "#0d0887"
             ],
             [
              0.1111111111111111,
              "#46039f"
             ],
             [
              0.2222222222222222,
              "#7201a8"
             ],
             [
              0.3333333333333333,
              "#9c179e"
             ],
             [
              0.4444444444444444,
              "#bd3786"
             ],
             [
              0.5555555555555556,
              "#d8576b"
             ],
             [
              0.6666666666666666,
              "#ed7953"
             ],
             [
              0.7777777777777778,
              "#fb9f3a"
             ],
             [
              0.8888888888888888,
              "#fdca26"
             ],
             [
              1,
              "#f0f921"
             ]
            ],
            "type": "histogram2d"
           }
          ],
          "histogram2dcontour": [
           {
            "colorbar": {
             "outlinewidth": 0,
             "ticks": ""
            },
            "colorscale": [
             [
              0,
              "#0d0887"
             ],
             [
              0.1111111111111111,
              "#46039f"
             ],
             [
              0.2222222222222222,
              "#7201a8"
             ],
             [
              0.3333333333333333,
              "#9c179e"
             ],
             [
              0.4444444444444444,
              "#bd3786"
             ],
             [
              0.5555555555555556,
              "#d8576b"
             ],
             [
              0.6666666666666666,
              "#ed7953"
             ],
             [
              0.7777777777777778,
              "#fb9f3a"
             ],
             [
              0.8888888888888888,
              "#fdca26"
             ],
             [
              1,
              "#f0f921"
             ]
            ],
            "type": "histogram2dcontour"
           }
          ],
          "mesh3d": [
           {
            "colorbar": {
             "outlinewidth": 0,
             "ticks": ""
            },
            "type": "mesh3d"
           }
          ],
          "parcoords": [
           {
            "line": {
             "colorbar": {
              "outlinewidth": 0,
              "ticks": ""
             }
            },
            "type": "parcoords"
           }
          ],
          "pie": [
           {
            "automargin": true,
            "type": "pie"
           }
          ],
          "scatter": [
           {
            "marker": {
             "colorbar": {
              "outlinewidth": 0,
              "ticks": ""
             }
            },
            "type": "scatter"
           }
          ],
          "scatter3d": [
           {
            "line": {
             "colorbar": {
              "outlinewidth": 0,
              "ticks": ""
             }
            },
            "marker": {
             "colorbar": {
              "outlinewidth": 0,
              "ticks": ""
             }
            },
            "type": "scatter3d"
           }
          ],
          "scattercarpet": [
           {
            "marker": {
             "colorbar": {
              "outlinewidth": 0,
              "ticks": ""
             }
            },
            "type": "scattercarpet"
           }
          ],
          "scattergeo": [
           {
            "marker": {
             "colorbar": {
              "outlinewidth": 0,
              "ticks": ""
             }
            },
            "type": "scattergeo"
           }
          ],
          "scattergl": [
           {
            "marker": {
             "colorbar": {
              "outlinewidth": 0,
              "ticks": ""
             }
            },
            "type": "scattergl"
           }
          ],
          "scattermapbox": [
           {
            "marker": {
             "colorbar": {
              "outlinewidth": 0,
              "ticks": ""
             }
            },
            "type": "scattermapbox"
           }
          ],
          "scatterpolar": [
           {
            "marker": {
             "colorbar": {
              "outlinewidth": 0,
              "ticks": ""
             }
            },
            "type": "scatterpolar"
           }
          ],
          "scatterpolargl": [
           {
            "marker": {
             "colorbar": {
              "outlinewidth": 0,
              "ticks": ""
             }
            },
            "type": "scatterpolargl"
           }
          ],
          "scatterternary": [
           {
            "marker": {
             "colorbar": {
              "outlinewidth": 0,
              "ticks": ""
             }
            },
            "type": "scatterternary"
           }
          ],
          "surface": [
           {
            "colorbar": {
             "outlinewidth": 0,
             "ticks": ""
            },
            "colorscale": [
             [
              0,
              "#0d0887"
             ],
             [
              0.1111111111111111,
              "#46039f"
             ],
             [
              0.2222222222222222,
              "#7201a8"
             ],
             [
              0.3333333333333333,
              "#9c179e"
             ],
             [
              0.4444444444444444,
              "#bd3786"
             ],
             [
              0.5555555555555556,
              "#d8576b"
             ],
             [
              0.6666666666666666,
              "#ed7953"
             ],
             [
              0.7777777777777778,
              "#fb9f3a"
             ],
             [
              0.8888888888888888,
              "#fdca26"
             ],
             [
              1,
              "#f0f921"
             ]
            ],
            "type": "surface"
           }
          ],
          "table": [
           {
            "cells": {
             "fill": {
              "color": "#EBF0F8"
             },
             "line": {
              "color": "white"
             }
            },
            "header": {
             "fill": {
              "color": "#C8D4E3"
             },
             "line": {
              "color": "white"
             }
            },
            "type": "table"
           }
          ]
         },
         "layout": {
          "annotationdefaults": {
           "arrowcolor": "#2a3f5f",
           "arrowhead": 0,
           "arrowwidth": 1
          },
          "autotypenumbers": "strict",
          "coloraxis": {
           "colorbar": {
            "outlinewidth": 0,
            "ticks": ""
           }
          },
          "colorscale": {
           "diverging": [
            [
             0,
             "#8e0152"
            ],
            [
             0.1,
             "#c51b7d"
            ],
            [
             0.2,
             "#de77ae"
            ],
            [
             0.3,
             "#f1b6da"
            ],
            [
             0.4,
             "#fde0ef"
            ],
            [
             0.5,
             "#f7f7f7"
            ],
            [
             0.6,
             "#e6f5d0"
            ],
            [
             0.7,
             "#b8e186"
            ],
            [
             0.8,
             "#7fbc41"
            ],
            [
             0.9,
             "#4d9221"
            ],
            [
             1,
             "#276419"
            ]
           ],
           "sequential": [
            [
             0,
             "#0d0887"
            ],
            [
             0.1111111111111111,
             "#46039f"
            ],
            [
             0.2222222222222222,
             "#7201a8"
            ],
            [
             0.3333333333333333,
             "#9c179e"
            ],
            [
             0.4444444444444444,
             "#bd3786"
            ],
            [
             0.5555555555555556,
             "#d8576b"
            ],
            [
             0.6666666666666666,
             "#ed7953"
            ],
            [
             0.7777777777777778,
             "#fb9f3a"
            ],
            [
             0.8888888888888888,
             "#fdca26"
            ],
            [
             1,
             "#f0f921"
            ]
           ],
           "sequentialminus": [
            [
             0,
             "#0d0887"
            ],
            [
             0.1111111111111111,
             "#46039f"
            ],
            [
             0.2222222222222222,
             "#7201a8"
            ],
            [
             0.3333333333333333,
             "#9c179e"
            ],
            [
             0.4444444444444444,
             "#bd3786"
            ],
            [
             0.5555555555555556,
             "#d8576b"
            ],
            [
             0.6666666666666666,
             "#ed7953"
            ],
            [
             0.7777777777777778,
             "#fb9f3a"
            ],
            [
             0.8888888888888888,
             "#fdca26"
            ],
            [
             1,
             "#f0f921"
            ]
           ]
          },
          "colorway": [
           "#636efa",
           "#EF553B",
           "#00cc96",
           "#ab63fa",
           "#FFA15A",
           "#19d3f3",
           "#FF6692",
           "#B6E880",
           "#FF97FF",
           "#FECB52"
          ],
          "font": {
           "color": "#2a3f5f"
          },
          "geo": {
           "bgcolor": "white",
           "lakecolor": "white",
           "landcolor": "#E5ECF6",
           "showlakes": true,
           "showland": true,
           "subunitcolor": "white"
          },
          "hoverlabel": {
           "align": "left"
          },
          "hovermode": "closest",
          "mapbox": {
           "style": "light"
          },
          "paper_bgcolor": "white",
          "plot_bgcolor": "#E5ECF6",
          "polar": {
           "angularaxis": {
            "gridcolor": "white",
            "linecolor": "white",
            "ticks": ""
           },
           "bgcolor": "#E5ECF6",
           "radialaxis": {
            "gridcolor": "white",
            "linecolor": "white",
            "ticks": ""
           }
          },
          "scene": {
           "xaxis": {
            "backgroundcolor": "#E5ECF6",
            "gridcolor": "white",
            "gridwidth": 2,
            "linecolor": "white",
            "showbackground": true,
            "ticks": "",
            "zerolinecolor": "white"
           },
           "yaxis": {
            "backgroundcolor": "#E5ECF6",
            "gridcolor": "white",
            "gridwidth": 2,
            "linecolor": "white",
            "showbackground": true,
            "ticks": "",
            "zerolinecolor": "white"
           },
           "zaxis": {
            "backgroundcolor": "#E5ECF6",
            "gridcolor": "white",
            "gridwidth": 2,
            "linecolor": "white",
            "showbackground": true,
            "ticks": "",
            "zerolinecolor": "white"
           }
          },
          "shapedefaults": {
           "line": {
            "color": "#2a3f5f"
           }
          },
          "ternary": {
           "aaxis": {
            "gridcolor": "white",
            "linecolor": "white",
            "ticks": ""
           },
           "baxis": {
            "gridcolor": "white",
            "linecolor": "white",
            "ticks": ""
           },
           "bgcolor": "#E5ECF6",
           "caxis": {
            "gridcolor": "white",
            "linecolor": "white",
            "ticks": ""
           }
          },
          "title": {
           "x": 0.05
          },
          "xaxis": {
           "automargin": true,
           "gridcolor": "white",
           "linecolor": "white",
           "ticks": "",
           "title": {
            "standoff": 15
           },
           "zerolinecolor": "white",
           "zerolinewidth": 2
          },
          "yaxis": {
           "automargin": true,
           "gridcolor": "white",
           "linecolor": "white",
           "ticks": "",
           "title": {
            "standoff": 15
           },
           "zerolinecolor": "white",
           "zerolinewidth": 2
          }
         }
        },
        "title": {
         "text": "Average Proportion of EDUCATION in the US by State"
        }
       }
      },
      "text/html": [
       "<div>                            <div id=\"531a6f2b-43a2-44bc-89e4-405fb3116416\" class=\"plotly-graph-div\" style=\"height:525px; width:100%;\"></div>            <script type=\"text/javascript\">                require([\"plotly\"], function(Plotly) {                    window.PLOTLYENV=window.PLOTLYENV || {};                                    if (document.getElementById(\"531a6f2b-43a2-44bc-89e4-405fb3116416\")) {                    Plotly.newPlot(                        \"531a6f2b-43a2-44bc-89e4-405fb3116416\",                        [{\"coloraxis\": \"coloraxis\", \"geo\": \"geo\", \"hovertemplate\": \"<b>%{hovertext}</b><br><br>StateAbbr=%{location}<br>EDUC_Prop=%{z}<extra></extra>\", \"hovertext\": [\"Alabama\", \"Alabama\", \"Alabama\", \"Alaska\", \"Alaska\", \"Alaska\", \"Arizona\", \"Arizona\", \"Arizona\", \"Arkansas\", \"Arkansas\", \"Arkansas\", \"California\", \"California\", \"California\", \"Colorado\", \"Colorado\", \"Colorado\", \"Connecticut\", \"Connecticut\", \"Connecticut\", \"Delaware\", \"Delaware\", \"Delaware\", \"District of Columbia\", \"District of Columbia\", \"District of Columbia\", \"Florida\", \"Florida\", \"Florida\", \"Georgia\", \"Georgia\", \"Georgia\", \"Guam\", \"Guam\", \"Guam\", \"Hawaii\", \"Hawaii\", \"Hawaii\", \"Idaho\", \"Idaho\", \"Idaho\", \"Illinois\", \"Illinois\", \"Illinois\", \"Indiana\", \"Indiana\", \"Indiana\", \"Iowa\", \"Iowa\", \"Iowa\", \"Kansas\", \"Kansas\", \"Kansas\", \"Kentucky\", \"Kentucky\", \"Kentucky\", \"Louisiana\", \"Louisiana\", \"Louisiana\", \"Maine\", \"Maine\", \"Maine\", \"Maryland\", \"Maryland\", \"Maryland\", \"Massachusetts\", \"Massachusetts\", \"Massachusetts\", \"Michigan\", \"Michigan\", \"Michigan\", \"Minnesota\", \"Minnesota\", \"Minnesota\", \"Mississippi\", \"Mississippi\", \"Mississippi\", \"Missouri\", \"Missouri\", \"Missouri\", \"Montana\", \"Montana\", \"Montana\", \"Nebraska\", \"Nebraska\", \"Nebraska\", \"Nevada\", \"Nevada\", \"Nevada\", \"New Hampshire\", \"New Hampshire\", \"New Hampshire\", \"New Jersey\", \"New Jersey\", \"New Mexico\", \"New Mexico\", \"New Mexico\", \"New York\", \"New York\", \"New York\", \"North Carolina\", \"North Carolina\", \"North Carolina\", \"North Dakota\", \"North Dakota\", \"North Dakota\", \"Ohio\", \"Ohio\", \"Ohio\", \"Oklahoma\", \"Oklahoma\", \"Oklahoma\", \"Oregon\", \"Oregon\", \"Oregon\", \"Pennsylvania\", \"Pennsylvania\", \"Pennsylvania\", \"Puerto Rico\", \"Puerto Rico\", \"Puerto Rico\", \"Rhode Island\", \"Rhode Island\", \"Rhode Island\", \"South Carolina\", \"South Carolina\", \"South Carolina\", \"South Dakota\", \"South Dakota\", \"South Dakota\", \"Tennessee\", \"Tennessee\", \"Tennessee\", \"Texas\", \"Texas\", \"Texas\", \"Utah\", \"Utah\", \"Utah\", \"Vermont\", \"Vermont\", \"Vermont\", \"Virginia\", \"Virginia\", \"Virginia\", \"Washington\", \"Washington\", \"Washington\", \"West Virginia\", \"West Virginia\", \"West Virginia\", \"Wisconsin\", \"Wisconsin\", \"Wisconsin\", \"Wyoming\", \"Wyoming\", \"Wyoming\"], \"locationmode\": \"USA-states\", \"locations\": [\"AL\", \"AL\", \"AL\", \"AK\", \"AK\", \"AK\", \"AZ\", \"AZ\", \"AZ\", \"AR\", \"AR\", \"AR\", \"CA\", \"CA\", \"CA\", \"CO\", \"CO\", \"CO\", \"CT\", \"CT\", \"CT\", \"DE\", \"DE\", \"DE\", \"DC\", \"DC\", \"DC\", \"FL\", \"FL\", \"FL\", \"GA\", \"GA\", \"GA\", \"GU\", \"GU\", \"GU\", \"HI\", \"HI\", \"HI\", \"ID\", \"ID\", \"ID\", \"IL\", \"IL\", \"IL\", \"IN\", \"IN\", \"IN\", \"IA\", \"IA\", \"IA\", \"KS\", \"KS\", \"KS\", \"KY\", \"KY\", \"KY\", \"LA\", \"LA\", \"LA\", \"ME\", \"ME\", \"ME\", \"MD\", \"MD\", \"MD\", \"MA\", \"MA\", \"MA\", \"MI\", \"MI\", \"MI\", \"MN\", \"MN\", \"MN\", \"MS\", \"MS\", \"MS\", \"MO\", \"MO\", \"MO\", \"MT\", \"MT\", \"MT\", \"NE\", \"NE\", \"NE\", \"NV\", \"NV\", \"NV\", \"NH\", \"NH\", \"NH\", \"NJ\", \"NJ\", \"NM\", \"NM\", \"NM\", \"NY\", \"NY\", \"NY\", \"NC\", \"NC\", \"NC\", \"ND\", \"ND\", \"ND\", \"OH\", \"OH\", \"OH\", \"OK\", \"OK\", \"OK\", \"OR\", \"OR\", \"OR\", \"PA\", \"PA\", \"PA\", \"PR\", \"PR\", \"PR\", \"RI\", \"RI\", \"RI\", \"SC\", \"SC\", \"SC\", \"SD\", \"SD\", \"SD\", \"TN\", \"TN\", \"TN\", \"TX\", \"TX\", \"TX\", \"UT\", \"UT\", \"UT\", \"VT\", \"VT\", \"VT\", \"VA\", \"VA\", \"VA\", \"WA\", \"WA\", \"WA\", \"WV\", \"WV\", \"WV\", \"WI\", \"WI\", \"WI\", \"WY\", \"WY\", \"WY\"], \"name\": \"\", \"type\": \"choropleth\", \"z\": [2.771542789458099, 2.8268240993036633, 2.863868406125922, 3.0124882922260383, 2.962291515591008, 3.0621430970775947, 3.0545841667204336, 2.984670540239832, 2.9993289341237, 2.7914317925591883, 2.765858208955224, 2.8085463705915283, 3.033126736482154, 2.9583857706183405, 2.9541031602514423, 3.1698632932054682, 3.1164175750084278, 3.146721047547494, 3.180204004533434, 3.1635073302829397, 3.186838371712321, 2.893210920512201, 2.893942289317791, 2.934821657685399, 3.1923474663908995, 3.380259267682511, 3.392911585365854, 2.8075162065370143, 2.826072693872195, 2.8453328616074063, 2.9002642007926025, 2.9351961311123054, 2.8619798748980148, 2.7858090185676394, 2.800486618004866, 2.8573784006595218, 3.1118132576734587, 3.089229211492216, 3.0974752732951587, 2.988557417245607, 2.933712121212121, 2.955608330288637, 3.073579801623084, 3.035633484162896, 3.0852685050798256, 2.855448694771856, 2.8500262881177707, 2.9184843714863953, 2.94427847772438, 2.911909718417881, 2.91502601244517, 3.044453600695875, 3.0376085751247457, 3.077058409570725, 2.811964822957649, 2.8344642021525503, 2.8541509907198397, 2.8188812642961114, 2.850731707317073, 2.8192030521407374, 3.0544779199339662, 3.0175918330143103, 3.020399191066561, 3.1312923167500735, 3.1293172232987576, 3.122969171594236, 3.2511574074074074, 3.283400809716599, 3.239296339412754, 3.0401322435485354, 3.051249757798876, 3.069880205362236, 3.104825972506581, 3.106180105944673, 3.1263916596949612, 2.8353033884948777, 2.7247989046722574, 2.7469761997658995, 2.8537034600710434, 2.8663135933237043, 2.866785323110624, 2.9242603550295856, 2.9477842003853563, 3.0070823710546573, 2.8550488599348536, 2.8609402760694276, 2.8841766967042664, 2.9351753453772584, 2.9003724394785846, 2.920115149334293, 3.111111111111111, 3.0967404566846786, 3.108948087431694, 3.0873794692379897, 3.103883495145631, 2.832823493423065, 2.8531208103679426, 2.887866108786611, 3.044901624622418, 2.9906338244750748, 3.071177627880832, 2.9184296175752644, 2.897018397124128, 2.9559132260321905, 2.9575228832951943, 2.9886161508360014, 3.0204192265992047, 2.845715680690048, 2.8146987385410953, 2.8450059101654848, 2.8731545646279, 2.8966304968589376, 2.8910812943962116, 3.106145251396648, 3.046585940127817, 3.044666230366492, 3.0183430143686945, 3.0112666988572347, 3.0554041780199817, 2.672686733556299, 2.77988849886434, 2.760941644562334, 3.0873579545454546, 3.0741929730693776, 3.074468085106383, 2.84484130492441, 2.850410403024993, 2.937167646235656, 2.909583571021107, 2.9487359550561796, 2.984766214177979, 2.8161903131952766, 2.852131782945736, 2.843960269144505, 2.917421460628315, 2.951947936168316, 2.9151825648532164, 3.038337723148961, 3.0488497585913095, 3.0987957937584802, 3.116022099447514, 3.1051344743276283, 3.157968096639306, 3.0795430944963655, 3.0463133417304524, 3.083902733118971, 3.123879810226674, 3.1080030487804877, 3.1172169629800663, 2.713267543859649, 2.7514804982642436, 2.7379739671760044, 2.9977624784853703, 2.963170536429143, 3.013936578468996, 2.9679587721263725, 2.9623487225459435, 3.000647948164147]}],                        {\"coloraxis\": {\"colorbar\": {\"title\": {\"text\": \"EDUC_Prop\"}}, \"colorscale\": [[0.0, \"#30123b\"], [0.07142857142857142, \"#4145ab\"], [0.14285714285714285, \"#4675ed\"], [0.21428571428571427, \"#39a2fc\"], [0.2857142857142857, \"#1bcfd4\"], [0.35714285714285715, \"#24eca6\"], [0.42857142857142855, \"#61fc6c\"], [0.5, \"#a4fc3b\"], [0.5714285714285714, \"#d1e834\"], [0.6428571428571429, \"#f3c63a\"], [0.7142857142857143, \"#fe9b2d\"], [0.7857142857142857, \"#f36315\"], [0.8571428571428571, \"#d93806\"], [0.9285714285714286, \"#b11901\"], [1.0, \"#7a0402\"]]}, \"geo\": {\"center\": {}, \"domain\": {\"x\": [0.0, 1.0], \"y\": [0.0, 1.0]}, \"scope\": \"usa\"}, \"legend\": {\"tracegroupgap\": 0}, \"margin\": {\"t\": 60}, \"template\": {\"data\": {\"bar\": [{\"error_x\": {\"color\": \"#2a3f5f\"}, \"error_y\": {\"color\": \"#2a3f5f\"}, \"marker\": {\"line\": {\"color\": \"#E5ECF6\", \"width\": 0.5}}, \"type\": \"bar\"}], \"barpolar\": [{\"marker\": {\"line\": {\"color\": \"#E5ECF6\", \"width\": 0.5}}, \"type\": \"barpolar\"}], \"carpet\": [{\"aaxis\": {\"endlinecolor\": \"#2a3f5f\", \"gridcolor\": \"white\", \"linecolor\": \"white\", \"minorgridcolor\": \"white\", \"startlinecolor\": \"#2a3f5f\"}, \"baxis\": {\"endlinecolor\": \"#2a3f5f\", \"gridcolor\": \"white\", \"linecolor\": \"white\", \"minorgridcolor\": \"white\", \"startlinecolor\": \"#2a3f5f\"}, \"type\": \"carpet\"}], \"choropleth\": [{\"colorbar\": {\"outlinewidth\": 0, \"ticks\": \"\"}, \"type\": \"choropleth\"}], \"contour\": [{\"colorbar\": {\"outlinewidth\": 0, \"ticks\": \"\"}, \"colorscale\": [[0.0, \"#0d0887\"], [0.1111111111111111, \"#46039f\"], [0.2222222222222222, \"#7201a8\"], [0.3333333333333333, \"#9c179e\"], [0.4444444444444444, \"#bd3786\"], [0.5555555555555556, \"#d8576b\"], [0.6666666666666666, \"#ed7953\"], [0.7777777777777778, \"#fb9f3a\"], [0.8888888888888888, \"#fdca26\"], [1.0, \"#f0f921\"]], \"type\": \"contour\"}], \"contourcarpet\": [{\"colorbar\": {\"outlinewidth\": 0, \"ticks\": \"\"}, \"type\": \"contourcarpet\"}], \"heatmap\": [{\"colorbar\": {\"outlinewidth\": 0, \"ticks\": \"\"}, \"colorscale\": [[0.0, \"#0d0887\"], [0.1111111111111111, \"#46039f\"], [0.2222222222222222, \"#7201a8\"], [0.3333333333333333, \"#9c179e\"], [0.4444444444444444, \"#bd3786\"], [0.5555555555555556, \"#d8576b\"], [0.6666666666666666, \"#ed7953\"], [0.7777777777777778, \"#fb9f3a\"], [0.8888888888888888, \"#fdca26\"], [1.0, \"#f0f921\"]], \"type\": \"heatmap\"}], \"heatmapgl\": [{\"colorbar\": {\"outlinewidth\": 0, \"ticks\": \"\"}, \"colorscale\": [[0.0, \"#0d0887\"], [0.1111111111111111, \"#46039f\"], [0.2222222222222222, \"#7201a8\"], [0.3333333333333333, \"#9c179e\"], [0.4444444444444444, \"#bd3786\"], [0.5555555555555556, \"#d8576b\"], [0.6666666666666666, \"#ed7953\"], [0.7777777777777778, \"#fb9f3a\"], [0.8888888888888888, \"#fdca26\"], [1.0, \"#f0f921\"]], \"type\": \"heatmapgl\"}], \"histogram\": [{\"marker\": {\"colorbar\": {\"outlinewidth\": 0, \"ticks\": \"\"}}, \"type\": \"histogram\"}], \"histogram2d\": [{\"colorbar\": {\"outlinewidth\": 0, \"ticks\": \"\"}, \"colorscale\": [[0.0, \"#0d0887\"], [0.1111111111111111, \"#46039f\"], [0.2222222222222222, \"#7201a8\"], [0.3333333333333333, \"#9c179e\"], [0.4444444444444444, \"#bd3786\"], [0.5555555555555556, \"#d8576b\"], [0.6666666666666666, \"#ed7953\"], [0.7777777777777778, \"#fb9f3a\"], [0.8888888888888888, \"#fdca26\"], [1.0, \"#f0f921\"]], \"type\": \"histogram2d\"}], \"histogram2dcontour\": [{\"colorbar\": {\"outlinewidth\": 0, \"ticks\": \"\"}, \"colorscale\": [[0.0, \"#0d0887\"], [0.1111111111111111, \"#46039f\"], [0.2222222222222222, \"#7201a8\"], [0.3333333333333333, \"#9c179e\"], [0.4444444444444444, \"#bd3786\"], [0.5555555555555556, \"#d8576b\"], [0.6666666666666666, \"#ed7953\"], [0.7777777777777778, \"#fb9f3a\"], [0.8888888888888888, \"#fdca26\"], [1.0, \"#f0f921\"]], \"type\": \"histogram2dcontour\"}], \"mesh3d\": [{\"colorbar\": {\"outlinewidth\": 0, \"ticks\": \"\"}, \"type\": \"mesh3d\"}], \"parcoords\": [{\"line\": {\"colorbar\": {\"outlinewidth\": 0, \"ticks\": \"\"}}, \"type\": \"parcoords\"}], \"pie\": [{\"automargin\": true, \"type\": \"pie\"}], \"scatter\": [{\"marker\": {\"colorbar\": {\"outlinewidth\": 0, \"ticks\": \"\"}}, \"type\": \"scatter\"}], \"scatter3d\": [{\"line\": {\"colorbar\": {\"outlinewidth\": 0, \"ticks\": \"\"}}, \"marker\": {\"colorbar\": {\"outlinewidth\": 0, \"ticks\": \"\"}}, \"type\": \"scatter3d\"}], \"scattercarpet\": [{\"marker\": {\"colorbar\": {\"outlinewidth\": 0, \"ticks\": \"\"}}, \"type\": \"scattercarpet\"}], \"scattergeo\": [{\"marker\": {\"colorbar\": {\"outlinewidth\": 0, \"ticks\": \"\"}}, \"type\": \"scattergeo\"}], \"scattergl\": [{\"marker\": {\"colorbar\": {\"outlinewidth\": 0, \"ticks\": \"\"}}, \"type\": \"scattergl\"}], \"scattermapbox\": [{\"marker\": {\"colorbar\": {\"outlinewidth\": 0, \"ticks\": \"\"}}, \"type\": \"scattermapbox\"}], \"scatterpolar\": [{\"marker\": {\"colorbar\": {\"outlinewidth\": 0, \"ticks\": \"\"}}, \"type\": \"scatterpolar\"}], \"scatterpolargl\": [{\"marker\": {\"colorbar\": {\"outlinewidth\": 0, \"ticks\": \"\"}}, \"type\": \"scatterpolargl\"}], \"scatterternary\": [{\"marker\": {\"colorbar\": {\"outlinewidth\": 0, \"ticks\": \"\"}}, \"type\": \"scatterternary\"}], \"surface\": [{\"colorbar\": {\"outlinewidth\": 0, \"ticks\": \"\"}, \"colorscale\": [[0.0, \"#0d0887\"], [0.1111111111111111, \"#46039f\"], [0.2222222222222222, \"#7201a8\"], [0.3333333333333333, \"#9c179e\"], [0.4444444444444444, \"#bd3786\"], [0.5555555555555556, \"#d8576b\"], [0.6666666666666666, \"#ed7953\"], [0.7777777777777778, \"#fb9f3a\"], [0.8888888888888888, \"#fdca26\"], [1.0, \"#f0f921\"]], \"type\": \"surface\"}], \"table\": [{\"cells\": {\"fill\": {\"color\": \"#EBF0F8\"}, \"line\": {\"color\": \"white\"}}, \"header\": {\"fill\": {\"color\": \"#C8D4E3\"}, \"line\": {\"color\": \"white\"}}, \"type\": \"table\"}]}, \"layout\": {\"annotationdefaults\": {\"arrowcolor\": \"#2a3f5f\", \"arrowhead\": 0, \"arrowwidth\": 1}, \"autotypenumbers\": \"strict\", \"coloraxis\": {\"colorbar\": {\"outlinewidth\": 0, \"ticks\": \"\"}}, \"colorscale\": {\"diverging\": [[0, \"#8e0152\"], [0.1, \"#c51b7d\"], [0.2, \"#de77ae\"], [0.3, \"#f1b6da\"], [0.4, \"#fde0ef\"], [0.5, \"#f7f7f7\"], [0.6, \"#e6f5d0\"], [0.7, \"#b8e186\"], [0.8, \"#7fbc41\"], [0.9, \"#4d9221\"], [1, \"#276419\"]], \"sequential\": [[0.0, \"#0d0887\"], [0.1111111111111111, \"#46039f\"], [0.2222222222222222, \"#7201a8\"], [0.3333333333333333, \"#9c179e\"], [0.4444444444444444, \"#bd3786\"], [0.5555555555555556, \"#d8576b\"], [0.6666666666666666, \"#ed7953\"], [0.7777777777777778, \"#fb9f3a\"], [0.8888888888888888, \"#fdca26\"], [1.0, \"#f0f921\"]], \"sequentialminus\": [[0.0, \"#0d0887\"], [0.1111111111111111, \"#46039f\"], [0.2222222222222222, \"#7201a8\"], [0.3333333333333333, \"#9c179e\"], [0.4444444444444444, \"#bd3786\"], [0.5555555555555556, \"#d8576b\"], [0.6666666666666666, \"#ed7953\"], [0.7777777777777778, \"#fb9f3a\"], [0.8888888888888888, \"#fdca26\"], [1.0, \"#f0f921\"]]}, \"colorway\": [\"#636efa\", \"#EF553B\", \"#00cc96\", \"#ab63fa\", \"#FFA15A\", \"#19d3f3\", \"#FF6692\", \"#B6E880\", \"#FF97FF\", \"#FECB52\"], \"font\": {\"color\": \"#2a3f5f\"}, \"geo\": {\"bgcolor\": \"white\", \"lakecolor\": \"white\", \"landcolor\": \"#E5ECF6\", \"showlakes\": true, \"showland\": true, \"subunitcolor\": \"white\"}, \"hoverlabel\": {\"align\": \"left\"}, \"hovermode\": \"closest\", \"mapbox\": {\"style\": \"light\"}, \"paper_bgcolor\": \"white\", \"plot_bgcolor\": \"#E5ECF6\", \"polar\": {\"angularaxis\": {\"gridcolor\": \"white\", \"linecolor\": \"white\", \"ticks\": \"\"}, \"bgcolor\": \"#E5ECF6\", \"radialaxis\": {\"gridcolor\": \"white\", \"linecolor\": \"white\", \"ticks\": \"\"}}, \"scene\": {\"xaxis\": {\"backgroundcolor\": \"#E5ECF6\", \"gridcolor\": \"white\", \"gridwidth\": 2, \"linecolor\": \"white\", \"showbackground\": true, \"ticks\": \"\", \"zerolinecolor\": \"white\"}, \"yaxis\": {\"backgroundcolor\": \"#E5ECF6\", \"gridcolor\": \"white\", \"gridwidth\": 2, \"linecolor\": \"white\", \"showbackground\": true, \"ticks\": \"\", \"zerolinecolor\": \"white\"}, \"zaxis\": {\"backgroundcolor\": \"#E5ECF6\", \"gridcolor\": \"white\", \"gridwidth\": 2, \"linecolor\": \"white\", \"showbackground\": true, \"ticks\": \"\", \"zerolinecolor\": \"white\"}}, \"shapedefaults\": {\"line\": {\"color\": \"#2a3f5f\"}}, \"ternary\": {\"aaxis\": {\"gridcolor\": \"white\", \"linecolor\": \"white\", \"ticks\": \"\"}, \"baxis\": {\"gridcolor\": \"white\", \"linecolor\": \"white\", \"ticks\": \"\"}, \"bgcolor\": \"#E5ECF6\", \"caxis\": {\"gridcolor\": \"white\", \"linecolor\": \"white\", \"ticks\": \"\"}}, \"title\": {\"x\": 0.05}, \"xaxis\": {\"automargin\": true, \"gridcolor\": \"white\", \"linecolor\": \"white\", \"ticks\": \"\", \"title\": {\"standoff\": 15}, \"zerolinecolor\": \"white\", \"zerolinewidth\": 2}, \"yaxis\": {\"automargin\": true, \"gridcolor\": \"white\", \"linecolor\": \"white\", \"ticks\": \"\", \"title\": {\"standoff\": 15}, \"zerolinecolor\": \"white\", \"zerolinewidth\": 2}}}, \"title\": {\"text\": \"Average Proportion of EDUCATION in the US by State\"}},                        {\"responsive\": true}                    ).then(function(){\n",
       "                            \n",
       "var gd = document.getElementById('531a6f2b-43a2-44bc-89e4-405fb3116416');\n",
       "var x = new MutationObserver(function (mutations, observer) {{\n",
       "        var display = window.getComputedStyle(gd).display;\n",
       "        if (!display || display === 'none') {{\n",
       "            console.log([gd, 'removed!']);\n",
       "            Plotly.purge(gd);\n",
       "            observer.disconnect();\n",
       "        }}\n",
       "}});\n",
       "\n",
       "// Listen for the removal of the full notebook cells\n",
       "var notebookContainer = gd.closest('#notebook-container');\n",
       "if (notebookContainer) {{\n",
       "    x.observe(notebookContainer, {childList: true});\n",
       "}}\n",
       "\n",
       "// Listen for the clearing of the current output cell\n",
       "var outputEl = gd.closest('.output');\n",
       "if (outputEl) {{\n",
       "    x.observe(outputEl, {childList: true});\n",
       "}}\n",
       "\n",
       "                        })                };                });            </script>        </div>"
      ]
     },
     "metadata": {},
     "output_type": "display_data"
    }
   ],
   "source": [
    "# For Comparison - EDUC Map\n",
    "# NOTE: New Jersey only has data for 2 out of the 3 years - 2017 & 2018\n",
    "import plotly.express as px\n",
    "from textwrap import wrap\n",
    "\n",
    "named_colorscales = px.colors.named_colorscales()\n",
    "#print(\"\\n\".join(wrap(\"\".join('{:<12}'.format(c) for c in named_colorscales), 96)))\n",
    "\n",
    "fig = px.choropleth(mapme,  # Input Pandas DataFrame\n",
    "                    locations = \"StateAbbr\",  # DataFrame column with locations\n",
    "                    color = \"EDUC_Prop\",  # DataFrame column with color values\n",
    "                    color_continuous_scale = 'turbo',\n",
    "                    hover_name = \"StateName\", # DataFrame column hover info\n",
    "                    locationmode = 'USA-states') # Set to plot as US States\n",
    "fig.update_layout(\n",
    "    title_text = 'Average Proportion of EDUCATION in the US by State', # Create a Title\n",
    "    geo_scope ='usa',  # Plot only the USA instead of globe\n",
    ")\n",
    "fig.show()"
   ]
  },
  {
   "cell_type": "code",
   "execution_count": null,
   "metadata": {},
   "outputs": [],
   "source": []
  }
 ],
 "metadata": {
  "kernelspec": {
   "display_name": "Python 3",
   "language": "python",
   "name": "python3"
  },
  "language_info": {
   "codemirror_mode": {
    "name": "ipython",
    "version": 3
   },
   "file_extension": ".py",
   "mimetype": "text/x-python",
   "name": "python",
   "nbconvert_exporter": "python",
   "pygments_lexer": "ipython3",
   "version": "3.7.6"
  }
 },
 "nbformat": 4,
 "nbformat_minor": 4
}
