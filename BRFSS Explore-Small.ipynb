{
 "cells": [
  {
   "cell_type": "code",
   "execution_count": 2,
   "metadata": {},
   "outputs": [],
   "source": [
    "import random\n",
    "import numpy as np\n",
    "import pandas as pd\n",
    "import seaborn as sb\n",
    "import matplotlib.pyplot as plt\n",
    "import matplotlib.rcsetup as mrc"
   ]
  },
  {
   "cell_type": "code",
   "execution_count": 61,
   "metadata": {},
   "outputs": [],
   "source": [
    "brfss = pd.read_csv(\"BRFSS_SAMPLE.csv\")"
   ]
  },
  {
   "cell_type": "code",
   "execution_count": 62,
   "metadata": {},
   "outputs": [
    {
     "data": {
      "text/html": [
       "<div>\n",
       "<style scoped>\n",
       "    .dataframe tbody tr th:only-of-type {\n",
       "        vertical-align: middle;\n",
       "    }\n",
       "\n",
       "    .dataframe tbody tr th {\n",
       "        vertical-align: top;\n",
       "    }\n",
       "\n",
       "    .dataframe thead th {\n",
       "        text-align: right;\n",
       "    }\n",
       "</style>\n",
       "<table border=\"1\" class=\"dataframe\">\n",
       "  <thead>\n",
       "    <tr style=\"text-align: right;\">\n",
       "      <th></th>\n",
       "      <th>Unnamed: 0</th>\n",
       "      <th>Unnamed: 1</th>\n",
       "      <th>ID</th>\n",
       "      <th>YEAR</th>\n",
       "      <th>_LLCPWT2</th>\n",
       "      <th>IMONTH</th>\n",
       "      <th>B_ASTHMA</th>\n",
       "      <th>B_CANCER</th>\n",
       "      <th>B_CHCCOPD</th>\n",
       "      <th>B_ADDEPEV</th>\n",
       "      <th>...</th>\n",
       "      <th>L_AGE_G</th>\n",
       "      <th>L_SEX</th>\n",
       "      <th>L_IMPRACE</th>\n",
       "      <th>L_RACE</th>\n",
       "      <th>L_EMPLOY1</th>\n",
       "      <th>L_MARITAL</th>\n",
       "      <th>L_INCOMG</th>\n",
       "      <th>L_EDUCAG</th>\n",
       "      <th>L_BMI5CAT</th>\n",
       "      <th>L_IMONTH</th>\n",
       "    </tr>\n",
       "  </thead>\n",
       "  <tbody>\n",
       "    <tr>\n",
       "      <th>0</th>\n",
       "      <td>LLCP2019.csv</td>\n",
       "      <td>157049</td>\n",
       "      <td>2019157049</td>\n",
       "      <td>2019</td>\n",
       "      <td>111.259862</td>\n",
       "      <td>8</td>\n",
       "      <td>0</td>\n",
       "      <td>1</td>\n",
       "      <td>0</td>\n",
       "      <td>1</td>\n",
       "      <td>...</td>\n",
       "      <td>35-44</td>\n",
       "      <td>FEMALE</td>\n",
       "      <td>White</td>\n",
       "      <td>WHITE</td>\n",
       "      <td>UNABLE</td>\n",
       "      <td>MARRIED</td>\n",
       "      <td>&lt;$15K</td>\n",
       "      <td>SOME COLLEGE</td>\n",
       "      <td>OBESE</td>\n",
       "      <td>August</td>\n",
       "    </tr>\n",
       "    <tr>\n",
       "      <th>1</th>\n",
       "      <td>LLCP2017.csv</td>\n",
       "      <td>311874</td>\n",
       "      <td>2017311874</td>\n",
       "      <td>2017</td>\n",
       "      <td>65.035142</td>\n",
       "      <td>11</td>\n",
       "      <td>0</td>\n",
       "      <td>0</td>\n",
       "      <td>0</td>\n",
       "      <td>0</td>\n",
       "      <td>...</td>\n",
       "      <td>65+</td>\n",
       "      <td>FEMALE</td>\n",
       "      <td>White</td>\n",
       "      <td>WHITE</td>\n",
       "      <td>RETIRED</td>\n",
       "      <td>MARRIED</td>\n",
       "      <td>$50K+</td>\n",
       "      <td>HS GRAD</td>\n",
       "      <td>OBESE</td>\n",
       "      <td>November</td>\n",
       "    </tr>\n",
       "    <tr>\n",
       "      <th>2</th>\n",
       "      <td>LLCP2018.csv</td>\n",
       "      <td>2590</td>\n",
       "      <td>20182590</td>\n",
       "      <td>2018</td>\n",
       "      <td>652.453294</td>\n",
       "      <td>2</td>\n",
       "      <td>0</td>\n",
       "      <td>0</td>\n",
       "      <td>0</td>\n",
       "      <td>1</td>\n",
       "      <td>...</td>\n",
       "      <td>25-34</td>\n",
       "      <td>FEMALE</td>\n",
       "      <td>White</td>\n",
       "      <td>WHITE</td>\n",
       "      <td>UNABLE</td>\n",
       "      <td>WIDOWED</td>\n",
       "      <td>&lt;$15K</td>\n",
       "      <td>&lt; HS</td>\n",
       "      <td>OBESE</td>\n",
       "      <td>February</td>\n",
       "    </tr>\n",
       "    <tr>\n",
       "      <th>3</th>\n",
       "      <td>LLCP2018.csv</td>\n",
       "      <td>10380</td>\n",
       "      <td>201810380</td>\n",
       "      <td>2018</td>\n",
       "      <td>224.436106</td>\n",
       "      <td>11</td>\n",
       "      <td>0</td>\n",
       "      <td>1</td>\n",
       "      <td>0</td>\n",
       "      <td>1</td>\n",
       "      <td>...</td>\n",
       "      <td>65+</td>\n",
       "      <td>FEMALE</td>\n",
       "      <td>White</td>\n",
       "      <td>WHITE</td>\n",
       "      <td>RETIRED</td>\n",
       "      <td>DIVORCED</td>\n",
       "      <td>&lt;$15K</td>\n",
       "      <td>&lt; HS</td>\n",
       "      <td>OBESE</td>\n",
       "      <td>November</td>\n",
       "    </tr>\n",
       "    <tr>\n",
       "      <th>4</th>\n",
       "      <td>LLCP2019.csv</td>\n",
       "      <td>219696</td>\n",
       "      <td>2019219696</td>\n",
       "      <td>2019</td>\n",
       "      <td>1865.812139</td>\n",
       "      <td>7</td>\n",
       "      <td>0</td>\n",
       "      <td>0</td>\n",
       "      <td>0</td>\n",
       "      <td>1</td>\n",
       "      <td>...</td>\n",
       "      <td>18-24</td>\n",
       "      <td>MALE</td>\n",
       "      <td>White</td>\n",
       "      <td>WHITE</td>\n",
       "      <td>EMPLOYED</td>\n",
       "      <td>SEPARATED</td>\n",
       "      <td>$50K+</td>\n",
       "      <td>HS GRAD</td>\n",
       "      <td>NORMAL WEIGHT</td>\n",
       "      <td>July</td>\n",
       "    </tr>\n",
       "  </tbody>\n",
       "</table>\n",
       "<p>5 rows × 44 columns</p>\n",
       "</div>"
      ],
      "text/plain": [
       "     Unnamed: 0  Unnamed: 1          ID  YEAR     _LLCPWT2  IMONTH  B_ASTHMA  \\\n",
       "0  LLCP2019.csv      157049  2019157049  2019   111.259862       8         0   \n",
       "1  LLCP2017.csv      311874  2017311874  2017    65.035142      11         0   \n",
       "2  LLCP2018.csv        2590    20182590  2018   652.453294       2         0   \n",
       "3  LLCP2018.csv       10380   201810380  2018   224.436106      11         0   \n",
       "4  LLCP2019.csv      219696  2019219696  2019  1865.812139       7         0   \n",
       "\n",
       "   B_CANCER  B_CHCCOPD  B_ADDEPEV  ...  L_AGE_G   L_SEX  L_IMPRACE  L_RACE  \\\n",
       "0         1          0          1  ...    35-44  FEMALE      White   WHITE   \n",
       "1         0          0          0  ...      65+  FEMALE      White   WHITE   \n",
       "2         0          0          1  ...    25-34  FEMALE      White   WHITE   \n",
       "3         1          0          1  ...      65+  FEMALE      White   WHITE   \n",
       "4         0          0          1  ...    18-24    MALE      White   WHITE   \n",
       "\n",
       "   L_EMPLOY1  L_MARITAL  L_INCOMG      L_EDUCAG      L_BMI5CAT  L_IMONTH  \n",
       "0     UNABLE    MARRIED     <$15K  SOME COLLEGE          OBESE    August  \n",
       "1    RETIRED    MARRIED     $50K+       HS GRAD          OBESE  November  \n",
       "2     UNABLE    WIDOWED     <$15K          < HS          OBESE  February  \n",
       "3    RETIRED   DIVORCED     <$15K          < HS          OBESE  November  \n",
       "4   EMPLOYED  SEPARATED     $50K+       HS GRAD  NORMAL WEIGHT      July  \n",
       "\n",
       "[5 rows x 44 columns]"
      ]
     },
     "execution_count": 62,
     "metadata": {},
     "output_type": "execute_result"
    }
   ],
   "source": [
    "brfss.head()"
   ]
  },
  {
   "cell_type": "code",
   "execution_count": 63,
   "metadata": {},
   "outputs": [
    {
     "name": "stdout",
     "output_type": "stream",
     "text": [
      "<class 'pandas.core.frame.DataFrame'>\n",
      "RangeIndex: 50000 entries, 0 to 49999\n",
      "Data columns (total 44 columns):\n",
      " #   Column      Non-Null Count  Dtype  \n",
      "---  ------      --------------  -----  \n",
      " 0   Unnamed: 0  50000 non-null  object \n",
      " 1   Unnamed: 1  50000 non-null  int64  \n",
      " 2   ID          50000 non-null  int64  \n",
      " 3   YEAR        50000 non-null  int64  \n",
      " 4   _LLCPWT2    50000 non-null  float64\n",
      " 5   IMONTH      50000 non-null  int64  \n",
      " 6   B_ASTHMA    50000 non-null  int64  \n",
      " 7   B_CANCER    50000 non-null  int64  \n",
      " 8   B_CHCCOPD   50000 non-null  int64  \n",
      " 9   B_ADDEPEV   50000 non-null  int64  \n",
      " 10  B_DIABETE   50000 non-null  int64  \n",
      " 11  B_HEART     50000 non-null  int64  \n",
      " 12  COMORB_1    50000 non-null  int64  \n",
      " 13  TOTCHRONIC  50000 non-null  int64  \n",
      " 14  CHRONICGRP  50000 non-null  int64  \n",
      " 15  _STATE      50000 non-null  int64  \n",
      " 16  _AGEG5YR    50000 non-null  int64  \n",
      " 17  _AGE_G      50000 non-null  int64  \n",
      " 18  SEX         49945 non-null  float64\n",
      " 19  _IMPRACE    50000 non-null  int64  \n",
      " 20  B_RACE      50000 non-null  int64  \n",
      " 21  _INCOMG     50000 non-null  int64  \n",
      " 22  _EDUCAG     50000 non-null  int64  \n",
      " 23  MARITAL     49995 non-null  float64\n",
      " 24  B_COUPLED   50000 non-null  int64  \n",
      " 25  HLTHPLN1    50000 non-null  float64\n",
      " 26  EMPLOY1     49839 non-null  float64\n",
      " 27  _BMI5CAT    45865 non-null  float64\n",
      " 28  _SMOKER3    50000 non-null  int64  \n",
      " 29  B_SMOKER    50000 non-null  int64  \n",
      " 30  B_HLTHPLN   50000 non-null  int64  \n",
      " 31  WEIGHT      50000 non-null  float64\n",
      " 32  L_STATENM   50000 non-null  object \n",
      " 33  L_STATEAB   50000 non-null  object \n",
      " 34  L_AGE_G     50000 non-null  object \n",
      " 35  L_SEX       49945 non-null  object \n",
      " 36  L_IMPRACE   50000 non-null  object \n",
      " 37  L_RACE      50000 non-null  object \n",
      " 38  L_EMPLOY1   49411 non-null  object \n",
      " 39  L_MARITAL   49627 non-null  object \n",
      " 40  L_INCOMG    41135 non-null  object \n",
      " 41  L_EDUCAG    49805 non-null  object \n",
      " 42  L_BMI5CAT   45865 non-null  object \n",
      " 43  L_IMONTH    50000 non-null  object \n",
      "dtypes: float64(7), int64(24), object(13)\n",
      "memory usage: 16.8+ MB\n"
     ]
    }
   ],
   "source": [
    "brfss.info()"
   ]
  },
  {
   "cell_type": "code",
   "execution_count": 64,
   "metadata": {},
   "outputs": [
    {
     "data": {
      "text/html": [
       "<div>\n",
       "<style scoped>\n",
       "    .dataframe tbody tr th:only-of-type {\n",
       "        vertical-align: middle;\n",
       "    }\n",
       "\n",
       "    .dataframe tbody tr th {\n",
       "        vertical-align: top;\n",
       "    }\n",
       "\n",
       "    .dataframe thead th {\n",
       "        text-align: right;\n",
       "    }\n",
       "</style>\n",
       "<table border=\"1\" class=\"dataframe\">\n",
       "  <thead>\n",
       "    <tr style=\"text-align: right;\">\n",
       "      <th>TOTCHRONIC</th>\n",
       "      <th>0</th>\n",
       "      <th>1</th>\n",
       "      <th>2</th>\n",
       "      <th>3</th>\n",
       "      <th>4</th>\n",
       "      <th>5</th>\n",
       "      <th>6</th>\n",
       "    </tr>\n",
       "    <tr>\n",
       "      <th>CHRONICGRP</th>\n",
       "      <th></th>\n",
       "      <th></th>\n",
       "      <th></th>\n",
       "      <th></th>\n",
       "      <th></th>\n",
       "      <th></th>\n",
       "      <th></th>\n",
       "    </tr>\n",
       "  </thead>\n",
       "  <tbody>\n",
       "    <tr>\n",
       "      <th>0</th>\n",
       "      <td>28146</td>\n",
       "      <td>0</td>\n",
       "      <td>0</td>\n",
       "      <td>0</td>\n",
       "      <td>0</td>\n",
       "      <td>0</td>\n",
       "      <td>0</td>\n",
       "    </tr>\n",
       "    <tr>\n",
       "      <th>1</th>\n",
       "      <td>0</td>\n",
       "      <td>14314</td>\n",
       "      <td>0</td>\n",
       "      <td>0</td>\n",
       "      <td>0</td>\n",
       "      <td>0</td>\n",
       "      <td>0</td>\n",
       "    </tr>\n",
       "    <tr>\n",
       "      <th>2</th>\n",
       "      <td>0</td>\n",
       "      <td>0</td>\n",
       "      <td>5176</td>\n",
       "      <td>0</td>\n",
       "      <td>0</td>\n",
       "      <td>0</td>\n",
       "      <td>0</td>\n",
       "    </tr>\n",
       "    <tr>\n",
       "      <th>3</th>\n",
       "      <td>0</td>\n",
       "      <td>0</td>\n",
       "      <td>0</td>\n",
       "      <td>1754</td>\n",
       "      <td>492</td>\n",
       "      <td>103</td>\n",
       "      <td>15</td>\n",
       "    </tr>\n",
       "  </tbody>\n",
       "</table>\n",
       "</div>"
      ],
      "text/plain": [
       "TOTCHRONIC      0      1     2     3    4    5   6\n",
       "CHRONICGRP                                        \n",
       "0           28146      0     0     0    0    0   0\n",
       "1               0  14314     0     0    0    0   0\n",
       "2               0      0  5176     0    0    0   0\n",
       "3               0      0     0  1754  492  103  15"
      ]
     },
     "execution_count": 64,
     "metadata": {},
     "output_type": "execute_result"
    }
   ],
   "source": [
    "pd.crosstab(brfss[\"CHRONICGRP\"], brfss[\"TOTCHRONIC\"])"
   ]
  },
  {
   "cell_type": "code",
   "execution_count": 65,
   "metadata": {},
   "outputs": [
    {
     "data": {
      "text/plain": [
       "<seaborn.axisgrid.FacetGrid at 0x7f98e2d68ed0>"
      ]
     },
     "execution_count": 65,
     "metadata": {},
     "output_type": "execute_result"
    },
    {
     "data": {
      "image/png": "[encoded data removed]",
      "text/plain": [
       "<Figure size 360x360 with 1 Axes>"
      ]
     },
     "metadata": {
      "needs_background": "light"
     },
     "output_type": "display_data"
    }
   ],
   "source": [
    "sb.catplot(x=\"COMORB_1\", kind=\"count\", palette=\"ch:.25\", data=brfss)"
   ]
  },
  {
   "cell_type": "code",
   "execution_count": 66,
   "metadata": {
    "scrolled": true
   },
   "outputs": [
    {
     "data": {
      "text/plain": [
       "<seaborn.axisgrid.FacetGrid at 0x7f98e1179610>"
      ]
     },
     "execution_count": 66,
     "metadata": {},
     "output_type": "execute_result"
    },
    {
     "data": {
      "image/png": "[encoded data removed]",
      "text/plain": [
       "<Figure size 360x360 with 1 Axes>"
      ]
     },
     "metadata": {
      "needs_background": "light"
     },
     "output_type": "display_data"
    }
   ],
   "source": [
    "sb.catplot(x=\"CHRONICGRP\", kind=\"count\", palette=\"ch:.25\", data=brfss)"
   ]
  },
  {
   "cell_type": "code",
   "execution_count": 67,
   "metadata": {
    "scrolled": false
   },
   "outputs": [
    {
     "data": {
      "text/plain": [
       "<seaborn.axisgrid.FacetGrid at 0x7f98e130fa50>"
      ]
     },
     "execution_count": 67,
     "metadata": {},
     "output_type": "execute_result"
    },
    {
     "data": {
      "image/png": "[encoded data removed]",
      "text/plain": [
       "<Figure size 435.25x360 with 1 Axes>"
      ]
     },
     "metadata": {
      "needs_background": "light"
     },
     "output_type": "display_data"
    }
   ],
   "source": [
    "# 13 Age Groups broken out by SEX; group 14 is blank/NA\n",
    "sb.catplot(x=\"_AGEG5YR\", y=\"CHRONICGRP\", hue=\"L_SEX\", kind=\"bar\", palette=\"ch:.25\", data=brfss)"
   ]
  },
  {
   "cell_type": "code",
   "execution_count": 68,
   "metadata": {},
   "outputs": [
    {
     "data": {
      "text/plain": [
       "<seaborn.axisgrid.FacetGrid at 0x7f98bf8c76d0>"
      ]
     },
     "execution_count": 68,
     "metadata": {},
     "output_type": "execute_result"
    },
    {
     "data": {
      "image/png": "[encoded data removed]",
      "text/plain": [
       "<Figure size 435.25x360 with 1 Axes>"
      ]
     },
     "metadata": {
      "needs_background": "light"
     },
     "output_type": "display_data"
    }
   ],
   "source": [
    "# 6 AGE GROUPS 1 18-25, 2 25-34, 3 35-44, 4 45-54, 5 55-64, 6 65+\n",
    "sb.catplot(x=\"_AGE_G\", y=\"CHRONICGRP\", hue=\"L_SEX\", kind=\"bar\", palette=\"ch:.25\", data=brfss)"
   ]
  },
  {
   "cell_type": "code",
   "execution_count": 69,
   "metadata": {},
   "outputs": [
    {
     "data": {
      "text/plain": [
       "<seaborn.axisgrid.FacetGrid at 0x7f98e10001d0>"
      ]
     },
     "execution_count": 69,
     "metadata": {},
     "output_type": "execute_result"
    },
    {
     "data": {
      "image/png": "[encoded data removed]",
      "text/plain": [
       "<Figure size 422.125x360 with 1 Axes>"
      ]
     },
     "metadata": {
      "needs_background": "light"
     },
     "output_type": "display_data"
    }
   ],
   "source": [
    "# 13 Age Groups broken out by SMOKING STATUS; group 14 is blank/NA; 0 is Non-Smoker\n",
    "sb.catplot(x=\"_AGEG5YR\", y=\"CHRONICGRP\", hue=\"B_SMOKER\", kind=\"bar\", palette=\"ch:.25\", data=brfss)"
   ]
  },
  {
   "cell_type": "code",
   "execution_count": 70,
   "metadata": {},
   "outputs": [
    {
     "data": {
      "text/plain": [
       "<AxesSubplot:xlabel='CHRONICGRP', ylabel='Proportion'>"
      ]
     },
     "execution_count": 70,
     "metadata": {},
     "output_type": "execute_result"
    },
    {
     "data": {
      "image/png": "[encoded data removed]",
      "text/plain": [
       "<Figure size 432x288 with 1 Axes>"
      ]
     },
     "metadata": {
      "needs_background": "light"
     },
     "output_type": "display_data"
    }
   ],
   "source": [
    "# Note this looks good / elegant, but takes an impossibly long time:\n",
    "# sb.barplot(x='_IMPRACE', y='CHRONICGRP', data=brfss, estimator=lambda x: sum(x==0)*100.0/len(x))\n",
    "\n",
    "# This doesn't look as good, but it only takes 1 second to run. :)\n",
    "x, y, hue = \"CHRONICGRP\", \"Proportion\", \"L_RACE\"\n",
    "hue_order = [\"WHITE\", \"BIPOC\"]\n",
    "(brfss[x]\n",
    " .groupby(brfss[hue])\n",
    " .value_counts(normalize=True)\n",
    " .rename(y)\n",
    " .reset_index()\n",
    " .pipe((sb.barplot, \"data\"), x=x, y=y, palette=\"ch:.25\", hue=hue, hue_order=hue_order))"
   ]
  },
  {
   "cell_type": "code",
   "execution_count": 71,
   "metadata": {},
   "outputs": [
    {
     "data": {
      "text/plain": [
       "<AxesSubplot:xlabel='_INCOMG', ylabel='Proportion'>"
      ]
     },
     "execution_count": 71,
     "metadata": {},
     "output_type": "execute_result"
    },
    {
     "data": {
      "image/png": "[encoded data removed]",
      "text/plain": [
       "<Figure size 432x288 with 1 Axes>"
      ]
     },
     "metadata": {
      "needs_background": "light"
     },
     "output_type": "display_data"
    }
   ],
   "source": [
    "# INCOME GROUPS: 1 <$15K, 2 $15K-$25K, 3 $25K-$35K, 4 $35K-$50K, 5 $50K 9 REFUSED / BLANK\n",
    "x, y, hue = \"_INCOMG\", \"Proportion\", \"L_IMPRACE\"\n",
    "hue_order = [\"White\", \"Asian Am\", \"Black / African Am\", \"Hispanic\", \"Native Am/PI/AK Native\", \"Other\"]\n",
    "(brfss[x]\n",
    " .groupby(brfss[hue])\n",
    " .value_counts(normalize=True)\n",
    " .rename(y)\n",
    " .reset_index()\n",
    " .pipe((sb.barplot, \"data\"), x=x, y=y, hue=hue, hue_order=hue_order))"
   ]
  },
  {
   "cell_type": "code",
   "execution_count": 72,
   "metadata": {},
   "outputs": [
    {
     "data": {
      "text/plain": [
       "<seaborn.axisgrid.FacetGrid at 0x7f98e0228650>"
      ]
     },
     "execution_count": 72,
     "metadata": {},
     "output_type": "execute_result"
    },
    {
     "data": {
      "image/png": "[encoded data removed]",
      "text/plain": [
       "<Figure size 512.5x360 with 1 Axes>"
      ]
     },
     "metadata": {
      "needs_background": "light"
     },
     "output_type": "display_data"
    }
   ],
   "source": [
    "# _Educag 1 < HS, 2 HS GRAD, 3 SOME COLLEGE, 4 COLLEGE GRAD, 9 REFUSED / BLANK\n",
    "x, y, hue = \"_EDUCAG\", \"Proportion\", \"L_IMPRACE\"\n",
    "hue_order = [\"White\", \"Asian Am\", \"Black / African Am\", \"Hispanic\", \"Native Am/PI/AK Native\", \"Other\"]\n",
    "sd = brfss[\"_EDUCAG\"].groupby(brfss[\"L_IMPRACE\"]).value_counts(normalize=True).rename(y).reset_index()\n",
    "sb.catplot(x=\"_EDUCAG\", y=\"Proportion\", hue=\"L_IMPRACE\", hue_order=hue_order, kind=\"bar\", data=sd)"
   ]
  },
  {
   "cell_type": "code",
   "execution_count": 73,
   "metadata": {
    "scrolled": true
   },
   "outputs": [
    {
     "data": {
      "text/plain": [
       "<seaborn.axisgrid.FacetGrid at 0x7f98e02bd310>"
      ]
     },
     "execution_count": 73,
     "metadata": {},
     "output_type": "execute_result"
    },
    {
     "data": {
      "image/png": "[encoded data removed]",
      "text/plain": [
       "<Figure size 443.625x360 with 1 Axes>"
      ]
     },
     "metadata": {
      "needs_background": "light"
     },
     "output_type": "display_data"
    }
   ],
   "source": [
    "# Employ1: 1 Employed, 2 Self-Employed, 3 OOW 1+ yrs, 4 OOW <1 yr, 5 Homemaker, 6 Student, \n",
    "# 7 Retired, 8 Unable, _ Refused or Blank\n",
    "hue_order = [\"$15K\", \"$15K-25K\", \"$25K-35K\", \"$35-50K\", \"$50K+\", \"\"]\n",
    "sb.catplot(x=\"EMPLOY1\", y=\"CHRONICGRP\", hue=\"L_INCOMG\", hue_order=hue_order, \n",
    "           kind=\"point\", palette=\"ch:.25\", data=brfss)"
   ]
  },
  {
   "cell_type": "code",
   "execution_count": 74,
   "metadata": {},
   "outputs": [
    {
     "data": {
      "text/plain": [
       "<seaborn.axisgrid.FacetGrid at 0x7f98bfd51450>"
      ]
     },
     "execution_count": 74,
     "metadata": {},
     "output_type": "execute_result"
    },
    {
     "data": {
      "image/png": "[encoded data removed]",
      "text/plain": [
       "<Figure size 443.625x360 with 1 Axes>"
      ]
     },
     "metadata": {
      "needs_background": "light"
     },
     "output_type": "display_data"
    }
   ],
   "source": [
    "# People in technical jobs have more stress? \n",
    "# _Educag 1 < HS, 2 HS GRAD, 3 SOME COLLEGE, 4 COLLEGE GRAD, 9 REFUSED / BLANK\n",
    "hue_order = [\"$15K\", \"$15K-25K\", \"$25K-35K\", \"$35K-50K\", \"$50K+\", \"\"]\n",
    "sb.catplot(x=\"_EDUCAG\", y=\"CHRONICGRP\", hue=\"L_INCOMG\", hue_order=hue_order, \n",
    "           kind=\"point\", palette=\"ch:.25\", data=brfss)"
   ]
  },
  {
   "cell_type": "code",
   "execution_count": 75,
   "metadata": {},
   "outputs": [
    {
     "data": {
      "text/plain": [
       "<seaborn.axisgrid.FacetGrid at 0x7f98e3894b90>"
      ]
     },
     "execution_count": 75,
     "metadata": {},
     "output_type": "execute_result"
    },
    {
     "data": {
      "image/png": "[encoded data removed]",
      "text/plain": [
       "<Figure size 443.625x360 with 1 Axes>"
      ]
     },
     "metadata": {
      "needs_background": "light"
     },
     "output_type": "display_data"
    }
   ],
   "source": [
    "# MARITAL 1 Married 2 Divorced 3 Widowed 4 Separated 5 Never Married 6 Unmarried Couple 9 Refused / Blank\n",
    "hue_order = [\"$15K\", \"$15K-25K\", \"$25K-35K\", \"$35K-50K\", \"$50K+\", \"\"]\n",
    "sb.catplot(x=\"MARITAL\", y=\"CHRONICGRP\", hue=\"L_INCOMG\", hue_order=hue_order, \n",
    "           kind=\"point\", palette=\"ch:.25\", data=brfss)"
   ]
  },
  {
   "cell_type": "code",
   "execution_count": 76,
   "metadata": {},
   "outputs": [
    {
     "data": {
      "text/plain": [
       "<seaborn.axisgrid.FacetGrid at 0x7f98bfd1d490>"
      ]
     },
     "execution_count": 76,
     "metadata": {},
     "output_type": "execute_result"
    },
    {
     "data": {
      "image/png": "[encoded data removed]",
      "text/plain": [
       "<Figure size 427.375x360 with 1 Axes>"
      ]
     },
     "metadata": {
      "needs_background": "light"
     },
     "output_type": "display_data"
    }
   ],
   "source": [
    "# Coupled is a computed variable where True = Married or Unmarried couple, and False = everything else\n",
    "# _IMPRACE - 1 White 2 Black 3 Asian 4 Native / PI 5 Hispanic 6 Other\n",
    "hue_order = [True, False]\n",
    "sb.catplot(x=\"_IMPRACE\", y=\"CHRONICGRP\", hue=\"B_COUPLED\", hue_order=hue_order,\n",
    "           kind=\"point\", palette=\"ch:.25\", data=brfss)"
   ]
  },
  {
   "cell_type": "code",
   "execution_count": 77,
   "metadata": {},
   "outputs": [
    {
     "data": {
      "text/plain": [
       "<seaborn.axisgrid.FacetGrid at 0x7f98bfbb0450>"
      ]
     },
     "execution_count": 77,
     "metadata": {},
     "output_type": "execute_result"
    },
    {
     "data": {
      "image/png": "[encoded data removed]",
      "text/plain": [
       "<Figure size 512.5x360 with 1 Axes>"
      ]
     },
     "metadata": {
      "needs_background": "light"
     },
     "output_type": "display_data"
    }
   ],
   "source": [
    "# BMI Groups 1: < 18.5 (Underweight), 2: 18.5 - 25 (Normal), 3: 25 - 30 (Overweight), 4: 30+ (Obese)\n",
    "hue_order = [\"White\", \"Asian Am\", \"Black / African Am\", \"Hispanic\", \"Native Am/PI/AK Native\", \"Other\"]\n",
    "sb.catplot(x=\"_BMI5CAT\", y=\"CHRONICGRP\", hue=\"L_IMPRACE\", hue_order=hue_order,\n",
    "           kind=\"point\", data=brfss)"
   ]
  },
  {
   "cell_type": "code",
   "execution_count": 78,
   "metadata": {},
   "outputs": [
    {
     "data": {
      "text/plain": [
       "<seaborn.axisgrid.FacetGrid at 0x7f98e0035fd0>"
      ]
     },
     "execution_count": 78,
     "metadata": {},
     "output_type": "execute_result"
    },
    {
     "data": {
      "image/png": "[encoded data removed]",
      "text/plain": [
       "<Figure size 443.625x360 with 1 Axes>"
      ]
     },
     "metadata": {
      "needs_background": "light"
     },
     "output_type": "display_data"
    }
   ],
   "source": [
    "# No differences - BMI is a VERY STRONG predictor of chronic conditions\n",
    "# BMI Groups 1: < 18.5 (Underweight), 2: 18.5 - 25 (Normal), 3: 25 - 30 (Overweight), 4: 30+ (Obese)\n",
    "hue_order = [\"$15K\", \"$15K-25K\", \"$25K-35K\", \"$35K-50K\", \"$50K+\", \"\"]\n",
    "sb.catplot(x=\"CHRONICGRP\", y=\"_BMI5CAT\", hue=\"L_INCOMG\", hue_order=hue_order, \n",
    "           kind=\"point\", data=brfss)"
   ]
  },
  {
   "cell_type": "code",
   "execution_count": 79,
   "metadata": {},
   "outputs": [
    {
     "data": {
      "text/plain": [
       "<seaborn.axisgrid.FacetGrid at 0x7f98bfb0b410>"
      ]
     },
     "execution_count": 79,
     "metadata": {},
     "output_type": "execute_result"
    },
    {
     "data": {
      "image/png": "[encoded data removed]",
      "text/plain": [
       "<Figure size 473.875x360 with 1 Axes>"
      ]
     },
     "metadata": {
      "needs_background": "light"
     },
     "output_type": "display_data"
    }
   ],
   "source": [
    "# Basically no difference \n",
    "# BMI Groups 1: < 18.5 (Underweight), 2: 18.5 - 25 (Normal), 3: 25 - 30 (Overweight), 4: 30+ (Obese)\n",
    "hue_order = [\"lt HS\", \"HS GRAD\", \"SOME COLLEGE\", \"COLLEGE GRAD\", \"\"]\n",
    "sb.catplot(x=\"CHRONICGRP\", y=\"_BMI5CAT\", hue=\"L_EDUCAG\", hue_order=hue_order, \n",
    "           kind=\"point\", data=brfss)"
   ]
  },
  {
   "cell_type": "code",
   "execution_count": 80,
   "metadata": {},
   "outputs": [
    {
     "data": {
      "text/plain": [
       "<seaborn.axisgrid.FacetGrid at 0x7f98e04fdd10>"
      ]
     },
     "execution_count": 80,
     "metadata": {},
     "output_type": "execute_result"
    },
    {
     "data": {
      "image/png": "[encoded data removed]",
      "text/plain": [
       "<Figure size 476.625x360 with 1 Axes>"
      ]
     },
     "metadata": {
      "needs_background": "light"
     },
     "output_type": "display_data"
    }
   ],
   "source": [
    "# BMI Groups 1: < 18.5 (Underweight), 2: 18.5 - 25 (Normal), 3: 25 - 30 (Overweight), 4: 30+ (Obese)\n",
    "sb.catplot(x=\"CHRONICGRP\", y=\"_BMI5CAT\", hue=\"L_EMPLOY1\", \n",
    "           kind=\"point\", data=brfss)"
   ]
  },
  {
   "cell_type": "code",
   "execution_count": 81,
   "metadata": {},
   "outputs": [
    {
     "data": {
      "text/plain": [
       "<seaborn.axisgrid.FacetGrid at 0x7f98bf865950>"
      ]
     },
     "execution_count": 81,
     "metadata": {},
     "output_type": "execute_result"
    },
    {
     "data": {
      "image/png": "[encoded data removed]",
      "text/plain": [
       "<Figure size 499.875x360 with 1 Axes>"
      ]
     },
     "metadata": {
      "needs_background": "light"
     },
     "output_type": "display_data"
    }
   ],
   "source": [
    "# BMI Groups 1: < 18.5 (Underweight), 2: 18.5 - 25 (Normal), 3: 25 - 30 (Overweight), 4: 30+ (Obese)\n",
    "sb.catplot(x=\"CHRONICGRP\", y=\"_BMI5CAT\", hue=\"L_MARITAL\", \n",
    "           kind=\"point\", data=brfss)"
   ]
  },
  {
   "cell_type": "code",
   "execution_count": 82,
   "metadata": {},
   "outputs": [
    {
     "data": {
      "text/html": [
       "<div>\n",
       "<style scoped>\n",
       "    .dataframe tbody tr th:only-of-type {\n",
       "        vertical-align: middle;\n",
       "    }\n",
       "\n",
       "    .dataframe tbody tr th {\n",
       "        vertical-align: top;\n",
       "    }\n",
       "\n",
       "    .dataframe thead th {\n",
       "        text-align: right;\n",
       "    }\n",
       "</style>\n",
       "<table border=\"1\" class=\"dataframe\">\n",
       "  <thead>\n",
       "    <tr style=\"text-align: right;\">\n",
       "      <th></th>\n",
       "      <th>StateName</th>\n",
       "      <th>StateAbbr</th>\n",
       "      <th>Year</th>\n",
       "      <th>TotalComorb</th>\n",
       "    </tr>\n",
       "  </thead>\n",
       "  <tbody>\n",
       "    <tr>\n",
       "      <th>0</th>\n",
       "      <td>Alabama</td>\n",
       "      <td>AL</td>\n",
       "      <td>2017</td>\n",
       "      <td>0.745275</td>\n",
       "    </tr>\n",
       "    <tr>\n",
       "      <th>1</th>\n",
       "      <td>Alabama</td>\n",
       "      <td>AL</td>\n",
       "      <td>2018</td>\n",
       "      <td>0.879185</td>\n",
       "    </tr>\n",
       "    <tr>\n",
       "      <th>2</th>\n",
       "      <td>Alabama</td>\n",
       "      <td>AL</td>\n",
       "      <td>2019</td>\n",
       "      <td>0.698989</td>\n",
       "    </tr>\n",
       "    <tr>\n",
       "      <th>3</th>\n",
       "      <td>Alaska</td>\n",
       "      <td>AK</td>\n",
       "      <td>2017</td>\n",
       "      <td>0.489418</td>\n",
       "    </tr>\n",
       "    <tr>\n",
       "      <th>4</th>\n",
       "      <td>Alaska</td>\n",
       "      <td>AK</td>\n",
       "      <td>2018</td>\n",
       "      <td>0.539646</td>\n",
       "    </tr>\n",
       "    <tr>\n",
       "      <th>...</th>\n",
       "      <td>...</td>\n",
       "      <td>...</td>\n",
       "      <td>...</td>\n",
       "      <td>...</td>\n",
       "    </tr>\n",
       "    <tr>\n",
       "      <th>153</th>\n",
       "      <td>Wisconsin</td>\n",
       "      <td>WI</td>\n",
       "      <td>2018</td>\n",
       "      <td>0.594586</td>\n",
       "    </tr>\n",
       "    <tr>\n",
       "      <th>154</th>\n",
       "      <td>Wisconsin</td>\n",
       "      <td>WI</td>\n",
       "      <td>2019</td>\n",
       "      <td>0.552620</td>\n",
       "    </tr>\n",
       "    <tr>\n",
       "      <th>155</th>\n",
       "      <td>Wyoming</td>\n",
       "      <td>WY</td>\n",
       "      <td>2017</td>\n",
       "      <td>0.632918</td>\n",
       "    </tr>\n",
       "    <tr>\n",
       "      <th>156</th>\n",
       "      <td>Wyoming</td>\n",
       "      <td>WY</td>\n",
       "      <td>2018</td>\n",
       "      <td>0.627746</td>\n",
       "    </tr>\n",
       "    <tr>\n",
       "      <th>157</th>\n",
       "      <td>Wyoming</td>\n",
       "      <td>WY</td>\n",
       "      <td>2019</td>\n",
       "      <td>0.549176</td>\n",
       "    </tr>\n",
       "  </tbody>\n",
       "</table>\n",
       "<p>158 rows × 4 columns</p>\n",
       "</div>"
      ],
      "text/plain": [
       "     StateName StateAbbr  Year  TotalComorb\n",
       "0      Alabama        AL  2017     0.745275\n",
       "1      Alabama        AL  2018     0.879185\n",
       "2      Alabama        AL  2019     0.698989\n",
       "3       Alaska        AK  2017     0.489418\n",
       "4       Alaska        AK  2018     0.539646\n",
       "..         ...       ...   ...          ...\n",
       "153  Wisconsin        WI  2018     0.594586\n",
       "154  Wisconsin        WI  2019     0.552620\n",
       "155    Wyoming        WY  2017     0.632918\n",
       "156    Wyoming        WY  2018     0.627746\n",
       "157    Wyoming        WY  2019     0.549176\n",
       "\n",
       "[158 rows x 4 columns]"
      ]
     },
     "execution_count": 82,
     "metadata": {},
     "output_type": "execute_result"
    }
   ],
   "source": [
    "map_df_dup = brfss.copy()\n",
    "map_df_dup['WEIGHT'] = brfss[\"WEIGHT\"].copy()\n",
    "mapme = map_df_dup.groupby(['L_STATENM','L_STATEAB','YEAR']).apply(lambda dfx: (dfx[\"TOTCHRONIC\"] * dfx[\"WEIGHT\"]).sum() / dfx[\"WEIGHT\"].sum()).reset_index()\n",
    "mapme = mapme.rename(columns = {'L_STATENM':'StateName', 'L_STATEAB':'StateAbbr', 'YEAR':'Year', 0:'TotalComorb'})\n",
    "mapme"
   ]
  },
  {
   "cell_type": "code",
   "execution_count": 83,
   "metadata": {},
   "outputs": [
    {
     "data": {
      "application/vnd.plotly.v1+json": {
       "config": {
        "plotlyServerURL": "https://plot.ly"
       },
       "data": [
        {
         "coloraxis": "coloraxis",
         "geo": "geo",
         "hovertemplate": "<b>%{hovertext}</b><br><br>StateAbbr=%{location}<br>TotalComorb=%{z}<extra></extra>",
         "hovertext": [
          "Alabama",
          "Alabama",
          "Alabama",
          "Alaska",
          "Alaska",
          "Alaska",
          "Arizona",
          "Arizona",
          "Arizona",
          "Arkansas",
          "Arkansas",
          "Arkansas",
          "California",
          "California",
          "California",
          "Colorado",
          "Colorado",
          "Colorado",
          "Connecticut",
          "Connecticut",
          "Connecticut",
          "Delaware",
          "Delaware",
          "Delaware",
          "District of Columbia",
          "District of Columbia",
          "District of Columbia",
          "Florida",
          "Florida",
          "Florida",
          "Georgia",
          "Georgia",
          "Georgia",
          "Guam",
          "Guam",
          "Guam",
          "Hawaii",
          "Hawaii",
          "Hawaii",
          "Idaho",
          "Idaho",
          "Idaho",
          "Illinois",
          "Illinois",
          "Illinois",
          "Indiana",
          "Indiana",
          "Indiana",
          "Iowa",
          "Iowa",
          "Iowa",
          "Kansas",
          "Kansas",
          "Kansas",
          "Kentucky",
          "Kentucky",
          "Kentucky",
          "Louisiana",
          "Louisiana",
          "Louisiana",
          "Maine",
          "Maine",
          "Maine",
          "Maryland",
          "Maryland",
          "Maryland",
          "Massachusetts",
          "Massachusetts",
          "Massachusetts",
          "Michigan",
          "Michigan",
          "Michigan",
          "Minnesota",
          "Minnesota",
          "Minnesota",
          "Mississippi",
          "Mississippi",
          "Mississippi",
          "Missouri",
          "Missouri",
          "Missouri",
          "Montana",
          "Montana",
          "Montana",
          "Nebraska",
          "Nebraska",
          "Nebraska",
          "Nevada",
          "Nevada",
          "Nevada",
          "New Hampshire",
          "New Hampshire",
          "New Hampshire",
          "New Jersey",
          "New Jersey",
          "New Mexico",
          "New Mexico",
          "New Mexico",
          "New York",
          "New York",
          "New York",
          "North Carolina",
          "North Carolina",
          "North Carolina",
          "North Dakota",
          "North Dakota",
          "North Dakota",
          "Ohio",
          "Ohio",
          "Ohio",
          "Oklahoma",
          "Oklahoma",
          "Oklahoma",
          "Oregon",
          "Oregon",
          "Oregon",
          "Pennsylvania",
          "Pennsylvania",
          "Pennsylvania",
          "Puerto Rico",
          "Puerto Rico",
          "Puerto Rico",
          "Rhode Island",
          "Rhode Island",
          "Rhode Island",
          "South Carolina",
          "South Carolina",
          "South Carolina",
          "South Dakota",
          "South Dakota",
          "South Dakota",
          "Tennessee",
          "Tennessee",
          "Tennessee",
          "Texas",
          "Texas",
          "Texas",
          "Utah",
          "Utah",
          "Utah",
          "Vermont",
          "Vermont",
          "Vermont",
          "Virginia",
          "Virginia",
          "Virginia",
          "Washington",
          "Washington",
          "Washington",
          "West Virginia",
          "West Virginia",
          "West Virginia",
          "Wisconsin",
          "Wisconsin",
          "Wisconsin",
          "Wyoming",
          "Wyoming",
          "Wyoming"
         ],
         "locationmode": "USA-states",
         "locations": [
          "AL",
          "AL",
          "AL",
          "AK",
          "AK",
          "AK",
          "AZ",
          "AZ",
          "AZ",
          "AR",
          "AR",
          "AR",
          "CA",
          "CA",
          "CA",
          "CO",
          "CO",
          "CO",
          "CT",
          "CT",
          "CT",
          "DE",
          "DE",
          "DE",
          "DC",
          "DC",
          "DC",
          "FL",
          "FL",
          "FL",
          "GA",
          "GA",
          "GA",
          "GU",
          "GU",
          "GU",
          "HI",
          "HI",
          "HI",
          "ID",
          "ID",
          "ID",
          "IL",
          "IL",
          "IL",
          "IN",
          "IN",
          "IN",
          "IA",
          "IA",
          "IA",
          "KS",
          "KS",
          "KS",
          "KY",
          "KY",
          "KY",
          "LA",
          "LA",
          "LA",
          "ME",
          "ME",
          "ME",
          "MD",
          "MD",
          "MD",
          "MA",
          "MA",
          "MA",
          "MI",
          "MI",
          "MI",
          "MN",
          "MN",
          "MN",
          "MS",
          "MS",
          "MS",
          "MO",
          "MO",
          "MO",
          "MT",
          "MT",
          "MT",
          "NE",
          "NE",
          "NE",
          "NV",
          "NV",
          "NV",
          "NH",
          "NH",
          "NH",
          "NJ",
          "NJ",
          "NM",
          "NM",
          "NM",
          "NY",
          "NY",
          "NY",
          "NC",
          "NC",
          "NC",
          "ND",
          "ND",
          "ND",
          "OH",
          "OH",
          "OH",
          "OK",
          "OK",
          "OK",
          "OR",
          "OR",
          "OR",
          "PA",
          "PA",
          "PA",
          "PR",
          "PR",
          "PR",
          "RI",
          "RI",
          "RI",
          "SC",
          "SC",
          "SC",
          "SD",
          "SD",
          "SD",
          "TN",
          "TN",
          "TN",
          "TX",
          "TX",
          "TX",
          "UT",
          "UT",
          "UT",
          "VT",
          "VT",
          "VT",
          "VA",
          "VA",
          "VA",
          "WA",
          "WA",
          "WA",
          "WV",
          "WV",
          "WV",
          "WI",
          "WI",
          "WI",
          "WY",
          "WY",
          "WY"
         ],
         "name": "",
         "type": "choropleth",
         "z": [
          0.7452750262422123,
          0.8791847215118033,
          0.6989893392165109,
          0.4894179973236195,
          0.5396458286047825,
          0.45921107165572067,
          0.6559792760574674,
          0.6826484370692522,
          0.5797825267885294,
          0.8049436342935494,
          0.8256564457652236,
          0.6221662415132089,
          0.4930964081607778,
          0.5984916136696263,
          0.5032066108864512,
          0.4521950937565284,
          0.5076843555136118,
          0.503550120804317,
          0.5361608866449555,
          0.5493630775731452,
          0.50402092761471,
          0.5050051189815935,
          0.7235827135885919,
          0.6315788381429114,
          0.5180059133741568,
          0.748164735542355,
          0.5286399161323583,
          0.6978517970728604,
          0.5877068429786881,
          0.7274157684884563,
          0.4504221079880816,
          0.6633728399996779,
          0.7182562030135023,
          0.5788130264811391,
          0.5179397418509932,
          0.5285745631076938,
          0.3854982942796796,
          0.49275788913977087,
          0.43436989519667885,
          0.44686074606412857,
          0.5522353024411321,
          0.6222337640257206,
          0.6139309737181945,
          0.636366439810738,
          0.5915814678777449,
          0.791771306345322,
          0.707235887108572,
          0.6565034618653766,
          0.5996628796571817,
          0.5394531057650843,
          0.5984525560504123,
          0.6418059557703429,
          0.7022768710831023,
          0.6475063381981047,
          0.6396183391607762,
          0.8337828859228564,
          0.7425909350962626,
          0.7455558020153895,
          0.6311771140866771,
          0.6792616100751478,
          0.7996534000249678,
          0.6494756790364615,
          0.6971473315185307,
          0.5709657785901486,
          0.618986229381291,
          0.5705392951991353,
          0.48983689142106096,
          0.5776567463409629,
          0.6615044435663381,
          0.7294174568419288,
          0.6378165885396756,
          0.6626884490899576,
          0.46595228818735424,
          0.45433560316223826,
          0.6053599441454676,
          0.7188002318946872,
          0.8028619275154724,
          0.8494847354291015,
          0.719001977105654,
          0.6352033820952302,
          0.6563115675471752,
          0.6594609369004476,
          0.6033558404246163,
          0.6651721470593716,
          0.5268441907656422,
          0.6263979253234959,
          0.5367033032390428,
          0.493605068081871,
          0.5960262296345511,
          0.4120422678949255,
          0.5565387046551732,
          0.5646756000746038,
          0.7092109636716564,
          0.5671259688769646,
          0.44506387211805093,
          0.6215059742749578,
          0.6058942972636048,
          0.422506371395538,
          0.5486240513488762,
          0.5384808448607379,
          0.5039596673347855,
          0.5323852045480182,
          0.7052635975129515,
          0.6297661127006816,
          0.5473630511425864,
          0.5897048717198116,
          0.4728831818157085,
          0.6171547679135199,
          0.6720760799080877,
          0.698382418496425,
          0.6847855465404994,
          0.7148570966683687,
          0.7531126054423652,
          0.603929495393636,
          0.6550797387315769,
          0.5603480646779814,
          0.7321513722170279,
          0.6198680838179935,
          0.5248714916256181,
          0.5606197219208159,
          0.5551176195649418,
          0.6754856474389292,
          0.5901457607584112,
          0.6687992998350525,
          0.6860232178044658,
          0.6173533639047049,
          0.6128960754831626,
          0.5481892390666755,
          0.6161045413656481,
          0.4458832058449212,
          0.5458443595909149,
          0.6032923121943398,
          0.8255590868512678,
          0.8326640515799659,
          0.5565588029144727,
          0.6680806810884967,
          0.5345837887542869,
          0.5534571089517776,
          0.5958551673933314,
          0.5802622817443815,
          0.6181282480645894,
          0.7474230342072072,
          0.6827621548420023,
          0.5843378874245084,
          0.5386380255794464,
          0.6042853969274781,
          0.6291921765415911,
          0.7043710031881067,
          0.6900839886774629,
          0.8429561580809218,
          0.9633905921858225,
          0.8782553912938196,
          0.527434309770508,
          0.5945858929178917,
          0.5526195930513247,
          0.6329184372740665,
          0.6277461472873422,
          0.549175666949455
         ]
        }
       ],
       "layout": {
        "coloraxis": {
         "colorbar": {
          "title": {
           "text": "TotalComorb"
          }
         },
         "colorscale": [
          [
           0,
           "#30123b"
          ],
          [
           0.07142857142857142,
           "#4145ab"
          ],
          [
           0.14285714285714285,
           "#4675ed"
          ],
          [
           0.21428571428571427,
           "#39a2fc"
          ],
          [
           0.2857142857142857,
           "#1bcfd4"
          ],
          [
           0.35714285714285715,
           "#24eca6"
          ],
          [
           0.42857142857142855,
           "#61fc6c"
          ],
          [
           0.5,
           "#a4fc3b"
          ],
          [
           0.5714285714285714,
           "#d1e834"
          ],
          [
           0.6428571428571429,
           "#f3c63a"
          ],
          [
           0.7142857142857143,
           "#fe9b2d"
          ],
          [
           0.7857142857142857,
           "#f36315"
          ],
          [
           0.8571428571428571,
           "#d93806"
          ],
          [
           0.9285714285714286,
           "#b11901"
          ],
          [
           1,
           "#7a0402"
          ]
         ]
        },
        "geo": {
         "center": {},
         "domain": {
          "x": [
           0,
           1
          ],
          "y": [
           0,
           1
          ]
         },
         "scope": "usa"
        },
        "legend": {
         "tracegroupgap": 0
        },
        "margin": {
         "t": 60
        },
        "template": {
         "data": {
          "bar": [
           {
            "error_x": {
             "color": "#2a3f5f"
            },
            "error_y": {
             "color": "#2a3f5f"
            },
            "marker": {
             "line": {
              "color": "#E5ECF6",
              "width": 0.5
             }
            },
            "type": "bar"
           }
          ],
          "barpolar": [
           {
            "marker": {
             "line": {
              "color": "#E5ECF6",
              "width": 0.5
             }
            },
            "type": "barpolar"
           }
          ],
          "carpet": [
           {
            "aaxis": {
             "endlinecolor": "#2a3f5f",
             "gridcolor": "white",
             "linecolor": "white",
             "minorgridcolor": "white",
             "startlinecolor": "#2a3f5f"
            },
            "baxis": {
             "endlinecolor": "#2a3f5f",
             "gridcolor": "white",
             "linecolor": "white",
             "minorgridcolor": "white",
             "startlinecolor": "#2a3f5f"
            },
            "type": "carpet"
           }
          ],
          "choropleth": [
           {
            "colorbar": {
             "outlinewidth": 0,
             "ticks": ""
            },
            "type": "choropleth"
           }
          ],
          "contour": [
           {
            "colorbar": {
             "outlinewidth": 0,
             "ticks": ""
            },
            "colorscale": [
             [
              0,
              "#0d0887"
             ],
             [
              0.1111111111111111,
              "#46039f"
             ],
             [
              0.2222222222222222,
              "#7201a8"
             ],
             [
              0.3333333333333333,
              "#9c179e"
             ],
             [
              0.4444444444444444,
              "#bd3786"
             ],
             [
              0.5555555555555556,
              "#d8576b"
             ],
             [
              0.6666666666666666,
              "#ed7953"
             ],
             [
              0.7777777777777778,
              "#fb9f3a"
             ],
             [
              0.8888888888888888,
              "#fdca26"
             ],
             [
              1,
              "#f0f921"
             ]
            ],
            "type": "contour"
           }
          ],
          "contourcarpet": [
           {
            "colorbar": {
             "outlinewidth": 0,
             "ticks": ""
            },
            "type": "contourcarpet"
           }
          ],
          "heatmap": [
           {
            "colorbar": {
             "outlinewidth": 0,
             "ticks": ""
            },
            "colorscale": [
             [
              0,
              "#0d0887"
             ],
             [
              0.1111111111111111,
              "#46039f"
             ],
             [
              0.2222222222222222,
              "#7201a8"
             ],
             [
              0.3333333333333333,
              "#9c179e"
             ],
             [
              0.4444444444444444,
              "#bd3786"
             ],
             [
              0.5555555555555556,
              "#d8576b"
             ],
             [
              0.6666666666666666,
              "#ed7953"
             ],
             [
              0.7777777777777778,
              "#fb9f3a"
             ],
             [
              0.8888888888888888,
              "#fdca26"
             ],
             [
              1,
              "#f0f921"
             ]
            ],
            "type": "heatmap"
           }
          ],
          "heatmapgl": [
           {
            "colorbar": {
             "outlinewidth": 0,
             "ticks": ""
            },
            "colorscale": [
             [
              0,
              "#0d0887"
             ],
             [
              0.1111111111111111,
              "#46039f"
             ],
             [
              0.2222222222222222,
              "#7201a8"
             ],
             [
              0.3333333333333333,
              "#9c179e"
             ],
             [
              0.4444444444444444,
              "#bd3786"
             ],
             [
              0.5555555555555556,
              "#d8576b"
             ],
             [
              0.6666666666666666,
              "#ed7953"
             ],
             [
              0.7777777777777778,
              "#fb9f3a"
             ],
             [
              0.8888888888888888,
              "#fdca26"
             ],
             [
              1,
              "#f0f921"
             ]
            ],
            "type": "heatmapgl"
           }
          ],
          "histogram": [
           {
            "marker": {
             "colorbar": {
              "outlinewidth": 0,
              "ticks": ""
             }
            },
            "type": "histogram"
           }
          ],
          "histogram2d": [
           {
            "colorbar": {
             "outlinewidth": 0,
             "ticks": ""
            },
            "colorscale": [
             [
              0,
              "#0d0887"
             ],
             [
              0.1111111111111111,
              "#46039f"
             ],
             [
              0.2222222222222222,
              "#7201a8"
             ],
             [
              0.3333333333333333,
              "#9c179e"
             ],
             [
              0.4444444444444444,
              "#bd3786"
             ],
             [
              0.5555555555555556,
              "#d8576b"
             ],
             [
              0.6666666666666666,
              "#ed7953"
             ],
             [
              0.7777777777777778,
              "#fb9f3a"
             ],
             [
              0.8888888888888888,
              "#fdca26"
             ],
             [
              1,
              "#f0f921"
             ]
            ],
            "type": "histogram2d"
           }
          ],
          "histogram2dcontour": [
           {
            "colorbar": {
             "outlinewidth": 0,
             "ticks": ""
            },
            "colorscale": [
             [
              0,
              "#0d0887"
             ],
             [
              0.1111111111111111,
              "#46039f"
             ],
             [
              0.2222222222222222,
              "#7201a8"
             ],
             [
              0.3333333333333333,
              "#9c179e"
             ],
             [
              0.4444444444444444,
              "#bd3786"
             ],
             [
              0.5555555555555556,
              "#d8576b"
             ],
             [
              0.6666666666666666,
              "#ed7953"
             ],
             [
              0.7777777777777778,
              "#fb9f3a"
             ],
             [
              0.8888888888888888,
              "#fdca26"
             ],
             [
              1,
              "#f0f921"
             ]
            ],
            "type": "histogram2dcontour"
           }
          ],
          "mesh3d": [
           {
            "colorbar": {
             "outlinewidth": 0,
             "ticks": ""
            },
            "type": "mesh3d"
           }
          ],
          "parcoords": [
           {
            "line": {
             "colorbar": {
              "outlinewidth": 0,
              "ticks": ""
             }
            },
            "type": "parcoords"
           }
          ],
          "pie": [
           {
            "automargin": true,
            "type": "pie"
           }
          ],
          "scatter": [
           {
            "marker": {
             "colorbar": {
              "outlinewidth": 0,
              "ticks": ""
             }
            },
            "type": "scatter"
           }
          ],
          "scatter3d": [
           {
            "line": {
             "colorbar": {
              "outlinewidth": 0,
              "ticks": ""
             }
            },
            "marker": {
             "colorbar": {
              "outlinewidth": 0,
              "ticks": ""
             }
            },
            "type": "scatter3d"
           }
          ],
          "scattercarpet": [
           {
            "marker": {
             "colorbar": {
              "outlinewidth": 0,
              "ticks": ""
             }
            },
            "type": "scattercarpet"
           }
          ],
          "scattergeo": [
           {
            "marker": {
             "colorbar": {
              "outlinewidth": 0,
              "ticks": ""
             }
            },
            "type": "scattergeo"
           }
          ],
          "scattergl": [
           {
            "marker": {
             "colorbar": {
              "outlinewidth": 0,
              "ticks": ""
             }
            },
            "type": "scattergl"
           }
          ],
          "scattermapbox": [
           {
            "marker": {
             "colorbar": {
              "outlinewidth": 0,
              "ticks": ""
             }
            },
            "type": "scattermapbox"
           }
          ],
          "scatterpolar": [
           {
            "marker": {
             "colorbar": {
              "outlinewidth": 0,
              "ticks": ""
             }
            },
            "type": "scatterpolar"
           }
          ],
          "scatterpolargl": [
           {
            "marker": {
             "colorbar": {
              "outlinewidth": 0,
              "ticks": ""
             }
            },
            "type": "scatterpolargl"
           }
          ],
          "scatterternary": [
           {
            "marker": {
             "colorbar": {
              "outlinewidth": 0,
              "ticks": ""
             }
            },
            "type": "scatterternary"
           }
          ],
          "surface": [
           {
            "colorbar": {
             "outlinewidth": 0,
             "ticks": ""
            },
            "colorscale": [
             [
              0,
              "#0d0887"
             ],
             [
              0.1111111111111111,
              "#46039f"
             ],
             [
              0.2222222222222222,
              "#7201a8"
             ],
             [
              0.3333333333333333,
              "#9c179e"
             ],
             [
              0.4444444444444444,
              "#bd3786"
             ],
             [
              0.5555555555555556,
              "#d8576b"
             ],
             [
              0.6666666666666666,
              "#ed7953"
             ],
             [
              0.7777777777777778,
              "#fb9f3a"
             ],
             [
              0.8888888888888888,
              "#fdca26"
             ],
             [
              1,
              "#f0f921"
             ]
            ],
            "type": "surface"
           }
          ],
          "table": [
           {
            "cells": {
             "fill": {
              "color": "#EBF0F8"
             },
             "line": {
              "color": "white"
             }
            },
            "header": {
             "fill": {
              "color": "#C8D4E3"
             },
             "line": {
              "color": "white"
             }
            },
            "type": "table"
           }
          ]
         },
         "layout": {
          "annotationdefaults": {
           "arrowcolor": "#2a3f5f",
           "arrowhead": 0,
           "arrowwidth": 1
          },
          "autotypenumbers": "strict",
          "coloraxis": {
           "colorbar": {
            "outlinewidth": 0,
            "ticks": ""
           }
          },
          "colorscale": {
           "diverging": [
            [
             0,
             "#8e0152"
            ],
            [
             0.1,
             "#c51b7d"
            ],
            [
             0.2,
             "#de77ae"
            ],
            [
             0.3,
             "#f1b6da"
            ],
            [
             0.4,
             "#fde0ef"
            ],
            [
             0.5,
             "#f7f7f7"
            ],
            [
             0.6,
             "#e6f5d0"
            ],
            [
             0.7,
             "#b8e186"
            ],
            [
             0.8,
             "#7fbc41"
            ],
            [
             0.9,
             "#4d9221"
            ],
            [
             1,
             "#276419"
            ]
           ],
           "sequential": [
            [
             0,
             "#0d0887"
            ],
            [
             0.1111111111111111,
             "#46039f"
            ],
            [
             0.2222222222222222,
             "#7201a8"
            ],
            [
             0.3333333333333333,
             "#9c179e"
            ],
            [
             0.4444444444444444,
             "#bd3786"
            ],
            [
             0.5555555555555556,
             "#d8576b"
            ],
            [
             0.6666666666666666,
             "#ed7953"
            ],
            [
             0.7777777777777778,
             "#fb9f3a"
            ],
            [
             0.8888888888888888,
             "#fdca26"
            ],
            [
             1,
             "#f0f921"
            ]
           ],
           "sequentialminus": [
            [
             0,
             "#0d0887"
            ],
            [
             0.1111111111111111,
             "#46039f"
            ],
            [
             0.2222222222222222,
             "#7201a8"
            ],
            [
             0.3333333333333333,
             "#9c179e"
            ],
            [
             0.4444444444444444,
             "#bd3786"
            ],
            [
             0.5555555555555556,
             "#d8576b"
            ],
            [
             0.6666666666666666,
             "#ed7953"
            ],
            [
             0.7777777777777778,
             "#fb9f3a"
            ],
            [
             0.8888888888888888,
             "#fdca26"
            ],
            [
             1,
             "#f0f921"
            ]
           ]
          },
          "colorway": [
           "#636efa",
           "#EF553B",
           "#00cc96",
           "#ab63fa",
           "#FFA15A",
           "#19d3f3",
           "#FF6692",
           "#B6E880",
           "#FF97FF",
           "#FECB52"
          ],
          "font": {
           "color": "#2a3f5f"
          },
          "geo": {
           "bgcolor": "white",
           "lakecolor": "white",
           "landcolor": "#E5ECF6",
           "showlakes": true,
           "showland": true,
           "subunitcolor": "white"
          },
          "hoverlabel": {
           "align": "left"
          },
          "hovermode": "closest",
          "mapbox": {
           "style": "light"
          },
          "paper_bgcolor": "white",
          "plot_bgcolor": "#E5ECF6",
          "polar": {
           "angularaxis": {
            "gridcolor": "white",
            "linecolor": "white",
            "ticks": ""
           },
           "bgcolor": "#E5ECF6",
           "radialaxis": {
            "gridcolor": "white",
            "linecolor": "white",
            "ticks": ""
           }
          },
          "scene": {
           "xaxis": {
            "backgroundcolor": "#E5ECF6",
            "gridcolor": "white",
            "gridwidth": 2,
            "linecolor": "white",
            "showbackground": true,
            "ticks": "",
            "zerolinecolor": "white"
           },
           "yaxis": {
            "backgroundcolor": "#E5ECF6",
            "gridcolor": "white",
            "gridwidth": 2,
            "linecolor": "white",
            "showbackground": true,
            "ticks": "",
            "zerolinecolor": "white"
           },
           "zaxis": {
            "backgroundcolor": "#E5ECF6",
            "gridcolor": "white",
            "gridwidth": 2,
            "linecolor": "white",
            "showbackground": true,
            "ticks": "",
            "zerolinecolor": "white"
           }
          },
          "shapedefaults": {
           "line": {
            "color": "#2a3f5f"
           }
          },
          "ternary": {
           "aaxis": {
            "gridcolor": "white",
            "linecolor": "white",
            "ticks": ""
           },
           "baxis": {
            "gridcolor": "white",
            "linecolor": "white",
            "ticks": ""
           },
           "bgcolor": "#E5ECF6",
           "caxis": {
            "gridcolor": "white",
            "linecolor": "white",
            "ticks": ""
           }
          },
          "title": {
           "x": 0.05
          },
          "xaxis": {
           "automargin": true,
           "gridcolor": "white",
           "linecolor": "white",
           "ticks": "",
           "title": {
            "standoff": 15
           },
           "zerolinecolor": "white",
           "zerolinewidth": 2
          },
          "yaxis": {
           "automargin": true,
           "gridcolor": "white",
           "linecolor": "white",
           "ticks": "",
           "title": {
            "standoff": 15
           },
           "zerolinecolor": "white",
           "zerolinewidth": 2
          }
         }
        },
        "title": {
         "text": "Average Proportion of Comorbidities in the US by State"
        }
       }
      },
      "text/html": [
       "<div>                            <div id=\"caebcabf-9572-4163-8f22-fc5766e74ac7\" class=\"plotly-graph-div\" style=\"height:525px; width:100%;\"></div>            <script type=\"text/javascript\">                require([\"plotly\"], function(Plotly) {                    window.PLOTLYENV=window.PLOTLYENV || {};                                    if (document.getElementById(\"caebcabf-9572-4163-8f22-fc5766e74ac7\")) {                    Plotly.newPlot(                        \"caebcabf-9572-4163-8f22-fc5766e74ac7\",                        [{\"coloraxis\": \"coloraxis\", \"geo\": \"geo\", \"hovertemplate\": \"<b>%{hovertext}</b><br><br>StateAbbr=%{location}<br>TotalComorb=%{z}<extra></extra>\", \"hovertext\": [\"Alabama\", \"Alabama\", \"Alabama\", \"Alaska\", \"Alaska\", \"Alaska\", \"Arizona\", \"Arizona\", \"Arizona\", \"Arkansas\", \"Arkansas\", \"Arkansas\", \"California\", \"California\", \"California\", \"Colorado\", \"Colorado\", \"Colorado\", \"Connecticut\", \"Connecticut\", \"Connecticut\", \"Delaware\", \"Delaware\", \"Delaware\", \"District of Columbia\", \"District of Columbia\", \"District of Columbia\", \"Florida\", \"Florida\", \"Florida\", \"Georgia\", \"Georgia\", \"Georgia\", \"Guam\", \"Guam\", \"Guam\", \"Hawaii\", \"Hawaii\", \"Hawaii\", \"Idaho\", \"Idaho\", \"Idaho\", \"Illinois\", \"Illinois\", \"Illinois\", \"Indiana\", \"Indiana\", \"Indiana\", \"Iowa\", \"Iowa\", \"Iowa\", \"Kansas\", \"Kansas\", \"Kansas\", \"Kentucky\", \"Kentucky\", \"Kentucky\", \"Louisiana\", \"Louisiana\", \"Louisiana\", \"Maine\", \"Maine\", \"Maine\", \"Maryland\", \"Maryland\", \"Maryland\", \"Massachusetts\", \"Massachusetts\", \"Massachusetts\", \"Michigan\", \"Michigan\", \"Michigan\", \"Minnesota\", \"Minnesota\", \"Minnesota\", \"Mississippi\", \"Mississippi\", \"Mississippi\", \"Missouri\", \"Missouri\", \"Missouri\", \"Montana\", \"Montana\", \"Montana\", \"Nebraska\", \"Nebraska\", \"Nebraska\", \"Nevada\", \"Nevada\", \"Nevada\", \"New Hampshire\", \"New Hampshire\", \"New Hampshire\", \"New Jersey\", \"New Jersey\", \"New Mexico\", \"New Mexico\", \"New Mexico\", \"New York\", \"New York\", \"New York\", \"North Carolina\", \"North Carolina\", \"North Carolina\", \"North Dakota\", \"North Dakota\", \"North Dakota\", \"Ohio\", \"Ohio\", \"Ohio\", \"Oklahoma\", \"Oklahoma\", \"Oklahoma\", \"Oregon\", \"Oregon\", \"Oregon\", \"Pennsylvania\", \"Pennsylvania\", \"Pennsylvania\", \"Puerto Rico\", \"Puerto Rico\", \"Puerto Rico\", \"Rhode Island\", \"Rhode Island\", \"Rhode Island\", \"South Carolina\", \"South Carolina\", \"South Carolina\", \"South Dakota\", \"South Dakota\", \"South Dakota\", \"Tennessee\", \"Tennessee\", \"Tennessee\", \"Texas\", \"Texas\", \"Texas\", \"Utah\", \"Utah\", \"Utah\", \"Vermont\", \"Vermont\", \"Vermont\", \"Virginia\", \"Virginia\", \"Virginia\", \"Washington\", \"Washington\", \"Washington\", \"West Virginia\", \"West Virginia\", \"West Virginia\", \"Wisconsin\", \"Wisconsin\", \"Wisconsin\", \"Wyoming\", \"Wyoming\", \"Wyoming\"], \"locationmode\": \"USA-states\", \"locations\": [\"AL\", \"AL\", \"AL\", \"AK\", \"AK\", \"AK\", \"AZ\", \"AZ\", \"AZ\", \"AR\", \"AR\", \"AR\", \"CA\", \"CA\", \"CA\", \"CO\", \"CO\", \"CO\", \"CT\", \"CT\", \"CT\", \"DE\", \"DE\", \"DE\", \"DC\", \"DC\", \"DC\", \"FL\", \"FL\", \"FL\", \"GA\", \"GA\", \"GA\", \"GU\", \"GU\", \"GU\", \"HI\", \"HI\", \"HI\", \"ID\", \"ID\", \"ID\", \"IL\", \"IL\", \"IL\", \"IN\", \"IN\", \"IN\", \"IA\", \"IA\", \"IA\", \"KS\", \"KS\", \"KS\", \"KY\", \"KY\", \"KY\", \"LA\", \"LA\", \"LA\", \"ME\", \"ME\", \"ME\", \"MD\", \"MD\", \"MD\", \"MA\", \"MA\", \"MA\", \"MI\", \"MI\", \"MI\", \"MN\", \"MN\", \"MN\", \"MS\", \"MS\", \"MS\", \"MO\", \"MO\", \"MO\", \"MT\", \"MT\", \"MT\", \"NE\", \"NE\", \"NE\", \"NV\", \"NV\", \"NV\", \"NH\", \"NH\", \"NH\", \"NJ\", \"NJ\", \"NM\", \"NM\", \"NM\", \"NY\", \"NY\", \"NY\", \"NC\", \"NC\", \"NC\", \"ND\", \"ND\", \"ND\", \"OH\", \"OH\", \"OH\", \"OK\", \"OK\", \"OK\", \"OR\", \"OR\", \"OR\", \"PA\", \"PA\", \"PA\", \"PR\", \"PR\", \"PR\", \"RI\", \"RI\", \"RI\", \"SC\", \"SC\", \"SC\", \"SD\", \"SD\", \"SD\", \"TN\", \"TN\", \"TN\", \"TX\", \"TX\", \"TX\", \"UT\", \"UT\", \"UT\", \"VT\", \"VT\", \"VT\", \"VA\", \"VA\", \"VA\", \"WA\", \"WA\", \"WA\", \"WV\", \"WV\", \"WV\", \"WI\", \"WI\", \"WI\", \"WY\", \"WY\", \"WY\"], \"name\": \"\", \"type\": \"choropleth\", \"z\": [0.7452750262422123, 0.8791847215118033, 0.6989893392165109, 0.4894179973236195, 0.5396458286047825, 0.45921107165572067, 0.6559792760574674, 0.6826484370692522, 0.5797825267885294, 0.8049436342935494, 0.8256564457652236, 0.6221662415132089, 0.4930964081607778, 0.5984916136696263, 0.5032066108864512, 0.4521950937565284, 0.5076843555136118, 0.503550120804317, 0.5361608866449555, 0.5493630775731452, 0.50402092761471, 0.5050051189815935, 0.7235827135885919, 0.6315788381429114, 0.5180059133741568, 0.748164735542355, 0.5286399161323583, 0.6978517970728604, 0.5877068429786881, 0.7274157684884563, 0.4504221079880816, 0.6633728399996779, 0.7182562030135023, 0.5788130264811391, 0.5179397418509932, 0.5285745631076938, 0.3854982942796796, 0.49275788913977087, 0.43436989519667885, 0.44686074606412857, 0.5522353024411321, 0.6222337640257206, 0.6139309737181945, 0.636366439810738, 0.5915814678777449, 0.791771306345322, 0.707235887108572, 0.6565034618653766, 0.5996628796571817, 0.5394531057650843, 0.5984525560504123, 0.6418059557703429, 0.7022768710831023, 0.6475063381981047, 0.6396183391607762, 0.8337828859228564, 0.7425909350962626, 0.7455558020153895, 0.6311771140866771, 0.6792616100751478, 0.7996534000249678, 0.6494756790364615, 0.6971473315185307, 0.5709657785901486, 0.618986229381291, 0.5705392951991353, 0.48983689142106096, 0.5776567463409629, 0.6615044435663381, 0.7294174568419288, 0.6378165885396756, 0.6626884490899576, 0.46595228818735424, 0.45433560316223826, 0.6053599441454676, 0.7188002318946872, 0.8028619275154724, 0.8494847354291015, 0.719001977105654, 0.6352033820952302, 0.6563115675471752, 0.6594609369004476, 0.6033558404246163, 0.6651721470593716, 0.5268441907656422, 0.6263979253234959, 0.5367033032390428, 0.493605068081871, 0.5960262296345511, 0.4120422678949255, 0.5565387046551732, 0.5646756000746038, 0.7092109636716564, 0.5671259688769646, 0.44506387211805093, 0.6215059742749578, 0.6058942972636048, 0.422506371395538, 0.5486240513488762, 0.5384808448607379, 0.5039596673347855, 0.5323852045480182, 0.7052635975129515, 0.6297661127006816, 0.5473630511425864, 0.5897048717198116, 0.4728831818157085, 0.6171547679135199, 0.6720760799080877, 0.698382418496425, 0.6847855465404994, 0.7148570966683687, 0.7531126054423652, 0.603929495393636, 0.6550797387315769, 0.5603480646779814, 0.7321513722170279, 0.6198680838179935, 0.5248714916256181, 0.5606197219208159, 0.5551176195649418, 0.6754856474389292, 0.5901457607584112, 0.6687992998350525, 0.6860232178044658, 0.6173533639047049, 0.6128960754831626, 0.5481892390666755, 0.6161045413656481, 0.4458832058449212, 0.5458443595909149, 0.6032923121943398, 0.8255590868512678, 0.8326640515799659, 0.5565588029144727, 0.6680806810884967, 0.5345837887542869, 0.5534571089517776, 0.5958551673933314, 0.5802622817443815, 0.6181282480645894, 0.7474230342072072, 0.6827621548420023, 0.5843378874245084, 0.5386380255794464, 0.6042853969274781, 0.6291921765415911, 0.7043710031881067, 0.6900839886774629, 0.8429561580809218, 0.9633905921858225, 0.8782553912938196, 0.527434309770508, 0.5945858929178917, 0.5526195930513247, 0.6329184372740665, 0.6277461472873422, 0.549175666949455]}],                        {\"coloraxis\": {\"colorbar\": {\"title\": {\"text\": \"TotalComorb\"}}, \"colorscale\": [[0.0, \"#30123b\"], [0.07142857142857142, \"#4145ab\"], [0.14285714285714285, \"#4675ed\"], [0.21428571428571427, \"#39a2fc\"], [0.2857142857142857, \"#1bcfd4\"], [0.35714285714285715, \"#24eca6\"], [0.42857142857142855, \"#61fc6c\"], [0.5, \"#a4fc3b\"], [0.5714285714285714, \"#d1e834\"], [0.6428571428571429, \"#f3c63a\"], [0.7142857142857143, \"#fe9b2d\"], [0.7857142857142857, \"#f36315\"], [0.8571428571428571, \"#d93806\"], [0.9285714285714286, \"#b11901\"], [1.0, \"#7a0402\"]]}, \"geo\": {\"center\": {}, \"domain\": {\"x\": [0.0, 1.0], \"y\": [0.0, 1.0]}, \"scope\": \"usa\"}, \"legend\": {\"tracegroupgap\": 0}, \"margin\": {\"t\": 60}, \"template\": {\"data\": {\"bar\": [{\"error_x\": {\"color\": \"#2a3f5f\"}, \"error_y\": {\"color\": \"#2a3f5f\"}, \"marker\": {\"line\": {\"color\": \"#E5ECF6\", \"width\": 0.5}}, \"type\": \"bar\"}], \"barpolar\": [{\"marker\": {\"line\": {\"color\": \"#E5ECF6\", \"width\": 0.5}}, \"type\": \"barpolar\"}], \"carpet\": [{\"aaxis\": {\"endlinecolor\": \"#2a3f5f\", \"gridcolor\": \"white\", \"linecolor\": \"white\", \"minorgridcolor\": \"white\", \"startlinecolor\": \"#2a3f5f\"}, \"baxis\": {\"endlinecolor\": \"#2a3f5f\", \"gridcolor\": \"white\", \"linecolor\": \"white\", \"minorgridcolor\": \"white\", \"startlinecolor\": \"#2a3f5f\"}, \"type\": \"carpet\"}], \"choropleth\": [{\"colorbar\": {\"outlinewidth\": 0, \"ticks\": \"\"}, \"type\": \"choropleth\"}], \"contour\": [{\"colorbar\": {\"outlinewidth\": 0, \"ticks\": \"\"}, \"colorscale\": [[0.0, \"#0d0887\"], [0.1111111111111111, \"#46039f\"], [0.2222222222222222, \"#7201a8\"], [0.3333333333333333, \"#9c179e\"], [0.4444444444444444, \"#bd3786\"], [0.5555555555555556, \"#d8576b\"], [0.6666666666666666, \"#ed7953\"], [0.7777777777777778, \"#fb9f3a\"], [0.8888888888888888, \"#fdca26\"], [1.0, \"#f0f921\"]], \"type\": \"contour\"}], \"contourcarpet\": [{\"colorbar\": {\"outlinewidth\": 0, \"ticks\": \"\"}, \"type\": \"contourcarpet\"}], \"heatmap\": [{\"colorbar\": {\"outlinewidth\": 0, \"ticks\": \"\"}, \"colorscale\": [[0.0, \"#0d0887\"], [0.1111111111111111, \"#46039f\"], [0.2222222222222222, \"#7201a8\"], [0.3333333333333333, \"#9c179e\"], [0.4444444444444444, \"#bd3786\"], [0.5555555555555556, \"#d8576b\"], [0.6666666666666666, \"#ed7953\"], [0.7777777777777778, \"#fb9f3a\"], [0.8888888888888888, \"#fdca26\"], [1.0, \"#f0f921\"]], \"type\": \"heatmap\"}], \"heatmapgl\": [{\"colorbar\": {\"outlinewidth\": 0, \"ticks\": \"\"}, \"colorscale\": [[0.0, \"#0d0887\"], [0.1111111111111111, \"#46039f\"], [0.2222222222222222, \"#7201a8\"], [0.3333333333333333, \"#9c179e\"], [0.4444444444444444, \"#bd3786\"], [0.5555555555555556, \"#d8576b\"], [0.6666666666666666, \"#ed7953\"], [0.7777777777777778, \"#fb9f3a\"], [0.8888888888888888, \"#fdca26\"], [1.0, \"#f0f921\"]], \"type\": \"heatmapgl\"}], \"histogram\": [{\"marker\": {\"colorbar\": {\"outlinewidth\": 0, \"ticks\": \"\"}}, \"type\": \"histogram\"}], \"histogram2d\": [{\"colorbar\": {\"outlinewidth\": 0, \"ticks\": \"\"}, \"colorscale\": [[0.0, \"#0d0887\"], [0.1111111111111111, \"#46039f\"], [0.2222222222222222, \"#7201a8\"], [0.3333333333333333, \"#9c179e\"], [0.4444444444444444, \"#bd3786\"], [0.5555555555555556, \"#d8576b\"], [0.6666666666666666, \"#ed7953\"], [0.7777777777777778, \"#fb9f3a\"], [0.8888888888888888, \"#fdca26\"], [1.0, \"#f0f921\"]], \"type\": \"histogram2d\"}], \"histogram2dcontour\": [{\"colorbar\": {\"outlinewidth\": 0, \"ticks\": \"\"}, \"colorscale\": [[0.0, \"#0d0887\"], [0.1111111111111111, \"#46039f\"], [0.2222222222222222, \"#7201a8\"], [0.3333333333333333, \"#9c179e\"], [0.4444444444444444, \"#bd3786\"], [0.5555555555555556, \"#d8576b\"], [0.6666666666666666, \"#ed7953\"], [0.7777777777777778, \"#fb9f3a\"], [0.8888888888888888, \"#fdca26\"], [1.0, \"#f0f921\"]], \"type\": \"histogram2dcontour\"}], \"mesh3d\": [{\"colorbar\": {\"outlinewidth\": 0, \"ticks\": \"\"}, \"type\": \"mesh3d\"}], \"parcoords\": [{\"line\": {\"colorbar\": {\"outlinewidth\": 0, \"ticks\": \"\"}}, \"type\": \"parcoords\"}], \"pie\": [{\"automargin\": true, \"type\": \"pie\"}], \"scatter\": [{\"marker\": {\"colorbar\": {\"outlinewidth\": 0, \"ticks\": \"\"}}, \"type\": \"scatter\"}], \"scatter3d\": [{\"line\": {\"colorbar\": {\"outlinewidth\": 0, \"ticks\": \"\"}}, \"marker\": {\"colorbar\": {\"outlinewidth\": 0, \"ticks\": \"\"}}, \"type\": \"scatter3d\"}], \"scattercarpet\": [{\"marker\": {\"colorbar\": {\"outlinewidth\": 0, \"ticks\": \"\"}}, \"type\": \"scattercarpet\"}], \"scattergeo\": [{\"marker\": {\"colorbar\": {\"outlinewidth\": 0, \"ticks\": \"\"}}, \"type\": \"scattergeo\"}], \"scattergl\": [{\"marker\": {\"colorbar\": {\"outlinewidth\": 0, \"ticks\": \"\"}}, \"type\": \"scattergl\"}], \"scattermapbox\": [{\"marker\": {\"colorbar\": {\"outlinewidth\": 0, \"ticks\": \"\"}}, \"type\": \"scattermapbox\"}], \"scatterpolar\": [{\"marker\": {\"colorbar\": {\"outlinewidth\": 0, \"ticks\": \"\"}}, \"type\": \"scatterpolar\"}], \"scatterpolargl\": [{\"marker\": {\"colorbar\": {\"outlinewidth\": 0, \"ticks\": \"\"}}, \"type\": \"scatterpolargl\"}], \"scatterternary\": [{\"marker\": {\"colorbar\": {\"outlinewidth\": 0, \"ticks\": \"\"}}, \"type\": \"scatterternary\"}], \"surface\": [{\"colorbar\": {\"outlinewidth\": 0, \"ticks\": \"\"}, \"colorscale\": [[0.0, \"#0d0887\"], [0.1111111111111111, \"#46039f\"], [0.2222222222222222, \"#7201a8\"], [0.3333333333333333, \"#9c179e\"], [0.4444444444444444, \"#bd3786\"], [0.5555555555555556, \"#d8576b\"], [0.6666666666666666, \"#ed7953\"], [0.7777777777777778, \"#fb9f3a\"], [0.8888888888888888, \"#fdca26\"], [1.0, \"#f0f921\"]], \"type\": \"surface\"}], \"table\": [{\"cells\": {\"fill\": {\"color\": \"#EBF0F8\"}, \"line\": {\"color\": \"white\"}}, \"header\": {\"fill\": {\"color\": \"#C8D4E3\"}, \"line\": {\"color\": \"white\"}}, \"type\": \"table\"}]}, \"layout\": {\"annotationdefaults\": {\"arrowcolor\": \"#2a3f5f\", \"arrowhead\": 0, \"arrowwidth\": 1}, \"autotypenumbers\": \"strict\", \"coloraxis\": {\"colorbar\": {\"outlinewidth\": 0, \"ticks\": \"\"}}, \"colorscale\": {\"diverging\": [[0, \"#8e0152\"], [0.1, \"#c51b7d\"], [0.2, \"#de77ae\"], [0.3, \"#f1b6da\"], [0.4, \"#fde0ef\"], [0.5, \"#f7f7f7\"], [0.6, \"#e6f5d0\"], [0.7, \"#b8e186\"], [0.8, \"#7fbc41\"], [0.9, \"#4d9221\"], [1, \"#276419\"]], \"sequential\": [[0.0, \"#0d0887\"], [0.1111111111111111, \"#46039f\"], [0.2222222222222222, \"#7201a8\"], [0.3333333333333333, \"#9c179e\"], [0.4444444444444444, \"#bd3786\"], [0.5555555555555556, \"#d8576b\"], [0.6666666666666666, \"#ed7953\"], [0.7777777777777778, \"#fb9f3a\"], [0.8888888888888888, \"#fdca26\"], [1.0, \"#f0f921\"]], \"sequentialminus\": [[0.0, \"#0d0887\"], [0.1111111111111111, \"#46039f\"], [0.2222222222222222, \"#7201a8\"], [0.3333333333333333, \"#9c179e\"], [0.4444444444444444, \"#bd3786\"], [0.5555555555555556, \"#d8576b\"], [0.6666666666666666, \"#ed7953\"], [0.7777777777777778, \"#fb9f3a\"], [0.8888888888888888, \"#fdca26\"], [1.0, \"#f0f921\"]]}, \"colorway\": [\"#636efa\", \"#EF553B\", \"#00cc96\", \"#ab63fa\", \"#FFA15A\", \"#19d3f3\", \"#FF6692\", \"#B6E880\", \"#FF97FF\", \"#FECB52\"], \"font\": {\"color\": \"#2a3f5f\"}, \"geo\": {\"bgcolor\": \"white\", \"lakecolor\": \"white\", \"landcolor\": \"#E5ECF6\", \"showlakes\": true, \"showland\": true, \"subunitcolor\": \"white\"}, \"hoverlabel\": {\"align\": \"left\"}, \"hovermode\": \"closest\", \"mapbox\": {\"style\": \"light\"}, \"paper_bgcolor\": \"white\", \"plot_bgcolor\": \"#E5ECF6\", \"polar\": {\"angularaxis\": {\"gridcolor\": \"white\", \"linecolor\": \"white\", \"ticks\": \"\"}, \"bgcolor\": \"#E5ECF6\", \"radialaxis\": {\"gridcolor\": \"white\", \"linecolor\": \"white\", \"ticks\": \"\"}}, \"scene\": {\"xaxis\": {\"backgroundcolor\": \"#E5ECF6\", \"gridcolor\": \"white\", \"gridwidth\": 2, \"linecolor\": \"white\", \"showbackground\": true, \"ticks\": \"\", \"zerolinecolor\": \"white\"}, \"yaxis\": {\"backgroundcolor\": \"#E5ECF6\", \"gridcolor\": \"white\", \"gridwidth\": 2, \"linecolor\": \"white\", \"showbackground\": true, \"ticks\": \"\", \"zerolinecolor\": \"white\"}, \"zaxis\": {\"backgroundcolor\": \"#E5ECF6\", \"gridcolor\": \"white\", \"gridwidth\": 2, \"linecolor\": \"white\", \"showbackground\": true, \"ticks\": \"\", \"zerolinecolor\": \"white\"}}, \"shapedefaults\": {\"line\": {\"color\": \"#2a3f5f\"}}, \"ternary\": {\"aaxis\": {\"gridcolor\": \"white\", \"linecolor\": \"white\", \"ticks\": \"\"}, \"baxis\": {\"gridcolor\": \"white\", \"linecolor\": \"white\", \"ticks\": \"\"}, \"bgcolor\": \"#E5ECF6\", \"caxis\": {\"gridcolor\": \"white\", \"linecolor\": \"white\", \"ticks\": \"\"}}, \"title\": {\"x\": 0.05}, \"xaxis\": {\"automargin\": true, \"gridcolor\": \"white\", \"linecolor\": \"white\", \"ticks\": \"\", \"title\": {\"standoff\": 15}, \"zerolinecolor\": \"white\", \"zerolinewidth\": 2}, \"yaxis\": {\"automargin\": true, \"gridcolor\": \"white\", \"linecolor\": \"white\", \"ticks\": \"\", \"title\": {\"standoff\": 15}, \"zerolinecolor\": \"white\", \"zerolinewidth\": 2}}}, \"title\": {\"text\": \"Average Proportion of Comorbidities in the US by State\"}},                        {\"responsive\": true}                    ).then(function(){\n",
       "                            \n",
       "var gd = document.getElementById('caebcabf-9572-4163-8f22-fc5766e74ac7');\n",
       "var x = new MutationObserver(function (mutations, observer) {{\n",
       "        var display = window.getComputedStyle(gd).display;\n",
       "        if (!display || display === 'none') {{\n",
       "            console.log([gd, 'removed!']);\n",
       "            Plotly.purge(gd);\n",
       "            observer.disconnect();\n",
       "        }}\n",
       "}});\n",
       "\n",
       "// Listen for the removal of the full notebook cells\n",
       "var notebookContainer = gd.closest('#notebook-container');\n",
       "if (notebookContainer) {{\n",
       "    x.observe(notebookContainer, {childList: true});\n",
       "}}\n",
       "\n",
       "// Listen for the clearing of the current output cell\n",
       "var outputEl = gd.closest('.output');\n",
       "if (outputEl) {{\n",
       "    x.observe(outputEl, {childList: true});\n",
       "}}\n",
       "\n",
       "                        })                };                });            </script>        </div>"
      ]
     },
     "metadata": {},
     "output_type": "display_data"
    }
   ],
   "source": [
    "# Thank you to Rachel for this code. :)\n",
    "# NOTE: New Jersey only has data for 2 out of the 3 years - 2017 & 2018\n",
    "import plotly.express as px\n",
    "from textwrap import wrap\n",
    "\n",
    "named_colorscales = px.colors.named_colorscales()\n",
    "#print(\"\\n\".join(wrap(\"\".join('{:<12}'.format(c) for c in named_colorscales), 96)))\n",
    "\n",
    "fig = px.choropleth(mapme,  # Input Pandas DataFrame\n",
    "                    locations = \"StateAbbr\",  # DataFrame column with locations\n",
    "                    color = \"TotalComorb\",  # DataFrame column with color values\n",
    "                    color_continuous_scale = 'turbo',\n",
    "                    hover_name = \"StateName\", # DataFrame column hover info\n",
    "                    locationmode = 'USA-states') # Set to plot as US States\n",
    "fig.update_layout(\n",
    "    title_text = 'Average Proportion of Comorbidities in the US by State', # Create a Title\n",
    "    geo_scope ='usa',  # Plot only the USA instead of globe\n",
    ")\n",
    "fig.show()  "
   ]
  },
  {
   "cell_type": "code",
   "execution_count": 84,
   "metadata": {},
   "outputs": [],
   "source": [
    "# BMI; how similar are they?\n",
    "map_df_dup = brfss.copy()\n",
    "map_df_dup['WEIGHT'] = brfss[\"WEIGHT\"].copy()\n",
    "mapme = map_df_dup.groupby(['L_STATENM','L_STATEAB','YEAR']).apply(lambda dfx: (dfx[\"_BMI5CAT\"] * dfx[\"WEIGHT\"]).sum() / dfx[\"WEIGHT\"].sum()).reset_index()\n",
    "mapme = mapme.rename(columns = {'L_STATENM':'StateName', 'L_STATEAB':'StateAbbr', 'YEAR':'Year', 0:'BMI_Prop'})\n",
    "#mapme"
   ]
  },
  {
   "cell_type": "code",
   "execution_count": 85,
   "metadata": {},
   "outputs": [
    {
     "data": {
      "application/vnd.plotly.v1+json": {
       "config": {
        "plotlyServerURL": "https://plot.ly"
       },
       "data": [
        {
         "coloraxis": "coloraxis",
         "geo": "geo",
         "hovertemplate": "<b>%{hovertext}</b><br><br>StateAbbr=%{location}<br>BMI_Prop=%{z}<extra></extra>",
         "hovertext": [
          "Alabama",
          "Alabama",
          "Alabama",
          "Alaska",
          "Alaska",
          "Alaska",
          "Arizona",
          "Arizona",
          "Arizona",
          "Arkansas",
          "Arkansas",
          "Arkansas",
          "California",
          "California",
          "California",
          "Colorado",
          "Colorado",
          "Colorado",
          "Connecticut",
          "Connecticut",
          "Connecticut",
          "Delaware",
          "Delaware",
          "Delaware",
          "District of Columbia",
          "District of Columbia",
          "District of Columbia",
          "Florida",
          "Florida",
          "Florida",
          "Georgia",
          "Georgia",
          "Georgia",
          "Guam",
          "Guam",
          "Guam",
          "Hawaii",
          "Hawaii",
          "Hawaii",
          "Idaho",
          "Idaho",
          "Idaho",
          "Illinois",
          "Illinois",
          "Illinois",
          "Indiana",
          "Indiana",
          "Indiana",
          "Iowa",
          "Iowa",
          "Iowa",
          "Kansas",
          "Kansas",
          "Kansas",
          "Kentucky",
          "Kentucky",
          "Kentucky",
          "Louisiana",
          "Louisiana",
          "Louisiana",
          "Maine",
          "Maine",
          "Maine",
          "Maryland",
          "Maryland",
          "Maryland",
          "Massachusetts",
          "Massachusetts",
          "Massachusetts",
          "Michigan",
          "Michigan",
          "Michigan",
          "Minnesota",
          "Minnesota",
          "Minnesota",
          "Mississippi",
          "Mississippi",
          "Mississippi",
          "Missouri",
          "Missouri",
          "Missouri",
          "Montana",
          "Montana",
          "Montana",
          "Nebraska",
          "Nebraska",
          "Nebraska",
          "Nevada",
          "Nevada",
          "Nevada",
          "New Hampshire",
          "New Hampshire",
          "New Hampshire",
          "New Jersey",
          "New Jersey",
          "New Mexico",
          "New Mexico",
          "New Mexico",
          "New York",
          "New York",
          "New York",
          "North Carolina",
          "North Carolina",
          "North Carolina",
          "North Dakota",
          "North Dakota",
          "North Dakota",
          "Ohio",
          "Ohio",
          "Ohio",
          "Oklahoma",
          "Oklahoma",
          "Oklahoma",
          "Oregon",
          "Oregon",
          "Oregon",
          "Pennsylvania",
          "Pennsylvania",
          "Pennsylvania",
          "Puerto Rico",
          "Puerto Rico",
          "Puerto Rico",
          "Rhode Island",
          "Rhode Island",
          "Rhode Island",
          "South Carolina",
          "South Carolina",
          "South Carolina",
          "South Dakota",
          "South Dakota",
          "South Dakota",
          "Tennessee",
          "Tennessee",
          "Tennessee",
          "Texas",
          "Texas",
          "Texas",
          "Utah",
          "Utah",
          "Utah",
          "Vermont",
          "Vermont",
          "Vermont",
          "Virginia",
          "Virginia",
          "Virginia",
          "Washington",
          "Washington",
          "Washington",
          "West Virginia",
          "West Virginia",
          "West Virginia",
          "Wisconsin",
          "Wisconsin",
          "Wisconsin",
          "Wyoming",
          "Wyoming",
          "Wyoming"
         ],
         "locationmode": "USA-states",
         "locations": [
          "AL",
          "AL",
          "AL",
          "AK",
          "AK",
          "AK",
          "AZ",
          "AZ",
          "AZ",
          "AR",
          "AR",
          "AR",
          "CA",
          "CA",
          "CA",
          "CO",
          "CO",
          "CO",
          "CT",
          "CT",
          "CT",
          "DE",
          "DE",
          "DE",
          "DC",
          "DC",
          "DC",
          "FL",
          "FL",
          "FL",
          "GA",
          "GA",
          "GA",
          "GU",
          "GU",
          "GU",
          "HI",
          "HI",
          "HI",
          "ID",
          "ID",
          "ID",
          "IL",
          "IL",
          "IL",
          "IN",
          "IN",
          "IN",
          "IA",
          "IA",
          "IA",
          "KS",
          "KS",
          "KS",
          "KY",
          "KY",
          "KY",
          "LA",
          "LA",
          "LA",
          "ME",
          "ME",
          "ME",
          "MD",
          "MD",
          "MD",
          "MA",
          "MA",
          "MA",
          "MI",
          "MI",
          "MI",
          "MN",
          "MN",
          "MN",
          "MS",
          "MS",
          "MS",
          "MO",
          "MO",
          "MO",
          "MT",
          "MT",
          "MT",
          "NE",
          "NE",
          "NE",
          "NV",
          "NV",
          "NV",
          "NH",
          "NH",
          "NH",
          "NJ",
          "NJ",
          "NM",
          "NM",
          "NM",
          "NY",
          "NY",
          "NY",
          "NC",
          "NC",
          "NC",
          "ND",
          "ND",
          "ND",
          "OH",
          "OH",
          "OH",
          "OK",
          "OK",
          "OK",
          "OR",
          "OR",
          "OR",
          "PA",
          "PA",
          "PA",
          "PR",
          "PR",
          "PR",
          "RI",
          "RI",
          "RI",
          "SC",
          "SC",
          "SC",
          "SD",
          "SD",
          "SD",
          "TN",
          "TN",
          "TN",
          "TX",
          "TX",
          "TX",
          "UT",
          "UT",
          "UT",
          "VT",
          "VT",
          "VT",
          "VA",
          "VA",
          "VA",
          "WA",
          "WA",
          "WA",
          "WV",
          "WV",
          "WV",
          "WI",
          "WI",
          "WI",
          "WY",
          "WY",
          "WY"
         ],
         "name": "",
         "type": "choropleth",
         "z": [
          2.9252042800262354,
          2.787650222196621,
          2.7699878983963977,
          2.649705645443944,
          3.1416745265565584,
          2.656346884859468,
          2.5945421755284954,
          2.8441570501731825,
          2.697067909975204,
          2.82708306766597,
          3.0117491024461884,
          2.6943302366452078,
          2.6480773279580223,
          2.547793657343785,
          2.720833968892414,
          2.6471127701834987,
          2.6909015395735367,
          2.51926727149864,
          2.555360083733929,
          2.635878056832367,
          2.477107511947747,
          2.570569588128773,
          2.810300909636965,
          2.476526533993386,
          2.6628221100212284,
          2.585468500339298,
          2.6455549275561245,
          2.7007807967607236,
          2.595911191597783,
          2.606348066778762,
          2.5272276589842106,
          2.663028105608447,
          2.495238068609974,
          2.825747709430066,
          2.526468743278448,
          2.6837817510219275,
          2.535205929175773,
          2.507259966467147,
          2.708226651557944,
          2.8438390057141993,
          2.5808873172030182,
          2.5933103010047818,
          2.7448229298748714,
          2.7751054265288997,
          2.8528622692482464,
          2.801837636374832,
          2.527025873790806,
          2.688610383934361,
          2.885977470910399,
          2.890821331721318,
          2.8758599573407095,
          2.8023814644800797,
          2.7348444107785617,
          2.775387958976053,
          2.8295869452708238,
          2.9913141340843685,
          2.899245155058259,
          2.827344073908381,
          2.680934935076997,
          2.8898547826964878,
          2.755257094792993,
          2.7413814362723414,
          2.738379013429974,
          2.685592794960432,
          2.711179991568732,
          2.6838366072874895,
          2.3565595638625263,
          2.5435343912550317,
          2.57894464154078,
          2.6942971205124557,
          2.7761885683720093,
          2.760284067523314,
          2.5576815454666475,
          2.6962771515191957,
          2.698059355184194,
          2.9679549567898347,
          2.845472335166866,
          3.0460804970317596,
          2.6979497510816817,
          2.7536611719098194,
          2.7806475637865495,
          2.7274976980022796,
          2.6070368833224604,
          2.701168198616077,
          2.7794867404052104,
          2.8444764610464586,
          2.7914560228842835,
          2.5756420624542544,
          2.573617653200935,
          2.801548272386067,
          2.7520398554356524,
          2.642057268063944,
          2.507985975708322,
          2.558916608099953,
          2.570108166652063,
          2.661422193939365,
          2.763309462810772,
          2.731173456648209,
          2.58472073988973,
          2.5020854557442047,
          2.496126116959895,
          2.6362181416778308,
          2.8922477595735616,
          2.5681366463630577,
          2.8022070873873948,
          2.785950086133004,
          2.8827421021874198,
          2.8552814836922003,
          2.683160316568264,
          2.683637014078138,
          2.733028164476134,
          2.7224917567905247,
          2.743662977372065,
          2.5428000228636556,
          2.57384712122489,
          2.622448803360776,
          2.7252619853734315,
          2.771859555040719,
          2.844646271679775,
          2.8290971375554355,
          2.7482858051127748,
          2.999125285667089,
          2.636916525359994,
          2.6346168836043122,
          2.670043242536145,
          2.7954851628487267,
          2.7040700690361867,
          2.8327928190926075,
          2.819678792118768,
          2.7964421399462775,
          2.7057459522532255,
          2.5818621008691247,
          2.8733179215992015,
          2.8221113775332354,
          2.839656273113661,
          2.818770886396866,
          2.5817870349926615,
          2.6831613687683356,
          2.4978117056845104,
          2.7477220925544916,
          2.693231361384036,
          2.7504798092190077,
          2.7226844659988645,
          2.725201767117438,
          2.782253947716949,
          2.6205846040883873,
          2.6578056974885107,
          2.604445290891612,
          2.6329692613022964,
          2.961897780661639,
          2.9757802112740652,
          2.736211803813457,
          2.7109950036638892,
          2.6675463361196567,
          2.842359095812312,
          2.69362128501063,
          2.7439555596402054,
          2.7297009355516653
         ]
        }
       ],
       "layout": {
        "coloraxis": {
         "colorbar": {
          "title": {
           "text": "BMI_Prop"
          }
         },
         "colorscale": [
          [
           0,
           "#30123b"
          ],
          [
           0.07142857142857142,
           "#4145ab"
          ],
          [
           0.14285714285714285,
           "#4675ed"
          ],
          [
           0.21428571428571427,
           "#39a2fc"
          ],
          [
           0.2857142857142857,
           "#1bcfd4"
          ],
          [
           0.35714285714285715,
           "#24eca6"
          ],
          [
           0.42857142857142855,
           "#61fc6c"
          ],
          [
           0.5,
           "#a4fc3b"
          ],
          [
           0.5714285714285714,
           "#d1e834"
          ],
          [
           0.6428571428571429,
           "#f3c63a"
          ],
          [
           0.7142857142857143,
           "#fe9b2d"
          ],
          [
           0.7857142857142857,
           "#f36315"
          ],
          [
           0.8571428571428571,
           "#d93806"
          ],
          [
           0.9285714285714286,
           "#b11901"
          ],
          [
           1,
           "#7a0402"
          ]
         ]
        },
        "geo": {
         "center": {},
         "domain": {
          "x": [
           0,
           1
          ],
          "y": [
           0,
           1
          ]
         },
         "scope": "usa"
        },
        "legend": {
         "tracegroupgap": 0
        },
        "margin": {
         "t": 60
        },
        "template": {
         "data": {
          "bar": [
           {
            "error_x": {
             "color": "#2a3f5f"
            },
            "error_y": {
             "color": "#2a3f5f"
            },
            "marker": {
             "line": {
              "color": "#E5ECF6",
              "width": 0.5
             }
            },
            "type": "bar"
           }
          ],
          "barpolar": [
           {
            "marker": {
             "line": {
              "color": "#E5ECF6",
              "width": 0.5
             }
            },
            "type": "barpolar"
           }
          ],
          "carpet": [
           {
            "aaxis": {
             "endlinecolor": "#2a3f5f",
             "gridcolor": "white",
             "linecolor": "white",
             "minorgridcolor": "white",
             "startlinecolor": "#2a3f5f"
            },
            "baxis": {
             "endlinecolor": "#2a3f5f",
             "gridcolor": "white",
             "linecolor": "white",
             "minorgridcolor": "white",
             "startlinecolor": "#2a3f5f"
            },
            "type": "carpet"
           }
          ],
          "choropleth": [
           {
            "colorbar": {
             "outlinewidth": 0,
             "ticks": ""
            },
            "type": "choropleth"
           }
          ],
          "contour": [
           {
            "colorbar": {
             "outlinewidth": 0,
             "ticks": ""
            },
            "colorscale": [
             [
              0,
              "#0d0887"
             ],
             [
              0.1111111111111111,
              "#46039f"
             ],
             [
              0.2222222222222222,
              "#7201a8"
             ],
             [
              0.3333333333333333,
              "#9c179e"
             ],
             [
              0.4444444444444444,
              "#bd3786"
             ],
             [
              0.5555555555555556,
              "#d8576b"
             ],
             [
              0.6666666666666666,
              "#ed7953"
             ],
             [
              0.7777777777777778,
              "#fb9f3a"
             ],
             [
              0.8888888888888888,
              "#fdca26"
             ],
             [
              1,
              "#f0f921"
             ]
            ],
            "type": "contour"
           }
          ],
          "contourcarpet": [
           {
            "colorbar": {
             "outlinewidth": 0,
             "ticks": ""
            },
            "type": "contourcarpet"
           }
          ],
          "heatmap": [
           {
            "colorbar": {
             "outlinewidth": 0,
             "ticks": ""
            },
            "colorscale": [
             [
              0,
              "#0d0887"
             ],
             [
              0.1111111111111111,
              "#46039f"
             ],
             [
              0.2222222222222222,
              "#7201a8"
             ],
             [
              0.3333333333333333,
              "#9c179e"
             ],
             [
              0.4444444444444444,
              "#bd3786"
             ],
             [
              0.5555555555555556,
              "#d8576b"
             ],
             [
              0.6666666666666666,
              "#ed7953"
             ],
             [
              0.7777777777777778,
              "#fb9f3a"
             ],
             [
              0.8888888888888888,
              "#fdca26"
             ],
             [
              1,
              "#f0f921"
             ]
            ],
            "type": "heatmap"
           }
          ],
          "heatmapgl": [
           {
            "colorbar": {
             "outlinewidth": 0,
             "ticks": ""
            },
            "colorscale": [
             [
              0,
              "#0d0887"
             ],
             [
              0.1111111111111111,
              "#46039f"
             ],
             [
              0.2222222222222222,
              "#7201a8"
             ],
             [
              0.3333333333333333,
              "#9c179e"
             ],
             [
              0.4444444444444444,
              "#bd3786"
             ],
             [
              0.5555555555555556,
              "#d8576b"
             ],
             [
              0.6666666666666666,
              "#ed7953"
             ],
             [
              0.7777777777777778,
              "#fb9f3a"
             ],
             [
              0.8888888888888888,
              "#fdca26"
             ],
             [
              1,
              "#f0f921"
             ]
            ],
            "type": "heatmapgl"
           }
          ],
          "histogram": [
           {
            "marker": {
             "colorbar": {
              "outlinewidth": 0,
              "ticks": ""
             }
            },
            "type": "histogram"
           }
          ],
          "histogram2d": [
           {
            "colorbar": {
             "outlinewidth": 0,
             "ticks": ""
            },
            "colorscale": [
             [
              0,
              "#0d0887"
             ],
             [
              0.1111111111111111,
              "#46039f"
             ],
             [
              0.2222222222222222,
              "#7201a8"
             ],
             [
              0.3333333333333333,
              "#9c179e"
             ],
             [
              0.4444444444444444,
              "#bd3786"
             ],
             [
              0.5555555555555556,
              "#d8576b"
             ],
             [
              0.6666666666666666,
              "#ed7953"
             ],
             [
              0.7777777777777778,
              "#fb9f3a"
             ],
             [
              0.8888888888888888,
              "#fdca26"
             ],
             [
              1,
              "#f0f921"
             ]
            ],
            "type": "histogram2d"
           }
          ],
          "histogram2dcontour": [
           {
            "colorbar": {
             "outlinewidth": 0,
             "ticks": ""
            },
            "colorscale": [
             [
              0,
              "#0d0887"
             ],
             [
              0.1111111111111111,
              "#46039f"
             ],
             [
              0.2222222222222222,
              "#7201a8"
             ],
             [
              0.3333333333333333,
              "#9c179e"
             ],
             [
              0.4444444444444444,
              "#bd3786"
             ],
             [
              0.5555555555555556,
              "#d8576b"
             ],
             [
              0.6666666666666666,
              "#ed7953"
             ],
             [
              0.7777777777777778,
              "#fb9f3a"
             ],
             [
              0.8888888888888888,
              "#fdca26"
             ],
             [
              1,
              "#f0f921"
             ]
            ],
            "type": "histogram2dcontour"
           }
          ],
          "mesh3d": [
           {
            "colorbar": {
             "outlinewidth": 0,
             "ticks": ""
            },
            "type": "mesh3d"
           }
          ],
          "parcoords": [
           {
            "line": {
             "colorbar": {
              "outlinewidth": 0,
              "ticks": ""
             }
            },
            "type": "parcoords"
           }
          ],
          "pie": [
           {
            "automargin": true,
            "type": "pie"
           }
          ],
          "scatter": [
           {
            "marker": {
             "colorbar": {
              "outlinewidth": 0,
              "ticks": ""
             }
            },
            "type": "scatter"
           }
          ],
          "scatter3d": [
           {
            "line": {
             "colorbar": {
              "outlinewidth": 0,
              "ticks": ""
             }
            },
            "marker": {
             "colorbar": {
              "outlinewidth": 0,
              "ticks": ""
             }
            },
            "type": "scatter3d"
           }
          ],
          "scattercarpet": [
           {
            "marker": {
             "colorbar": {
              "outlinewidth": 0,
              "ticks": ""
             }
            },
            "type": "scattercarpet"
           }
          ],
          "scattergeo": [
           {
            "marker": {
             "colorbar": {
              "outlinewidth": 0,
              "ticks": ""
             }
            },
            "type": "scattergeo"
           }
          ],
          "scattergl": [
           {
            "marker": {
             "colorbar": {
              "outlinewidth": 0,
              "ticks": ""
             }
            },
            "type": "scattergl"
           }
          ],
          "scattermapbox": [
           {
            "marker": {
             "colorbar": {
              "outlinewidth": 0,
              "ticks": ""
             }
            },
            "type": "scattermapbox"
           }
          ],
          "scatterpolar": [
           {
            "marker": {
             "colorbar": {
              "outlinewidth": 0,
              "ticks": ""
             }
            },
            "type": "scatterpolar"
           }
          ],
          "scatterpolargl": [
           {
            "marker": {
             "colorbar": {
              "outlinewidth": 0,
              "ticks": ""
             }
            },
            "type": "scatterpolargl"
           }
          ],
          "scatterternary": [
           {
            "marker": {
             "colorbar": {
              "outlinewidth": 0,
              "ticks": ""
             }
            },
            "type": "scatterternary"
           }
          ],
          "surface": [
           {
            "colorbar": {
             "outlinewidth": 0,
             "ticks": ""
            },
            "colorscale": [
             [
              0,
              "#0d0887"
             ],
             [
              0.1111111111111111,
              "#46039f"
             ],
             [
              0.2222222222222222,
              "#7201a8"
             ],
             [
              0.3333333333333333,
              "#9c179e"
             ],
             [
              0.4444444444444444,
              "#bd3786"
             ],
             [
              0.5555555555555556,
              "#d8576b"
             ],
             [
              0.6666666666666666,
              "#ed7953"
             ],
             [
              0.7777777777777778,
              "#fb9f3a"
             ],
             [
              0.8888888888888888,
              "#fdca26"
             ],
             [
              1,
              "#f0f921"
             ]
            ],
            "type": "surface"
           }
          ],
          "table": [
           {
            "cells": {
             "fill": {
              "color": "#EBF0F8"
             },
             "line": {
              "color": "white"
             }
            },
            "header": {
             "fill": {
              "color": "#C8D4E3"
             },
             "line": {
              "color": "white"
             }
            },
            "type": "table"
           }
          ]
         },
         "layout": {
          "annotationdefaults": {
           "arrowcolor": "#2a3f5f",
           "arrowhead": 0,
           "arrowwidth": 1
          },
          "autotypenumbers": "strict",
          "coloraxis": {
           "colorbar": {
            "outlinewidth": 0,
            "ticks": ""
           }
          },
          "colorscale": {
           "diverging": [
            [
             0,
             "#8e0152"
            ],
            [
             0.1,
             "#c51b7d"
            ],
            [
             0.2,
             "#de77ae"
            ],
            [
             0.3,
             "#f1b6da"
            ],
            [
             0.4,
             "#fde0ef"
            ],
            [
             0.5,
             "#f7f7f7"
            ],
            [
             0.6,
             "#e6f5d0"
            ],
            [
             0.7,
             "#b8e186"
            ],
            [
             0.8,
             "#7fbc41"
            ],
            [
             0.9,
             "#4d9221"
            ],
            [
             1,
             "#276419"
            ]
           ],
           "sequential": [
            [
             0,
             "#0d0887"
            ],
            [
             0.1111111111111111,
             "#46039f"
            ],
            [
             0.2222222222222222,
             "#7201a8"
            ],
            [
             0.3333333333333333,
             "#9c179e"
            ],
            [
             0.4444444444444444,
             "#bd3786"
            ],
            [
             0.5555555555555556,
             "#d8576b"
            ],
            [
             0.6666666666666666,
             "#ed7953"
            ],
            [
             0.7777777777777778,
             "#fb9f3a"
            ],
            [
             0.8888888888888888,
             "#fdca26"
            ],
            [
             1,
             "#f0f921"
            ]
           ],
           "sequentialminus": [
            [
             0,
             "#0d0887"
            ],
            [
             0.1111111111111111,
             "#46039f"
            ],
            [
             0.2222222222222222,
             "#7201a8"
            ],
            [
             0.3333333333333333,
             "#9c179e"
            ],
            [
             0.4444444444444444,
             "#bd3786"
            ],
            [
             0.5555555555555556,
             "#d8576b"
            ],
            [
             0.6666666666666666,
             "#ed7953"
            ],
            [
             0.7777777777777778,
             "#fb9f3a"
            ],
            [
             0.8888888888888888,
             "#fdca26"
            ],
            [
             1,
             "#f0f921"
            ]
           ]
          },
          "colorway": [
           "#636efa",
           "#EF553B",
           "#00cc96",
           "#ab63fa",
           "#FFA15A",
           "#19d3f3",
           "#FF6692",
           "#B6E880",
           "#FF97FF",
           "#FECB52"
          ],
          "font": {
           "color": "#2a3f5f"
          },
          "geo": {
           "bgcolor": "white",
           "lakecolor": "white",
           "landcolor": "#E5ECF6",
           "showlakes": true,
           "showland": true,
           "subunitcolor": "white"
          },
          "hoverlabel": {
           "align": "left"
          },
          "hovermode": "closest",
          "mapbox": {
           "style": "light"
          },
          "paper_bgcolor": "white",
          "plot_bgcolor": "#E5ECF6",
          "polar": {
           "angularaxis": {
            "gridcolor": "white",
            "linecolor": "white",
            "ticks": ""
           },
           "bgcolor": "#E5ECF6",
           "radialaxis": {
            "gridcolor": "white",
            "linecolor": "white",
            "ticks": ""
           }
          },
          "scene": {
           "xaxis": {
            "backgroundcolor": "#E5ECF6",
            "gridcolor": "white",
            "gridwidth": 2,
            "linecolor": "white",
            "showbackground": true,
            "ticks": "",
            "zerolinecolor": "white"
           },
           "yaxis": {
            "backgroundcolor": "#E5ECF6",
            "gridcolor": "white",
            "gridwidth": 2,
            "linecolor": "white",
            "showbackground": true,
            "ticks": "",
            "zerolinecolor": "white"
           },
           "zaxis": {
            "backgroundcolor": "#E5ECF6",
            "gridcolor": "white",
            "gridwidth": 2,
            "linecolor": "white",
            "showbackground": true,
            "ticks": "",
            "zerolinecolor": "white"
           }
          },
          "shapedefaults": {
           "line": {
            "color": "#2a3f5f"
           }
          },
          "ternary": {
           "aaxis": {
            "gridcolor": "white",
            "linecolor": "white",
            "ticks": ""
           },
           "baxis": {
            "gridcolor": "white",
            "linecolor": "white",
            "ticks": ""
           },
           "bgcolor": "#E5ECF6",
           "caxis": {
            "gridcolor": "white",
            "linecolor": "white",
            "ticks": ""
           }
          },
          "title": {
           "x": 0.05
          },
          "xaxis": {
           "automargin": true,
           "gridcolor": "white",
           "linecolor": "white",
           "ticks": "",
           "title": {
            "standoff": 15
           },
           "zerolinecolor": "white",
           "zerolinewidth": 2
          },
          "yaxis": {
           "automargin": true,
           "gridcolor": "white",
           "linecolor": "white",
           "ticks": "",
           "title": {
            "standoff": 15
           },
           "zerolinecolor": "white",
           "zerolinewidth": 2
          }
         }
        },
        "title": {
         "text": "Average Proportion of BMI in the US by State"
        }
       }
      },
      "text/html": [
       "<div>                            <div id=\"f6672207-5d80-4a11-8bce-9b93800e7000\" class=\"plotly-graph-div\" style=\"height:525px; width:100%;\"></div>            <script type=\"text/javascript\">                require([\"plotly\"], function(Plotly) {                    window.PLOTLYENV=window.PLOTLYENV || {};                                    if (document.getElementById(\"f6672207-5d80-4a11-8bce-9b93800e7000\")) {                    Plotly.newPlot(                        \"f6672207-5d80-4a11-8bce-9b93800e7000\",                        [{\"coloraxis\": \"coloraxis\", \"geo\": \"geo\", \"hovertemplate\": \"<b>%{hovertext}</b><br><br>StateAbbr=%{location}<br>BMI_Prop=%{z}<extra></extra>\", \"hovertext\": [\"Alabama\", \"Alabama\", \"Alabama\", \"Alaska\", \"Alaska\", \"Alaska\", \"Arizona\", \"Arizona\", \"Arizona\", \"Arkansas\", \"Arkansas\", \"Arkansas\", \"California\", \"California\", \"California\", \"Colorado\", \"Colorado\", \"Colorado\", \"Connecticut\", \"Connecticut\", \"Connecticut\", \"Delaware\", \"Delaware\", \"Delaware\", \"District of Columbia\", \"District of Columbia\", \"District of Columbia\", \"Florida\", \"Florida\", \"Florida\", \"Georgia\", \"Georgia\", \"Georgia\", \"Guam\", \"Guam\", \"Guam\", \"Hawaii\", \"Hawaii\", \"Hawaii\", \"Idaho\", \"Idaho\", \"Idaho\", \"Illinois\", \"Illinois\", \"Illinois\", \"Indiana\", \"Indiana\", \"Indiana\", \"Iowa\", \"Iowa\", \"Iowa\", \"Kansas\", \"Kansas\", \"Kansas\", \"Kentucky\", \"Kentucky\", \"Kentucky\", \"Louisiana\", \"Louisiana\", \"Louisiana\", \"Maine\", \"Maine\", \"Maine\", \"Maryland\", \"Maryland\", \"Maryland\", \"Massachusetts\", \"Massachusetts\", \"Massachusetts\", \"Michigan\", \"Michigan\", \"Michigan\", \"Minnesota\", \"Minnesota\", \"Minnesota\", \"Mississippi\", \"Mississippi\", \"Mississippi\", \"Missouri\", \"Missouri\", \"Missouri\", \"Montana\", \"Montana\", \"Montana\", \"Nebraska\", \"Nebraska\", \"Nebraska\", \"Nevada\", \"Nevada\", \"Nevada\", \"New Hampshire\", \"New Hampshire\", \"New Hampshire\", \"New Jersey\", \"New Jersey\", \"New Mexico\", \"New Mexico\", \"New Mexico\", \"New York\", \"New York\", \"New York\", \"North Carolina\", \"North Carolina\", \"North Carolina\", \"North Dakota\", \"North Dakota\", \"North Dakota\", \"Ohio\", \"Ohio\", \"Ohio\", \"Oklahoma\", \"Oklahoma\", \"Oklahoma\", \"Oregon\", \"Oregon\", \"Oregon\", \"Pennsylvania\", \"Pennsylvania\", \"Pennsylvania\", \"Puerto Rico\", \"Puerto Rico\", \"Puerto Rico\", \"Rhode Island\", \"Rhode Island\", \"Rhode Island\", \"South Carolina\", \"South Carolina\", \"South Carolina\", \"South Dakota\", \"South Dakota\", \"South Dakota\", \"Tennessee\", \"Tennessee\", \"Tennessee\", \"Texas\", \"Texas\", \"Texas\", \"Utah\", \"Utah\", \"Utah\", \"Vermont\", \"Vermont\", \"Vermont\", \"Virginia\", \"Virginia\", \"Virginia\", \"Washington\", \"Washington\", \"Washington\", \"West Virginia\", \"West Virginia\", \"West Virginia\", \"Wisconsin\", \"Wisconsin\", \"Wisconsin\", \"Wyoming\", \"Wyoming\", \"Wyoming\"], \"locationmode\": \"USA-states\", \"locations\": [\"AL\", \"AL\", \"AL\", \"AK\", \"AK\", \"AK\", \"AZ\", \"AZ\", \"AZ\", \"AR\", \"AR\", \"AR\", \"CA\", \"CA\", \"CA\", \"CO\", \"CO\", \"CO\", \"CT\", \"CT\", \"CT\", \"DE\", \"DE\", \"DE\", \"DC\", \"DC\", \"DC\", \"FL\", \"FL\", \"FL\", \"GA\", \"GA\", \"GA\", \"GU\", \"GU\", \"GU\", \"HI\", \"HI\", \"HI\", \"ID\", \"ID\", \"ID\", \"IL\", \"IL\", \"IL\", \"IN\", \"IN\", \"IN\", \"IA\", \"IA\", \"IA\", \"KS\", \"KS\", \"KS\", \"KY\", \"KY\", \"KY\", \"LA\", \"LA\", \"LA\", \"ME\", \"ME\", \"ME\", \"MD\", \"MD\", \"MD\", \"MA\", \"MA\", \"MA\", \"MI\", \"MI\", \"MI\", \"MN\", \"MN\", \"MN\", \"MS\", \"MS\", \"MS\", \"MO\", \"MO\", \"MO\", \"MT\", \"MT\", \"MT\", \"NE\", \"NE\", \"NE\", \"NV\", \"NV\", \"NV\", \"NH\", \"NH\", \"NH\", \"NJ\", \"NJ\", \"NM\", \"NM\", \"NM\", \"NY\", \"NY\", \"NY\", \"NC\", \"NC\", \"NC\", \"ND\", \"ND\", \"ND\", \"OH\", \"OH\", \"OH\", \"OK\", \"OK\", \"OK\", \"OR\", \"OR\", \"OR\", \"PA\", \"PA\", \"PA\", \"PR\", \"PR\", \"PR\", \"RI\", \"RI\", \"RI\", \"SC\", \"SC\", \"SC\", \"SD\", \"SD\", \"SD\", \"TN\", \"TN\", \"TN\", \"TX\", \"TX\", \"TX\", \"UT\", \"UT\", \"UT\", \"VT\", \"VT\", \"VT\", \"VA\", \"VA\", \"VA\", \"WA\", \"WA\", \"WA\", \"WV\", \"WV\", \"WV\", \"WI\", \"WI\", \"WI\", \"WY\", \"WY\", \"WY\"], \"name\": \"\", \"type\": \"choropleth\", \"z\": [2.9252042800262354, 2.787650222196621, 2.7699878983963977, 2.649705645443944, 3.1416745265565584, 2.656346884859468, 2.5945421755284954, 2.8441570501731825, 2.697067909975204, 2.82708306766597, 3.0117491024461884, 2.6943302366452078, 2.6480773279580223, 2.547793657343785, 2.720833968892414, 2.6471127701834987, 2.6909015395735367, 2.51926727149864, 2.555360083733929, 2.635878056832367, 2.477107511947747, 2.570569588128773, 2.810300909636965, 2.476526533993386, 2.6628221100212284, 2.585468500339298, 2.6455549275561245, 2.7007807967607236, 2.595911191597783, 2.606348066778762, 2.5272276589842106, 2.663028105608447, 2.495238068609974, 2.825747709430066, 2.526468743278448, 2.6837817510219275, 2.535205929175773, 2.507259966467147, 2.708226651557944, 2.8438390057141993, 2.5808873172030182, 2.5933103010047818, 2.7448229298748714, 2.7751054265288997, 2.8528622692482464, 2.801837636374832, 2.527025873790806, 2.688610383934361, 2.885977470910399, 2.890821331721318, 2.8758599573407095, 2.8023814644800797, 2.7348444107785617, 2.775387958976053, 2.8295869452708238, 2.9913141340843685, 2.899245155058259, 2.827344073908381, 2.680934935076997, 2.8898547826964878, 2.755257094792993, 2.7413814362723414, 2.738379013429974, 2.685592794960432, 2.711179991568732, 2.6838366072874895, 2.3565595638625263, 2.5435343912550317, 2.57894464154078, 2.6942971205124557, 2.7761885683720093, 2.760284067523314, 2.5576815454666475, 2.6962771515191957, 2.698059355184194, 2.9679549567898347, 2.845472335166866, 3.0460804970317596, 2.6979497510816817, 2.7536611719098194, 2.7806475637865495, 2.7274976980022796, 2.6070368833224604, 2.701168198616077, 2.7794867404052104, 2.8444764610464586, 2.7914560228842835, 2.5756420624542544, 2.573617653200935, 2.801548272386067, 2.7520398554356524, 2.642057268063944, 2.507985975708322, 2.558916608099953, 2.570108166652063, 2.661422193939365, 2.763309462810772, 2.731173456648209, 2.58472073988973, 2.5020854557442047, 2.496126116959895, 2.6362181416778308, 2.8922477595735616, 2.5681366463630577, 2.8022070873873948, 2.785950086133004, 2.8827421021874198, 2.8552814836922003, 2.683160316568264, 2.683637014078138, 2.733028164476134, 2.7224917567905247, 2.743662977372065, 2.5428000228636556, 2.57384712122489, 2.622448803360776, 2.7252619853734315, 2.771859555040719, 2.844646271679775, 2.8290971375554355, 2.7482858051127748, 2.999125285667089, 2.636916525359994, 2.6346168836043122, 2.670043242536145, 2.7954851628487267, 2.7040700690361867, 2.8327928190926075, 2.819678792118768, 2.7964421399462775, 2.7057459522532255, 2.5818621008691247, 2.8733179215992015, 2.8221113775332354, 2.839656273113661, 2.818770886396866, 2.5817870349926615, 2.6831613687683356, 2.4978117056845104, 2.7477220925544916, 2.693231361384036, 2.7504798092190077, 2.7226844659988645, 2.725201767117438, 2.782253947716949, 2.6205846040883873, 2.6578056974885107, 2.604445290891612, 2.6329692613022964, 2.961897780661639, 2.9757802112740652, 2.736211803813457, 2.7109950036638892, 2.6675463361196567, 2.842359095812312, 2.69362128501063, 2.7439555596402054, 2.7297009355516653]}],                        {\"coloraxis\": {\"colorbar\": {\"title\": {\"text\": \"BMI_Prop\"}}, \"colorscale\": [[0.0, \"#30123b\"], [0.07142857142857142, \"#4145ab\"], [0.14285714285714285, \"#4675ed\"], [0.21428571428571427, \"#39a2fc\"], [0.2857142857142857, \"#1bcfd4\"], [0.35714285714285715, \"#24eca6\"], [0.42857142857142855, \"#61fc6c\"], [0.5, \"#a4fc3b\"], [0.5714285714285714, \"#d1e834\"], [0.6428571428571429, \"#f3c63a\"], [0.7142857142857143, \"#fe9b2d\"], [0.7857142857142857, \"#f36315\"], [0.8571428571428571, \"#d93806\"], [0.9285714285714286, \"#b11901\"], [1.0, \"#7a0402\"]]}, \"geo\": {\"center\": {}, \"domain\": {\"x\": [0.0, 1.0], \"y\": [0.0, 1.0]}, \"scope\": \"usa\"}, \"legend\": {\"tracegroupgap\": 0}, \"margin\": {\"t\": 60}, \"template\": {\"data\": {\"bar\": [{\"error_x\": {\"color\": \"#2a3f5f\"}, \"error_y\": {\"color\": \"#2a3f5f\"}, \"marker\": {\"line\": {\"color\": \"#E5ECF6\", \"width\": 0.5}}, \"type\": \"bar\"}], \"barpolar\": [{\"marker\": {\"line\": {\"color\": \"#E5ECF6\", \"width\": 0.5}}, \"type\": \"barpolar\"}], \"carpet\": [{\"aaxis\": {\"endlinecolor\": \"#2a3f5f\", \"gridcolor\": \"white\", \"linecolor\": \"white\", \"minorgridcolor\": \"white\", \"startlinecolor\": \"#2a3f5f\"}, \"baxis\": {\"endlinecolor\": \"#2a3f5f\", \"gridcolor\": \"white\", \"linecolor\": \"white\", \"minorgridcolor\": \"white\", \"startlinecolor\": \"#2a3f5f\"}, \"type\": \"carpet\"}], \"choropleth\": [{\"colorbar\": {\"outlinewidth\": 0, \"ticks\": \"\"}, \"type\": \"choropleth\"}], \"contour\": [{\"colorbar\": {\"outlinewidth\": 0, \"ticks\": \"\"}, \"colorscale\": [[0.0, \"#0d0887\"], [0.1111111111111111, \"#46039f\"], [0.2222222222222222, \"#7201a8\"], [0.3333333333333333, \"#9c179e\"], [0.4444444444444444, \"#bd3786\"], [0.5555555555555556, \"#d8576b\"], [0.6666666666666666, \"#ed7953\"], [0.7777777777777778, \"#fb9f3a\"], [0.8888888888888888, \"#fdca26\"], [1.0, \"#f0f921\"]], \"type\": \"contour\"}], \"contourcarpet\": [{\"colorbar\": {\"outlinewidth\": 0, \"ticks\": \"\"}, \"type\": \"contourcarpet\"}], \"heatmap\": [{\"colorbar\": {\"outlinewidth\": 0, \"ticks\": \"\"}, \"colorscale\": [[0.0, \"#0d0887\"], [0.1111111111111111, \"#46039f\"], [0.2222222222222222, \"#7201a8\"], [0.3333333333333333, \"#9c179e\"], [0.4444444444444444, \"#bd3786\"], [0.5555555555555556, \"#d8576b\"], [0.6666666666666666, \"#ed7953\"], [0.7777777777777778, \"#fb9f3a\"], [0.8888888888888888, \"#fdca26\"], [1.0, \"#f0f921\"]], \"type\": \"heatmap\"}], \"heatmapgl\": [{\"colorbar\": {\"outlinewidth\": 0, \"ticks\": \"\"}, \"colorscale\": [[0.0, \"#0d0887\"], [0.1111111111111111, \"#46039f\"], [0.2222222222222222, \"#7201a8\"], [0.3333333333333333, \"#9c179e\"], [0.4444444444444444, \"#bd3786\"], [0.5555555555555556, \"#d8576b\"], [0.6666666666666666, \"#ed7953\"], [0.7777777777777778, \"#fb9f3a\"], [0.8888888888888888, \"#fdca26\"], [1.0, \"#f0f921\"]], \"type\": \"heatmapgl\"}], \"histogram\": [{\"marker\": {\"colorbar\": {\"outlinewidth\": 0, \"ticks\": \"\"}}, \"type\": \"histogram\"}], \"histogram2d\": [{\"colorbar\": {\"outlinewidth\": 0, \"ticks\": \"\"}, \"colorscale\": [[0.0, \"#0d0887\"], [0.1111111111111111, \"#46039f\"], [0.2222222222222222, \"#7201a8\"], [0.3333333333333333, \"#9c179e\"], [0.4444444444444444, \"#bd3786\"], [0.5555555555555556, \"#d8576b\"], [0.6666666666666666, \"#ed7953\"], [0.7777777777777778, \"#fb9f3a\"], [0.8888888888888888, \"#fdca26\"], [1.0, \"#f0f921\"]], \"type\": \"histogram2d\"}], \"histogram2dcontour\": [{\"colorbar\": {\"outlinewidth\": 0, \"ticks\": \"\"}, \"colorscale\": [[0.0, \"#0d0887\"], [0.1111111111111111, \"#46039f\"], [0.2222222222222222, \"#7201a8\"], [0.3333333333333333, \"#9c179e\"], [0.4444444444444444, \"#bd3786\"], [0.5555555555555556, \"#d8576b\"], [0.6666666666666666, \"#ed7953\"], [0.7777777777777778, \"#fb9f3a\"], [0.8888888888888888, \"#fdca26\"], [1.0, \"#f0f921\"]], \"type\": \"histogram2dcontour\"}], \"mesh3d\": [{\"colorbar\": {\"outlinewidth\": 0, \"ticks\": \"\"}, \"type\": \"mesh3d\"}], \"parcoords\": [{\"line\": {\"colorbar\": {\"outlinewidth\": 0, \"ticks\": \"\"}}, \"type\": \"parcoords\"}], \"pie\": [{\"automargin\": true, \"type\": \"pie\"}], \"scatter\": [{\"marker\": {\"colorbar\": {\"outlinewidth\": 0, \"ticks\": \"\"}}, \"type\": \"scatter\"}], \"scatter3d\": [{\"line\": {\"colorbar\": {\"outlinewidth\": 0, \"ticks\": \"\"}}, \"marker\": {\"colorbar\": {\"outlinewidth\": 0, \"ticks\": \"\"}}, \"type\": \"scatter3d\"}], \"scattercarpet\": [{\"marker\": {\"colorbar\": {\"outlinewidth\": 0, \"ticks\": \"\"}}, \"type\": \"scattercarpet\"}], \"scattergeo\": [{\"marker\": {\"colorbar\": {\"outlinewidth\": 0, \"ticks\": \"\"}}, \"type\": \"scattergeo\"}], \"scattergl\": [{\"marker\": {\"colorbar\": {\"outlinewidth\": 0, \"ticks\": \"\"}}, \"type\": \"scattergl\"}], \"scattermapbox\": [{\"marker\": {\"colorbar\": {\"outlinewidth\": 0, \"ticks\": \"\"}}, \"type\": \"scattermapbox\"}], \"scatterpolar\": [{\"marker\": {\"colorbar\": {\"outlinewidth\": 0, \"ticks\": \"\"}}, \"type\": \"scatterpolar\"}], \"scatterpolargl\": [{\"marker\": {\"colorbar\": {\"outlinewidth\": 0, \"ticks\": \"\"}}, \"type\": \"scatterpolargl\"}], \"scatterternary\": [{\"marker\": {\"colorbar\": {\"outlinewidth\": 0, \"ticks\": \"\"}}, \"type\": \"scatterternary\"}], \"surface\": [{\"colorbar\": {\"outlinewidth\": 0, \"ticks\": \"\"}, \"colorscale\": [[0.0, \"#0d0887\"], [0.1111111111111111, \"#46039f\"], [0.2222222222222222, \"#7201a8\"], [0.3333333333333333, \"#9c179e\"], [0.4444444444444444, \"#bd3786\"], [0.5555555555555556, \"#d8576b\"], [0.6666666666666666, \"#ed7953\"], [0.7777777777777778, \"#fb9f3a\"], [0.8888888888888888, \"#fdca26\"], [1.0, \"#f0f921\"]], \"type\": \"surface\"}], \"table\": [{\"cells\": {\"fill\": {\"color\": \"#EBF0F8\"}, \"line\": {\"color\": \"white\"}}, \"header\": {\"fill\": {\"color\": \"#C8D4E3\"}, \"line\": {\"color\": \"white\"}}, \"type\": \"table\"}]}, \"layout\": {\"annotationdefaults\": {\"arrowcolor\": \"#2a3f5f\", \"arrowhead\": 0, \"arrowwidth\": 1}, \"autotypenumbers\": \"strict\", \"coloraxis\": {\"colorbar\": {\"outlinewidth\": 0, \"ticks\": \"\"}}, \"colorscale\": {\"diverging\": [[0, \"#8e0152\"], [0.1, \"#c51b7d\"], [0.2, \"#de77ae\"], [0.3, \"#f1b6da\"], [0.4, \"#fde0ef\"], [0.5, \"#f7f7f7\"], [0.6, \"#e6f5d0\"], [0.7, \"#b8e186\"], [0.8, \"#7fbc41\"], [0.9, \"#4d9221\"], [1, \"#276419\"]], \"sequential\": [[0.0, \"#0d0887\"], [0.1111111111111111, \"#46039f\"], [0.2222222222222222, \"#7201a8\"], [0.3333333333333333, \"#9c179e\"], [0.4444444444444444, \"#bd3786\"], [0.5555555555555556, \"#d8576b\"], [0.6666666666666666, \"#ed7953\"], [0.7777777777777778, \"#fb9f3a\"], [0.8888888888888888, \"#fdca26\"], [1.0, \"#f0f921\"]], \"sequentialminus\": [[0.0, \"#0d0887\"], [0.1111111111111111, \"#46039f\"], [0.2222222222222222, \"#7201a8\"], [0.3333333333333333, \"#9c179e\"], [0.4444444444444444, \"#bd3786\"], [0.5555555555555556, \"#d8576b\"], [0.6666666666666666, \"#ed7953\"], [0.7777777777777778, \"#fb9f3a\"], [0.8888888888888888, \"#fdca26\"], [1.0, \"#f0f921\"]]}, \"colorway\": [\"#636efa\", \"#EF553B\", \"#00cc96\", \"#ab63fa\", \"#FFA15A\", \"#19d3f3\", \"#FF6692\", \"#B6E880\", \"#FF97FF\", \"#FECB52\"], \"font\": {\"color\": \"#2a3f5f\"}, \"geo\": {\"bgcolor\": \"white\", \"lakecolor\": \"white\", \"landcolor\": \"#E5ECF6\", \"showlakes\": true, \"showland\": true, \"subunitcolor\": \"white\"}, \"hoverlabel\": {\"align\": \"left\"}, \"hovermode\": \"closest\", \"mapbox\": {\"style\": \"light\"}, \"paper_bgcolor\": \"white\", \"plot_bgcolor\": \"#E5ECF6\", \"polar\": {\"angularaxis\": {\"gridcolor\": \"white\", \"linecolor\": \"white\", \"ticks\": \"\"}, \"bgcolor\": \"#E5ECF6\", \"radialaxis\": {\"gridcolor\": \"white\", \"linecolor\": \"white\", \"ticks\": \"\"}}, \"scene\": {\"xaxis\": {\"backgroundcolor\": \"#E5ECF6\", \"gridcolor\": \"white\", \"gridwidth\": 2, \"linecolor\": \"white\", \"showbackground\": true, \"ticks\": \"\", \"zerolinecolor\": \"white\"}, \"yaxis\": {\"backgroundcolor\": \"#E5ECF6\", \"gridcolor\": \"white\", \"gridwidth\": 2, \"linecolor\": \"white\", \"showbackground\": true, \"ticks\": \"\", \"zerolinecolor\": \"white\"}, \"zaxis\": {\"backgroundcolor\": \"#E5ECF6\", \"gridcolor\": \"white\", \"gridwidth\": 2, \"linecolor\": \"white\", \"showbackground\": true, \"ticks\": \"\", \"zerolinecolor\": \"white\"}}, \"shapedefaults\": {\"line\": {\"color\": \"#2a3f5f\"}}, \"ternary\": {\"aaxis\": {\"gridcolor\": \"white\", \"linecolor\": \"white\", \"ticks\": \"\"}, \"baxis\": {\"gridcolor\": \"white\", \"linecolor\": \"white\", \"ticks\": \"\"}, \"bgcolor\": \"#E5ECF6\", \"caxis\": {\"gridcolor\": \"white\", \"linecolor\": \"white\", \"ticks\": \"\"}}, \"title\": {\"x\": 0.05}, \"xaxis\": {\"automargin\": true, \"gridcolor\": \"white\", \"linecolor\": \"white\", \"ticks\": \"\", \"title\": {\"standoff\": 15}, \"zerolinecolor\": \"white\", \"zerolinewidth\": 2}, \"yaxis\": {\"automargin\": true, \"gridcolor\": \"white\", \"linecolor\": \"white\", \"ticks\": \"\", \"title\": {\"standoff\": 15}, \"zerolinecolor\": \"white\", \"zerolinewidth\": 2}}}, \"title\": {\"text\": \"Average Proportion of BMI in the US by State\"}},                        {\"responsive\": true}                    ).then(function(){\n",
       "                            \n",
       "var gd = document.getElementById('f6672207-5d80-4a11-8bce-9b93800e7000');\n",
       "var x = new MutationObserver(function (mutations, observer) {{\n",
       "        var display = window.getComputedStyle(gd).display;\n",
       "        if (!display || display === 'none') {{\n",
       "            console.log([gd, 'removed!']);\n",
       "            Plotly.purge(gd);\n",
       "            observer.disconnect();\n",
       "        }}\n",
       "}});\n",
       "\n",
       "// Listen for the removal of the full notebook cells\n",
       "var notebookContainer = gd.closest('#notebook-container');\n",
       "if (notebookContainer) {{\n",
       "    x.observe(notebookContainer, {childList: true});\n",
       "}}\n",
       "\n",
       "// Listen for the clearing of the current output cell\n",
       "var outputEl = gd.closest('.output');\n",
       "if (outputEl) {{\n",
       "    x.observe(outputEl, {childList: true});\n",
       "}}\n",
       "\n",
       "                        })                };                });            </script>        </div>"
      ]
     },
     "metadata": {},
     "output_type": "display_data"
    }
   ],
   "source": [
    "# For Comparison - BMI Map\n",
    "# NOTE: New Jersey only has data for 2 out of the 3 years - 2017 & 2018\n",
    "import plotly.express as px\n",
    "from textwrap import wrap\n",
    "\n",
    "named_colorscales = px.colors.named_colorscales()\n",
    "#print(\"\\n\".join(wrap(\"\".join('{:<12}'.format(c) for c in named_colorscales), 96)))\n",
    "\n",
    "fig = px.choropleth(mapme,  # Input Pandas DataFrame\n",
    "                    locations = \"StateAbbr\",  # DataFrame column with locations\n",
    "                    color = \"BMI_Prop\",  # DataFrame column with color values\n",
    "                    color_continuous_scale = 'turbo',\n",
    "                    hover_name = \"StateName\", # DataFrame column hover info\n",
    "                    locationmode = 'USA-states') # Set to plot as US States\n",
    "fig.update_layout(\n",
    "    title_text = 'Average Proportion of BMI in the US by State', # Create a Title\n",
    "    geo_scope ='usa',  # Plot only the USA instead of globe\n",
    ")\n",
    "fig.show()  "
   ]
  },
  {
   "cell_type": "code",
   "execution_count": 86,
   "metadata": {},
   "outputs": [],
   "source": [
    "# INCOMEG\n",
    "map_df_dup = brfss.copy()\n",
    "map_df_dup['WEIGHT'] = brfss[\"WEIGHT\"].copy()\n",
    "mapme = map_df_dup.groupby(['L_STATENM','L_STATEAB','YEAR']).apply(lambda dfx: (dfx[\"_INCOMG\"] * dfx[\"WEIGHT\"]).sum() / dfx[\"WEIGHT\"].sum()).reset_index()\n",
    "mapme = mapme.rename(columns = {'L_STATENM':'StateName', 'L_STATEAB':'StateAbbr', 'YEAR':'Year', 0:'INCOME_Prop'})\n",
    "#mapme"
   ]
  },
  {
   "cell_type": "code",
   "execution_count": 87,
   "metadata": {},
   "outputs": [
    {
     "data": {
      "application/vnd.plotly.v1+json": {
       "config": {
        "plotlyServerURL": "https://plot.ly"
       },
       "data": [
        {
         "coloraxis": "coloraxis",
         "geo": "geo",
         "hovertemplate": "<b>%{hovertext}</b><br><br>StateAbbr=%{location}<br>INCOME_Prop=%{z}<extra></extra>",
         "hovertext": [
          "Alabama",
          "Alabama",
          "Alabama",
          "Alaska",
          "Alaska",
          "Alaska",
          "Arizona",
          "Arizona",
          "Arizona",
          "Arkansas",
          "Arkansas",
          "Arkansas",
          "California",
          "California",
          "California",
          "Colorado",
          "Colorado",
          "Colorado",
          "Connecticut",
          "Connecticut",
          "Connecticut",
          "Delaware",
          "Delaware",
          "Delaware",
          "District of Columbia",
          "District of Columbia",
          "District of Columbia",
          "Florida",
          "Florida",
          "Florida",
          "Georgia",
          "Georgia",
          "Georgia",
          "Guam",
          "Guam",
          "Guam",
          "Hawaii",
          "Hawaii",
          "Hawaii",
          "Idaho",
          "Idaho",
          "Idaho",
          "Illinois",
          "Illinois",
          "Illinois",
          "Indiana",
          "Indiana",
          "Indiana",
          "Iowa",
          "Iowa",
          "Iowa",
          "Kansas",
          "Kansas",
          "Kansas",
          "Kentucky",
          "Kentucky",
          "Kentucky",
          "Louisiana",
          "Louisiana",
          "Louisiana",
          "Maine",
          "Maine",
          "Maine",
          "Maryland",
          "Maryland",
          "Maryland",
          "Massachusetts",
          "Massachusetts",
          "Massachusetts",
          "Michigan",
          "Michigan",
          "Michigan",
          "Minnesota",
          "Minnesota",
          "Minnesota",
          "Mississippi",
          "Mississippi",
          "Mississippi",
          "Missouri",
          "Missouri",
          "Missouri",
          "Montana",
          "Montana",
          "Montana",
          "Nebraska",
          "Nebraska",
          "Nebraska",
          "Nevada",
          "Nevada",
          "Nevada",
          "New Hampshire",
          "New Hampshire",
          "New Hampshire",
          "New Jersey",
          "New Jersey",
          "New Mexico",
          "New Mexico",
          "New Mexico",
          "New York",
          "New York",
          "New York",
          "North Carolina",
          "North Carolina",
          "North Carolina",
          "North Dakota",
          "North Dakota",
          "North Dakota",
          "Ohio",
          "Ohio",
          "Ohio",
          "Oklahoma",
          "Oklahoma",
          "Oklahoma",
          "Oregon",
          "Oregon",
          "Oregon",
          "Pennsylvania",
          "Pennsylvania",
          "Pennsylvania",
          "Puerto Rico",
          "Puerto Rico",
          "Puerto Rico",
          "Rhode Island",
          "Rhode Island",
          "Rhode Island",
          "South Carolina",
          "South Carolina",
          "South Carolina",
          "South Dakota",
          "South Dakota",
          "South Dakota",
          "Tennessee",
          "Tennessee",
          "Tennessee",
          "Texas",
          "Texas",
          "Texas",
          "Utah",
          "Utah",
          "Utah",
          "Vermont",
          "Vermont",
          "Vermont",
          "Virginia",
          "Virginia",
          "Virginia",
          "Washington",
          "Washington",
          "Washington",
          "West Virginia",
          "West Virginia",
          "West Virginia",
          "Wisconsin",
          "Wisconsin",
          "Wisconsin",
          "Wyoming",
          "Wyoming",
          "Wyoming"
         ],
         "locationmode": "USA-states",
         "locations": [
          "AL",
          "AL",
          "AL",
          "AK",
          "AK",
          "AK",
          "AZ",
          "AZ",
          "AZ",
          "AR",
          "AR",
          "AR",
          "CA",
          "CA",
          "CA",
          "CO",
          "CO",
          "CO",
          "CT",
          "CT",
          "CT",
          "DE",
          "DE",
          "DE",
          "DC",
          "DC",
          "DC",
          "FL",
          "FL",
          "FL",
          "GA",
          "GA",
          "GA",
          "GU",
          "GU",
          "GU",
          "HI",
          "HI",
          "HI",
          "ID",
          "ID",
          "ID",
          "IL",
          "IL",
          "IL",
          "IN",
          "IN",
          "IN",
          "IA",
          "IA",
          "IA",
          "KS",
          "KS",
          "KS",
          "KY",
          "KY",
          "KY",
          "LA",
          "LA",
          "LA",
          "ME",
          "ME",
          "ME",
          "MD",
          "MD",
          "MD",
          "MA",
          "MA",
          "MA",
          "MI",
          "MI",
          "MI",
          "MN",
          "MN",
          "MN",
          "MS",
          "MS",
          "MS",
          "MO",
          "MO",
          "MO",
          "MT",
          "MT",
          "MT",
          "NE",
          "NE",
          "NE",
          "NV",
          "NV",
          "NV",
          "NH",
          "NH",
          "NH",
          "NJ",
          "NJ",
          "NM",
          "NM",
          "NM",
          "NY",
          "NY",
          "NY",
          "NC",
          "NC",
          "NC",
          "ND",
          "ND",
          "ND",
          "OH",
          "OH",
          "OH",
          "OK",
          "OK",
          "OK",
          "OR",
          "OR",
          "OR",
          "PA",
          "PA",
          "PA",
          "PR",
          "PR",
          "PR",
          "RI",
          "RI",
          "RI",
          "SC",
          "SC",
          "SC",
          "SD",
          "SD",
          "SD",
          "TN",
          "TN",
          "TN",
          "TX",
          "TX",
          "TX",
          "UT",
          "UT",
          "UT",
          "VT",
          "VT",
          "VT",
          "VA",
          "VA",
          "VA",
          "WA",
          "WA",
          "WA",
          "WV",
          "WV",
          "WV",
          "WI",
          "WI",
          "WI",
          "WY",
          "WY",
          "WY"
         ],
         "name": "",
         "type": "choropleth",
         "z": [
          5.09381889921393,
          4.789282274965623,
          4.736163287231809,
          5.0626388460674825,
          4.691915313899567,
          4.570848777083144,
          4.7621625308567905,
          4.814905736663751,
          4.649581192455486,
          4.2168552071173595,
          4.272679822475686,
          4.876156039322982,
          4.6007097177323155,
          4.666096757325594,
          4.642633861921778,
          4.794642178901513,
          4.717313110770519,
          4.735118699082588,
          4.933836714101042,
          5.207362358131105,
          5.206065258981364,
          5.138962028567686,
          4.817541731022695,
          4.831826102887965,
          4.917188014237497,
          4.345244002542632,
          5.200458437781289,
          4.594608873873499,
          4.5864603544589,
          4.969999243144928,
          4.7952583750190785,
          4.768287287886499,
          5.099839607252145,
          3.6605765984228955,
          4.542657714854358,
          4.593422222446243,
          4.443996495193088,
          4.882803672589364,
          4.815748719520984,
          4.612450515219231,
          4.626256693652075,
          4.798058889956597,
          4.226722007882972,
          4.497128479678303,
          4.583075011836054,
          4.180681689647686,
          5.079983862182189,
          4.831181455310295,
          4.492163878597129,
          4.525714164402207,
          4.84153562938051,
          4.909587860892502,
          4.724126439470408,
          4.686713840164057,
          5.251755004465878,
          4.4770066590680395,
          5.373004070265807,
          4.496846055784833,
          4.3473117426933126,
          4.469209184388638,
          4.3350023109292355,
          4.795322235386373,
          5.068163481714787,
          5.133507875513227,
          5.106536990861739,
          5.054664568943146,
          5.324544391172762,
          5.341393241307436,
          5.20978936713906,
          4.6613831738373275,
          4.529025187685285,
          4.941007073497228,
          4.681030947961309,
          4.774366195859115,
          4.675749071588979,
          3.9984729701768904,
          4.569587241570536,
          4.119107614905716,
          4.620376332784607,
          5.095632765726169,
          4.763625175676468,
          4.026198243957176,
          4.523818895539752,
          4.625803215879734,
          4.408931999546914,
          4.324964261092694,
          4.490973462020746,
          4.718469820605403,
          4.764592953211291,
          4.809477863203978,
          4.754600652710417,
          5.238394378206025,
          5.218900691254377,
          4.9478395312896595,
          5.18415782873877,
          4.518386984135814,
          3.9807651544131466,
          4.344083793911251,
          4.626418191028289,
          5.138629295507796,
          5.158765345460749,
          4.568542841494541,
          4.476520672981432,
          5.280502250579759,
          4.376386789152753,
          4.50059237297246,
          4.588629826936682,
          4.655747347446528,
          4.526493409979466,
          4.506370658402242,
          4.926036399627624,
          4.846357106935319,
          4.579004407255219,
          4.650249515545675,
          5.185834519575198,
          4.862887652197206,
          4.788207445030275,
          4.801486535919227,
          4.878604105104804,
          3.1177206653868446,
          3.161460968120298,
          3.5906466980478045,
          5.163567802396314,
          4.660913370321913,
          5.094620317472695,
          4.562175635197578,
          4.648299316280854,
          4.790467919351212,
          4.560700885988185,
          5.160331675398387,
          5.268846582209738,
          4.178748410794449,
          4.443674057443798,
          4.817817559139195,
          3.9780339486792893,
          4.998256926184023,
          4.909756333251929,
          4.9968572455901406,
          4.922925905002141,
          5.092692501840109,
          4.818841077377038,
          4.361507122739925,
          4.988242962182084,
          4.744880103903062,
          4.822445988914925,
          4.8784065900064775,
          5.028559333875741,
          4.918822294557939,
          4.903320877183518,
          4.256586290786923,
          4.077564812541569,
          4.229779674622401,
          4.59777365805294,
          4.649163425168175,
          4.543009329297778,
          4.415818112332082,
          4.777664780747769,
          5.18697514772738
         ]
        }
       ],
       "layout": {
        "coloraxis": {
         "colorbar": {
          "title": {
           "text": "INCOME_Prop"
          }
         },
         "colorscale": [
          [
           0,
           "#30123b"
          ],
          [
           0.07142857142857142,
           "#4145ab"
          ],
          [
           0.14285714285714285,
           "#4675ed"
          ],
          [
           0.21428571428571427,
           "#39a2fc"
          ],
          [
           0.2857142857142857,
           "#1bcfd4"
          ],
          [
           0.35714285714285715,
           "#24eca6"
          ],
          [
           0.42857142857142855,
           "#61fc6c"
          ],
          [
           0.5,
           "#a4fc3b"
          ],
          [
           0.5714285714285714,
           "#d1e834"
          ],
          [
           0.6428571428571429,
           "#f3c63a"
          ],
          [
           0.7142857142857143,
           "#fe9b2d"
          ],
          [
           0.7857142857142857,
           "#f36315"
          ],
          [
           0.8571428571428571,
           "#d93806"
          ],
          [
           0.9285714285714286,
           "#b11901"
          ],
          [
           1,
           "#7a0402"
          ]
         ]
        },
        "geo": {
         "center": {},
         "domain": {
          "x": [
           0,
           1
          ],
          "y": [
           0,
           1
          ]
         },
         "scope": "usa"
        },
        "legend": {
         "tracegroupgap": 0
        },
        "margin": {
         "t": 60
        },
        "template": {
         "data": {
          "bar": [
           {
            "error_x": {
             "color": "#2a3f5f"
            },
            "error_y": {
             "color": "#2a3f5f"
            },
            "marker": {
             "line": {
              "color": "#E5ECF6",
              "width": 0.5
             }
            },
            "type": "bar"
           }
          ],
          "barpolar": [
           {
            "marker": {
             "line": {
              "color": "#E5ECF6",
              "width": 0.5
             }
            },
            "type": "barpolar"
           }
          ],
          "carpet": [
           {
            "aaxis": {
             "endlinecolor": "#2a3f5f",
             "gridcolor": "white",
             "linecolor": "white",
             "minorgridcolor": "white",
             "startlinecolor": "#2a3f5f"
            },
            "baxis": {
             "endlinecolor": "#2a3f5f",
             "gridcolor": "white",
             "linecolor": "white",
             "minorgridcolor": "white",
             "startlinecolor": "#2a3f5f"
            },
            "type": "carpet"
           }
          ],
          "choropleth": [
           {
            "colorbar": {
             "outlinewidth": 0,
             "ticks": ""
            },
            "type": "choropleth"
           }
          ],
          "contour": [
           {
            "colorbar": {
             "outlinewidth": 0,
             "ticks": ""
            },
            "colorscale": [
             [
              0,
              "#0d0887"
             ],
             [
              0.1111111111111111,
              "#46039f"
             ],
             [
              0.2222222222222222,
              "#7201a8"
             ],
             [
              0.3333333333333333,
              "#9c179e"
             ],
             [
              0.4444444444444444,
              "#bd3786"
             ],
             [
              0.5555555555555556,
              "#d8576b"
             ],
             [
              0.6666666666666666,
              "#ed7953"
             ],
             [
              0.7777777777777778,
              "#fb9f3a"
             ],
             [
              0.8888888888888888,
              "#fdca26"
             ],
             [
              1,
              "#f0f921"
             ]
            ],
            "type": "contour"
           }
          ],
          "contourcarpet": [
           {
            "colorbar": {
             "outlinewidth": 0,
             "ticks": ""
            },
            "type": "contourcarpet"
           }
          ],
          "heatmap": [
           {
            "colorbar": {
             "outlinewidth": 0,
             "ticks": ""
            },
            "colorscale": [
             [
              0,
              "#0d0887"
             ],
             [
              0.1111111111111111,
              "#46039f"
             ],
             [
              0.2222222222222222,
              "#7201a8"
             ],
             [
              0.3333333333333333,
              "#9c179e"
             ],
             [
              0.4444444444444444,
              "#bd3786"
             ],
             [
              0.5555555555555556,
              "#d8576b"
             ],
             [
              0.6666666666666666,
              "#ed7953"
             ],
             [
              0.7777777777777778,
              "#fb9f3a"
             ],
             [
              0.8888888888888888,
              "#fdca26"
             ],
             [
              1,
              "#f0f921"
             ]
            ],
            "type": "heatmap"
           }
          ],
          "heatmapgl": [
           {
            "colorbar": {
             "outlinewidth": 0,
             "ticks": ""
            },
            "colorscale": [
             [
              0,
              "#0d0887"
             ],
             [
              0.1111111111111111,
              "#46039f"
             ],
             [
              0.2222222222222222,
              "#7201a8"
             ],
             [
              0.3333333333333333,
              "#9c179e"
             ],
             [
              0.4444444444444444,
              "#bd3786"
             ],
             [
              0.5555555555555556,
              "#d8576b"
             ],
             [
              0.6666666666666666,
              "#ed7953"
             ],
             [
              0.7777777777777778,
              "#fb9f3a"
             ],
             [
              0.8888888888888888,
              "#fdca26"
             ],
             [
              1,
              "#f0f921"
             ]
            ],
            "type": "heatmapgl"
           }
          ],
          "histogram": [
           {
            "marker": {
             "colorbar": {
              "outlinewidth": 0,
              "ticks": ""
             }
            },
            "type": "histogram"
           }
          ],
          "histogram2d": [
           {
            "colorbar": {
             "outlinewidth": 0,
             "ticks": ""
            },
            "colorscale": [
             [
              0,
              "#0d0887"
             ],
             [
              0.1111111111111111,
              "#46039f"
             ],
             [
              0.2222222222222222,
              "#7201a8"
             ],
             [
              0.3333333333333333,
              "#9c179e"
             ],
             [
              0.4444444444444444,
              "#bd3786"
             ],
             [
              0.5555555555555556,
              "#d8576b"
             ],
             [
              0.6666666666666666,
              "#ed7953"
             ],
             [
              0.7777777777777778,
              "#fb9f3a"
             ],
             [
              0.8888888888888888,
              "#fdca26"
             ],
             [
              1,
              "#f0f921"
             ]
            ],
            "type": "histogram2d"
           }
          ],
          "histogram2dcontour": [
           {
            "colorbar": {
             "outlinewidth": 0,
             "ticks": ""
            },
            "colorscale": [
             [
              0,
              "#0d0887"
             ],
             [
              0.1111111111111111,
              "#46039f"
             ],
             [
              0.2222222222222222,
              "#7201a8"
             ],
             [
              0.3333333333333333,
              "#9c179e"
             ],
             [
              0.4444444444444444,
              "#bd3786"
             ],
             [
              0.5555555555555556,
              "#d8576b"
             ],
             [
              0.6666666666666666,
              "#ed7953"
             ],
             [
              0.7777777777777778,
              "#fb9f3a"
             ],
             [
              0.8888888888888888,
              "#fdca26"
             ],
             [
              1,
              "#f0f921"
             ]
            ],
            "type": "histogram2dcontour"
           }
          ],
          "mesh3d": [
           {
            "colorbar": {
             "outlinewidth": 0,
             "ticks": ""
            },
            "type": "mesh3d"
           }
          ],
          "parcoords": [
           {
            "line": {
             "colorbar": {
              "outlinewidth": 0,
              "ticks": ""
             }
            },
            "type": "parcoords"
           }
          ],
          "pie": [
           {
            "automargin": true,
            "type": "pie"
           }
          ],
          "scatter": [
           {
            "marker": {
             "colorbar": {
              "outlinewidth": 0,
              "ticks": ""
             }
            },
            "type": "scatter"
           }
          ],
          "scatter3d": [
           {
            "line": {
             "colorbar": {
              "outlinewidth": 0,
              "ticks": ""
             }
            },
            "marker": {
             "colorbar": {
              "outlinewidth": 0,
              "ticks": ""
             }
            },
            "type": "scatter3d"
           }
          ],
          "scattercarpet": [
           {
            "marker": {
             "colorbar": {
              "outlinewidth": 0,
              "ticks": ""
             }
            },
            "type": "scattercarpet"
           }
          ],
          "scattergeo": [
           {
            "marker": {
             "colorbar": {
              "outlinewidth": 0,
              "ticks": ""
             }
            },
            "type": "scattergeo"
           }
          ],
          "scattergl": [
           {
            "marker": {
             "colorbar": {
              "outlinewidth": 0,
              "ticks": ""
             }
            },
            "type": "scattergl"
           }
          ],
          "scattermapbox": [
           {
            "marker": {
             "colorbar": {
              "outlinewidth": 0,
              "ticks": ""
             }
            },
            "type": "scattermapbox"
           }
          ],
          "scatterpolar": [
           {
            "marker": {
             "colorbar": {
              "outlinewidth": 0,
              "ticks": ""
             }
            },
            "type": "scatterpolar"
           }
          ],
          "scatterpolargl": [
           {
            "marker": {
             "colorbar": {
              "outlinewidth": 0,
              "ticks": ""
             }
            },
            "type": "scatterpolargl"
           }
          ],
          "scatterternary": [
           {
            "marker": {
             "colorbar": {
              "outlinewidth": 0,
              "ticks": ""
             }
            },
            "type": "scatterternary"
           }
          ],
          "surface": [
           {
            "colorbar": {
             "outlinewidth": 0,
             "ticks": ""
            },
            "colorscale": [
             [
              0,
              "#0d0887"
             ],
             [
              0.1111111111111111,
              "#46039f"
             ],
             [
              0.2222222222222222,
              "#7201a8"
             ],
             [
              0.3333333333333333,
              "#9c179e"
             ],
             [
              0.4444444444444444,
              "#bd3786"
             ],
             [
              0.5555555555555556,
              "#d8576b"
             ],
             [
              0.6666666666666666,
              "#ed7953"
             ],
             [
              0.7777777777777778,
              "#fb9f3a"
             ],
             [
              0.8888888888888888,
              "#fdca26"
             ],
             [
              1,
              "#f0f921"
             ]
            ],
            "type": "surface"
           }
          ],
          "table": [
           {
            "cells": {
             "fill": {
              "color": "#EBF0F8"
             },
             "line": {
              "color": "white"
             }
            },
            "header": {
             "fill": {
              "color": "#C8D4E3"
             },
             "line": {
              "color": "white"
             }
            },
            "type": "table"
           }
          ]
         },
         "layout": {
          "annotationdefaults": {
           "arrowcolor": "#2a3f5f",
           "arrowhead": 0,
           "arrowwidth": 1
          },
          "autotypenumbers": "strict",
          "coloraxis": {
           "colorbar": {
            "outlinewidth": 0,
            "ticks": ""
           }
          },
          "colorscale": {
           "diverging": [
            [
             0,
             "#8e0152"
            ],
            [
             0.1,
             "#c51b7d"
            ],
            [
             0.2,
             "#de77ae"
            ],
            [
             0.3,
             "#f1b6da"
            ],
            [
             0.4,
             "#fde0ef"
            ],
            [
             0.5,
             "#f7f7f7"
            ],
            [
             0.6,
             "#e6f5d0"
            ],
            [
             0.7,
             "#b8e186"
            ],
            [
             0.8,
             "#7fbc41"
            ],
            [
             0.9,
             "#4d9221"
            ],
            [
             1,
             "#276419"
            ]
           ],
           "sequential": [
            [
             0,
             "#0d0887"
            ],
            [
             0.1111111111111111,
             "#46039f"
            ],
            [
             0.2222222222222222,
             "#7201a8"
            ],
            [
             0.3333333333333333,
             "#9c179e"
            ],
            [
             0.4444444444444444,
             "#bd3786"
            ],
            [
             0.5555555555555556,
             "#d8576b"
            ],
            [
             0.6666666666666666,
             "#ed7953"
            ],
            [
             0.7777777777777778,
             "#fb9f3a"
            ],
            [
             0.8888888888888888,
             "#fdca26"
            ],
            [
             1,
             "#f0f921"
            ]
           ],
           "sequentialminus": [
            [
             0,
             "#0d0887"
            ],
            [
             0.1111111111111111,
             "#46039f"
            ],
            [
             0.2222222222222222,
             "#7201a8"
            ],
            [
             0.3333333333333333,
             "#9c179e"
            ],
            [
             0.4444444444444444,
             "#bd3786"
            ],
            [
             0.5555555555555556,
             "#d8576b"
            ],
            [
             0.6666666666666666,
             "#ed7953"
            ],
            [
             0.7777777777777778,
             "#fb9f3a"
            ],
            [
             0.8888888888888888,
             "#fdca26"
            ],
            [
             1,
             "#f0f921"
            ]
           ]
          },
          "colorway": [
           "#636efa",
           "#EF553B",
           "#00cc96",
           "#ab63fa",
           "#FFA15A",
           "#19d3f3",
           "#FF6692",
           "#B6E880",
           "#FF97FF",
           "#FECB52"
          ],
          "font": {
           "color": "#2a3f5f"
          },
          "geo": {
           "bgcolor": "white",
           "lakecolor": "white",
           "landcolor": "#E5ECF6",
           "showlakes": true,
           "showland": true,
           "subunitcolor": "white"
          },
          "hoverlabel": {
           "align": "left"
          },
          "hovermode": "closest",
          "mapbox": {
           "style": "light"
          },
          "paper_bgcolor": "white",
          "plot_bgcolor": "#E5ECF6",
          "polar": {
           "angularaxis": {
            "gridcolor": "white",
            "linecolor": "white",
            "ticks": ""
           },
           "bgcolor": "#E5ECF6",
           "radialaxis": {
            "gridcolor": "white",
            "linecolor": "white",
            "ticks": ""
           }
          },
          "scene": {
           "xaxis": {
            "backgroundcolor": "#E5ECF6",
            "gridcolor": "white",
            "gridwidth": 2,
            "linecolor": "white",
            "showbackground": true,
            "ticks": "",
            "zerolinecolor": "white"
           },
           "yaxis": {
            "backgroundcolor": "#E5ECF6",
            "gridcolor": "white",
            "gridwidth": 2,
            "linecolor": "white",
            "showbackground": true,
            "ticks": "",
            "zerolinecolor": "white"
           },
           "zaxis": {
            "backgroundcolor": "#E5ECF6",
            "gridcolor": "white",
            "gridwidth": 2,
            "linecolor": "white",
            "showbackground": true,
            "ticks": "",
            "zerolinecolor": "white"
           }
          },
          "shapedefaults": {
           "line": {
            "color": "#2a3f5f"
           }
          },
          "ternary": {
           "aaxis": {
            "gridcolor": "white",
            "linecolor": "white",
            "ticks": ""
           },
           "baxis": {
            "gridcolor": "white",
            "linecolor": "white",
            "ticks": ""
           },
           "bgcolor": "#E5ECF6",
           "caxis": {
            "gridcolor": "white",
            "linecolor": "white",
            "ticks": ""
           }
          },
          "title": {
           "x": 0.05
          },
          "xaxis": {
           "automargin": true,
           "gridcolor": "white",
           "linecolor": "white",
           "ticks": "",
           "title": {
            "standoff": 15
           },
           "zerolinecolor": "white",
           "zerolinewidth": 2
          },
          "yaxis": {
           "automargin": true,
           "gridcolor": "white",
           "linecolor": "white",
           "ticks": "",
           "title": {
            "standoff": 15
           },
           "zerolinecolor": "white",
           "zerolinewidth": 2
          }
         }
        },
        "title": {
         "text": "Average Proportion of INCOME in the US by State"
        }
       }
      },
      "text/html": [
       "<div>                            <div id=\"50468b1b-acb5-4b7e-a3b2-f23380cb4843\" class=\"plotly-graph-div\" style=\"height:525px; width:100%;\"></div>            <script type=\"text/javascript\">                require([\"plotly\"], function(Plotly) {                    window.PLOTLYENV=window.PLOTLYENV || {};                                    if (document.getElementById(\"50468b1b-acb5-4b7e-a3b2-f23380cb4843\")) {                    Plotly.newPlot(                        \"50468b1b-acb5-4b7e-a3b2-f23380cb4843\",                        [{\"coloraxis\": \"coloraxis\", \"geo\": \"geo\", \"hovertemplate\": \"<b>%{hovertext}</b><br><br>StateAbbr=%{location}<br>INCOME_Prop=%{z}<extra></extra>\", \"hovertext\": [\"Alabama\", \"Alabama\", \"Alabama\", \"Alaska\", \"Alaska\", \"Alaska\", \"Arizona\", \"Arizona\", \"Arizona\", \"Arkansas\", \"Arkansas\", \"Arkansas\", \"California\", \"California\", \"California\", \"Colorado\", \"Colorado\", \"Colorado\", \"Connecticut\", \"Connecticut\", \"Connecticut\", \"Delaware\", \"Delaware\", \"Delaware\", \"District of Columbia\", \"District of Columbia\", \"District of Columbia\", \"Florida\", \"Florida\", \"Florida\", \"Georgia\", \"Georgia\", \"Georgia\", \"Guam\", \"Guam\", \"Guam\", \"Hawaii\", \"Hawaii\", \"Hawaii\", \"Idaho\", \"Idaho\", \"Idaho\", \"Illinois\", \"Illinois\", \"Illinois\", \"Indiana\", \"Indiana\", \"Indiana\", \"Iowa\", \"Iowa\", \"Iowa\", \"Kansas\", \"Kansas\", \"Kansas\", \"Kentucky\", \"Kentucky\", \"Kentucky\", \"Louisiana\", \"Louisiana\", \"Louisiana\", \"Maine\", \"Maine\", \"Maine\", \"Maryland\", \"Maryland\", \"Maryland\", \"Massachusetts\", \"Massachusetts\", \"Massachusetts\", \"Michigan\", \"Michigan\", \"Michigan\", \"Minnesota\", \"Minnesota\", \"Minnesota\", \"Mississippi\", \"Mississippi\", \"Mississippi\", \"Missouri\", \"Missouri\", \"Missouri\", \"Montana\", \"Montana\", \"Montana\", \"Nebraska\", \"Nebraska\", \"Nebraska\", \"Nevada\", \"Nevada\", \"Nevada\", \"New Hampshire\", \"New Hampshire\", \"New Hampshire\", \"New Jersey\", \"New Jersey\", \"New Mexico\", \"New Mexico\", \"New Mexico\", \"New York\", \"New York\", \"New York\", \"North Carolina\", \"North Carolina\", \"North Carolina\", \"North Dakota\", \"North Dakota\", \"North Dakota\", \"Ohio\", \"Ohio\", \"Ohio\", \"Oklahoma\", \"Oklahoma\", \"Oklahoma\", \"Oregon\", \"Oregon\", \"Oregon\", \"Pennsylvania\", \"Pennsylvania\", \"Pennsylvania\", \"Puerto Rico\", \"Puerto Rico\", \"Puerto Rico\", \"Rhode Island\", \"Rhode Island\", \"Rhode Island\", \"South Carolina\", \"South Carolina\", \"South Carolina\", \"South Dakota\", \"South Dakota\", \"South Dakota\", \"Tennessee\", \"Tennessee\", \"Tennessee\", \"Texas\", \"Texas\", \"Texas\", \"Utah\", \"Utah\", \"Utah\", \"Vermont\", \"Vermont\", \"Vermont\", \"Virginia\", \"Virginia\", \"Virginia\", \"Washington\", \"Washington\", \"Washington\", \"West Virginia\", \"West Virginia\", \"West Virginia\", \"Wisconsin\", \"Wisconsin\", \"Wisconsin\", \"Wyoming\", \"Wyoming\", \"Wyoming\"], \"locationmode\": \"USA-states\", \"locations\": [\"AL\", \"AL\", \"AL\", \"AK\", \"AK\", \"AK\", \"AZ\", \"AZ\", \"AZ\", \"AR\", \"AR\", \"AR\", \"CA\", \"CA\", \"CA\", \"CO\", \"CO\", \"CO\", \"CT\", \"CT\", \"CT\", \"DE\", \"DE\", \"DE\", \"DC\", \"DC\", \"DC\", \"FL\", \"FL\", \"FL\", \"GA\", \"GA\", \"GA\", \"GU\", \"GU\", \"GU\", \"HI\", \"HI\", \"HI\", \"ID\", \"ID\", \"ID\", \"IL\", \"IL\", \"IL\", \"IN\", \"IN\", \"IN\", \"IA\", \"IA\", \"IA\", \"KS\", \"KS\", \"KS\", \"KY\", \"KY\", \"KY\", \"LA\", \"LA\", \"LA\", \"ME\", \"ME\", \"ME\", \"MD\", \"MD\", \"MD\", \"MA\", \"MA\", \"MA\", \"MI\", \"MI\", \"MI\", \"MN\", \"MN\", \"MN\", \"MS\", \"MS\", \"MS\", \"MO\", \"MO\", \"MO\", \"MT\", \"MT\", \"MT\", \"NE\", \"NE\", \"NE\", \"NV\", \"NV\", \"NV\", \"NH\", \"NH\", \"NH\", \"NJ\", \"NJ\", \"NM\", \"NM\", \"NM\", \"NY\", \"NY\", \"NY\", \"NC\", \"NC\", \"NC\", \"ND\", \"ND\", \"ND\", \"OH\", \"OH\", \"OH\", \"OK\", \"OK\", \"OK\", \"OR\", \"OR\", \"OR\", \"PA\", \"PA\", \"PA\", \"PR\", \"PR\", \"PR\", \"RI\", \"RI\", \"RI\", \"SC\", \"SC\", \"SC\", \"SD\", \"SD\", \"SD\", \"TN\", \"TN\", \"TN\", \"TX\", \"TX\", \"TX\", \"UT\", \"UT\", \"UT\", \"VT\", \"VT\", \"VT\", \"VA\", \"VA\", \"VA\", \"WA\", \"WA\", \"WA\", \"WV\", \"WV\", \"WV\", \"WI\", \"WI\", \"WI\", \"WY\", \"WY\", \"WY\"], \"name\": \"\", \"type\": \"choropleth\", \"z\": [5.09381889921393, 4.789282274965623, 4.736163287231809, 5.0626388460674825, 4.691915313899567, 4.570848777083144, 4.7621625308567905, 4.814905736663751, 4.649581192455486, 4.2168552071173595, 4.272679822475686, 4.876156039322982, 4.6007097177323155, 4.666096757325594, 4.642633861921778, 4.794642178901513, 4.717313110770519, 4.735118699082588, 4.933836714101042, 5.207362358131105, 5.206065258981364, 5.138962028567686, 4.817541731022695, 4.831826102887965, 4.917188014237497, 4.345244002542632, 5.200458437781289, 4.594608873873499, 4.5864603544589, 4.969999243144928, 4.7952583750190785, 4.768287287886499, 5.099839607252145, 3.6605765984228955, 4.542657714854358, 4.593422222446243, 4.443996495193088, 4.882803672589364, 4.815748719520984, 4.612450515219231, 4.626256693652075, 4.798058889956597, 4.226722007882972, 4.497128479678303, 4.583075011836054, 4.180681689647686, 5.079983862182189, 4.831181455310295, 4.492163878597129, 4.525714164402207, 4.84153562938051, 4.909587860892502, 4.724126439470408, 4.686713840164057, 5.251755004465878, 4.4770066590680395, 5.373004070265807, 4.496846055784833, 4.3473117426933126, 4.469209184388638, 4.3350023109292355, 4.795322235386373, 5.068163481714787, 5.133507875513227, 5.106536990861739, 5.054664568943146, 5.324544391172762, 5.341393241307436, 5.20978936713906, 4.6613831738373275, 4.529025187685285, 4.941007073497228, 4.681030947961309, 4.774366195859115, 4.675749071588979, 3.9984729701768904, 4.569587241570536, 4.119107614905716, 4.620376332784607, 5.095632765726169, 4.763625175676468, 4.026198243957176, 4.523818895539752, 4.625803215879734, 4.408931999546914, 4.324964261092694, 4.490973462020746, 4.718469820605403, 4.764592953211291, 4.809477863203978, 4.754600652710417, 5.238394378206025, 5.218900691254377, 4.9478395312896595, 5.18415782873877, 4.518386984135814, 3.9807651544131466, 4.344083793911251, 4.626418191028289, 5.138629295507796, 5.158765345460749, 4.568542841494541, 4.476520672981432, 5.280502250579759, 4.376386789152753, 4.50059237297246, 4.588629826936682, 4.655747347446528, 4.526493409979466, 4.506370658402242, 4.926036399627624, 4.846357106935319, 4.579004407255219, 4.650249515545675, 5.185834519575198, 4.862887652197206, 4.788207445030275, 4.801486535919227, 4.878604105104804, 3.1177206653868446, 3.161460968120298, 3.5906466980478045, 5.163567802396314, 4.660913370321913, 5.094620317472695, 4.562175635197578, 4.648299316280854, 4.790467919351212, 4.560700885988185, 5.160331675398387, 5.268846582209738, 4.178748410794449, 4.443674057443798, 4.817817559139195, 3.9780339486792893, 4.998256926184023, 4.909756333251929, 4.9968572455901406, 4.922925905002141, 5.092692501840109, 4.818841077377038, 4.361507122739925, 4.988242962182084, 4.744880103903062, 4.822445988914925, 4.8784065900064775, 5.028559333875741, 4.918822294557939, 4.903320877183518, 4.256586290786923, 4.077564812541569, 4.229779674622401, 4.59777365805294, 4.649163425168175, 4.543009329297778, 4.415818112332082, 4.777664780747769, 5.18697514772738]}],                        {\"coloraxis\": {\"colorbar\": {\"title\": {\"text\": \"INCOME_Prop\"}}, \"colorscale\": [[0.0, \"#30123b\"], [0.07142857142857142, \"#4145ab\"], [0.14285714285714285, \"#4675ed\"], [0.21428571428571427, \"#39a2fc\"], [0.2857142857142857, \"#1bcfd4\"], [0.35714285714285715, \"#24eca6\"], [0.42857142857142855, \"#61fc6c\"], [0.5, \"#a4fc3b\"], [0.5714285714285714, \"#d1e834\"], [0.6428571428571429, \"#f3c63a\"], [0.7142857142857143, \"#fe9b2d\"], [0.7857142857142857, \"#f36315\"], [0.8571428571428571, \"#d93806\"], [0.9285714285714286, \"#b11901\"], [1.0, \"#7a0402\"]]}, \"geo\": {\"center\": {}, \"domain\": {\"x\": [0.0, 1.0], \"y\": [0.0, 1.0]}, \"scope\": \"usa\"}, \"legend\": {\"tracegroupgap\": 0}, \"margin\": {\"t\": 60}, \"template\": {\"data\": {\"bar\": [{\"error_x\": {\"color\": \"#2a3f5f\"}, \"error_y\": {\"color\": \"#2a3f5f\"}, \"marker\": {\"line\": {\"color\": \"#E5ECF6\", \"width\": 0.5}}, \"type\": \"bar\"}], \"barpolar\": [{\"marker\": {\"line\": {\"color\": \"#E5ECF6\", \"width\": 0.5}}, \"type\": \"barpolar\"}], \"carpet\": [{\"aaxis\": {\"endlinecolor\": \"#2a3f5f\", \"gridcolor\": \"white\", \"linecolor\": \"white\", \"minorgridcolor\": \"white\", \"startlinecolor\": \"#2a3f5f\"}, \"baxis\": {\"endlinecolor\": \"#2a3f5f\", \"gridcolor\": \"white\", \"linecolor\": \"white\", \"minorgridcolor\": \"white\", \"startlinecolor\": \"#2a3f5f\"}, \"type\": \"carpet\"}], \"choropleth\": [{\"colorbar\": {\"outlinewidth\": 0, \"ticks\": \"\"}, \"type\": \"choropleth\"}], \"contour\": [{\"colorbar\": {\"outlinewidth\": 0, \"ticks\": \"\"}, \"colorscale\": [[0.0, \"#0d0887\"], [0.1111111111111111, \"#46039f\"], [0.2222222222222222, \"#7201a8\"], [0.3333333333333333, \"#9c179e\"], [0.4444444444444444, \"#bd3786\"], [0.5555555555555556, \"#d8576b\"], [0.6666666666666666, \"#ed7953\"], [0.7777777777777778, \"#fb9f3a\"], [0.8888888888888888, \"#fdca26\"], [1.0, \"#f0f921\"]], \"type\": \"contour\"}], \"contourcarpet\": [{\"colorbar\": {\"outlinewidth\": 0, \"ticks\": \"\"}, \"type\": \"contourcarpet\"}], \"heatmap\": [{\"colorbar\": {\"outlinewidth\": 0, \"ticks\": \"\"}, \"colorscale\": [[0.0, \"#0d0887\"], [0.1111111111111111, \"#46039f\"], [0.2222222222222222, \"#7201a8\"], [0.3333333333333333, \"#9c179e\"], [0.4444444444444444, \"#bd3786\"], [0.5555555555555556, \"#d8576b\"], [0.6666666666666666, \"#ed7953\"], [0.7777777777777778, \"#fb9f3a\"], [0.8888888888888888, \"#fdca26\"], [1.0, \"#f0f921\"]], \"type\": \"heatmap\"}], \"heatmapgl\": [{\"colorbar\": {\"outlinewidth\": 0, \"ticks\": \"\"}, \"colorscale\": [[0.0, \"#0d0887\"], [0.1111111111111111, \"#46039f\"], [0.2222222222222222, \"#7201a8\"], [0.3333333333333333, \"#9c179e\"], [0.4444444444444444, \"#bd3786\"], [0.5555555555555556, \"#d8576b\"], [0.6666666666666666, \"#ed7953\"], [0.7777777777777778, \"#fb9f3a\"], [0.8888888888888888, \"#fdca26\"], [1.0, \"#f0f921\"]], \"type\": \"heatmapgl\"}], \"histogram\": [{\"marker\": {\"colorbar\": {\"outlinewidth\": 0, \"ticks\": \"\"}}, \"type\": \"histogram\"}], \"histogram2d\": [{\"colorbar\": {\"outlinewidth\": 0, \"ticks\": \"\"}, \"colorscale\": [[0.0, \"#0d0887\"], [0.1111111111111111, \"#46039f\"], [0.2222222222222222, \"#7201a8\"], [0.3333333333333333, \"#9c179e\"], [0.4444444444444444, \"#bd3786\"], [0.5555555555555556, \"#d8576b\"], [0.6666666666666666, \"#ed7953\"], [0.7777777777777778, \"#fb9f3a\"], [0.8888888888888888, \"#fdca26\"], [1.0, \"#f0f921\"]], \"type\": \"histogram2d\"}], \"histogram2dcontour\": [{\"colorbar\": {\"outlinewidth\": 0, \"ticks\": \"\"}, \"colorscale\": [[0.0, \"#0d0887\"], [0.1111111111111111, \"#46039f\"], [0.2222222222222222, \"#7201a8\"], [0.3333333333333333, \"#9c179e\"], [0.4444444444444444, \"#bd3786\"], [0.5555555555555556, \"#d8576b\"], [0.6666666666666666, \"#ed7953\"], [0.7777777777777778, \"#fb9f3a\"], [0.8888888888888888, \"#fdca26\"], [1.0, \"#f0f921\"]], \"type\": \"histogram2dcontour\"}], \"mesh3d\": [{\"colorbar\": {\"outlinewidth\": 0, \"ticks\": \"\"}, \"type\": \"mesh3d\"}], \"parcoords\": [{\"line\": {\"colorbar\": {\"outlinewidth\": 0, \"ticks\": \"\"}}, \"type\": \"parcoords\"}], \"pie\": [{\"automargin\": true, \"type\": \"pie\"}], \"scatter\": [{\"marker\": {\"colorbar\": {\"outlinewidth\": 0, \"ticks\": \"\"}}, \"type\": \"scatter\"}], \"scatter3d\": [{\"line\": {\"colorbar\": {\"outlinewidth\": 0, \"ticks\": \"\"}}, \"marker\": {\"colorbar\": {\"outlinewidth\": 0, \"ticks\": \"\"}}, \"type\": \"scatter3d\"}], \"scattercarpet\": [{\"marker\": {\"colorbar\": {\"outlinewidth\": 0, \"ticks\": \"\"}}, \"type\": \"scattercarpet\"}], \"scattergeo\": [{\"marker\": {\"colorbar\": {\"outlinewidth\": 0, \"ticks\": \"\"}}, \"type\": \"scattergeo\"}], \"scattergl\": [{\"marker\": {\"colorbar\": {\"outlinewidth\": 0, \"ticks\": \"\"}}, \"type\": \"scattergl\"}], \"scattermapbox\": [{\"marker\": {\"colorbar\": {\"outlinewidth\": 0, \"ticks\": \"\"}}, \"type\": \"scattermapbox\"}], \"scatterpolar\": [{\"marker\": {\"colorbar\": {\"outlinewidth\": 0, \"ticks\": \"\"}}, \"type\": \"scatterpolar\"}], \"scatterpolargl\": [{\"marker\": {\"colorbar\": {\"outlinewidth\": 0, \"ticks\": \"\"}}, \"type\": \"scatterpolargl\"}], \"scatterternary\": [{\"marker\": {\"colorbar\": {\"outlinewidth\": 0, \"ticks\": \"\"}}, \"type\": \"scatterternary\"}], \"surface\": [{\"colorbar\": {\"outlinewidth\": 0, \"ticks\": \"\"}, \"colorscale\": [[0.0, \"#0d0887\"], [0.1111111111111111, \"#46039f\"], [0.2222222222222222, \"#7201a8\"], [0.3333333333333333, \"#9c179e\"], [0.4444444444444444, \"#bd3786\"], [0.5555555555555556, \"#d8576b\"], [0.6666666666666666, \"#ed7953\"], [0.7777777777777778, \"#fb9f3a\"], [0.8888888888888888, \"#fdca26\"], [1.0, \"#f0f921\"]], \"type\": \"surface\"}], \"table\": [{\"cells\": {\"fill\": {\"color\": \"#EBF0F8\"}, \"line\": {\"color\": \"white\"}}, \"header\": {\"fill\": {\"color\": \"#C8D4E3\"}, \"line\": {\"color\": \"white\"}}, \"type\": \"table\"}]}, \"layout\": {\"annotationdefaults\": {\"arrowcolor\": \"#2a3f5f\", \"arrowhead\": 0, \"arrowwidth\": 1}, \"autotypenumbers\": \"strict\", \"coloraxis\": {\"colorbar\": {\"outlinewidth\": 0, \"ticks\": \"\"}}, \"colorscale\": {\"diverging\": [[0, \"#8e0152\"], [0.1, \"#c51b7d\"], [0.2, \"#de77ae\"], [0.3, \"#f1b6da\"], [0.4, \"#fde0ef\"], [0.5, \"#f7f7f7\"], [0.6, \"#e6f5d0\"], [0.7, \"#b8e186\"], [0.8, \"#7fbc41\"], [0.9, \"#4d9221\"], [1, \"#276419\"]], \"sequential\": [[0.0, \"#0d0887\"], [0.1111111111111111, \"#46039f\"], [0.2222222222222222, \"#7201a8\"], [0.3333333333333333, \"#9c179e\"], [0.4444444444444444, \"#bd3786\"], [0.5555555555555556, \"#d8576b\"], [0.6666666666666666, \"#ed7953\"], [0.7777777777777778, \"#fb9f3a\"], [0.8888888888888888, \"#fdca26\"], [1.0, \"#f0f921\"]], \"sequentialminus\": [[0.0, \"#0d0887\"], [0.1111111111111111, \"#46039f\"], [0.2222222222222222, \"#7201a8\"], [0.3333333333333333, \"#9c179e\"], [0.4444444444444444, \"#bd3786\"], [0.5555555555555556, \"#d8576b\"], [0.6666666666666666, \"#ed7953\"], [0.7777777777777778, \"#fb9f3a\"], [0.8888888888888888, \"#fdca26\"], [1.0, \"#f0f921\"]]}, \"colorway\": [\"#636efa\", \"#EF553B\", \"#00cc96\", \"#ab63fa\", \"#FFA15A\", \"#19d3f3\", \"#FF6692\", \"#B6E880\", \"#FF97FF\", \"#FECB52\"], \"font\": {\"color\": \"#2a3f5f\"}, \"geo\": {\"bgcolor\": \"white\", \"lakecolor\": \"white\", \"landcolor\": \"#E5ECF6\", \"showlakes\": true, \"showland\": true, \"subunitcolor\": \"white\"}, \"hoverlabel\": {\"align\": \"left\"}, \"hovermode\": \"closest\", \"mapbox\": {\"style\": \"light\"}, \"paper_bgcolor\": \"white\", \"plot_bgcolor\": \"#E5ECF6\", \"polar\": {\"angularaxis\": {\"gridcolor\": \"white\", \"linecolor\": \"white\", \"ticks\": \"\"}, \"bgcolor\": \"#E5ECF6\", \"radialaxis\": {\"gridcolor\": \"white\", \"linecolor\": \"white\", \"ticks\": \"\"}}, \"scene\": {\"xaxis\": {\"backgroundcolor\": \"#E5ECF6\", \"gridcolor\": \"white\", \"gridwidth\": 2, \"linecolor\": \"white\", \"showbackground\": true, \"ticks\": \"\", \"zerolinecolor\": \"white\"}, \"yaxis\": {\"backgroundcolor\": \"#E5ECF6\", \"gridcolor\": \"white\", \"gridwidth\": 2, \"linecolor\": \"white\", \"showbackground\": true, \"ticks\": \"\", \"zerolinecolor\": \"white\"}, \"zaxis\": {\"backgroundcolor\": \"#E5ECF6\", \"gridcolor\": \"white\", \"gridwidth\": 2, \"linecolor\": \"white\", \"showbackground\": true, \"ticks\": \"\", \"zerolinecolor\": \"white\"}}, \"shapedefaults\": {\"line\": {\"color\": \"#2a3f5f\"}}, \"ternary\": {\"aaxis\": {\"gridcolor\": \"white\", \"linecolor\": \"white\", \"ticks\": \"\"}, \"baxis\": {\"gridcolor\": \"white\", \"linecolor\": \"white\", \"ticks\": \"\"}, \"bgcolor\": \"#E5ECF6\", \"caxis\": {\"gridcolor\": \"white\", \"linecolor\": \"white\", \"ticks\": \"\"}}, \"title\": {\"x\": 0.05}, \"xaxis\": {\"automargin\": true, \"gridcolor\": \"white\", \"linecolor\": \"white\", \"ticks\": \"\", \"title\": {\"standoff\": 15}, \"zerolinecolor\": \"white\", \"zerolinewidth\": 2}, \"yaxis\": {\"automargin\": true, \"gridcolor\": \"white\", \"linecolor\": \"white\", \"ticks\": \"\", \"title\": {\"standoff\": 15}, \"zerolinecolor\": \"white\", \"zerolinewidth\": 2}}}, \"title\": {\"text\": \"Average Proportion of INCOME in the US by State\"}},                        {\"responsive\": true}                    ).then(function(){\n",
       "                            \n",
       "var gd = document.getElementById('50468b1b-acb5-4b7e-a3b2-f23380cb4843');\n",
       "var x = new MutationObserver(function (mutations, observer) {{\n",
       "        var display = window.getComputedStyle(gd).display;\n",
       "        if (!display || display === 'none') {{\n",
       "            console.log([gd, 'removed!']);\n",
       "            Plotly.purge(gd);\n",
       "            observer.disconnect();\n",
       "        }}\n",
       "}});\n",
       "\n",
       "// Listen for the removal of the full notebook cells\n",
       "var notebookContainer = gd.closest('#notebook-container');\n",
       "if (notebookContainer) {{\n",
       "    x.observe(notebookContainer, {childList: true});\n",
       "}}\n",
       "\n",
       "// Listen for the clearing of the current output cell\n",
       "var outputEl = gd.closest('.output');\n",
       "if (outputEl) {{\n",
       "    x.observe(outputEl, {childList: true});\n",
       "}}\n",
       "\n",
       "                        })                };                });            </script>        </div>"
      ]
     },
     "metadata": {},
     "output_type": "display_data"
    }
   ],
   "source": [
    "# For Comparison - INCOME Map\n",
    "# NOTE: New Jersey only has data for 2 out of the 3 years - 2017 & 2018\n",
    "import plotly.express as px\n",
    "from textwrap import wrap\n",
    "\n",
    "named_colorscales = px.colors.named_colorscales()\n",
    "#print(\"\\n\".join(wrap(\"\".join('{:<12}'.format(c) for c in named_colorscales), 96)))\n",
    "\n",
    "fig = px.choropleth(mapme,  # Input Pandas DataFrame\n",
    "                    locations = \"StateAbbr\",  # DataFrame column with locations\n",
    "                    color = \"INCOME_Prop\",  # DataFrame column with color values\n",
    "                    color_continuous_scale = 'turbo',\n",
    "                    hover_name = \"StateName\", # DataFrame column hover info\n",
    "                    locationmode = 'USA-states') # Set to plot as US States\n",
    "fig.update_layout(\n",
    "    title_text = 'Average Proportion of INCOME in the US by State', # Create a Title\n",
    "    geo_scope ='usa',  # Plot only the USA instead of globe\n",
    ")\n",
    "fig.show() "
   ]
  },
  {
   "cell_type": "code",
   "execution_count": 88,
   "metadata": {},
   "outputs": [],
   "source": [
    "# EDUCAG\n",
    "map_df_dup = brfss.copy()\n",
    "map_df_dup['WEIGHT'] = brfss[\"WEIGHT\"]\n",
    "mapme = map_df_dup.groupby(['L_STATENM','L_STATEAB','YEAR']).apply(lambda dfx: (dfx[\"_EDUCAG\"] * dfx[\"WEIGHT\"]).sum() / dfx[\"WEIGHT\"].sum()).reset_index()\n",
    "mapme = mapme.rename(columns = {'L_STATENM':'StateName', 'L_STATEAB':'StateAbbr', 'YEAR':'Year', 0:'EDUC_Prop'})\n",
    "#mapme"
   ]
  },
  {
   "cell_type": "code",
   "execution_count": 89,
   "metadata": {},
   "outputs": [
    {
     "data": {
      "application/vnd.plotly.v1+json": {
       "config": {
        "plotlyServerURL": "https://plot.ly"
       },
       "data": [
        {
         "coloraxis": "coloraxis",
         "geo": "geo",
         "hovertemplate": "<b>%{hovertext}</b><br><br>StateAbbr=%{location}<br>EDUC_Prop=%{z}<extra></extra>",
         "hovertext": [
          "Alabama",
          "Alabama",
          "Alabama",
          "Alaska",
          "Alaska",
          "Alaska",
          "Arizona",
          "Arizona",
          "Arizona",
          "Arkansas",
          "Arkansas",
          "Arkansas",
          "California",
          "California",
          "California",
          "Colorado",
          "Colorado",
          "Colorado",
          "Connecticut",
          "Connecticut",
          "Connecticut",
          "Delaware",
          "Delaware",
          "Delaware",
          "District of Columbia",
          "District of Columbia",
          "District of Columbia",
          "Florida",
          "Florida",
          "Florida",
          "Georgia",
          "Georgia",
          "Georgia",
          "Guam",
          "Guam",
          "Guam",
          "Hawaii",
          "Hawaii",
          "Hawaii",
          "Idaho",
          "Idaho",
          "Idaho",
          "Illinois",
          "Illinois",
          "Illinois",
          "Indiana",
          "Indiana",
          "Indiana",
          "Iowa",
          "Iowa",
          "Iowa",
          "Kansas",
          "Kansas",
          "Kansas",
          "Kentucky",
          "Kentucky",
          "Kentucky",
          "Louisiana",
          "Louisiana",
          "Louisiana",
          "Maine",
          "Maine",
          "Maine",
          "Maryland",
          "Maryland",
          "Maryland",
          "Massachusetts",
          "Massachusetts",
          "Massachusetts",
          "Michigan",
          "Michigan",
          "Michigan",
          "Minnesota",
          "Minnesota",
          "Minnesota",
          "Mississippi",
          "Mississippi",
          "Mississippi",
          "Missouri",
          "Missouri",
          "Missouri",
          "Montana",
          "Montana",
          "Montana",
          "Nebraska",
          "Nebraska",
          "Nebraska",
          "Nevada",
          "Nevada",
          "Nevada",
          "New Hampshire",
          "New Hampshire",
          "New Hampshire",
          "New Jersey",
          "New Jersey",
          "New Mexico",
          "New Mexico",
          "New Mexico",
          "New York",
          "New York",
          "New York",
          "North Carolina",
          "North Carolina",
          "North Carolina",
          "North Dakota",
          "North Dakota",
          "North Dakota",
          "Ohio",
          "Ohio",
          "Ohio",
          "Oklahoma",
          "Oklahoma",
          "Oklahoma",
          "Oregon",
          "Oregon",
          "Oregon",
          "Pennsylvania",
          "Pennsylvania",
          "Pennsylvania",
          "Puerto Rico",
          "Puerto Rico",
          "Puerto Rico",
          "Rhode Island",
          "Rhode Island",
          "Rhode Island",
          "South Carolina",
          "South Carolina",
          "South Carolina",
          "South Dakota",
          "South Dakota",
          "South Dakota",
          "Tennessee",
          "Tennessee",
          "Tennessee",
          "Texas",
          "Texas",
          "Texas",
          "Utah",
          "Utah",
          "Utah",
          "Vermont",
          "Vermont",
          "Vermont",
          "Virginia",
          "Virginia",
          "Virginia",
          "Washington",
          "Washington",
          "Washington",
          "West Virginia",
          "West Virginia",
          "West Virginia",
          "Wisconsin",
          "Wisconsin",
          "Wisconsin",
          "Wyoming",
          "Wyoming",
          "Wyoming"
         ],
         "locationmode": "USA-states",
         "locations": [
          "AL",
          "AL",
          "AL",
          "AK",
          "AK",
          "AK",
          "AZ",
          "AZ",
          "AZ",
          "AR",
          "AR",
          "AR",
          "CA",
          "CA",
          "CA",
          "CO",
          "CO",
          "CO",
          "CT",
          "CT",
          "CT",
          "DE",
          "DE",
          "DE",
          "DC",
          "DC",
          "DC",
          "FL",
          "FL",
          "FL",
          "GA",
          "GA",
          "GA",
          "GU",
          "GU",
          "GU",
          "HI",
          "HI",
          "HI",
          "ID",
          "ID",
          "ID",
          "IL",
          "IL",
          "IL",
          "IN",
          "IN",
          "IN",
          "IA",
          "IA",
          "IA",
          "KS",
          "KS",
          "KS",
          "KY",
          "KY",
          "KY",
          "LA",
          "LA",
          "LA",
          "ME",
          "ME",
          "ME",
          "MD",
          "MD",
          "MD",
          "MA",
          "MA",
          "MA",
          "MI",
          "MI",
          "MI",
          "MN",
          "MN",
          "MN",
          "MS",
          "MS",
          "MS",
          "MO",
          "MO",
          "MO",
          "MT",
          "MT",
          "MT",
          "NE",
          "NE",
          "NE",
          "NV",
          "NV",
          "NV",
          "NH",
          "NH",
          "NH",
          "NJ",
          "NJ",
          "NM",
          "NM",
          "NM",
          "NY",
          "NY",
          "NY",
          "NC",
          "NC",
          "NC",
          "ND",
          "ND",
          "ND",
          "OH",
          "OH",
          "OH",
          "OK",
          "OK",
          "OK",
          "OR",
          "OR",
          "OR",
          "PA",
          "PA",
          "PA",
          "PR",
          "PR",
          "PR",
          "RI",
          "RI",
          "RI",
          "SC",
          "SC",
          "SC",
          "SD",
          "SD",
          "SD",
          "TN",
          "TN",
          "TN",
          "TX",
          "TX",
          "TX",
          "UT",
          "UT",
          "UT",
          "VT",
          "VT",
          "VT",
          "VA",
          "VA",
          "VA",
          "WA",
          "WA",
          "WA",
          "WV",
          "WV",
          "WV",
          "WI",
          "WI",
          "WI",
          "WY",
          "WY",
          "WY"
         ],
         "name": "",
         "type": "choropleth",
         "z": [
          2.8889539239079354,
          2.8532259241435023,
          2.9216038045703225,
          3.075168475347512,
          2.8830210189633236,
          3.158008063383701,
          3.0532359393479216,
          3.1472635652762024,
          3.094812555051349,
          2.6406057091180566,
          2.8008644912594183,
          2.7808704346381,
          3.1468372126478044,
          2.908393202531136,
          3.0261539671317026,
          3.0823360720785895,
          3.0934466556980977,
          3.2011000379988883,
          3.213094069804427,
          3.216522109035964,
          3.031427551542528,
          2.9436207757060244,
          2.9134360137708004,
          2.985439787728287,
          3.1156501831393015,
          3.2741682886680232,
          3.445680061364933,
          2.9714566443185246,
          3.026323510722037,
          2.9295597727119604,
          2.8898249923598054,
          2.996778317181797,
          2.9281723708316063,
          2.615009517663719,
          2.903907415162405,
          2.640833854915569,
          3.116807484417289,
          3.0170295070967184,
          3.2166414854865826,
          3.138365475172758,
          2.7839108234609444,
          3.1037275827513375,
          3.0849073922744963,
          3.0787180041099433,
          3.1025194210791325,
          2.8172711440725577,
          2.8374136429093038,
          2.861652933609128,
          2.945323415059289,
          2.9279190920092724,
          2.9309493772838855,
          3.0298415801323273,
          3.016898874900955,
          3.0282511695148333,
          2.9390307699072484,
          2.806002668262817,
          2.8226865997993484,
          2.8729984463161893,
          3.008072607449775,
          2.7124348845252118,
          3.1140080319976398,
          2.981309633324956,
          3.0694927310466453,
          3.259764028405229,
          3.1152835704729993,
          3.152600505523455,
          3.3504889443790695,
          3.346777120866001,
          3.264219768640862,
          2.9750749618278234,
          3.1058887568259794,
          3.0225616986186457,
          3.1628887241456205,
          3.1556622958328933,
          3.1644309934651007,
          2.843693262757877,
          2.787177820697305,
          2.756639628138582,
          2.8811098714025793,
          3.0074318884679117,
          2.78999022188818,
          2.938659670816646,
          2.8428829563239737,
          3.0812851914440698,
          3.0851242442532816,
          2.9282508269650616,
          2.957598168557018,
          2.919423255032403,
          3.03077106187868,
          2.9105646741641555,
          3.2642412455709953,
          3.186478565872124,
          3.189420405935726,
          3.1062210156730643,
          3.1219550192150787,
          2.8195168414410685,
          2.87406115794133,
          2.7823760992160156,
          3.0952259599892047,
          3.0638479520230884,
          3.1632224679188683,
          3.046281830618776,
          2.8541290193008275,
          3.0099599884619597,
          2.879221420867155,
          3.0832479845311527,
          3.0455473792603662,
          2.7930365459572797,
          2.939033746816845,
          2.8075410735550412,
          2.929880144383375,
          2.8057871458276753,
          2.8172776682243343,
          3.0136842168536115,
          3.001230942722703,
          3.0078489132000525,
          3.0274708400713384,
          3.038677032460038,
          3.0981907654518883,
          2.5555784863555124,
          2.8275591372697852,
          2.778135175886745,
          3.0489071628867603,
          2.861221496912788,
          3.003080013459912,
          2.815957359672265,
          2.8626448379678626,
          2.870647023484096,
          2.8589969663338657,
          3.0103616585404462,
          3.2546128799080387,
          2.92630447651315,
          2.782087618989941,
          2.8305250021212713,
          2.8833066090860293,
          2.966599559215669,
          3.0548570809435054,
          3.045227393675146,
          3.0311326903111446,
          3.1234829827614465,
          3.105146780477965,
          2.8777296433199386,
          3.267107349681691,
          3.2409487422686687,
          3.120366537322358,
          3.041545097869124,
          3.157071564739166,
          3.161464140999225,
          3.1099937992738096,
          2.823991379397038,
          2.6315764821530143,
          2.904094492203402,
          3.155515812196441,
          2.870049278685795,
          2.935213549794343,
          2.901152982708494,
          2.758454964401716,
          3.0511089515002725
         ]
        }
       ],
       "layout": {
        "coloraxis": {
         "colorbar": {
          "title": {
           "text": "EDUC_Prop"
          }
         },
         "colorscale": [
          [
           0,
           "#30123b"
          ],
          [
           0.07142857142857142,
           "#4145ab"
          ],
          [
           0.14285714285714285,
           "#4675ed"
          ],
          [
           0.21428571428571427,
           "#39a2fc"
          ],
          [
           0.2857142857142857,
           "#1bcfd4"
          ],
          [
           0.35714285714285715,
           "#24eca6"
          ],
          [
           0.42857142857142855,
           "#61fc6c"
          ],
          [
           0.5,
           "#a4fc3b"
          ],
          [
           0.5714285714285714,
           "#d1e834"
          ],
          [
           0.6428571428571429,
           "#f3c63a"
          ],
          [
           0.7142857142857143,
           "#fe9b2d"
          ],
          [
           0.7857142857142857,
           "#f36315"
          ],
          [
           0.8571428571428571,
           "#d93806"
          ],
          [
           0.9285714285714286,
           "#b11901"
          ],
          [
           1,
           "#7a0402"
          ]
         ]
        },
        "geo": {
         "center": {},
         "domain": {
          "x": [
           0,
           1
          ],
          "y": [
           0,
           1
          ]
         },
         "scope": "usa"
        },
        "legend": {
         "tracegroupgap": 0
        },
        "margin": {
         "t": 60
        },
        "template": {
         "data": {
          "bar": [
           {
            "error_x": {
             "color": "#2a3f5f"
            },
            "error_y": {
             "color": "#2a3f5f"
            },
            "marker": {
             "line": {
              "color": "#E5ECF6",
              "width": 0.5
             }
            },
            "type": "bar"
           }
          ],
          "barpolar": [
           {
            "marker": {
             "line": {
              "color": "#E5ECF6",
              "width": 0.5
             }
            },
            "type": "barpolar"
           }
          ],
          "carpet": [
           {
            "aaxis": {
             "endlinecolor": "#2a3f5f",
             "gridcolor": "white",
             "linecolor": "white",
             "minorgridcolor": "white",
             "startlinecolor": "#2a3f5f"
            },
            "baxis": {
             "endlinecolor": "#2a3f5f",
             "gridcolor": "white",
             "linecolor": "white",
             "minorgridcolor": "white",
             "startlinecolor": "#2a3f5f"
            },
            "type": "carpet"
           }
          ],
          "choropleth": [
           {
            "colorbar": {
             "outlinewidth": 0,
             "ticks": ""
            },
            "type": "choropleth"
           }
          ],
          "contour": [
           {
            "colorbar": {
             "outlinewidth": 0,
             "ticks": ""
            },
            "colorscale": [
             [
              0,
              "#0d0887"
             ],
             [
              0.1111111111111111,
              "#46039f"
             ],
             [
              0.2222222222222222,
              "#7201a8"
             ],
             [
              0.3333333333333333,
              "#9c179e"
             ],
             [
              0.4444444444444444,
              "#bd3786"
             ],
             [
              0.5555555555555556,
              "#d8576b"
             ],
             [
              0.6666666666666666,
              "#ed7953"
             ],
             [
              0.7777777777777778,
              "#fb9f3a"
             ],
             [
              0.8888888888888888,
              "#fdca26"
             ],
             [
              1,
              "#f0f921"
             ]
            ],
            "type": "contour"
           }
          ],
          "contourcarpet": [
           {
            "colorbar": {
             "outlinewidth": 0,
             "ticks": ""
            },
            "type": "contourcarpet"
           }
          ],
          "heatmap": [
           {
            "colorbar": {
             "outlinewidth": 0,
             "ticks": ""
            },
            "colorscale": [
             [
              0,
              "#0d0887"
             ],
             [
              0.1111111111111111,
              "#46039f"
             ],
             [
              0.2222222222222222,
              "#7201a8"
             ],
             [
              0.3333333333333333,
              "#9c179e"
             ],
             [
              0.4444444444444444,
              "#bd3786"
             ],
             [
              0.5555555555555556,
              "#d8576b"
             ],
             [
              0.6666666666666666,
              "#ed7953"
             ],
             [
              0.7777777777777778,
              "#fb9f3a"
             ],
             [
              0.8888888888888888,
              "#fdca26"
             ],
             [
              1,
              "#f0f921"
             ]
            ],
            "type": "heatmap"
           }
          ],
          "heatmapgl": [
           {
            "colorbar": {
             "outlinewidth": 0,
             "ticks": ""
            },
            "colorscale": [
             [
              0,
              "#0d0887"
             ],
             [
              0.1111111111111111,
              "#46039f"
             ],
             [
              0.2222222222222222,
              "#7201a8"
             ],
             [
              0.3333333333333333,
              "#9c179e"
             ],
             [
              0.4444444444444444,
              "#bd3786"
             ],
             [
              0.5555555555555556,
              "#d8576b"
             ],
             [
              0.6666666666666666,
              "#ed7953"
             ],
             [
              0.7777777777777778,
              "#fb9f3a"
             ],
             [
              0.8888888888888888,
              "#fdca26"
             ],
             [
              1,
              "#f0f921"
             ]
            ],
            "type": "heatmapgl"
           }
          ],
          "histogram": [
           {
            "marker": {
             "colorbar": {
              "outlinewidth": 0,
              "ticks": ""
             }
            },
            "type": "histogram"
           }
          ],
          "histogram2d": [
           {
            "colorbar": {
             "outlinewidth": 0,
             "ticks": ""
            },
            "colorscale": [
             [
              0,
              "#0d0887"
             ],
             [
              0.1111111111111111,
              "#46039f"
             ],
             [
              0.2222222222222222,
              "#7201a8"
             ],
             [
              0.3333333333333333,
              "#9c179e"
             ],
             [
              0.4444444444444444,
              "#bd3786"
             ],
             [
              0.5555555555555556,
              "#d8576b"
             ],
             [
              0.6666666666666666,
              "#ed7953"
             ],
             [
              0.7777777777777778,
              "#fb9f3a"
             ],
             [
              0.8888888888888888,
              "#fdca26"
             ],
             [
              1,
              "#f0f921"
             ]
            ],
            "type": "histogram2d"
           }
          ],
          "histogram2dcontour": [
           {
            "colorbar": {
             "outlinewidth": 0,
             "ticks": ""
            },
            "colorscale": [
             [
              0,
              "#0d0887"
             ],
             [
              0.1111111111111111,
              "#46039f"
             ],
             [
              0.2222222222222222,
              "#7201a8"
             ],
             [
              0.3333333333333333,
              "#9c179e"
             ],
             [
              0.4444444444444444,
              "#bd3786"
             ],
             [
              0.5555555555555556,
              "#d8576b"
             ],
             [
              0.6666666666666666,
              "#ed7953"
             ],
             [
              0.7777777777777778,
              "#fb9f3a"
             ],
             [
              0.8888888888888888,
              "#fdca26"
             ],
             [
              1,
              "#f0f921"
             ]
            ],
            "type": "histogram2dcontour"
           }
          ],
          "mesh3d": [
           {
            "colorbar": {
             "outlinewidth": 0,
             "ticks": ""
            },
            "type": "mesh3d"
           }
          ],
          "parcoords": [
           {
            "line": {
             "colorbar": {
              "outlinewidth": 0,
              "ticks": ""
             }
            },
            "type": "parcoords"
           }
          ],
          "pie": [
           {
            "automargin": true,
            "type": "pie"
           }
          ],
          "scatter": [
           {
            "marker": {
             "colorbar": {
              "outlinewidth": 0,
              "ticks": ""
             }
            },
            "type": "scatter"
           }
          ],
          "scatter3d": [
           {
            "line": {
             "colorbar": {
              "outlinewidth": 0,
              "ticks": ""
             }
            },
            "marker": {
             "colorbar": {
              "outlinewidth": 0,
              "ticks": ""
             }
            },
            "type": "scatter3d"
           }
          ],
          "scattercarpet": [
           {
            "marker": {
             "colorbar": {
              "outlinewidth": 0,
              "ticks": ""
             }
            },
            "type": "scattercarpet"
           }
          ],
          "scattergeo": [
           {
            "marker": {
             "colorbar": {
              "outlinewidth": 0,
              "ticks": ""
             }
            },
            "type": "scattergeo"
           }
          ],
          "scattergl": [
           {
            "marker": {
             "colorbar": {
              "outlinewidth": 0,
              "ticks": ""
             }
            },
            "type": "scattergl"
           }
          ],
          "scattermapbox": [
           {
            "marker": {
             "colorbar": {
              "outlinewidth": 0,
              "ticks": ""
             }
            },
            "type": "scattermapbox"
           }
          ],
          "scatterpolar": [
           {
            "marker": {
             "colorbar": {
              "outlinewidth": 0,
              "ticks": ""
             }
            },
            "type": "scatterpolar"
           }
          ],
          "scatterpolargl": [
           {
            "marker": {
             "colorbar": {
              "outlinewidth": 0,
              "ticks": ""
             }
            },
            "type": "scatterpolargl"
           }
          ],
          "scatterternary": [
           {
            "marker": {
             "colorbar": {
              "outlinewidth": 0,
              "ticks": ""
             }
            },
            "type": "scatterternary"
           }
          ],
          "surface": [
           {
            "colorbar": {
             "outlinewidth": 0,
             "ticks": ""
            },
            "colorscale": [
             [
              0,
              "#0d0887"
             ],
             [
              0.1111111111111111,
              "#46039f"
             ],
             [
              0.2222222222222222,
              "#7201a8"
             ],
             [
              0.3333333333333333,
              "#9c179e"
             ],
             [
              0.4444444444444444,
              "#bd3786"
             ],
             [
              0.5555555555555556,
              "#d8576b"
             ],
             [
              0.6666666666666666,
              "#ed7953"
             ],
             [
              0.7777777777777778,
              "#fb9f3a"
             ],
             [
              0.8888888888888888,
              "#fdca26"
             ],
             [
              1,
              "#f0f921"
             ]
            ],
            "type": "surface"
           }
          ],
          "table": [
           {
            "cells": {
             "fill": {
              "color": "#EBF0F8"
             },
             "line": {
              "color": "white"
             }
            },
            "header": {
             "fill": {
              "color": "#C8D4E3"
             },
             "line": {
              "color": "white"
             }
            },
            "type": "table"
           }
          ]
         },
         "layout": {
          "annotationdefaults": {
           "arrowcolor": "#2a3f5f",
           "arrowhead": 0,
           "arrowwidth": 1
          },
          "autotypenumbers": "strict",
          "coloraxis": {
           "colorbar": {
            "outlinewidth": 0,
            "ticks": ""
           }
          },
          "colorscale": {
           "diverging": [
            [
             0,
             "#8e0152"
            ],
            [
             0.1,
             "#c51b7d"
            ],
            [
             0.2,
             "#de77ae"
            ],
            [
             0.3,
             "#f1b6da"
            ],
            [
             0.4,
             "#fde0ef"
            ],
            [
             0.5,
             "#f7f7f7"
            ],
            [
             0.6,
             "#e6f5d0"
            ],
            [
             0.7,
             "#b8e186"
            ],
            [
             0.8,
             "#7fbc41"
            ],
            [
             0.9,
             "#4d9221"
            ],
            [
             1,
             "#276419"
            ]
           ],
           "sequential": [
            [
             0,
             "#0d0887"
            ],
            [
             0.1111111111111111,
             "#46039f"
            ],
            [
             0.2222222222222222,
             "#7201a8"
            ],
            [
             0.3333333333333333,
             "#9c179e"
            ],
            [
             0.4444444444444444,
             "#bd3786"
            ],
            [
             0.5555555555555556,
             "#d8576b"
            ],
            [
             0.6666666666666666,
             "#ed7953"
            ],
            [
             0.7777777777777778,
             "#fb9f3a"
            ],
            [
             0.8888888888888888,
             "#fdca26"
            ],
            [
             1,
             "#f0f921"
            ]
           ],
           "sequentialminus": [
            [
             0,
             "#0d0887"
            ],
            [
             0.1111111111111111,
             "#46039f"
            ],
            [
             0.2222222222222222,
             "#7201a8"
            ],
            [
             0.3333333333333333,
             "#9c179e"
            ],
            [
             0.4444444444444444,
             "#bd3786"
            ],
            [
             0.5555555555555556,
             "#d8576b"
            ],
            [
             0.6666666666666666,
             "#ed7953"
            ],
            [
             0.7777777777777778,
             "#fb9f3a"
            ],
            [
             0.8888888888888888,
             "#fdca26"
            ],
            [
             1,
             "#f0f921"
            ]
           ]
          },
          "colorway": [
           "#636efa",
           "#EF553B",
           "#00cc96",
           "#ab63fa",
           "#FFA15A",
           "#19d3f3",
           "#FF6692",
           "#B6E880",
           "#FF97FF",
           "#FECB52"
          ],
          "font": {
           "color": "#2a3f5f"
          },
          "geo": {
           "bgcolor": "white",
           "lakecolor": "white",
           "landcolor": "#E5ECF6",
           "showlakes": true,
           "showland": true,
           "subunitcolor": "white"
          },
          "hoverlabel": {
           "align": "left"
          },
          "hovermode": "closest",
          "mapbox": {
           "style": "light"
          },
          "paper_bgcolor": "white",
          "plot_bgcolor": "#E5ECF6",
          "polar": {
           "angularaxis": {
            "gridcolor": "white",
            "linecolor": "white",
            "ticks": ""
           },
           "bgcolor": "#E5ECF6",
           "radialaxis": {
            "gridcolor": "white",
            "linecolor": "white",
            "ticks": ""
           }
          },
          "scene": {
           "xaxis": {
            "backgroundcolor": "#E5ECF6",
            "gridcolor": "white",
            "gridwidth": 2,
            "linecolor": "white",
            "showbackground": true,
            "ticks": "",
            "zerolinecolor": "white"
           },
           "yaxis": {
            "backgroundcolor": "#E5ECF6",
            "gridcolor": "white",
            "gridwidth": 2,
            "linecolor": "white",
            "showbackground": true,
            "ticks": "",
            "zerolinecolor": "white"
           },
           "zaxis": {
            "backgroundcolor": "#E5ECF6",
            "gridcolor": "white",
            "gridwidth": 2,
            "linecolor": "white",
            "showbackground": true,
            "ticks": "",
            "zerolinecolor": "white"
           }
          },
          "shapedefaults": {
           "line": {
            "color": "#2a3f5f"
           }
          },
          "ternary": {
           "aaxis": {
            "gridcolor": "white",
            "linecolor": "white",
            "ticks": ""
           },
           "baxis": {
            "gridcolor": "white",
            "linecolor": "white",
            "ticks": ""
           },
           "bgcolor": "#E5ECF6",
           "caxis": {
            "gridcolor": "white",
            "linecolor": "white",
            "ticks": ""
           }
          },
          "title": {
           "x": 0.05
          },
          "xaxis": {
           "automargin": true,
           "gridcolor": "white",
           "linecolor": "white",
           "ticks": "",
           "title": {
            "standoff": 15
           },
           "zerolinecolor": "white",
           "zerolinewidth": 2
          },
          "yaxis": {
           "automargin": true,
           "gridcolor": "white",
           "linecolor": "white",
           "ticks": "",
           "title": {
            "standoff": 15
           },
           "zerolinecolor": "white",
           "zerolinewidth": 2
          }
         }
        },
        "title": {
         "text": "Average Proportion of EDUCATION in the US by State"
        }
       }
      },
      "text/html": [
       "<div>                            <div id=\"29cfb745-3462-4889-b6ff-28725d4488ce\" class=\"plotly-graph-div\" style=\"height:525px; width:100%;\"></div>            <script type=\"text/javascript\">                require([\"plotly\"], function(Plotly) {                    window.PLOTLYENV=window.PLOTLYENV || {};                                    if (document.getElementById(\"29cfb745-3462-4889-b6ff-28725d4488ce\")) {                    Plotly.newPlot(                        \"29cfb745-3462-4889-b6ff-28725d4488ce\",                        [{\"coloraxis\": \"coloraxis\", \"geo\": \"geo\", \"hovertemplate\": \"<b>%{hovertext}</b><br><br>StateAbbr=%{location}<br>EDUC_Prop=%{z}<extra></extra>\", \"hovertext\": [\"Alabama\", \"Alabama\", \"Alabama\", \"Alaska\", \"Alaska\", \"Alaska\", \"Arizona\", \"Arizona\", \"Arizona\", \"Arkansas\", \"Arkansas\", \"Arkansas\", \"California\", \"California\", \"California\", \"Colorado\", \"Colorado\", \"Colorado\", \"Connecticut\", \"Connecticut\", \"Connecticut\", \"Delaware\", \"Delaware\", \"Delaware\", \"District of Columbia\", \"District of Columbia\", \"District of Columbia\", \"Florida\", \"Florida\", \"Florida\", \"Georgia\", \"Georgia\", \"Georgia\", \"Guam\", \"Guam\", \"Guam\", \"Hawaii\", \"Hawaii\", \"Hawaii\", \"Idaho\", \"Idaho\", \"Idaho\", \"Illinois\", \"Illinois\", \"Illinois\", \"Indiana\", \"Indiana\", \"Indiana\", \"Iowa\", \"Iowa\", \"Iowa\", \"Kansas\", \"Kansas\", \"Kansas\", \"Kentucky\", \"Kentucky\", \"Kentucky\", \"Louisiana\", \"Louisiana\", \"Louisiana\", \"Maine\", \"Maine\", \"Maine\", \"Maryland\", \"Maryland\", \"Maryland\", \"Massachusetts\", \"Massachusetts\", \"Massachusetts\", \"Michigan\", \"Michigan\", \"Michigan\", \"Minnesota\", \"Minnesota\", \"Minnesota\", \"Mississippi\", \"Mississippi\", \"Mississippi\", \"Missouri\", \"Missouri\", \"Missouri\", \"Montana\", \"Montana\", \"Montana\", \"Nebraska\", \"Nebraska\", \"Nebraska\", \"Nevada\", \"Nevada\", \"Nevada\", \"New Hampshire\", \"New Hampshire\", \"New Hampshire\", \"New Jersey\", \"New Jersey\", \"New Mexico\", \"New Mexico\", \"New Mexico\", \"New York\", \"New York\", \"New York\", \"North Carolina\", \"North Carolina\", \"North Carolina\", \"North Dakota\", \"North Dakota\", \"North Dakota\", \"Ohio\", \"Ohio\", \"Ohio\", \"Oklahoma\", \"Oklahoma\", \"Oklahoma\", \"Oregon\", \"Oregon\", \"Oregon\", \"Pennsylvania\", \"Pennsylvania\", \"Pennsylvania\", \"Puerto Rico\", \"Puerto Rico\", \"Puerto Rico\", \"Rhode Island\", \"Rhode Island\", \"Rhode Island\", \"South Carolina\", \"South Carolina\", \"South Carolina\", \"South Dakota\", \"South Dakota\", \"South Dakota\", \"Tennessee\", \"Tennessee\", \"Tennessee\", \"Texas\", \"Texas\", \"Texas\", \"Utah\", \"Utah\", \"Utah\", \"Vermont\", \"Vermont\", \"Vermont\", \"Virginia\", \"Virginia\", \"Virginia\", \"Washington\", \"Washington\", \"Washington\", \"West Virginia\", \"West Virginia\", \"West Virginia\", \"Wisconsin\", \"Wisconsin\", \"Wisconsin\", \"Wyoming\", \"Wyoming\", \"Wyoming\"], \"locationmode\": \"USA-states\", \"locations\": [\"AL\", \"AL\", \"AL\", \"AK\", \"AK\", \"AK\", \"AZ\", \"AZ\", \"AZ\", \"AR\", \"AR\", \"AR\", \"CA\", \"CA\", \"CA\", \"CO\", \"CO\", \"CO\", \"CT\", \"CT\", \"CT\", \"DE\", \"DE\", \"DE\", \"DC\", \"DC\", \"DC\", \"FL\", \"FL\", \"FL\", \"GA\", \"GA\", \"GA\", \"GU\", \"GU\", \"GU\", \"HI\", \"HI\", \"HI\", \"ID\", \"ID\", \"ID\", \"IL\", \"IL\", \"IL\", \"IN\", \"IN\", \"IN\", \"IA\", \"IA\", \"IA\", \"KS\", \"KS\", \"KS\", \"KY\", \"KY\", \"KY\", \"LA\", \"LA\", \"LA\", \"ME\", \"ME\", \"ME\", \"MD\", \"MD\", \"MD\", \"MA\", \"MA\", \"MA\", \"MI\", \"MI\", \"MI\", \"MN\", \"MN\", \"MN\", \"MS\", \"MS\", \"MS\", \"MO\", \"MO\", \"MO\", \"MT\", \"MT\", \"MT\", \"NE\", \"NE\", \"NE\", \"NV\", \"NV\", \"NV\", \"NH\", \"NH\", \"NH\", \"NJ\", \"NJ\", \"NM\", \"NM\", \"NM\", \"NY\", \"NY\", \"NY\", \"NC\", \"NC\", \"NC\", \"ND\", \"ND\", \"ND\", \"OH\", \"OH\", \"OH\", \"OK\", \"OK\", \"OK\", \"OR\", \"OR\", \"OR\", \"PA\", \"PA\", \"PA\", \"PR\", \"PR\", \"PR\", \"RI\", \"RI\", \"RI\", \"SC\", \"SC\", \"SC\", \"SD\", \"SD\", \"SD\", \"TN\", \"TN\", \"TN\", \"TX\", \"TX\", \"TX\", \"UT\", \"UT\", \"UT\", \"VT\", \"VT\", \"VT\", \"VA\", \"VA\", \"VA\", \"WA\", \"WA\", \"WA\", \"WV\", \"WV\", \"WV\", \"WI\", \"WI\", \"WI\", \"WY\", \"WY\", \"WY\"], \"name\": \"\", \"type\": \"choropleth\", \"z\": [2.8889539239079354, 2.8532259241435023, 2.9216038045703225, 3.075168475347512, 2.8830210189633236, 3.158008063383701, 3.0532359393479216, 3.1472635652762024, 3.094812555051349, 2.6406057091180566, 2.8008644912594183, 2.7808704346381, 3.1468372126478044, 2.908393202531136, 3.0261539671317026, 3.0823360720785895, 3.0934466556980977, 3.2011000379988883, 3.213094069804427, 3.216522109035964, 3.031427551542528, 2.9436207757060244, 2.9134360137708004, 2.985439787728287, 3.1156501831393015, 3.2741682886680232, 3.445680061364933, 2.9714566443185246, 3.026323510722037, 2.9295597727119604, 2.8898249923598054, 2.996778317181797, 2.9281723708316063, 2.615009517663719, 2.903907415162405, 2.640833854915569, 3.116807484417289, 3.0170295070967184, 3.2166414854865826, 3.138365475172758, 2.7839108234609444, 3.1037275827513375, 3.0849073922744963, 3.0787180041099433, 3.1025194210791325, 2.8172711440725577, 2.8374136429093038, 2.861652933609128, 2.945323415059289, 2.9279190920092724, 2.9309493772838855, 3.0298415801323273, 3.016898874900955, 3.0282511695148333, 2.9390307699072484, 2.806002668262817, 2.8226865997993484, 2.8729984463161893, 3.008072607449775, 2.7124348845252118, 3.1140080319976398, 2.981309633324956, 3.0694927310466453, 3.259764028405229, 3.1152835704729993, 3.152600505523455, 3.3504889443790695, 3.346777120866001, 3.264219768640862, 2.9750749618278234, 3.1058887568259794, 3.0225616986186457, 3.1628887241456205, 3.1556622958328933, 3.1644309934651007, 2.843693262757877, 2.787177820697305, 2.756639628138582, 2.8811098714025793, 3.0074318884679117, 2.78999022188818, 2.938659670816646, 2.8428829563239737, 3.0812851914440698, 3.0851242442532816, 2.9282508269650616, 2.957598168557018, 2.919423255032403, 3.03077106187868, 2.9105646741641555, 3.2642412455709953, 3.186478565872124, 3.189420405935726, 3.1062210156730643, 3.1219550192150787, 2.8195168414410685, 2.87406115794133, 2.7823760992160156, 3.0952259599892047, 3.0638479520230884, 3.1632224679188683, 3.046281830618776, 2.8541290193008275, 3.0099599884619597, 2.879221420867155, 3.0832479845311527, 3.0455473792603662, 2.7930365459572797, 2.939033746816845, 2.8075410735550412, 2.929880144383375, 2.8057871458276753, 2.8172776682243343, 3.0136842168536115, 3.001230942722703, 3.0078489132000525, 3.0274708400713384, 3.038677032460038, 3.0981907654518883, 2.5555784863555124, 2.8275591372697852, 2.778135175886745, 3.0489071628867603, 2.861221496912788, 3.003080013459912, 2.815957359672265, 2.8626448379678626, 2.870647023484096, 2.8589969663338657, 3.0103616585404462, 3.2546128799080387, 2.92630447651315, 2.782087618989941, 2.8305250021212713, 2.8833066090860293, 2.966599559215669, 3.0548570809435054, 3.045227393675146, 3.0311326903111446, 3.1234829827614465, 3.105146780477965, 2.8777296433199386, 3.267107349681691, 3.2409487422686687, 3.120366537322358, 3.041545097869124, 3.157071564739166, 3.161464140999225, 3.1099937992738096, 2.823991379397038, 2.6315764821530143, 2.904094492203402, 3.155515812196441, 2.870049278685795, 2.935213549794343, 2.901152982708494, 2.758454964401716, 3.0511089515002725]}],                        {\"coloraxis\": {\"colorbar\": {\"title\": {\"text\": \"EDUC_Prop\"}}, \"colorscale\": [[0.0, \"#30123b\"], [0.07142857142857142, \"#4145ab\"], [0.14285714285714285, \"#4675ed\"], [0.21428571428571427, \"#39a2fc\"], [0.2857142857142857, \"#1bcfd4\"], [0.35714285714285715, \"#24eca6\"], [0.42857142857142855, \"#61fc6c\"], [0.5, \"#a4fc3b\"], [0.5714285714285714, \"#d1e834\"], [0.6428571428571429, \"#f3c63a\"], [0.7142857142857143, \"#fe9b2d\"], [0.7857142857142857, \"#f36315\"], [0.8571428571428571, \"#d93806\"], [0.9285714285714286, \"#b11901\"], [1.0, \"#7a0402\"]]}, \"geo\": {\"center\": {}, \"domain\": {\"x\": [0.0, 1.0], \"y\": [0.0, 1.0]}, \"scope\": \"usa\"}, \"legend\": {\"tracegroupgap\": 0}, \"margin\": {\"t\": 60}, \"template\": {\"data\": {\"bar\": [{\"error_x\": {\"color\": \"#2a3f5f\"}, \"error_y\": {\"color\": \"#2a3f5f\"}, \"marker\": {\"line\": {\"color\": \"#E5ECF6\", \"width\": 0.5}}, \"type\": \"bar\"}], \"barpolar\": [{\"marker\": {\"line\": {\"color\": \"#E5ECF6\", \"width\": 0.5}}, \"type\": \"barpolar\"}], \"carpet\": [{\"aaxis\": {\"endlinecolor\": \"#2a3f5f\", \"gridcolor\": \"white\", \"linecolor\": \"white\", \"minorgridcolor\": \"white\", \"startlinecolor\": \"#2a3f5f\"}, \"baxis\": {\"endlinecolor\": \"#2a3f5f\", \"gridcolor\": \"white\", \"linecolor\": \"white\", \"minorgridcolor\": \"white\", \"startlinecolor\": \"#2a3f5f\"}, \"type\": \"carpet\"}], \"choropleth\": [{\"colorbar\": {\"outlinewidth\": 0, \"ticks\": \"\"}, \"type\": \"choropleth\"}], \"contour\": [{\"colorbar\": {\"outlinewidth\": 0, \"ticks\": \"\"}, \"colorscale\": [[0.0, \"#0d0887\"], [0.1111111111111111, \"#46039f\"], [0.2222222222222222, \"#7201a8\"], [0.3333333333333333, \"#9c179e\"], [0.4444444444444444, \"#bd3786\"], [0.5555555555555556, \"#d8576b\"], [0.6666666666666666, \"#ed7953\"], [0.7777777777777778, \"#fb9f3a\"], [0.8888888888888888, \"#fdca26\"], [1.0, \"#f0f921\"]], \"type\": \"contour\"}], \"contourcarpet\": [{\"colorbar\": {\"outlinewidth\": 0, \"ticks\": \"\"}, \"type\": \"contourcarpet\"}], \"heatmap\": [{\"colorbar\": {\"outlinewidth\": 0, \"ticks\": \"\"}, \"colorscale\": [[0.0, \"#0d0887\"], [0.1111111111111111, \"#46039f\"], [0.2222222222222222, \"#7201a8\"], [0.3333333333333333, \"#9c179e\"], [0.4444444444444444, \"#bd3786\"], [0.5555555555555556, \"#d8576b\"], [0.6666666666666666, \"#ed7953\"], [0.7777777777777778, \"#fb9f3a\"], [0.8888888888888888, \"#fdca26\"], [1.0, \"#f0f921\"]], \"type\": \"heatmap\"}], \"heatmapgl\": [{\"colorbar\": {\"outlinewidth\": 0, \"ticks\": \"\"}, \"colorscale\": [[0.0, \"#0d0887\"], [0.1111111111111111, \"#46039f\"], [0.2222222222222222, \"#7201a8\"], [0.3333333333333333, \"#9c179e\"], [0.4444444444444444, \"#bd3786\"], [0.5555555555555556, \"#d8576b\"], [0.6666666666666666, \"#ed7953\"], [0.7777777777777778, \"#fb9f3a\"], [0.8888888888888888, \"#fdca26\"], [1.0, \"#f0f921\"]], \"type\": \"heatmapgl\"}], \"histogram\": [{\"marker\": {\"colorbar\": {\"outlinewidth\": 0, \"ticks\": \"\"}}, \"type\": \"histogram\"}], \"histogram2d\": [{\"colorbar\": {\"outlinewidth\": 0, \"ticks\": \"\"}, \"colorscale\": [[0.0, \"#0d0887\"], [0.1111111111111111, \"#46039f\"], [0.2222222222222222, \"#7201a8\"], [0.3333333333333333, \"#9c179e\"], [0.4444444444444444, \"#bd3786\"], [0.5555555555555556, \"#d8576b\"], [0.6666666666666666, \"#ed7953\"], [0.7777777777777778, \"#fb9f3a\"], [0.8888888888888888, \"#fdca26\"], [1.0, \"#f0f921\"]], \"type\": \"histogram2d\"}], \"histogram2dcontour\": [{\"colorbar\": {\"outlinewidth\": 0, \"ticks\": \"\"}, \"colorscale\": [[0.0, \"#0d0887\"], [0.1111111111111111, \"#46039f\"], [0.2222222222222222, \"#7201a8\"], [0.3333333333333333, \"#9c179e\"], [0.4444444444444444, \"#bd3786\"], [0.5555555555555556, \"#d8576b\"], [0.6666666666666666, \"#ed7953\"], [0.7777777777777778, \"#fb9f3a\"], [0.8888888888888888, \"#fdca26\"], [1.0, \"#f0f921\"]], \"type\": \"histogram2dcontour\"}], \"mesh3d\": [{\"colorbar\": {\"outlinewidth\": 0, \"ticks\": \"\"}, \"type\": \"mesh3d\"}], \"parcoords\": [{\"line\": {\"colorbar\": {\"outlinewidth\": 0, \"ticks\": \"\"}}, \"type\": \"parcoords\"}], \"pie\": [{\"automargin\": true, \"type\": \"pie\"}], \"scatter\": [{\"marker\": {\"colorbar\": {\"outlinewidth\": 0, \"ticks\": \"\"}}, \"type\": \"scatter\"}], \"scatter3d\": [{\"line\": {\"colorbar\": {\"outlinewidth\": 0, \"ticks\": \"\"}}, \"marker\": {\"colorbar\": {\"outlinewidth\": 0, \"ticks\": \"\"}}, \"type\": \"scatter3d\"}], \"scattercarpet\": [{\"marker\": {\"colorbar\": {\"outlinewidth\": 0, \"ticks\": \"\"}}, \"type\": \"scattercarpet\"}], \"scattergeo\": [{\"marker\": {\"colorbar\": {\"outlinewidth\": 0, \"ticks\": \"\"}}, \"type\": \"scattergeo\"}], \"scattergl\": [{\"marker\": {\"colorbar\": {\"outlinewidth\": 0, \"ticks\": \"\"}}, \"type\": \"scattergl\"}], \"scattermapbox\": [{\"marker\": {\"colorbar\": {\"outlinewidth\": 0, \"ticks\": \"\"}}, \"type\": \"scattermapbox\"}], \"scatterpolar\": [{\"marker\": {\"colorbar\": {\"outlinewidth\": 0, \"ticks\": \"\"}}, \"type\": \"scatterpolar\"}], \"scatterpolargl\": [{\"marker\": {\"colorbar\": {\"outlinewidth\": 0, \"ticks\": \"\"}}, \"type\": \"scatterpolargl\"}], \"scatterternary\": [{\"marker\": {\"colorbar\": {\"outlinewidth\": 0, \"ticks\": \"\"}}, \"type\": \"scatterternary\"}], \"surface\": [{\"colorbar\": {\"outlinewidth\": 0, \"ticks\": \"\"}, \"colorscale\": [[0.0, \"#0d0887\"], [0.1111111111111111, \"#46039f\"], [0.2222222222222222, \"#7201a8\"], [0.3333333333333333, \"#9c179e\"], [0.4444444444444444, \"#bd3786\"], [0.5555555555555556, \"#d8576b\"], [0.6666666666666666, \"#ed7953\"], [0.7777777777777778, \"#fb9f3a\"], [0.8888888888888888, \"#fdca26\"], [1.0, \"#f0f921\"]], \"type\": \"surface\"}], \"table\": [{\"cells\": {\"fill\": {\"color\": \"#EBF0F8\"}, \"line\": {\"color\": \"white\"}}, \"header\": {\"fill\": {\"color\": \"#C8D4E3\"}, \"line\": {\"color\": \"white\"}}, \"type\": \"table\"}]}, \"layout\": {\"annotationdefaults\": {\"arrowcolor\": \"#2a3f5f\", \"arrowhead\": 0, \"arrowwidth\": 1}, \"autotypenumbers\": \"strict\", \"coloraxis\": {\"colorbar\": {\"outlinewidth\": 0, \"ticks\": \"\"}}, \"colorscale\": {\"diverging\": [[0, \"#8e0152\"], [0.1, \"#c51b7d\"], [0.2, \"#de77ae\"], [0.3, \"#f1b6da\"], [0.4, \"#fde0ef\"], [0.5, \"#f7f7f7\"], [0.6, \"#e6f5d0\"], [0.7, \"#b8e186\"], [0.8, \"#7fbc41\"], [0.9, \"#4d9221\"], [1, \"#276419\"]], \"sequential\": [[0.0, \"#0d0887\"], [0.1111111111111111, \"#46039f\"], [0.2222222222222222, \"#7201a8\"], [0.3333333333333333, \"#9c179e\"], [0.4444444444444444, \"#bd3786\"], [0.5555555555555556, \"#d8576b\"], [0.6666666666666666, \"#ed7953\"], [0.7777777777777778, \"#fb9f3a\"], [0.8888888888888888, \"#fdca26\"], [1.0, \"#f0f921\"]], \"sequentialminus\": [[0.0, \"#0d0887\"], [0.1111111111111111, \"#46039f\"], [0.2222222222222222, \"#7201a8\"], [0.3333333333333333, \"#9c179e\"], [0.4444444444444444, \"#bd3786\"], [0.5555555555555556, \"#d8576b\"], [0.6666666666666666, \"#ed7953\"], [0.7777777777777778, \"#fb9f3a\"], [0.8888888888888888, \"#fdca26\"], [1.0, \"#f0f921\"]]}, \"colorway\": [\"#636efa\", \"#EF553B\", \"#00cc96\", \"#ab63fa\", \"#FFA15A\", \"#19d3f3\", \"#FF6692\", \"#B6E880\", \"#FF97FF\", \"#FECB52\"], \"font\": {\"color\": \"#2a3f5f\"}, \"geo\": {\"bgcolor\": \"white\", \"lakecolor\": \"white\", \"landcolor\": \"#E5ECF6\", \"showlakes\": true, \"showland\": true, \"subunitcolor\": \"white\"}, \"hoverlabel\": {\"align\": \"left\"}, \"hovermode\": \"closest\", \"mapbox\": {\"style\": \"light\"}, \"paper_bgcolor\": \"white\", \"plot_bgcolor\": \"#E5ECF6\", \"polar\": {\"angularaxis\": {\"gridcolor\": \"white\", \"linecolor\": \"white\", \"ticks\": \"\"}, \"bgcolor\": \"#E5ECF6\", \"radialaxis\": {\"gridcolor\": \"white\", \"linecolor\": \"white\", \"ticks\": \"\"}}, \"scene\": {\"xaxis\": {\"backgroundcolor\": \"#E5ECF6\", \"gridcolor\": \"white\", \"gridwidth\": 2, \"linecolor\": \"white\", \"showbackground\": true, \"ticks\": \"\", \"zerolinecolor\": \"white\"}, \"yaxis\": {\"backgroundcolor\": \"#E5ECF6\", \"gridcolor\": \"white\", \"gridwidth\": 2, \"linecolor\": \"white\", \"showbackground\": true, \"ticks\": \"\", \"zerolinecolor\": \"white\"}, \"zaxis\": {\"backgroundcolor\": \"#E5ECF6\", \"gridcolor\": \"white\", \"gridwidth\": 2, \"linecolor\": \"white\", \"showbackground\": true, \"ticks\": \"\", \"zerolinecolor\": \"white\"}}, \"shapedefaults\": {\"line\": {\"color\": \"#2a3f5f\"}}, \"ternary\": {\"aaxis\": {\"gridcolor\": \"white\", \"linecolor\": \"white\", \"ticks\": \"\"}, \"baxis\": {\"gridcolor\": \"white\", \"linecolor\": \"white\", \"ticks\": \"\"}, \"bgcolor\": \"#E5ECF6\", \"caxis\": {\"gridcolor\": \"white\", \"linecolor\": \"white\", \"ticks\": \"\"}}, \"title\": {\"x\": 0.05}, \"xaxis\": {\"automargin\": true, \"gridcolor\": \"white\", \"linecolor\": \"white\", \"ticks\": \"\", \"title\": {\"standoff\": 15}, \"zerolinecolor\": \"white\", \"zerolinewidth\": 2}, \"yaxis\": {\"automargin\": true, \"gridcolor\": \"white\", \"linecolor\": \"white\", \"ticks\": \"\", \"title\": {\"standoff\": 15}, \"zerolinecolor\": \"white\", \"zerolinewidth\": 2}}}, \"title\": {\"text\": \"Average Proportion of EDUCATION in the US by State\"}},                        {\"responsive\": true}                    ).then(function(){\n",
       "                            \n",
       "var gd = document.getElementById('29cfb745-3462-4889-b6ff-28725d4488ce');\n",
       "var x = new MutationObserver(function (mutations, observer) {{\n",
       "        var display = window.getComputedStyle(gd).display;\n",
       "        if (!display || display === 'none') {{\n",
       "            console.log([gd, 'removed!']);\n",
       "            Plotly.purge(gd);\n",
       "            observer.disconnect();\n",
       "        }}\n",
       "}});\n",
       "\n",
       "// Listen for the removal of the full notebook cells\n",
       "var notebookContainer = gd.closest('#notebook-container');\n",
       "if (notebookContainer) {{\n",
       "    x.observe(notebookContainer, {childList: true});\n",
       "}}\n",
       "\n",
       "// Listen for the clearing of the current output cell\n",
       "var outputEl = gd.closest('.output');\n",
       "if (outputEl) {{\n",
       "    x.observe(outputEl, {childList: true});\n",
       "}}\n",
       "\n",
       "                        })                };                });            </script>        </div>"
      ]
     },
     "metadata": {},
     "output_type": "display_data"
    }
   ],
   "source": [
    "# For Comparison - EDUC Map\n",
    "# NOTE: New Jersey only has data for 2 out of the 3 years - 2017 & 2018\n",
    "import plotly.express as px\n",
    "from textwrap import wrap\n",
    "\n",
    "named_colorscales = px.colors.named_colorscales()\n",
    "#print(\"\\n\".join(wrap(\"\".join('{:<12}'.format(c) for c in named_colorscales), 96)))\n",
    "\n",
    "fig = px.choropleth(mapme,  # Input Pandas DataFrame\n",
    "                    locations = \"StateAbbr\",  # DataFrame column with locations\n",
    "                    color = \"EDUC_Prop\",  # DataFrame column with color values\n",
    "                    color_continuous_scale = 'turbo',\n",
    "                    hover_name = \"StateName\", # DataFrame column hover info\n",
    "                    locationmode = 'USA-states') # Set to plot as US States\n",
    "fig.update_layout(\n",
    "    title_text = 'Average Proportion of EDUCATION in the US by State', # Create a Title\n",
    "    geo_scope ='usa',  # Plot only the USA instead of globe\n",
    ")\n",
    "fig.show()"
   ]
  },
  {
   "cell_type": "code",
   "execution_count": null,
   "metadata": {},
   "outputs": [],
   "source": []
  }
 ],
 "metadata": {
  "kernelspec": {
   "display_name": "Python 3",
   "language": "python",
   "name": "python3"
  },
  "language_info": {
   "codemirror_mode": {
    "name": "ipython",
    "version": 3
   },
   "file_extension": ".py",
   "mimetype": "text/x-python",
   "name": "python",
   "nbconvert_exporter": "python",
   "pygments_lexer": "ipython3",
   "version": "3.7.6"
  }
 },
 "nbformat": 4,
 "nbformat_minor": 4
}
