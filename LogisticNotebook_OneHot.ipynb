{
 "cells": [
  {
   "cell_type": "code",
   "execution_count": 1,
   "metadata": {},
   "outputs": [],
   "source": [
    "import numpy as np\n",
    "import pandas as pd\n",
    "\n",
    "import researchpy as rp\n",
    "import scipy.stats as stats\n",
    "import category_encoders as ce\n",
    "\n",
    "import seaborn as sb\n",
    "import matplotlib.pyplot as plt\n",
    "\n",
    "import sklearn.base as skbase\n",
    "import sklearn.metrics as smet\n",
    "import sklearn.pipeline as skpipe\n",
    "import sklearn.preprocessing as skpre\n",
    "import sklearn.linear_model as lm\n",
    "import sklearn.model_selection as ms"
   ]
  },
  {
   "cell_type": "code",
   "execution_count": 2,
   "metadata": {},
   "outputs": [],
   "source": [
    "brfss_large = pd.read_csv('/home/kylier/python/python-ds/BRFSS_Clean_Combo.csv')"
   ]
  },
  {
   "cell_type": "code",
   "execution_count": 3,
   "metadata": {},
   "outputs": [],
   "source": [
    "brfss_small = pd.read_csv('/home/kylier/python/python-ds/BRFSS_SAMPLE_WEIGHTED.csv')"
   ]
  },
  {
   "cell_type": "code",
   "execution_count": 4,
   "metadata": {},
   "outputs": [],
   "source": [
    "# MODEL 1: LOGISTIC REGRESSION\n",
    "# ----------------------------\n",
    "\n",
    "# define possible predictors, retain y = COMORB_1.\n",
    "# Use small sample for now.\n",
    "brfss1 = pd.DataFrame(brfss_small,\n",
    "                      columns=[\"ID\", \"YEAR\", \"L_EMPLOY1\", \"L_AGE_G\", \"L_BMI5CAT\", \"L_SEX\", \"B_SMOKER\", \"B_HLTHPLN\",\n",
    "                               \"B_COUPLED\", \"L_INCOMG\", \"L_EDUCAG\", \"SEX\", \"_AGE_G\", \"EMPLOY1\", \"_INCOMG\",\n",
    "                              \"_EDUCAG\", \"_BMI5CAT\", \"L_STATEAB\", \"COMORB_1\"])\n",
    "\n"
   ]
  },
  {
   "cell_type": "code",
   "execution_count": 5,
   "metadata": {},
   "outputs": [
    {
     "name": "stdout",
     "output_type": "stream",
     "text": [
      "<class 'pandas.core.frame.DataFrame'>\n",
      "RangeIndex: 12000 entries, 0 to 11999\n",
      "Data columns (total 19 columns):\n",
      " #   Column     Non-Null Count  Dtype  \n",
      "---  ------     --------------  -----  \n",
      " 0   ID         12000 non-null  int64  \n",
      " 1   YEAR       12000 non-null  int64  \n",
      " 2   L_EMPLOY1  11950 non-null  object \n",
      " 3   L_AGE_G    0 non-null      float64\n",
      " 4   L_BMI5CAT  10961 non-null  object \n",
      " 5   L_SEX      11989 non-null  object \n",
      " 6   B_SMOKER   12000 non-null  int64  \n",
      " 7   B_HLTHPLN  12000 non-null  int64  \n",
      " 8   B_COUPLED  12000 non-null  int64  \n",
      " 9   L_INCOMG   12000 non-null  object \n",
      " 10  L_EDUCAG   12000 non-null  object \n",
      " 11  SEX        11989 non-null  float64\n",
      " 12  _AGE_G     0 non-null      float64\n",
      " 13  EMPLOY1    11950 non-null  float64\n",
      " 14  _INCOMG    12000 non-null  int64  \n",
      " 15  _EDUCAG    12000 non-null  int64  \n",
      " 16  _BMI5CAT   10961 non-null  float64\n",
      " 17  L_STATEAB  12000 non-null  object \n",
      " 18  COMORB_1   12000 non-null  int64  \n",
      "dtypes: float64(5), int64(8), object(6)\n",
      "memory usage: 1.7+ MB\n"
     ]
    }
   ],
   "source": [
    "brfss1.info()"
   ]
  },
  {
   "cell_type": "code",
   "execution_count": 9,
   "metadata": {},
   "outputs": [],
   "source": [
    "# Load 'enrich.py' functions\n",
    "import importlib.util\n",
    "spec = importlib.util.spec_from_file_location(\"enrich\", \"/home/kylier/python/python-ds/enrich.py\")\n",
    "enrich = importlib.util.module_from_spec(spec)\n",
    "spec.loader.exec_module(enrich)"
   ]
  },
  {
   "cell_type": "code",
   "execution_count": 10,
   "metadata": {},
   "outputs": [],
   "source": [
    "# Load 'learn.py' functions\n",
    "import importlib.util\n",
    "spec = importlib.util.spec_from_file_location(\"learn\", \"/home/kylier/python/python-ds/learn.py\")\n",
    "learn = importlib.util.module_from_spec(spec)\n",
    "spec.loader.exec_module(learn)"
   ]
  },
  {
   "cell_type": "code",
   "execution_count": 11,
   "metadata": {},
   "outputs": [
    {
     "data": {
      "text/plain": [
       "ID               0\n",
       "YEAR             0\n",
       "L_EMPLOY1       50\n",
       "L_AGE_G      12000\n",
       "L_BMI5CAT     1039\n",
       "L_SEX           11\n",
       "B_SMOKER         0\n",
       "B_HLTHPLN        0\n",
       "B_COUPLED        0\n",
       "L_INCOMG         0\n",
       "L_EDUCAG         0\n",
       "SEX             11\n",
       "_AGE_G       12000\n",
       "EMPLOY1         50\n",
       "_INCOMG          0\n",
       "_EDUCAG          0\n",
       "_BMI5CAT      1039\n",
       "L_STATEAB        0\n",
       "COMORB_1         0\n",
       "dtype: int64"
      ]
     },
     "execution_count": 11,
     "metadata": {},
     "output_type": "execute_result"
    }
   ],
   "source": [
    "brfss1.isnull().sum()"
   ]
  },
  {
   "cell_type": "code",
   "execution_count": 12,
   "metadata": {},
   "outputs": [
    {
     "data": {
      "text/plain": [
       "ID               0.0\n",
       "YEAR             0.0\n",
       "L_EMPLOY1        0.0\n",
       "L_AGE_G          0.0\n",
       "L_BMI5CAT        0.0\n",
       "L_SEX            0.0\n",
       "B_SMOKER         0.0\n",
       "B_HLTHPLN        0.0\n",
       "B_COUPLED        0.0\n",
       "L_INCOMG         0.0\n",
       "L_EDUCAG         0.0\n",
       "SEX              0.0\n",
       "_AGE_G           0.0\n",
       "EMPLOY1        999.0\n",
       "_INCOMG      18477.0\n",
       "_EDUCAG        459.0\n",
       "_BMI5CAT         0.0\n",
       "L_STATEAB        0.0\n",
       "COMORB_1         0.0\n",
       "dtype: float64"
      ]
     },
     "execution_count": 12,
     "metadata": {},
     "output_type": "execute_result"
    }
   ],
   "source": [
    "brfss1[brfss1 == 9].sum(axis=0)"
   ]
  },
  {
   "cell_type": "code",
   "execution_count": 13,
   "metadata": {},
   "outputs": [],
   "source": [
    "# translate associated columns' null, NaN, blank and 9 values for non-binary categorical variables to zero\n",
    "brfss1 = enrich.replaceCVs(brfss1, [\"SEX\", \"_AGE_G\", \"EMPLOY1\", \"_INCOMG\", \"_EDUCAG\", \"_BMI5CAT\"], \n",
    "                           [np.nan, 9, \"\", \" \"], 0)"
   ]
  },
  {
   "cell_type": "code",
   "execution_count": 14,
   "metadata": {},
   "outputs": [
    {
     "data": {
      "text/plain": [
       "ID               0\n",
       "YEAR             0\n",
       "L_EMPLOY1       50\n",
       "L_AGE_G      12000\n",
       "L_BMI5CAT     1039\n",
       "L_SEX           11\n",
       "B_SMOKER         0\n",
       "B_HLTHPLN        0\n",
       "B_COUPLED        0\n",
       "L_INCOMG         0\n",
       "L_EDUCAG         0\n",
       "SEX              0\n",
       "_AGE_G           0\n",
       "EMPLOY1          0\n",
       "_INCOMG          0\n",
       "_EDUCAG          0\n",
       "_BMI5CAT         0\n",
       "L_STATEAB        0\n",
       "COMORB_1         0\n",
       "dtype: int64"
      ]
     },
     "execution_count": 14,
     "metadata": {},
     "output_type": "execute_result"
    }
   ],
   "source": [
    "brfss1.isnull().sum()"
   ]
  },
  {
   "cell_type": "code",
   "execution_count": 15,
   "metadata": {},
   "outputs": [
    {
     "data": {
      "text/plain": [
       "ID           0.0\n",
       "YEAR         0.0\n",
       "L_EMPLOY1    0.0\n",
       "L_AGE_G      0.0\n",
       "L_BMI5CAT    0.0\n",
       "L_SEX        0.0\n",
       "B_SMOKER     0.0\n",
       "B_HLTHPLN    0.0\n",
       "B_COUPLED    0.0\n",
       "L_INCOMG     0.0\n",
       "L_EDUCAG     0.0\n",
       "SEX          0.0\n",
       "_AGE_G       0.0\n",
       "EMPLOY1      0.0\n",
       "_INCOMG      0.0\n",
       "_EDUCAG      0.0\n",
       "_BMI5CAT     0.0\n",
       "L_STATEAB    0.0\n",
       "COMORB_1     0.0\n",
       "dtype: float64"
      ]
     },
     "execution_count": 15,
     "metadata": {},
     "output_type": "execute_result"
    }
   ],
   "source": [
    "brfss1[brfss1 == 9].sum(axis=0)"
   ]
  },
  {
   "cell_type": "code",
   "execution_count": 24,
   "metadata": {},
   "outputs": [
    {
     "data": {
      "text/plain": [
       "array(['Employed', 'Homemaker', 'Unable', 'Retired', 'Self-Employed',\n",
       "       'Out of Work 1 yr+', nan, 'Student', 'Out of Work <1 yr'],\n",
       "      dtype=object)"
      ]
     },
     "execution_count": 24,
     "metadata": {},
     "output_type": "execute_result"
    }
   ],
   "source": [
    "brfss1[\"L_EMPLOY1\"].unique()"
   ]
  },
  {
   "cell_type": "code",
   "execution_count": 27,
   "metadata": {},
   "outputs": [
    {
     "ename": "KeyError",
     "evalue": "' L_AGE_G'",
     "output_type": "error",
     "traceback": [
      "\u001b[0;31m---------------------------------------------------------------------------\u001b[0m",
      "\u001b[0;31mKeyError\u001b[0m                                  Traceback (most recent call last)",
      "\u001b[0;32m/usr/local/bin/anaconda3/lib/python3.7/site-packages/pandas/core/indexes/base.py\u001b[0m in \u001b[0;36mget_loc\u001b[0;34m(self, key, method, tolerance)\u001b[0m\n\u001b[1;32m   2897\u001b[0m             \u001b[0;32mtry\u001b[0m\u001b[0;34m:\u001b[0m\u001b[0;34m\u001b[0m\u001b[0;34m\u001b[0m\u001b[0m\n\u001b[0;32m-> 2898\u001b[0;31m                 \u001b[0;32mreturn\u001b[0m \u001b[0mself\u001b[0m\u001b[0;34m.\u001b[0m\u001b[0m_engine\u001b[0m\u001b[0;34m.\u001b[0m\u001b[0mget_loc\u001b[0m\u001b[0;34m(\u001b[0m\u001b[0mcasted_key\u001b[0m\u001b[0;34m)\u001b[0m\u001b[0;34m\u001b[0m\u001b[0;34m\u001b[0m\u001b[0m\n\u001b[0m\u001b[1;32m   2899\u001b[0m             \u001b[0;32mexcept\u001b[0m \u001b[0mKeyError\u001b[0m \u001b[0;32mas\u001b[0m \u001b[0merr\u001b[0m\u001b[0;34m:\u001b[0m\u001b[0;34m\u001b[0m\u001b[0;34m\u001b[0m\u001b[0m\n",
      "\u001b[0;32mpandas/_libs/index.pyx\u001b[0m in \u001b[0;36mpandas._libs.index.IndexEngine.get_loc\u001b[0;34m()\u001b[0m\n",
      "\u001b[0;32mpandas/_libs/index.pyx\u001b[0m in \u001b[0;36mpandas._libs.index.IndexEngine.get_loc\u001b[0;34m()\u001b[0m\n",
      "\u001b[0;32mpandas/_libs/hashtable_class_helper.pxi\u001b[0m in \u001b[0;36mpandas._libs.hashtable.PyObjectHashTable.get_item\u001b[0;34m()\u001b[0m\n",
      "\u001b[0;32mpandas/_libs/hashtable_class_helper.pxi\u001b[0m in \u001b[0;36mpandas._libs.hashtable.PyObjectHashTable.get_item\u001b[0;34m()\u001b[0m\n",
      "\u001b[0;31mKeyError\u001b[0m: ' L_AGE_G'",
      "\nThe above exception was the direct cause of the following exception:\n",
      "\u001b[0;31mKeyError\u001b[0m                                  Traceback (most recent call last)",
      "\u001b[0;32m<ipython-input-27-f86af5c424d9>\u001b[0m in \u001b[0;36m<module>\u001b[0;34m\u001b[0m\n\u001b[0;32m----> 1\u001b[0;31m \u001b[0mbrfss1\u001b[0m\u001b[0;34m[\u001b[0m\u001b[0;34m\" L_AGE_G\"\u001b[0m\u001b[0;34m]\u001b[0m\u001b[0;34m.\u001b[0m\u001b[0munique\u001b[0m\u001b[0;34m(\u001b[0m\u001b[0;34m)\u001b[0m\u001b[0;34m\u001b[0m\u001b[0;34m\u001b[0m\u001b[0m\n\u001b[0m",
      "\u001b[0;32m/usr/local/bin/anaconda3/lib/python3.7/site-packages/pandas/core/frame.py\u001b[0m in \u001b[0;36m__getitem__\u001b[0;34m(self, key)\u001b[0m\n\u001b[1;32m   2904\u001b[0m             \u001b[0;32mif\u001b[0m \u001b[0mself\u001b[0m\u001b[0;34m.\u001b[0m\u001b[0mcolumns\u001b[0m\u001b[0;34m.\u001b[0m\u001b[0mnlevels\u001b[0m \u001b[0;34m>\u001b[0m \u001b[0;36m1\u001b[0m\u001b[0;34m:\u001b[0m\u001b[0;34m\u001b[0m\u001b[0;34m\u001b[0m\u001b[0m\n\u001b[1;32m   2905\u001b[0m                 \u001b[0;32mreturn\u001b[0m \u001b[0mself\u001b[0m\u001b[0;34m.\u001b[0m\u001b[0m_getitem_multilevel\u001b[0m\u001b[0;34m(\u001b[0m\u001b[0mkey\u001b[0m\u001b[0;34m)\u001b[0m\u001b[0;34m\u001b[0m\u001b[0;34m\u001b[0m\u001b[0m\n\u001b[0;32m-> 2906\u001b[0;31m             \u001b[0mindexer\u001b[0m \u001b[0;34m=\u001b[0m \u001b[0mself\u001b[0m\u001b[0;34m.\u001b[0m\u001b[0mcolumns\u001b[0m\u001b[0;34m.\u001b[0m\u001b[0mget_loc\u001b[0m\u001b[0;34m(\u001b[0m\u001b[0mkey\u001b[0m\u001b[0;34m)\u001b[0m\u001b[0;34m\u001b[0m\u001b[0;34m\u001b[0m\u001b[0m\n\u001b[0m\u001b[1;32m   2907\u001b[0m             \u001b[0;32mif\u001b[0m \u001b[0mis_integer\u001b[0m\u001b[0;34m(\u001b[0m\u001b[0mindexer\u001b[0m\u001b[0;34m)\u001b[0m\u001b[0;34m:\u001b[0m\u001b[0;34m\u001b[0m\u001b[0;34m\u001b[0m\u001b[0m\n\u001b[1;32m   2908\u001b[0m                 \u001b[0mindexer\u001b[0m \u001b[0;34m=\u001b[0m \u001b[0;34m[\u001b[0m\u001b[0mindexer\u001b[0m\u001b[0;34m]\u001b[0m\u001b[0;34m\u001b[0m\u001b[0;34m\u001b[0m\u001b[0m\n",
      "\u001b[0;32m/usr/local/bin/anaconda3/lib/python3.7/site-packages/pandas/core/indexes/base.py\u001b[0m in \u001b[0;36mget_loc\u001b[0;34m(self, key, method, tolerance)\u001b[0m\n\u001b[1;32m   2898\u001b[0m                 \u001b[0;32mreturn\u001b[0m \u001b[0mself\u001b[0m\u001b[0;34m.\u001b[0m\u001b[0m_engine\u001b[0m\u001b[0;34m.\u001b[0m\u001b[0mget_loc\u001b[0m\u001b[0;34m(\u001b[0m\u001b[0mcasted_key\u001b[0m\u001b[0;34m)\u001b[0m\u001b[0;34m\u001b[0m\u001b[0;34m\u001b[0m\u001b[0m\n\u001b[1;32m   2899\u001b[0m             \u001b[0;32mexcept\u001b[0m \u001b[0mKeyError\u001b[0m \u001b[0;32mas\u001b[0m \u001b[0merr\u001b[0m\u001b[0;34m:\u001b[0m\u001b[0;34m\u001b[0m\u001b[0;34m\u001b[0m\u001b[0m\n\u001b[0;32m-> 2900\u001b[0;31m                 \u001b[0;32mraise\u001b[0m \u001b[0mKeyError\u001b[0m\u001b[0;34m(\u001b[0m\u001b[0mkey\u001b[0m\u001b[0;34m)\u001b[0m \u001b[0;32mfrom\u001b[0m \u001b[0merr\u001b[0m\u001b[0;34m\u001b[0m\u001b[0;34m\u001b[0m\u001b[0m\n\u001b[0m\u001b[1;32m   2901\u001b[0m \u001b[0;34m\u001b[0m\u001b[0m\n\u001b[1;32m   2902\u001b[0m         \u001b[0;32mif\u001b[0m \u001b[0mtolerance\u001b[0m \u001b[0;32mis\u001b[0m \u001b[0;32mnot\u001b[0m \u001b[0;32mNone\u001b[0m\u001b[0;34m:\u001b[0m\u001b[0;34m\u001b[0m\u001b[0;34m\u001b[0m\u001b[0m\n",
      "\u001b[0;31mKeyError\u001b[0m: ' L_AGE_G'"
     ]
    }
   ],
   "source": [
    "brfss1[\"L_AGE_G\"].unique()"
   ]
  },
  {
   "cell_type": "code",
   "execution_count": 19,
   "metadata": {},
   "outputs": [
    {
     "ename": "ValueError",
     "evalue": "columns overlap but no suffix specified: Index([' '], dtype='object')",
     "output_type": "error",
     "traceback": [
      "\u001b[0;31m---------------------------------------------------------------------------\u001b[0m",
      "\u001b[0;31mValueError\u001b[0m                                Traceback (most recent call last)",
      "\u001b[0;32m<ipython-input-19-d7e8af06829a>\u001b[0m in \u001b[0;36m<module>\u001b[0;34m\u001b[0m\n\u001b[1;32m      4\u001b[0m \u001b[0mbrfss1\u001b[0m \u001b[0;34m=\u001b[0m \u001b[0menrich\u001b[0m\u001b[0;34m.\u001b[0m\u001b[0mone_hot_encode\u001b[0m\u001b[0;34m(\u001b[0m\u001b[0mbrfss1\u001b[0m\u001b[0;34m,\u001b[0m \u001b[0;34m\"L_INCOMG\"\u001b[0m\u001b[0;34m)\u001b[0m\u001b[0;34m\u001b[0m\u001b[0;34m\u001b[0m\u001b[0m\n\u001b[1;32m      5\u001b[0m \u001b[0mbrfss1\u001b[0m \u001b[0;34m=\u001b[0m \u001b[0menrich\u001b[0m\u001b[0;34m.\u001b[0m\u001b[0mone_hot_encode\u001b[0m\u001b[0;34m(\u001b[0m\u001b[0mbrfss1\u001b[0m\u001b[0;34m,\u001b[0m \u001b[0;34m\"L_BMI5CAT\"\u001b[0m\u001b[0;34m)\u001b[0m\u001b[0;34m\u001b[0m\u001b[0;34m\u001b[0m\u001b[0m\n\u001b[0;32m----> 6\u001b[0;31m \u001b[0mbrfss1\u001b[0m \u001b[0;34m=\u001b[0m \u001b[0menrich\u001b[0m\u001b[0;34m.\u001b[0m\u001b[0mone_hot_encode\u001b[0m\u001b[0;34m(\u001b[0m\u001b[0mbrfss1\u001b[0m\u001b[0;34m,\u001b[0m \u001b[0;34m\"L_EMPLOY1\"\u001b[0m\u001b[0;34m)\u001b[0m\u001b[0;34m\u001b[0m\u001b[0;34m\u001b[0m\u001b[0m\n\u001b[0m\u001b[1;32m      7\u001b[0m \u001b[0mbrfss1\u001b[0m \u001b[0;34m=\u001b[0m \u001b[0menrich\u001b[0m\u001b[0;34m.\u001b[0m\u001b[0mone_hot_encode\u001b[0m\u001b[0;34m(\u001b[0m\u001b[0mbrfss1\u001b[0m\u001b[0;34m,\u001b[0m \u001b[0;34m\"L_EDUCAG\"\u001b[0m\u001b[0;34m)\u001b[0m\u001b[0;34m\u001b[0m\u001b[0;34m\u001b[0m\u001b[0m\n",
      "\u001b[0;32m~/python/python-ds/enrich.py\u001b[0m in \u001b[0;36mone_hot_encode\u001b[0;34m(ds, cat_attribute_name, drop)\u001b[0m\n\u001b[1;32m    141\u001b[0m     \u001b[0;32mif\u001b[0m \u001b[0mdrop\u001b[0m\u001b[0;34m:\u001b[0m\u001b[0;34m\u001b[0m\u001b[0;34m\u001b[0m\u001b[0m\n\u001b[1;32m    142\u001b[0m         \u001b[0mds\u001b[0m \u001b[0;34m=\u001b[0m \u001b[0mds\u001b[0m\u001b[0;34m.\u001b[0m\u001b[0mdrop\u001b[0m\u001b[0;34m(\u001b[0m\u001b[0mcat_attribute_name\u001b[0m\u001b[0;34m,\u001b[0m \u001b[0maxis\u001b[0m\u001b[0;34m=\u001b[0m\u001b[0;36m1\u001b[0m\u001b[0;34m)\u001b[0m\u001b[0;34m\u001b[0m\u001b[0;34m\u001b[0m\u001b[0m\n\u001b[0;32m--> 143\u001b[0;31m     \u001b[0mds\u001b[0m \u001b[0;34m=\u001b[0m \u001b[0mds\u001b[0m\u001b[0;34m.\u001b[0m\u001b[0mjoin\u001b[0m\u001b[0;34m(\u001b[0m\u001b[0mone_hot\u001b[0m\u001b[0;34m)\u001b[0m\u001b[0;34m\u001b[0m\u001b[0;34m\u001b[0m\u001b[0m\n\u001b[0m\u001b[1;32m    144\u001b[0m     \u001b[0;32mreturn\u001b[0m \u001b[0mds\u001b[0m\u001b[0;34m\u001b[0m\u001b[0;34m\u001b[0m\u001b[0m\n\u001b[1;32m    145\u001b[0m \u001b[0;34m\u001b[0m\u001b[0m\n",
      "\u001b[0;32m/usr/local/bin/anaconda3/lib/python3.7/site-packages/pandas/core/frame.py\u001b[0m in \u001b[0;36mjoin\u001b[0;34m(self, other, on, how, lsuffix, rsuffix, sort)\u001b[0m\n\u001b[1;32m   7873\u001b[0m         \"\"\"\n\u001b[1;32m   7874\u001b[0m         return self._join_compat(\n\u001b[0;32m-> 7875\u001b[0;31m             \u001b[0mother\u001b[0m\u001b[0;34m,\u001b[0m \u001b[0mon\u001b[0m\u001b[0;34m=\u001b[0m\u001b[0mon\u001b[0m\u001b[0;34m,\u001b[0m \u001b[0mhow\u001b[0m\u001b[0;34m=\u001b[0m\u001b[0mhow\u001b[0m\u001b[0;34m,\u001b[0m \u001b[0mlsuffix\u001b[0m\u001b[0;34m=\u001b[0m\u001b[0mlsuffix\u001b[0m\u001b[0;34m,\u001b[0m \u001b[0mrsuffix\u001b[0m\u001b[0;34m=\u001b[0m\u001b[0mrsuffix\u001b[0m\u001b[0;34m,\u001b[0m \u001b[0msort\u001b[0m\u001b[0;34m=\u001b[0m\u001b[0msort\u001b[0m\u001b[0;34m\u001b[0m\u001b[0;34m\u001b[0m\u001b[0m\n\u001b[0m\u001b[1;32m   7876\u001b[0m         )\n\u001b[1;32m   7877\u001b[0m \u001b[0;34m\u001b[0m\u001b[0m\n",
      "\u001b[0;32m/usr/local/bin/anaconda3/lib/python3.7/site-packages/pandas/core/frame.py\u001b[0m in \u001b[0;36m_join_compat\u001b[0;34m(self, other, on, how, lsuffix, rsuffix, sort)\u001b[0m\n\u001b[1;32m   7896\u001b[0m                 \u001b[0mright_index\u001b[0m\u001b[0;34m=\u001b[0m\u001b[0;32mTrue\u001b[0m\u001b[0;34m,\u001b[0m\u001b[0;34m\u001b[0m\u001b[0;34m\u001b[0m\u001b[0m\n\u001b[1;32m   7897\u001b[0m                 \u001b[0msuffixes\u001b[0m\u001b[0;34m=\u001b[0m\u001b[0;34m(\u001b[0m\u001b[0mlsuffix\u001b[0m\u001b[0;34m,\u001b[0m \u001b[0mrsuffix\u001b[0m\u001b[0;34m)\u001b[0m\u001b[0;34m,\u001b[0m\u001b[0;34m\u001b[0m\u001b[0;34m\u001b[0m\u001b[0m\n\u001b[0;32m-> 7898\u001b[0;31m                 \u001b[0msort\u001b[0m\u001b[0;34m=\u001b[0m\u001b[0msort\u001b[0m\u001b[0;34m,\u001b[0m\u001b[0;34m\u001b[0m\u001b[0;34m\u001b[0m\u001b[0m\n\u001b[0m\u001b[1;32m   7899\u001b[0m             )\n\u001b[1;32m   7900\u001b[0m         \u001b[0;32melse\u001b[0m\u001b[0;34m:\u001b[0m\u001b[0;34m\u001b[0m\u001b[0;34m\u001b[0m\u001b[0m\n",
      "\u001b[0;32m/usr/local/bin/anaconda3/lib/python3.7/site-packages/pandas/core/reshape/merge.py\u001b[0m in \u001b[0;36mmerge\u001b[0;34m(left, right, how, on, left_on, right_on, left_index, right_index, sort, suffixes, copy, indicator, validate)\u001b[0m\n\u001b[1;32m     87\u001b[0m         \u001b[0mvalidate\u001b[0m\u001b[0;34m=\u001b[0m\u001b[0mvalidate\u001b[0m\u001b[0;34m,\u001b[0m\u001b[0;34m\u001b[0m\u001b[0;34m\u001b[0m\u001b[0m\n\u001b[1;32m     88\u001b[0m     )\n\u001b[0;32m---> 89\u001b[0;31m     \u001b[0;32mreturn\u001b[0m \u001b[0mop\u001b[0m\u001b[0;34m.\u001b[0m\u001b[0mget_result\u001b[0m\u001b[0;34m(\u001b[0m\u001b[0;34m)\u001b[0m\u001b[0;34m\u001b[0m\u001b[0;34m\u001b[0m\u001b[0m\n\u001b[0m\u001b[1;32m     90\u001b[0m \u001b[0;34m\u001b[0m\u001b[0m\n\u001b[1;32m     91\u001b[0m \u001b[0;34m\u001b[0m\u001b[0m\n",
      "\u001b[0;32m/usr/local/bin/anaconda3/lib/python3.7/site-packages/pandas/core/reshape/merge.py\u001b[0m in \u001b[0;36mget_result\u001b[0;34m(self)\u001b[0m\n\u001b[1;32m    669\u001b[0m \u001b[0;34m\u001b[0m\u001b[0m\n\u001b[1;32m    670\u001b[0m         llabels, rlabels = _items_overlap_with_suffix(\n\u001b[0;32m--> 671\u001b[0;31m             \u001b[0mself\u001b[0m\u001b[0;34m.\u001b[0m\u001b[0mleft\u001b[0m\u001b[0;34m.\u001b[0m\u001b[0m_info_axis\u001b[0m\u001b[0;34m,\u001b[0m \u001b[0mself\u001b[0m\u001b[0;34m.\u001b[0m\u001b[0mright\u001b[0m\u001b[0;34m.\u001b[0m\u001b[0m_info_axis\u001b[0m\u001b[0;34m,\u001b[0m \u001b[0mself\u001b[0m\u001b[0;34m.\u001b[0m\u001b[0msuffixes\u001b[0m\u001b[0;34m\u001b[0m\u001b[0;34m\u001b[0m\u001b[0m\n\u001b[0m\u001b[1;32m    672\u001b[0m         )\n\u001b[1;32m    673\u001b[0m \u001b[0;34m\u001b[0m\u001b[0m\n",
      "\u001b[0;32m/usr/local/bin/anaconda3/lib/python3.7/site-packages/pandas/core/reshape/merge.py\u001b[0m in \u001b[0;36m_items_overlap_with_suffix\u001b[0;34m(left, right, suffixes)\u001b[0m\n\u001b[1;32m   2094\u001b[0m \u001b[0;34m\u001b[0m\u001b[0m\n\u001b[1;32m   2095\u001b[0m     \u001b[0;32mif\u001b[0m \u001b[0;32mnot\u001b[0m \u001b[0mlsuffix\u001b[0m \u001b[0;32mand\u001b[0m \u001b[0;32mnot\u001b[0m \u001b[0mrsuffix\u001b[0m\u001b[0;34m:\u001b[0m\u001b[0;34m\u001b[0m\u001b[0;34m\u001b[0m\u001b[0m\n\u001b[0;32m-> 2096\u001b[0;31m         \u001b[0;32mraise\u001b[0m \u001b[0mValueError\u001b[0m\u001b[0;34m(\u001b[0m\u001b[0;34mf\"columns overlap but no suffix specified: {to_rename}\"\u001b[0m\u001b[0;34m)\u001b[0m\u001b[0;34m\u001b[0m\u001b[0;34m\u001b[0m\u001b[0m\n\u001b[0m\u001b[1;32m   2097\u001b[0m \u001b[0;34m\u001b[0m\u001b[0m\n\u001b[1;32m   2098\u001b[0m     \u001b[0;32mdef\u001b[0m \u001b[0mrenamer\u001b[0m\u001b[0;34m(\u001b[0m\u001b[0mx\u001b[0m\u001b[0;34m,\u001b[0m \u001b[0msuffix\u001b[0m\u001b[0;34m)\u001b[0m\u001b[0;34m:\u001b[0m\u001b[0;34m\u001b[0m\u001b[0;34m\u001b[0m\u001b[0m\n",
      "\u001b[0;31mValueError\u001b[0m: columns overlap but no suffix specified: Index([' '], dtype='object')"
     ]
    }
   ],
   "source": [
    "# Based on prior JMP analysis, one hot encode the following: L_SEX, L_AGE_G, L_INCOMG, L_BMI5CAT, L_EMPLOY1 and L_EDUCAG\n",
    "brfss1 = enrich.one_hot_encode(brfss1, \"L_SEX\")\n",
    "brfss1 = enrich.one_hot_encode(brfss1, \"L_AGE_G\")\n",
    "brfss1 = enrich.one_hot_encode(brfss1, \"L_INCOMG\")\n",
    "brfss1 = enrich.one_hot_encode(brfss1, \"L_BMI5CAT\")\n",
    "brfss1 = enrich.one_hot_encode(brfss1, \"L_EMPLOY1\")\n",
    "brfss1 = enrich.one_hot_encode(brfss1, \"L_EDUCAG\")"
   ]
  },
  {
   "cell_type": "code",
   "execution_count": 12,
   "metadata": {
    "scrolled": true
   },
   "outputs": [
    {
     "data": {
      "text/plain": [
       "ID               0\n",
       "YEAR             0\n",
       "B_SMOKER         0\n",
       "B_HLTHPLN        0\n",
       "B_COUPLED        0\n",
       "SEX              0\n",
       "_AGE_G           0\n",
       "EMPLOY1          0\n",
       "_INCOMG          0\n",
       "_EDUCAG          0\n",
       "_BMI5CAT         0\n",
       "COMORB_1         0\n",
       "FEMALE           0\n",
       "MALE             0\n",
       "18-24            0\n",
       "25-34            0\n",
       "35-44            0\n",
       "45-54            0\n",
       "55-64            0\n",
       "65+              0\n",
       "$15-25K          0\n",
       "$25-35K          0\n",
       "$35-50K          0\n",
       "$50K+            0\n",
       "<$15K            0\n",
       "NORMAL WEIGHT    0\n",
       "OBESE            0\n",
       "OVER WEIGHT      0\n",
       "UNDER WEIGHT     0\n",
       "EMPLOYED         0\n",
       "HOMEMAKER        0\n",
       "OOW 1 yr+        0\n",
       "OOW <1 yr        0\n",
       "RETIRED          0\n",
       "SELF-EMPLOYED    0\n",
       "STUDENT          0\n",
       "UNABLE           0\n",
       "< HS             0\n",
       "COLLEGE GRAD     0\n",
       "HS GRAD          0\n",
       "SOME COLLEGE     0\n",
       "dtype: int64"
      ]
     },
     "execution_count": 12,
     "metadata": {},
     "output_type": "execute_result"
    }
   ],
   "source": [
    "brfss2.isnull().sum()"
   ]
  },
  {
   "cell_type": "code",
   "execution_count": 13,
   "metadata": {},
   "outputs": [],
   "source": [
    "# Cast all to int64\n",
    "brfss2 = brfss2.astype(\"int64\")"
   ]
  },
  {
   "cell_type": "code",
   "execution_count": 14,
   "metadata": {},
   "outputs": [],
   "source": [
    "# Drop the columns with the least predictive power\n",
    "brfss2 = brfss2.drop([\"SOME COLLEGE\", \"OOW 1 yr+\", \"55-64\", \"HS GRAD\", \"$25-35K\", \"UNDER WEIGHT\", \"$35-50K\",\n",
    "                      \"OOW <1 yr\", \"HOMEMAKER\", \"STUDENT\", \"45-54\"], axis=1)\n",
    "\n",
    "# Reindex\n",
    "brfss2.reset_index(drop=True, inplace=True)"
   ]
  },
  {
   "cell_type": "code",
   "execution_count": 15,
   "metadata": {},
   "outputs": [],
   "source": [
    "# Stratified Shuffle Split based on the outcome variable\n",
    "brfss_train, brfss_test = enrich.split_train_test_strat(brfss2, \"COMORB_1\", 1, 0.5, 42)\n",
    "\n",
    "# Another, to try to reduce the size of the training data for improved performance\n",
    "brfss_train.reset_index(drop=True, inplace=True)\n",
    "brfss_train, brfss_test = enrich.split_train_test_strat(brfss_train, \"COMORB_1\", 1, 0.5, 42)"
   ]
  },
  {
   "cell_type": "code",
   "execution_count": 16,
   "metadata": {},
   "outputs": [],
   "source": [
    "brfss_x, brfss_y, test_x, test_y = enrich.prepareXYSets(brfss_train, brfss_test, \"COMORB_1\")"
   ]
  },
  {
   "cell_type": "code",
   "execution_count": 28,
   "metadata": {},
   "outputs": [],
   "source": [
    "# Trying to use SGD for Logistic Regression Model with large dataset\n",
    "\n",
    "# Attempt a base model, for comparison\n",
    "logModel = lm.SGDClassifier(loss=\"log\", penalty=\"l2\", max_iter=5000, early_stopping=True)"
   ]
  },
  {
   "cell_type": "code",
   "execution_count": 29,
   "metadata": {},
   "outputs": [
    {
     "data": {
      "text/plain": [
       "{'alpha': 0.0001,\n",
       " 'average': False,\n",
       " 'class_weight': None,\n",
       " 'early_stopping': True,\n",
       " 'epsilon': 0.1,\n",
       " 'eta0': 0.0,\n",
       " 'fit_intercept': True,\n",
       " 'l1_ratio': 0.15,\n",
       " 'learning_rate': 'optimal',\n",
       " 'loss': 'log',\n",
       " 'max_iter': 5000,\n",
       " 'n_iter_no_change': 5,\n",
       " 'n_jobs': None,\n",
       " 'penalty': 'l2',\n",
       " 'power_t': 0.5,\n",
       " 'random_state': None,\n",
       " 'shuffle': True,\n",
       " 'tol': 0.001,\n",
       " 'validation_fraction': 0.1,\n",
       " 'verbose': 0,\n",
       " 'warm_start': False}"
      ]
     },
     "execution_count": 29,
     "metadata": {},
     "output_type": "execute_result"
    }
   ],
   "source": [
    "logModel.get_params()"
   ]
  },
  {
   "cell_type": "code",
   "execution_count": 30,
   "metadata": {},
   "outputs": [
    {
     "name": "stdout",
     "output_type": "stream",
     "text": [
      "Initial accuracy: 0.51 (+/- 0.12)\n"
     ]
    }
   ],
   "source": [
    "# Cross Validate using 10 iterations \n",
    "# NOTE: needed 5000 max_iter to reach convergence, allowing early_stopping helped to increase performance\n",
    "# Is that a good idea? (Not sure.)\n",
    "scores = ms.cross_val_score(logModel, brfss_x, brfss_y, cv = 10)\n",
    "print(\"Initial accuracy: %0.2f (+/- %0.2f)\" % (scores.mean(), scores.std() * 2))"
   ]
  },
  {
   "cell_type": "code",
   "execution_count": 32,
   "metadata": {},
   "outputs": [
    {
     "name": "stdout",
     "output_type": "stream",
     "text": [
      "Params: \n",
      "{'alpha': 0.0001, 'early_stopping': True, 'max_iter': 2500, 'penalty': 'l2'}\n"
     ]
    }
   ],
   "source": [
    "# Attempt to tune -\n",
    "# Do not change loss type. \n",
    "# Performed alright with cv=3 (Adequate?)\n",
    "params = {\n",
    "        \"alpha\": [0.0001, 0.001, 0.01, 0.1],\n",
    "        \"penalty\": [\"l2\", \"l1\", \"elasticnet\", \"none\"],\n",
    "        \"max_iter\": [2500, 5000],\n",
    "        \"early_stopping\": [True]\n",
    "}\n",
    "\n",
    "logModel2 = lm.SGDClassifier(loss=\"log\")\n",
    "grid = ms.GridSearchCV(logModel2, param_grid=params, cv=3)\n",
    "grid.fit(brfss_x, brfss_y)\n",
    "print(\"Params: \")\n",
    "print(grid.best_params_)"
   ]
  },
  {
   "cell_type": "code",
   "execution_count": 34,
   "metadata": {},
   "outputs": [
    {
     "data": {
      "text/plain": [
       "SGDClassifier(early_stopping=True, loss='log', max_iter=2500)"
      ]
     },
     "execution_count": 34,
     "metadata": {},
     "output_type": "execute_result"
    }
   ],
   "source": [
    "# Params result - alpha: 0.0001, penalty: \"l2\"; max_iter: 2500\n",
    "logModel3 = lm.SGDClassifier(loss=\"log\", penalty=\"l2\", alpha=0.0001, max_iter=2500, early_stopping=True)\n",
    "logModel3.fit(brfss_x, brfss_y)"
   ]
  },
  {
   "cell_type": "code",
   "execution_count": 36,
   "metadata": {},
   "outputs": [
    {
     "name": "stdout",
     "output_type": "stream",
     "text": [
      "Accuracy: 0.56\n"
     ]
    }
   ],
   "source": [
    "yPredicted = logModel3.predict(test_x)\n",
    "print('Accuracy: {:.2f}'.format(smet.accuracy_score(test_y, yPredicted)))"
   ]
  },
  {
   "cell_type": "code",
   "execution_count": 40,
   "metadata": {},
   "outputs": [],
   "source": [
    "# Load 'learn.py' functions\n",
    "spec = importlib.util.spec_from_file_location(\"learn\", \"/home/kylier/python/python-ds/learn.py\")\n",
    "learn = importlib.util.module_from_spec(spec)\n",
    "spec.loader.exec_module(learn)"
   ]
  },
  {
   "cell_type": "code",
   "execution_count": 41,
   "metadata": {},
   "outputs": [
    {
     "name": "stdout",
     "output_type": "stream",
     "text": [
      "Confusion Matrix: \n",
      "Row 1 - true negatives, false positives\n",
      "Row 2 - false negatives, true positives\n",
      "[[149848      0]\n",
      " [117219      0]]\n",
      "\n",
      "\n",
      "              precision    recall  f1-score   support\n",
      "\n",
      "           0       0.56      1.00      0.72    149848\n",
      "           1       0.00      0.00      0.00    117219\n",
      "\n",
      "    accuracy                           0.56    267067\n",
      "   macro avg       0.28      0.50      0.36    267067\n",
      "weighted avg       0.31      0.56      0.40    267067\n",
      "\n",
      "\n",
      "\n"
     ]
    },
    {
     "data": {
      "image/png": "[encoded data removed]",
      "text/plain": [
       "<Figure size 576x576 with 1 Axes>"
      ]
     },
     "metadata": {
      "needs_background": "light"
     },
     "output_type": "display_data"
    },
    {
     "name": "stderr",
     "output_type": "stream",
     "text": [
      "No handles with labels found to put in legend.\n"
     ]
    },
    {
     "data": {
      "image/png": "[encoded data removed]",
      "text/plain": [
       "<Figure size 576x576 with 1 Axes>"
      ]
     },
     "metadata": {
      "needs_background": "light"
     },
     "output_type": "display_data"
    },
    {
     "name": "stdout",
     "output_type": "stream",
     "text": [
      "AUC Score: \n",
      "0.5005008062976161\n",
      "\n",
      "\n"
     ]
    }
   ],
   "source": [
    "# Show all metrics - wow, this model is awful.  I guess changing parameters was a stupid idea. :(\n",
    "learn.showMetrics(logModel3, brfss_x, brfss_y, test_y, yPredicted, cv=10)"
   ]
  },
  {
   "cell_type": "code",
   "execution_count": null,
   "metadata": {},
   "outputs": [],
   "source": []
  }
 ],
 "metadata": {
  "kernelspec": {
   "display_name": "Python 3",
   "language": "python",
   "name": "python3"
  },
  "language_info": {
   "codemirror_mode": {
    "name": "ipython",
    "version": 3
   },
   "file_extension": ".py",
   "mimetype": "text/x-python",
   "name": "python",
   "nbconvert_exporter": "python",
   "pygments_lexer": "ipython3",
   "version": "3.7.6"
  }
 },
 "nbformat": 4,
 "nbformat_minor": 4
}
